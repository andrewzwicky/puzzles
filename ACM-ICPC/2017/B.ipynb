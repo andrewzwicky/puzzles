{
 "cells": [
  {
   "cell_type": "markdown",
   "metadata": {},
   "source": [
    "# Problem B\n",
    "## Get a Clue!\n",
    "### Time limit: 4 seconds\n",
    "\n",
    "\n",
    "Developed in the 1940s in the United Kingdom, the game of Cluedo is one of the most popular board games in the world. The object of the game is to determine who murdered Mr. Body, which weapon was used to murder him, and where the murder took place. The game uses a set of cards representing six persons (labeled A, B, . . . , F), six weapons (labeled G, H, . . . , L) and nine rooms (labeled M, N, . . . , U). At the start of the game, one person card, one weapon card, and one room card are selected at random and removed from the deck so no one can see them – they represent the murderer, the murder weapon, and the murder location. The remaining 18 cards are shuffled and dealt to the players, starting with player 1, then to her right player 2, and so on. Some players may end up with one more card than others. For the purposes of this problem there are four players, so the person to the right of player 4 is player 1.\n",
    "\n",
    "The rest of the game is spent searching for clues. Players take turns, starting with player 1 and moving to the right. A turn consists of making a suggestion (consisting of a murder suspect, a weapon, and a room) and asking other players if they have any evidence that refutes the suggestion. For example, you might say to another player “I believe the murderer was person A, using weapon L, in room T.” If the other player is holding exactly one of these cards, that player must show you (and only you) that card. If they have more than one such card, they can show you any one of them.\n",
    "When making a suggestion, you must first ask the person to your right for any evidence. If they have none, you continue with the person on their right, and so on, until someone has evidence, or no one has any of the cards in your suggestion. \n",
    "\n",
    "Many times you can gain information even if you are not the person making the suggestion. Suppose, in the above example, you are the third player and have cards A and T. If someone else shows evidence to the suggester, you know that it must be weapon card L. Keeping track of suggestions and who gave evidence at each turn is an important strategy when playing the game. \n",
    "To win the game, you must make an accusation, where you state your final guess of the murderer, weapon, and room. After stating your accusation, you check the three cards that were set aside at the start of the game – if they match your accusation, you win! Needless to say, you want to be absolutely sure of your accusation before you make it. \n",
    "\n",
    "Here is your problem. You are player 1. Given a set of cards dealt to you and a history of suggestions and evidence, you need to decide how close you are to being able to make an accusation."
   ]
  },
  {
   "cell_type": "markdown",
   "metadata": {},
   "source": [
    "## Input\n",
    "The input starts with an integer n (1 ≤ n ≤ 50), the number of suggestions made during the game. Following this is a line containing the five cards you are dealt, all uppercase letters in the range ‘A’. . . ‘U’. The remaining n lines contain one suggestion per line. Each of these lines starts with three characters representing the suggestion (in the order person, weapon, room), followed by the responses of up to three players, beginning with the player to the right of the player making the suggestion. If a player presents no evidence, a ‘-’ (dash) is listed; otherwise an “evidence character” is listed. If the specific evidence card is seen by you (either because you provided it or you were the person receiving the evidence) then the evidence character identifies that card; otherwise the evidence character is ‘\\*’. Note that only the last response can be an evidence character. All characters are separated by single spaces. Only valid suggestion/response sequences appear in the input."
   ]
  },
  {
   "cell_type": "markdown",
   "metadata": {},
   "source": [
    "## Output\n",
    "Display a three character string identifying the murderer, the murder weapon, and the room. If the murderer can be identified, use the appropriate letter for that person; otherwise use ‘?’. Do the same for the murder weapon and the room."
   ]
  },
  {
   "cell_type": "code",
   "execution_count": 132,
   "metadata": {
    "collapsed": true
   },
   "outputs": [],
   "source": [
    "from copy import deepcopy\n",
    "from itertools import cycle"
   ]
  },
  {
   "cell_type": "code",
   "execution_count": 94,
   "metadata": {
    "collapsed": true
   },
   "outputs": [],
   "source": [
    "SUSPECTS = set('ABCDEF')\n",
    "WEAPONS = set('GHIJKL')\n",
    "ROOMS = set('MNOPQRSTU')\n",
    "ALL_CARDS = SUSPECTS | WEAPONS | ROOMS"
   ]
  },
  {
   "cell_type": "code",
   "execution_count": 170,
   "metadata": {
    "collapsed": false
   },
   "outputs": [],
   "source": [
    "def parse_input(inp_string):\n",
    "    cards, *guesses = [''.join(l.split(' ')) for l in inp_string.split('\\n')[1:]]\n",
    "    guesses = [(set(g.strip(' ')[:3]),g.strip(' ')[3:]) for g in guesses]\n",
    "    return set(cards), guesses"
   ]
  },
  {
   "cell_type": "code",
   "execution_count": 205,
   "metadata": {
    "collapsed": false
   },
   "outputs": [],
   "source": [
    "def process_guesses(cards, guesses, num_others=3):\n",
    "    suspect = set()\n",
    "    weapon = set()\n",
    "    room = set()\n",
    "    \n",
    "    \n",
    "    player_cards = [cards] + [set() for _ in range(num_others)]\n",
    "    player_not_cards = [ALL_CARDS - cards] + [set(cards) for _ in range(num_others)]\n",
    "    \n",
    "    while True:\n",
    "        prev_player_cards = deepcopy(player_cards)\n",
    "        for player_turn, (guess, reveals) in zip(cycle(range(4)), guesses):\n",
    "            for player, reveal in enumerate(reveals):\n",
    "                player_index = (player_turn + player + 1) % 4\n",
    "\n",
    "                if reveal == '-':\n",
    "                    player_not_cards[player_index].update(guess)\n",
    "                \n",
    "                elif reveal in ALL_CARDS:\n",
    "                    player_cards[player_index].update(reveal)\n",
    "                    [cards.update(reveal) for i,cards in enumerate(player_not_cards)\n",
    "                     if i != player_index]        \n",
    "                    \n",
    "                elif reveal == '*':\n",
    "                    # if two cards are known to not be remaining, we know the last card\n",
    "                    possibles = guess - player_not_cards[player_index]\n",
    "                    if len(possibles) == 1:\n",
    "                        reveal = possibles\n",
    "                        player_cards[player_index].update(reveal)\n",
    "                        [cards.update(reveal) for i,cards in enumerate(player_not_cards)\n",
    "                         if i != player_index]        \n",
    "        \n",
    "        \n",
    "        # either players have all cards except 1\n",
    "        # or all cards except 1 have been proved to not be held\n",
    "        none_have = set.intersection(*player_not_cards)\n",
    "        \n",
    "        if none_have:\n",
    "            suspect = SUSPECTS & none_have\n",
    "            weapon = WEAPONS & none_have\n",
    "            room = ROOMS & none_have\n",
    "         \n",
    "        \n",
    "        if not suspect:\n",
    "            possibles = SUSPECTS - set.union(*player_cards)\n",
    "            if len(possibles) == 1:\n",
    "                suspect = possibles\n",
    "        \n",
    "        if not weapon:\n",
    "            possibles = WEAPONS - set.union(*player_cards)\n",
    "            if len(possibles) == 1:\n",
    "                suspect = possibles\n",
    "        \n",
    "        if not room:\n",
    "            possibles = ROOMS - set.union(*player_cards)\n",
    "            if len(possibles) == 1:\n",
    "                suspect = possibles\n",
    "        \n",
    "        if (suspect and weapon and room) or \\\n",
    "            all([p==o for p,o in zip(prev_player_cards, player_cards)]):\n",
    "            # we have solution or \n",
    "            # no new info was learned\n",
    "            break\n",
    "\n",
    "    outp = \"{}{}{}\".format(suspect.pop() if suspect else '?',\n",
    "                           weapon.pop() if weapon else '?',\n",
    "                           room.pop() if room else '?')\n",
    "    return outp"
   ]
  },
  {
   "cell_type": "code",
   "execution_count": 206,
   "metadata": {
    "collapsed": false
   },
   "outputs": [],
   "source": [
    "inp = \"\"\"1\n",
    "B I P C F\n",
    "A G M - - -\"\"\"\n",
    "\n",
    "out = \"AGM\""
   ]
  },
  {
   "cell_type": "code",
   "execution_count": 207,
   "metadata": {
    "collapsed": false
   },
   "outputs": [
    {
     "data": {
      "text/plain": [
       "True"
      ]
     },
     "execution_count": 207,
     "metadata": {},
     "output_type": "execute_result"
    }
   ],
   "source": [
    "process_guesses(*parse_input(inp)) == out"
   ]
  },
  {
   "cell_type": "code",
   "execution_count": 208,
   "metadata": {
    "collapsed": false
   },
   "outputs": [],
   "source": [
    "inp = \"\"\"2\n",
    "A B C D H\n",
    "F G M M\n",
    "F H M - *\"\"\"\n",
    "\n",
    "out = \"E??\""
   ]
  },
  {
   "cell_type": "code",
   "execution_count": 209,
   "metadata": {
    "collapsed": false
   },
   "outputs": [
    {
     "data": {
      "text/plain": [
       "True"
      ]
     },
     "execution_count": 209,
     "metadata": {},
     "output_type": "execute_result"
    }
   ],
   "source": [
    "process_guesses(*parse_input(inp)) == out"
   ]
  },
  {
   "cell_type": "code",
   "execution_count": 210,
   "metadata": {
    "collapsed": false
   },
   "outputs": [],
   "source": [
    "inp = \"\"\"3\n",
    "A C M S D\n",
    "B G S - G\n",
    "A H S - - S\n",
    "C J S *\"\"\"\n",
    "\n",
    "out = \"???\""
   ]
  },
  {
   "cell_type": "code",
   "execution_count": 211,
   "metadata": {
    "collapsed": false
   },
   "outputs": [
    {
     "data": {
      "text/plain": [
       "True"
      ]
     },
     "execution_count": 211,
     "metadata": {},
     "output_type": "execute_result"
    }
   ],
   "source": [
    "process_guesses(*parse_input(inp)) == out"
   ]
  },
  {
   "cell_type": "code",
   "execution_count": null,
   "metadata": {
    "collapsed": true
   },
   "outputs": [],
   "source": []
  }
 ],
 "metadata": {
  "kernelspec": {
   "display_name": "Python 3",
   "language": "python",
   "name": "python3"
  },
  "language_info": {
   "codemirror_mode": {
    "name": "ipython",
    "version": 3
   },
   "file_extension": ".py",
   "mimetype": "text/x-python",
   "name": "python",
   "nbconvert_exporter": "python",
   "pygments_lexer": "ipython3",
   "version": "3.5.1"
  }
 },
 "nbformat": 4,
 "nbformat_minor": 0
}
