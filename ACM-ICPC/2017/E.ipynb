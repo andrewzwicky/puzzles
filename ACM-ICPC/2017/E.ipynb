{
 "cells": [
  {
   "cell_type": "markdown",
   "metadata": {},
   "source": [
    "# Problem E\n",
    "## Need for Speed\n",
    "### Time limit: 1 second\n",
    "Sheila is a student and she drives a typical student car: it is old, slow, rusty, and falling apart. Recently, the needle on the speedometer fell off. She glued it back on, but she might have placed it at the wrong angle. Thus, when the speedometer reads s, her true speed is s + c, where c is an unknown constant (possibly negative).\n",
    "\n",
    "Sheila made a careful record of a recent journey and wants to use this to compute c. The journey consisted of n segments. In the ith segment she traveled a distance of di and the speedometer read si for the entire segment. This whole journey took time t. Help Sheila by computing c.\n",
    "\n",
    "Note that while Sheila’s speedometer might have negative readings, her true speed was greater than zero for each segment of the journey."
   ]
  },
  {
   "cell_type": "markdown",
   "metadata": {},
   "source": [
    "## Input\n",
    "The first line of input contains two integers n (1 ≤ n ≤ 1000), the number of sections in Sheila’s journey, and t (1 ≤ t ≤ 10^6), the total time. This is followed by n lines, each describing one segment of Sheila’s journey. The ith of these lines contains two integers di (1 ≤ di ≤ 1000) and si (|si\n",
    "| ≤ 1000), the distance and speedometer reading for the ith segment of the journey. Time is specified in hours, distance in miles, and speed in miles per hour."
   ]
  },
  {
   "cell_type": "markdown",
   "metadata": {},
   "source": [
    "## Output\n",
    "Display the constant c in miles per hour. Your answer should have an absolute or relative error of less than 10−6"
   ]
  },
  {
   "cell_type": "code",
   "execution_count": 109,
   "metadata": {
    "collapsed": true
   },
   "outputs": [],
   "source": [
    "import sys"
   ]
  },
  {
   "cell_type": "code",
   "execution_count": 110,
   "metadata": {
    "collapsed": true
   },
   "outputs": [],
   "source": [
    "def parse_input(inp_string):\n",
    "    inp_string = inp_string.split('\\n')\n",
    "    _, time = inp_string[0].split(\" \")\n",
    "    time = float(time)\n",
    "    dists, speeds = zip(*[map(float,l.split(\" \")) for l in inp_string[1:]])\n",
    "\n",
    "    return time, dists, speeds"
   ]
  },
  {
   "cell_type": "code",
   "execution_count": 182,
   "metadata": {
    "collapsed": true
   },
   "outputs": [],
   "source": [
    "def calculate_time_from_guess(dists, speeds, c):\n",
    "    return sum(d/(s+c) for d,s in zip(dists, speeds))"
   ]
  },
  {
   "cell_type": "code",
   "execution_count": 189,
   "metadata": {
    "collapsed": true
   },
   "outputs": [],
   "source": [
    "inp = \"\"\"3 5\n",
    "4 -1\n",
    "4 0\n",
    "10 3\"\"\"\n",
    "\n",
    "out = 3"
   ]
  },
  {
   "cell_type": "code",
   "execution_count": 193,
   "metadata": {
    "collapsed": true
   },
   "outputs": [],
   "source": [
    "inp = \"\"\"4 10\n",
    "5 3\n",
    "2 2\n",
    "3 6\n",
    "3 1\"\"\"\n",
    "\n",
    "out = -0.508653377"
   ]
  },
  {
   "cell_type": "code",
   "execution_count": 194,
   "metadata": {
    "collapsed": false
   },
   "outputs": [],
   "source": [
    "def compute_speedometer_offset(time, dists, speeds):\n",
    "    init_back_jump = False\n",
    "    jump = 100\n",
    "    minc = -min(speeds) + sys.float_info.epsilon\n",
    "    c = minc\n",
    "    t = calculate_time_from_guess(dists, speeds, c)\n",
    "    \n",
    "    cnt = 0\n",
    " \n",
    "    while abs(t-time) >= 10**-8 and cnt < 50:\n",
    "        if t < time:\n",
    "            # c too large\n",
    "            if not init_back_jump:\n",
    "                init_back_jump = True\n",
    "                \n",
    "            jump = jump / 2\n",
    "            c -= jump\n",
    "        \n",
    "        else: \n",
    "            # c too small\n",
    "            if init_back_jump:\n",
    "                jump = jump / 2\n",
    "            \n",
    "            c += jump\n",
    "        \n",
    "        \n",
    "        t = calculate_time_from_guess(dists, speeds, c)\n",
    "        cnt += 1\n",
    "        \n",
    "    return c"
   ]
  },
  {
   "cell_type": "code",
   "execution_count": 195,
   "metadata": {
    "collapsed": false
   },
   "outputs": [
    {
     "data": {
      "image/png": "[encoded data removed]",
      "text/latex": [
       "$$-0.5086533774156123$$"
      ],
      "text/plain": [
       "-0.5086533774156123"
      ]
     },
     "execution_count": 195,
     "metadata": {},
     "output_type": "execute_result"
    }
   ],
   "source": [
    "compute_speedometer_offset(*parse_input(inp))"
   ]
  },
  {
   "cell_type": "code",
   "execution_count": null,
   "metadata": {
    "collapsed": true
   },
   "outputs": [],
   "source": []
  }
 ],
 "metadata": {
  "kernelspec": {
   "display_name": "Python 3",
   "language": "python",
   "name": "python3"
  },
  "language_info": {
   "codemirror_mode": {
    "name": "ipython",
    "version": 3
   },
   "file_extension": ".py",
   "mimetype": "text/x-python",
   "name": "python",
   "nbconvert_exporter": "python",
   "pygments_lexer": "ipython3",
   "version": "3.5.1"
  }
 },
 "nbformat": 4,
 "nbformat_minor": 0
}
