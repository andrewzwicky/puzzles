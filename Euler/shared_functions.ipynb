{
 "cells": [
  {
   "cell_type": "code",
   "execution_count": 44,
   "metadata": {
    "collapsed": false
   },
   "outputs": [],
   "source": [
    "from functools import reduce\n",
    "from gmpy2 import is_prime\n",
    "import numpy"
   ]
  },
  {
   "cell_type": "code",
   "execution_count": 45,
   "metadata": {
    "collapsed": true,
    "deletable": true,
    "editable": true
   },
   "outputs": [],
   "source": [
    "def fib_gen(limit, a=None, b=None):\n",
    "    if a is None:\n",
    "        a = 1\n",
    "        yield a\n",
    "    if b is None:\n",
    "        b = 2\n",
    "        yield b\n",
    "    \n",
    "    while (b <= limit):\n",
    "        a, b = b, a+b\n",
    "        yield b"
   ]
  },
  {
   "cell_type": "code",
   "execution_count": 46,
   "metadata": {
    "collapsed": true,
    "deletable": true,
    "editable": true
   },
   "outputs": [],
   "source": [
    "def factorization(n):\n",
    "    if is_prime(n):\n",
    "        return([n])\n",
    "    result = []\n",
    "    new_n = n\n",
    "    for p in primesfrom2to(n//2 + 1):\n",
    "        if p > new_n:\n",
    "            break\n",
    "        while True:\n",
    "            if new_n % p == 0:\n",
    "                result.append(p)\n",
    "                new_n = new_n // p\n",
    "            else:\n",
    "                break\n",
    "    return result"
   ]
  },
  {
   "cell_type": "code",
   "execution_count": 47,
   "metadata": {
    "collapsed": true
   },
   "outputs": [],
   "source": [
    "# http://stackoverflow.com/a/3035188/2597564\n",
    "def primesfrom2to(n):\n",
    "    \"\"\" Input n>=6, Returns a array of primes, 2 <= p < n \"\"\"\n",
    "    sieve = numpy.ones(n//3 + (n%6==2), dtype=numpy.bool)\n",
    "    for i in range(1,int(n**0.5)//3+1):\n",
    "        if sieve[i]:\n",
    "            k=3*i+1|1\n",
    "            sieve[       k*k//3     ::2*k] = False\n",
    "            sieve[k*(k-2*(i&1)+4)//3::2*k] = False\n",
    "    return numpy.r_[2,3,((3*numpy.nonzero(sieve)[0][1:]+1)|1)]"
   ]
  },
  {
   "cell_type": "code",
   "execution_count": null,
   "metadata": {
    "collapsed": true
   },
   "outputs": [],
   "source": []
  }
 ],
 "metadata": {
  "kernelspec": {
   "display_name": "puzzles_venv",
   "language": "python",
   "name": "puzzles_venv"
  },
  "language_info": {
   "codemirror_mode": {
    "name": "ipython",
    "version": 3
   },
   "file_extension": ".py",
   "mimetype": "text/x-python",
   "name": "python",
   "nbconvert_exporter": "python",
   "pygments_lexer": "ipython3",
   "version": "3.5.3"
  }
 },
 "nbformat": 4,
 "nbformat_minor": 2
}
