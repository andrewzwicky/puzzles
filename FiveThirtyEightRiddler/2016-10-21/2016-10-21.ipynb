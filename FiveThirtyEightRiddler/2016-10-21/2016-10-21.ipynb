{
 "cells": [
  {
   "cell_type": "markdown",
   "metadata": {},
   "source": [
    "# Riddler Express\n",
    "What is the longest word you can build in a game of Scrabble one letter at a time? That is, starting with a valid two-letter word, how long a word can you build by playing one letter at a time on either side to form a valid three-letter word, then a valid four-letter word, and so on? (For example, HE could become THE, then THEM, then THEME, then THEMES, for a six-letter result.)"
   ]
  },
  {
   "cell_type": "code",
   "execution_count": 8,
   "metadata": {
    "collapsed": true
   },
   "outputs": [],
   "source": [
    "def word_gen():\n",
    "    with open('../enable1.txt','r') as word_list:\n",
    "        for line in word_list:\n",
    "            yield line.strip()\n"
   ]
  },
  {
   "cell_type": "code",
   "execution_count": 9,
   "metadata": {
    "collapsed": false
   },
   "outputs": [],
   "source": [
    "import itertools\n",
    "\n",
    "words = list(word_gen())\n",
    "\n",
    "words.sort(key = len)\n",
    "\n",
    "words_len = {k:list(g) for k,g in itertools.groupby(words,len)}\n",
    "\n",
    "def chain_words(word,num,word_chain,max_chain):\n",
    "    if len(word_chain) >= len(max_chain):\n",
    "        max_chain = word_chain\n",
    "        print(' -> '.join(max_chain))\n",
    "    new_num = num + 1\n",
    "    for longer_word in words_len[new_num]:\n",
    "        if word in longer_word:\n",
    "            max_chain = chain_words(longer_word,new_num,word_chain+[longer_word],max_chain)\n",
    "\n",
    "    return max_chain"
   ]
  },
  {
   "cell_type": "code",
   "execution_count": 10,
   "metadata": {
    "collapsed": false
   },
   "outputs": [
    {
     "name": "stdout",
     "output_type": "stream",
     "text": [
      "\n",
      "aa\n",
      "aa -> aah\n",
      "aa -> aah -> aahs\n",
      "aa -> aal -> aals\n",
      "aa -> aal -> aals -> baals\n",
      "aa -> aal -> baal -> baals\n",
      "aa -> baa -> baal -> baals\n",
      "ab -> aba -> abas -> abase\n",
      "ab -> aba -> abas -> abase -> abased\n",
      "ab -> aba -> abas -> abase -> abaser\n",
      "ab -> aba -> abas -> abase -> abaser -> abasers\n",
      "ad -> had -> hade -> shade -> shader -> shaders\n",
      "ad -> had -> shad -> shade -> shader -> shaders\n",
      "ad -> rad -> grad -> grade -> grader -> graders\n",
      "ad -> rad -> trad -> trade -> trader -> traders\n",
      "ad -> sad -> sadi -> sadis -> sadism -> sadisms\n",
      "ad -> sad -> sadi -> sadis -> sadist -> sadists\n",
      "ag -> age -> agee -> ragee -> dragee -> dragees\n",
      "ag -> age -> agee -> ragee -> ragees -> dragees\n",
      "ag -> age -> ager -> agers -> wagers -> swagers\n",
      "ag -> age -> ager -> wager -> swager -> swagers\n",
      "ag -> age -> ager -> wager -> wagers -> swagers\n",
      "ag -> age -> mage -> image -> imager -> imagers\n",
      "ag -> age -> mage -> image -> imager -> imagery\n",
      "ag -> age -> rage -> ragee -> dragee -> dragees\n",
      "ag -> age -> rage -> ragee -> ragees -> dragees\n",
      "ag -> age -> wage -> swage -> swager -> swagers\n",
      "ag -> age -> wage -> wager -> swager -> swagers\n",
      "ag -> age -> wage -> wager -> wagers -> swagers\n",
      "ag -> mag -> mage -> image -> imager -> imagers\n",
      "ag -> mag -> mage -> image -> imager -> imagery\n",
      "ag -> rag -> rage -> ragee -> dragee -> dragees\n",
      "ag -> rag -> rage -> ragee -> ragees -> dragees\n",
      "ag -> rag -> ragi -> tragi -> tragic -> tragics\n",
      "ag -> tag -> stag -> stage -> stager -> stagers\n",
      "ag -> wag -> swag -> swage -> swager -> swagers\n",
      "ag -> wag -> wage -> swage -> swager -> swagers\n",
      "ag -> wag -> wage -> wager -> swager -> swagers\n",
      "ag -> wag -> wage -> wager -> wagers -> swagers\n",
      "ai -> aid -> aide -> aided -> raided -> braided\n",
      "ai -> aid -> aide -> aider -> aiders -> raiders\n",
      "ai -> aid -> aide -> aider -> aiders -> raiders -> braiders\n",
      "ai -> aid -> aide -> aider -> raider -> braider -> braiders\n",
      "ai -> aid -> aide -> aider -> raider -> raiders -> braiders\n",
      "al -> all -> ally -> rally -> orally -> morally -> amorally\n",
      "al -> all -> call -> calla -> callan -> callant -> callants\n",
      "al -> all -> hall -> hallo -> hallot -> challot -> challoth\n",
      "al -> all -> hall -> hallo -> hallot -> halloth -> challoth\n",
      "al -> all -> hall -> hallo -> hallot -> shallot -> shallots\n",
      "al -> all -> hall -> hallo -> hallow -> hallows -> shallows\n",
      "al -> all -> hall -> hallo -> hallow -> shallow -> shallows\n",
      "al -> gal -> egal -> regal -> regale -> regaler -> regalers\n",
      "am -> ami -> amin -> amine -> amines -> gamines -> gaminess\n",
      "am -> ami -> amin -> amine -> gamine -> gamines -> gaminess\n",
      "am -> ami -> amin -> gamin -> gamine -> gamines -> gaminess\n",
      "an -> ran -> rang -> range -> grange -> granger -> grangers\n",
      "an -> ran -> rang -> range -> ranger -> granger -> grangers\n",
      "an -> ran -> rang -> range -> ranger -> rangers -> grangers\n",
      "ar -> arb -> barb -> barbe -> barbel -> barbell -> barbells\n",
      "ar -> arc -> arco -> narco -> narcos -> narcose -> narcoses\n",
      "ar -> arc -> narc -> narco -> narcos -> narcose -> narcoses\n",
      "ar -> ars -> oars -> hoars -> hoarse -> hoarsen -> hoarsens\n",
      "ar -> bar -> barb -> barbe -> barbel -> barbell -> barbells\n",
      "ar -> car -> carl -> carle -> carles -> carless -> scarless\n",
      "ar -> oar -> hoar -> hoars -> hoarse -> hoarsen -> hoarsens\n",
      "ar -> oar -> oars -> hoars -> hoarse -> hoarsen -> hoarsens\n",
      "as -> ass -> mass -> masse -> masses -> amasses -> camasses\n",
      "as -> has -> hast -> haste -> chaste -> chasten -> chastens\n",
      "as -> has -> hast -> haste -> hasten -> chasten -> chastens\n",
      "as -> has -> hast -> haste -> hasten -> hastens -> chastens\n",
      "as -> mas -> mass -> masse -> masses -> amasses -> camasses\n",
      "as -> pas -> past -> paste -> paster -> pastern -> pasterns\n",
      "at -> ate -> ates -> tates -> states -> estates -> gestates\n",
      "at -> ate -> ates -> tates -> states -> estates -> restates\n",
      "at -> ate -> ates -> tates -> states -> estates -> testates\n",
      "at -> ate -> late -> elate -> elater -> elaters -> relaters\n",
      "at -> ate -> late -> elate -> elater -> relater -> relaters\n",
      "at -> ate -> late -> elate -> elates -> relates -> prelates\n",
      "at -> ate -> late -> elate -> relate -> prelate -> prelates\n",
      "at -> ate -> late -> elate -> relate -> relater -> relaters\n",
      "at -> ate -> late -> elate -> relate -> relates -> prelates\n",
      "at -> ate -> late -> later -> elater -> elaters -> relaters\n",
      "at -> ate -> late -> later -> elater -> relater -> relaters\n",
      "at -> ate -> tate -> state -> estate -> estated -> gestated\n",
      "at -> ate -> tate -> state -> estate -> estated -> restated\n",
      "at -> ate -> tate -> state -> estate -> estates -> gestates\n",
      "at -> ate -> tate -> state -> estate -> estates -> restates\n",
      "at -> ate -> tate -> state -> estate -> estates -> testates\n",
      "at -> ate -> tate -> state -> estate -> gestate -> gestated\n",
      "at -> ate -> tate -> state -> estate -> gestate -> gestates\n",
      "at -> ate -> tate -> state -> estate -> restate -> restated\n",
      "at -> ate -> tate -> state -> estate -> restate -> restates\n",
      "at -> ate -> tate -> state -> estate -> testate -> testates\n",
      "at -> ate -> tate -> state -> stated -> estated -> gestated\n",
      "at -> ate -> tate -> state -> stated -> estated -> restated\n",
      "at -> ate -> tate -> state -> states -> estates -> gestates\n",
      "at -> ate -> tate -> state -> states -> estates -> restates\n",
      "at -> ate -> tate -> state -> states -> estates -> testates\n",
      "at -> ate -> tate -> tates -> states -> estates -> gestates\n",
      "at -> ate -> tate -> tates -> states -> estates -> restates\n",
      "at -> ate -> tate -> tates -> states -> estates -> testates\n",
      "at -> att -> matt -> matte -> matter -> matters -> smatters\n",
      "at -> att -> matt -> matte -> matter -> smatter -> smatters\n",
      "at -> eat -> eath -> heath -> sheath -> sheathe -> sheathed\n",
      "at -> eat -> eath -> heath -> sheath -> sheathe -> sheather\n",
      "at -> eat -> eath -> heath -> sheath -> sheathe -> sheather -> sheathers\n",
      "at -> eat -> heat -> heath -> sheath -> sheathe -> sheather -> sheathers\n",
      "in -> pin -> ping -> aping -> raping -> craping -> scraping -> scrapings\n",
      "la -> lap -> laps -> lapse -> elapse -> relapse -> relapser -> relapsers\n",
      "pi -> pin -> ping -> aping -> raping -> craping -> scraping -> scrapings\n"
     ]
    },
    {
     "data": {
      "text/plain": [
       "['pi', 'pin', 'ping', 'aping', 'raping', 'craping', 'scraping', 'scrapings']"
      ]
     },
     "execution_count": 10,
     "metadata": {},
     "output_type": "execute_result"
    }
   ],
   "source": [
    "chain_words('',1,[],[])"
   ]
  },
  {
   "cell_type": "markdown",
   "metadata": {},
   "source": [
    "# Riddler Classic\n",
    "What arrangement of any letters on a Boggle board has the most points attainable? Boggle is played with a 4-by-4 grid of letters. Points are scored by finding strings of letters — connected in any direction, horizontally, vertically or diagonally — that form valid words at least three letters long. Words 3, 4, 5, 6, 7 or 8 or more letters long score 1, 1, 2, 3, 5 and 11 points, respectively. (You can find the full official rules here.)\n",
    "\n",
    "Extra credit: What if you limit the hypothetical configurations to only those that are possible using the actual letter cubes included with the game?\n",
    "\n",
    "(If you need a word list to aid in your quest, feel free to use the public-domain ENABLE list — a modified version of which is used in Words With Friends.)"
   ]
  },
  {
   "cell_type": "code",
   "execution_count": 11,
   "metadata": {
    "collapsed": true
   },
   "outputs": [],
   "source": [
    "\n",
    "\n",
    "input_grid = \"abcd reft regt uvfo\"\n",
    "\n",
    "def solve(input_grid):\n",
    "    grid = input_grid.split()\n",
    "    \n",
    "    possible_letters = set(input_grid.remove(' '))\n",
    "    \n",
    "    boggle_alpha = [word for word in word_gen() if len(word) > 3 and set(word) <= possible_letters]\n",
    "\n",
    "    "
   ]
  }
 ],
 "metadata": {
  "kernelspec": {
   "display_name": "Python 3",
   "language": "python",
   "name": "python3"
  },
  "language_info": {
   "codemirror_mode": {
    "name": "ipython",
    "version": 3
   },
   "file_extension": ".py",
   "mimetype": "text/x-python",
   "name": "python",
   "nbconvert_exporter": "python",
   "pygments_lexer": "ipython3",
   "version": "3.5.1"
  }
 },
 "nbformat": 4,
 "nbformat_minor": 1
}
