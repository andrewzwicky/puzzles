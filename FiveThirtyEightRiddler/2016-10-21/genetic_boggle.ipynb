{
 "cells": [
  {
   "cell_type": "code",
   "execution_count": 4,
   "metadata": {
    "collapsed": false
   },
   "outputs": [
    {
     "data": {
      "text/plain": [
       "'\\nGrid starts with (0,0) in the top left corner.\\nX is column\\nY is row\\n'"
      ]
     },
     "execution_count": 4,
     "metadata": {},
     "output_type": "execute_result"
    }
   ],
   "source": [
    "from enum import IntEnum\n",
    "from collections import defaultdict\n",
    "import string\n",
    "import random\n",
    "from deap import base, creator, tools, algorithms\n",
    "import matplotlib.pyplot as plt\n",
    "import numpy\n",
    "import itertools\n",
    "import matplotlib.patheffects as path_effects\n",
    "\n",
    "\n",
    "class TrieMembership(IntEnum):\n",
    "    invalid = 1\n",
    "    prefix = 2\n",
    "    word = 3\n",
    "\n",
    "\n",
    "SCORE_DICT = defaultdict(lambda: 11, {0: 0, 1: 0, 2: 0, 3: 1, 4: 1, 5: 2, 6: 3, 7: 5, 8: 11})\n",
    "\n",
    "SIZE = 4\n",
    "MIN_WORD_LEN = 3\n",
    "\n",
    "_end = '_end_'\n",
    "\n",
    "'''\n",
    "Grid starts with (0,0) in the top left corner.\n",
    "X is column\n",
    "Y is row\n",
    "'''"
   ]
  },
  {
   "cell_type": "code",
   "execution_count": 5,
   "metadata": {
    "collapsed": false
   },
   "outputs": [],
   "source": [
    "def init_grid_figure(input_string):\n",
    "    fig = plt.figure()\n",
    "    ax = fig.add_subplot(111, axisbg='#E6E3DB')\n",
    "\n",
    "    ax.set_ylim(0, SIZE)\n",
    "    ax.set_xlim(0, SIZE)\n",
    "    ax.grid(True, linestyle=\"-\", linewidth=2)\n",
    "\n",
    "    loc = plt.MultipleLocator(base=1)\n",
    "    ax.xaxis.set_major_locator(loc)\n",
    "    ax.yaxis.set_major_locator(loc)\n",
    "\n",
    "    plt.gca().set_aspect('equal', adjustable='box')\n",
    "\n",
    "    ax.set_xticklabels([])\n",
    "    ax.set_yticklabels([])\n",
    "\n",
    "    letter_color = \"#0495A8\"\n",
    "\n",
    "    for letter, (x, y) in zip(input_string, itertools.product(reversed(range(SIZE)), range(SIZE))):\n",
    "        ax.annotate(letter,\n",
    "                    xy=(y + 0.5, x + 0.5),\n",
    "                    xycoords='data',\n",
    "                    ha=\"center\",\n",
    "                    va=\"center\",\n",
    "                    size=40,\n",
    "                    color=letter_color,\n",
    "                    zorder=1)\n",
    "\n",
    "    line, = ax.plot([],\n",
    "            [],\n",
    "            '-',\n",
    "            color=\"black\",\n",
    "            linewidth=50,\n",
    "            zorder=2,\n",
    "            alpha=0.15,\n",
    "            solid_capstyle='round')\n",
    "\n",
    "    plt.show()\n",
    "\n",
    "    return line\n",
    "\n",
    "\n",
    "def update_grid_fig(line, word_coords):\n",
    "\n",
    "    x, y = zip(*list(map(word_coord_to_plot_coord, word_coords)))\n",
    "\n",
    "    line.set_xdata(x)\n",
    "    line.set_ydata(y)\n",
    "\n",
    "    plt.show()\n",
    "    \n",
    "    return line\n",
    "\n",
    "\n",
    "def word_coord_to_plot_coord(coord):\n",
    "    x, y = coord\n",
    "    return x + 0.5, SIZE - y - 0.5\n"
   ]
  },
  {
   "cell_type": "code",
   "execution_count": 6,
   "metadata": {
    "collapsed": false,
    "scrolled": true
   },
   "outputs": [],
   "source": [
    "def dictionary_gen():\n",
    "    with open('../../enable1.txt', 'r') as word_list:\n",
    "        for line in word_list:\n",
    "            yield line.lower().strip()\n",
    "\n",
    "\n",
    "def neighbors(x, y):\n",
    "    # range has to be +1 because range is not inclusive on end\n",
    "    for nx in range(max(0, x - 1), min(x + 2, SIZE)):\n",
    "        for ny in range(max(0, y - 1), min(y + 2, SIZE)):\n",
    "            yield (nx, ny)\n",
    "\n",
    "\n",
    "def make_trie(words):\n",
    "    root = dict()\n",
    "    for word in words:\n",
    "        current_dict = root\n",
    "        for letter in word:\n",
    "            current_dict = current_dict.setdefault(letter, {})\n",
    "        current_dict[_end] = _end\n",
    "    return root\n",
    "\n",
    "\n",
    "def trie_member(trie, word):\n",
    "    current_dict = trie\n",
    "    for letter in word:\n",
    "        try:\n",
    "            current_dict = current_dict[letter]\n",
    "        except KeyError:\n",
    "            return TrieMembership.invalid\n",
    "    if _end in current_dict:\n",
    "        return TrieMembership.word\n",
    "    else:\n",
    "        return TrieMembership.prefix\n",
    "\n",
    "\n",
    "def recurse_grid(grid, path, current_word, words_trie, found_words):\n",
    "    if not path:  # empty path means this is the initial call.\n",
    "        for y, row in enumerate(grid):\n",
    "            for x, letter in enumerate(row):\n",
    "                for (next_path, next_word) in recurse_grid(grid, [(x, y)], letter, words_trie, found_words):\n",
    "                    yield (next_path, next_word)\n",
    "\n",
    "        raise StopIteration\n",
    "    position = path[-1]\n",
    "    membership = trie_member(words_trie, current_word)\n",
    "    if membership == TrieMembership.word and current_word not in found_words:\n",
    "        found_words.add(current_word)\n",
    "        yield (path, current_word)\n",
    "    if membership >= TrieMembership.prefix:\n",
    "        for nx, ny in neighbors(*position):\n",
    "            if (nx, ny) not in path:\n",
    "                new_letter = grid[ny][nx]\n",
    "                new_letter = new_letter if new_letter != 'q' else 'qu'\n",
    "                new_word = current_word + new_letter\n",
    "                if trie_member(words_trie, new_word) != TrieMembership.invalid:\n",
    "                    for (next_path, next_word) in recurse_grid(grid, list(path) + [(nx, ny)], new_word, words_trie, found_words):\n",
    "                        yield (next_path, next_word)\n",
    "\n",
    "\n",
    "def generate_word_trie(grid_string):\n",
    "    grid_string = ''.join(grid_string.lower())\n",
    "    # grid_string is expected to be a SIZE**2 length string with only letters.\n",
    "\n",
    "    grid_letters = set(grid_string.replace('q', 'qu'))\n",
    "\n",
    "    # plausible words are words from the dictionary that only contain\n",
    "    # letters found in the grid and are more than 3 letters long\n",
    "    plausible_words = [word for word in dictionary_gen() if len(word) > MIN_WORD_LEN and set(word) <= grid_letters]\n",
    "    words_trie = make_trie(plausible_words)\n",
    "\n",
    "    return words_trie\n",
    "\n",
    "\n",
    "def generate_grid_list(grid_string):\n",
    "    return [grid_string[i:i + SIZE] for i in range(0, SIZE ** 2, SIZE)]\n",
    "\n",
    "\n",
    "def total_grid_score(grid_string):\n",
    "    grid_string = grid_string.lower()\n",
    "\n",
    "    word_trie = generate_word_trie(grid_string)\n",
    "    grid = generate_grid_list(grid_string)\n",
    "\n",
    "    words = set(word for _, word in recurse_grid(grid, list(), \"\", word_trie, set()))\n",
    "\n",
    "    return (sum(SCORE_DICT[word_len] for word_len in map(len, words)),)"
   ]
  },
  {
   "cell_type": "code",
   "execution_count": 7,
   "metadata": {
    "collapsed": false
   },
   "outputs": [
    {
     "data": {
      "image/png": "[encoded data removed]",
      "text/plain": [
       "<matplotlib.figure.Figure at 0x7fc19b95a9b0>"
      ]
     },
     "metadata": {},
     "output_type": "display_data"
    },
    {
     "ename": "AttributeError",
     "evalue": "'Line2D' object has no attribute 'canvas'",
     "output_type": "error",
     "traceback": [
      "\u001b[0;31m---------------------------------------------------------------------------\u001b[0m",
      "\u001b[0;31mAttributeError\u001b[0m                            Traceback (most recent call last)",
      "\u001b[0;32m<ipython-input-7-32998c41d4e8>\u001b[0m in \u001b[0;36m<module>\u001b[0;34m()\u001b[0m\n\u001b[1;32m     12\u001b[0m \u001b[0mline\u001b[0m \u001b[0;34m=\u001b[0m \u001b[0minit_grid_figure\u001b[0m\u001b[0;34m(\u001b[0m\u001b[0mgrid_string\u001b[0m\u001b[0;34m)\u001b[0m\u001b[0;34m\u001b[0m\u001b[0m\n\u001b[1;32m     13\u001b[0m \u001b[0;34m\u001b[0m\u001b[0m\n\u001b[0;32m---> 14\u001b[0;31m \u001b[0mani\u001b[0m \u001b[0;34m=\u001b[0m \u001b[0manimation\u001b[0m\u001b[0;34m.\u001b[0m\u001b[0mFuncAnimation\u001b[0m\u001b[0;34m(\u001b[0m\u001b[0mline\u001b[0m\u001b[0;34m,\u001b[0m \u001b[0mupdate_grid_fig\u001b[0m\u001b[0;34m,\u001b[0m \u001b[0minterval\u001b[0m\u001b[0;34m=\u001b[0m\u001b[0;36m500\u001b[0m\u001b[0;34m,\u001b[0m \u001b[0mblit\u001b[0m\u001b[0;34m=\u001b[0m\u001b[0;32mTrue\u001b[0m\u001b[0;34m)\u001b[0m\u001b[0;34m\u001b[0m\u001b[0m\n\u001b[0m\u001b[1;32m     15\u001b[0m \u001b[0mHTML\u001b[0m\u001b[0;34m(\u001b[0m\u001b[0mani\u001b[0m\u001b[0;34m.\u001b[0m\u001b[0mto_html5_video\u001b[0m\u001b[0;34m(\u001b[0m\u001b[0;34m)\u001b[0m\u001b[0;34m)\u001b[0m\u001b[0;34m\u001b[0m\u001b[0m\n",
      "\u001b[0;32m/usr/lib64/python3.5/site-packages/matplotlib/animation.py\u001b[0m in \u001b[0;36m__init__\u001b[0;34m(self, fig, func, frames, init_func, fargs, save_count, **kwargs)\u001b[0m\n\u001b[1;32m   1191\u001b[0m         \u001b[0mself\u001b[0m\u001b[0;34m.\u001b[0m\u001b[0m_save_seq\u001b[0m \u001b[0;34m=\u001b[0m \u001b[0;34m[\u001b[0m\u001b[0;34m]\u001b[0m\u001b[0;34m\u001b[0m\u001b[0m\n\u001b[1;32m   1192\u001b[0m \u001b[0;34m\u001b[0m\u001b[0m\n\u001b[0;32m-> 1193\u001b[0;31m         \u001b[0mTimedAnimation\u001b[0m\u001b[0;34m.\u001b[0m\u001b[0m__init__\u001b[0m\u001b[0;34m(\u001b[0m\u001b[0mself\u001b[0m\u001b[0;34m,\u001b[0m \u001b[0mfig\u001b[0m\u001b[0;34m,\u001b[0m \u001b[0;34m**\u001b[0m\u001b[0mkwargs\u001b[0m\u001b[0;34m)\u001b[0m\u001b[0;34m\u001b[0m\u001b[0m\n\u001b[0m\u001b[1;32m   1194\u001b[0m \u001b[0;34m\u001b[0m\u001b[0m\n\u001b[1;32m   1195\u001b[0m         \u001b[0;31m# Need to reset the saved seq, since right now it will contain data\u001b[0m\u001b[0;34m\u001b[0m\u001b[0;34m\u001b[0m\u001b[0m\n",
      "\u001b[0;32m/usr/lib64/python3.5/site-packages/matplotlib/animation.py\u001b[0m in \u001b[0;36m__init__\u001b[0;34m(self, fig, interval, repeat_delay, repeat, event_source, *args, **kwargs)\u001b[0m\n\u001b[1;32m   1031\u001b[0m         \u001b[0;31m# sharing timers between animation objects for syncing animations.\u001b[0m\u001b[0;34m\u001b[0m\u001b[0;34m\u001b[0m\u001b[0m\n\u001b[1;32m   1032\u001b[0m         \u001b[0;32mif\u001b[0m \u001b[0mevent_source\u001b[0m \u001b[0;32mis\u001b[0m \u001b[0;32mNone\u001b[0m\u001b[0;34m:\u001b[0m\u001b[0;34m\u001b[0m\u001b[0m\n\u001b[0;32m-> 1033\u001b[0;31m             \u001b[0mevent_source\u001b[0m \u001b[0;34m=\u001b[0m \u001b[0mfig\u001b[0m\u001b[0;34m.\u001b[0m\u001b[0mcanvas\u001b[0m\u001b[0;34m.\u001b[0m\u001b[0mnew_timer\u001b[0m\u001b[0;34m(\u001b[0m\u001b[0;34m)\u001b[0m\u001b[0;34m\u001b[0m\u001b[0m\n\u001b[0m\u001b[1;32m   1034\u001b[0m             \u001b[0mevent_source\u001b[0m\u001b[0;34m.\u001b[0m\u001b[0minterval\u001b[0m \u001b[0;34m=\u001b[0m \u001b[0mself\u001b[0m\u001b[0;34m.\u001b[0m\u001b[0m_interval\u001b[0m\u001b[0;34m\u001b[0m\u001b[0m\n\u001b[1;32m   1035\u001b[0m \u001b[0;34m\u001b[0m\u001b[0m\n",
      "\u001b[0;31mAttributeError\u001b[0m: 'Line2D' object has no attribute 'canvas'"
     ]
    }
   ],
   "source": [
    "%matplotlib inline\n",
    "import numpy as np\n",
    "import matplotlib.pyplot as plt\n",
    "import matplotlib.animation as animation\n",
    "from IPython.display import HTML\n",
    "\n",
    "grid_string = \"SERSPATGLINESERS\".lower()\n",
    "\n",
    "grid = generate_grid_list(grid_string)\n",
    "word_trie = generate_word_trie(grid_string)\n",
    "\n",
    "line = init_grid_figure(grid_string)\n",
    "\n",
    "ani = animation.FuncAnimation(line, update_grid_fig, interval=500, blit=True)\n",
    "HTML(ani.to_html5_video())"
   ]
  },
  {
   "cell_type": "code",
   "execution_count": 8,
   "metadata": {
    "collapsed": true
   },
   "outputs": [],
   "source": [
    "def generate_random_boggle_letters():\n",
    "    return random.choice(string.ascii_lowercase)\n",
    "\n",
    "\n",
    "def mutate_grid(individual, indpb):\n",
    "    for i in range(len(individual)):\n",
    "        if random.random() < indpb:\n",
    "            individual[i] = generate_random_boggle_letters()\n",
    "\n",
    "    return individual,\n",
    "\n",
    "\n",
    "def simulate():\n",
    "    toolbox = base.Toolbox()\n",
    "\n",
    "    creator.create(\"FitnessMax\", base.Fitness, weights=(1.0,))\n",
    "    creator.create(\"Board\", list, fitness=creator.FitnessMax)\n",
    "\n",
    "    toolbox.register(\"letter\", generate_random_boggle_letters)\n",
    "    toolbox.register(\"individual\", tools.initRepeat, creator.Board, toolbox.letter, n=SIZE ** 2)\n",
    "    toolbox.register(\"population\", tools.initRepeat, list, toolbox.individual)\n",
    "    toolbox.register(\"evaluate\", total_grid_score)\n",
    "    toolbox.register(\"mate\", tools.cxTwoPoint)\n",
    "    toolbox.register(\"mutate\", mutate_grid, indpb=0.25)\n",
    "    toolbox.register(\"select\", tools.selTournament, tournsize=20)\n",
    "\n",
    "    pop = toolbox.population(n=50)\n",
    "    hof = tools.HallOfFame(1)\n",
    "\n",
    "    stats = tools.Statistics(lambda ind: ind.fitness.values)\n",
    "    stats.register(\"avg\", numpy.mean)\n",
    "    stats.register(\"min\", numpy.min)\n",
    "    stats.register(\"max\", numpy.max)\n",
    "\n",
    "    pop, logbook = algorithms.eaSimple(pop,\n",
    "                                       toolbox,\n",
    "                                       cxpb=0.5,\n",
    "                                       mutpb=0.2,\n",
    "                                       ngen=10,\n",
    "                                       stats=stats,\n",
    "                                       halloffame=hof,\n",
    "                                       verbose=True)\n",
    "\n",
    "    return pop, logbook, hof"
   ]
  },
  {
   "cell_type": "code",
   "execution_count": 9,
   "metadata": {
    "collapsed": false
   },
   "outputs": [
    {
     "ename": "AttributeError",
     "evalue": "'Board' object has no attribute 'lower'",
     "output_type": "error",
     "traceback": [
      "\u001b[0;31m---------------------------------------------------------------------------\u001b[0m",
      "\u001b[0;31mAttributeError\u001b[0m                            Traceback (most recent call last)",
      "\u001b[0;32m<ipython-input-9-480ab2c0315c>\u001b[0m in \u001b[0;36m<module>\u001b[0;34m()\u001b[0m\n\u001b[0;32m----> 1\u001b[0;31m \u001b[0msimulate\u001b[0m\u001b[0;34m(\u001b[0m\u001b[0;34m)\u001b[0m\u001b[0;34m\u001b[0m\u001b[0m\n\u001b[0m",
      "\u001b[0;32m<ipython-input-8-df280b70bd61>\u001b[0m in \u001b[0;36msimulate\u001b[0;34m()\u001b[0m\n\u001b[1;32m     40\u001b[0m                                        \u001b[0mstats\u001b[0m\u001b[0;34m=\u001b[0m\u001b[0mstats\u001b[0m\u001b[0;34m,\u001b[0m\u001b[0;34m\u001b[0m\u001b[0m\n\u001b[1;32m     41\u001b[0m                                        \u001b[0mhalloffame\u001b[0m\u001b[0;34m=\u001b[0m\u001b[0mhof\u001b[0m\u001b[0;34m,\u001b[0m\u001b[0;34m\u001b[0m\u001b[0m\n\u001b[0;32m---> 42\u001b[0;31m                                        verbose=True)\n\u001b[0m\u001b[1;32m     43\u001b[0m \u001b[0;34m\u001b[0m\u001b[0m\n\u001b[1;32m     44\u001b[0m     \u001b[0;32mreturn\u001b[0m \u001b[0mpop\u001b[0m\u001b[0;34m,\u001b[0m \u001b[0mlogbook\u001b[0m\u001b[0;34m,\u001b[0m \u001b[0mhof\u001b[0m\u001b[0;34m\u001b[0m\u001b[0m\n",
      "\u001b[0;32m/usr/lib/python3.5/site-packages/deap/algorithms.py\u001b[0m in \u001b[0;36meaSimple\u001b[0;34m(population, toolbox, cxpb, mutpb, ngen, stats, halloffame, verbose)\u001b[0m\n\u001b[1;32m    146\u001b[0m     \u001b[0minvalid_ind\u001b[0m \u001b[0;34m=\u001b[0m \u001b[0;34m[\u001b[0m\u001b[0mind\u001b[0m \u001b[0;32mfor\u001b[0m \u001b[0mind\u001b[0m \u001b[0;32min\u001b[0m \u001b[0mpopulation\u001b[0m \u001b[0;32mif\u001b[0m \u001b[0;32mnot\u001b[0m \u001b[0mind\u001b[0m\u001b[0;34m.\u001b[0m\u001b[0mfitness\u001b[0m\u001b[0;34m.\u001b[0m\u001b[0mvalid\u001b[0m\u001b[0;34m]\u001b[0m\u001b[0;34m\u001b[0m\u001b[0m\n\u001b[1;32m    147\u001b[0m     \u001b[0mfitnesses\u001b[0m \u001b[0;34m=\u001b[0m \u001b[0mtoolbox\u001b[0m\u001b[0;34m.\u001b[0m\u001b[0mmap\u001b[0m\u001b[0;34m(\u001b[0m\u001b[0mtoolbox\u001b[0m\u001b[0;34m.\u001b[0m\u001b[0mevaluate\u001b[0m\u001b[0;34m,\u001b[0m \u001b[0minvalid_ind\u001b[0m\u001b[0;34m)\u001b[0m\u001b[0;34m\u001b[0m\u001b[0m\n\u001b[0;32m--> 148\u001b[0;31m     \u001b[0;32mfor\u001b[0m \u001b[0mind\u001b[0m\u001b[0;34m,\u001b[0m \u001b[0mfit\u001b[0m \u001b[0;32min\u001b[0m \u001b[0mzip\u001b[0m\u001b[0;34m(\u001b[0m\u001b[0minvalid_ind\u001b[0m\u001b[0;34m,\u001b[0m \u001b[0mfitnesses\u001b[0m\u001b[0;34m)\u001b[0m\u001b[0;34m:\u001b[0m\u001b[0;34m\u001b[0m\u001b[0m\n\u001b[0m\u001b[1;32m    149\u001b[0m         \u001b[0mind\u001b[0m\u001b[0;34m.\u001b[0m\u001b[0mfitness\u001b[0m\u001b[0;34m.\u001b[0m\u001b[0mvalues\u001b[0m \u001b[0;34m=\u001b[0m \u001b[0mfit\u001b[0m\u001b[0;34m\u001b[0m\u001b[0m\n\u001b[1;32m    150\u001b[0m \u001b[0;34m\u001b[0m\u001b[0m\n",
      "\u001b[0;32m<ipython-input-6-b532d532c864>\u001b[0m in \u001b[0;36mtotal_grid_score\u001b[0;34m(grid_string)\u001b[0m\n\u001b[1;32m     78\u001b[0m \u001b[0;34m\u001b[0m\u001b[0m\n\u001b[1;32m     79\u001b[0m \u001b[0;32mdef\u001b[0m \u001b[0mtotal_grid_score\u001b[0m\u001b[0;34m(\u001b[0m\u001b[0mgrid_string\u001b[0m\u001b[0;34m)\u001b[0m\u001b[0;34m:\u001b[0m\u001b[0;34m\u001b[0m\u001b[0m\n\u001b[0;32m---> 80\u001b[0;31m     \u001b[0mgrid_string\u001b[0m \u001b[0;34m=\u001b[0m \u001b[0mgrid_string\u001b[0m\u001b[0;34m.\u001b[0m\u001b[0mlower\u001b[0m\u001b[0;34m(\u001b[0m\u001b[0;34m)\u001b[0m\u001b[0;34m\u001b[0m\u001b[0m\n\u001b[0m\u001b[1;32m     81\u001b[0m \u001b[0;34m\u001b[0m\u001b[0m\n\u001b[1;32m     82\u001b[0m     \u001b[0mword_trie\u001b[0m \u001b[0;34m=\u001b[0m \u001b[0mgenerate_word_trie\u001b[0m\u001b[0;34m(\u001b[0m\u001b[0mgrid_string\u001b[0m\u001b[0;34m)\u001b[0m\u001b[0;34m\u001b[0m\u001b[0m\n",
      "\u001b[0;31mAttributeError\u001b[0m: 'Board' object has no attribute 'lower'"
     ]
    }
   ],
   "source": [
    "simulate()"
   ]
  },
  {
   "cell_type": "code",
   "execution_count": null,
   "metadata": {
    "collapsed": true
   },
   "outputs": [],
   "source": []
  }
 ],
 "metadata": {
  "kernelspec": {
   "display_name": "Python 3",
   "language": "python",
   "name": "python3"
  },
  "language_info": {
   "codemirror_mode": {
    "name": "ipython",
    "version": 3
   },
   "file_extension": ".py",
   "mimetype": "text/x-python",
   "name": "python",
   "nbconvert_exporter": "python",
   "pygments_lexer": "ipython3",
   "version": "3.5.2"
  }
 },
 "nbformat": 4,
 "nbformat_minor": 0
}
