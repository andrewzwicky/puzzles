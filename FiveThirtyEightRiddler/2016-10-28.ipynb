{
 "cells": [
  {
   "cell_type": "markdown",
   "metadata": {},
   "source": [
    "# Riddler Express\n",
    "Imagine your job is to draw districts and you happen to be a member of the Blue Party. The grid below gives the locations of 25 voters in a region, which you must divide into five districts with five voters each. In each district, the party with the most votes will win. The districts must be non-overlapping and contiguous (that is, each square in a district must share an edge with at least one other square in the district). Can you draw the districts such that the Blue Party wins more districts than the Red Party?\n",
    "![voters](http://i1.wp.com/espnfivethirtyeight.files.wordpress.com/2016/10/screen-shot-2016-10-25-at-2-09-59-pm.png?quality=90&strip=all&w=518&ssl=1)"
   ]
  },
  {
   "cell_type": "code",
   "execution_count": 5,
   "metadata": {
    "collapsed": false
   },
   "outputs": [],
   "source": [
    "from enum import Enum\n",
    "\n",
    "class Party(Enum):\n",
    "    red = 1\n",
    "    blue = 2\n",
    "\n",
    "class Region(object):\n",
    "    \n",
    "    # Assumption is that there will be fewer blue coordinates, so pass those in.\n",
    "    def __init__(self,size,blue_coords):\n",
    "        self._grid = [[Party.blue if (row,col) in blue_coords else Party.red for col in range(size)] for row in range(size)]\n",
    "    \n",
    "    "
   ]
  },
  {
   "cell_type": "code",
   "execution_count": 7,
   "metadata": {
    "collapsed": false
   },
   "outputs": [
    {
     "data": {
      "text/plain": [
       "[[<Party.blue: 2>,\n",
       "  <Party.red: 1>,\n",
       "  <Party.red: 1>,\n",
       "  <Party.red: 1>,\n",
       "  <Party.red: 1>],\n",
       " [<Party.red: 1>,\n",
       "  <Party.blue: 2>,\n",
       "  <Party.red: 1>,\n",
       "  <Party.red: 1>,\n",
       "  <Party.red: 1>],\n",
       " [<Party.red: 1>,\n",
       "  <Party.red: 1>,\n",
       "  <Party.red: 1>,\n",
       "  <Party.red: 1>,\n",
       "  <Party.red: 1>],\n",
       " [<Party.red: 1>,\n",
       "  <Party.red: 1>,\n",
       "  <Party.red: 1>,\n",
       "  <Party.red: 1>,\n",
       "  <Party.red: 1>],\n",
       " [<Party.red: 1>,\n",
       "  <Party.red: 1>,\n",
       "  <Party.red: 1>,\n",
       "  <Party.red: 1>,\n",
       "  <Party.red: 1>]]"
      ]
     },
     "execution_count": 7,
     "metadata": {},
     "output_type": "execute_result"
    }
   ],
   "source": []
  },
  {
   "cell_type": "code",
   "execution_count": null,
   "metadata": {
    "collapsed": true
   },
   "outputs": [],
   "source": []
  }
 ],
 "metadata": {
  "kernelspec": {
   "display_name": "Python 3",
   "language": "python",
   "name": "python3"
  },
  "language_info": {
   "codemirror_mode": {
    "name": "ipython",
    "version": 3
   },
   "file_extension": ".py",
   "mimetype": "text/x-python",
   "name": "python",
   "nbconvert_exporter": "python",
   "pygments_lexer": "ipython3",
   "version": "3.5.1"
  }
 },
 "nbformat": 4,
 "nbformat_minor": 0
}
