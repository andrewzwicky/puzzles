{
 "cells": [
  {
   "cell_type": "code",
   "execution_count": 1,
   "metadata": {
    "collapsed": false,
    "deletable": true,
    "editable": true
   },
   "outputs": [],
   "source": [
    "import csv\n",
    "import itertools\n",
    "from deap import base, creator, tools, algorithms\n",
    "import random\n",
    "import numpy as np"
   ]
  },
  {
   "cell_type": "code",
   "execution_count": 2,
   "metadata": {
    "collapsed": false,
    "deletable": true,
    "editable": true
   },
   "outputs": [],
   "source": [
    "with open('castle-solutions.csv', newline='', encoding='latin1') as prev_castles_file:\n",
    "    file_reader = csv.reader(prev_castles_file)\n",
    "    ARMIES = list(file_reader)\n",
    "\n",
    "ARMIES = ARMIES[1:]\n",
    "ARMIES = [tuple(int(n) for n in row[:10]) for row in ARMIES]\n",
    "\n",
    "TOTAL_SOLDIERS = 100\n",
    "NUM_CASTLES = 10\n",
    "\n",
    "POINTS = np.array([1,2,3,4,5,6,7,8,9,10])"
   ]
  },
  {
   "cell_type": "code",
   "execution_count": 3,
   "metadata": {
    "collapsed": true,
    "deletable": true,
    "editable": true
   },
   "outputs": [],
   "source": [
    "def normalize_army(army):\n",
    "    army_sum = sum(army)\n",
    "\n",
    "    for i in range(len(army)):\n",
    "        army[i] = int((army[i]/army_sum)*TOTAL_SOLDIERS)\n",
    "\n",
    "    army_sum = sum(army)\n",
    "    \n",
    "    if army_sum < TOTAL_SOLDIERS:\n",
    "            army[army.index(min(army))] += TOTAL_SOLDIERS - army_sum\n",
    "    if army_sum > TOTAL_SOLDIERS:\n",
    "            army[army.index(max(army))] -= army_sum - TOTAL_SOLDIERS\n",
    "            \n",
    "    return army"
   ]
  },
  {
   "cell_type": "code",
   "execution_count": 4,
   "metadata": {
    "collapsed": true,
    "deletable": true,
    "editable": true
   },
   "outputs": [],
   "source": [
    "def generate_random_army():\n",
    "    army = [random.randint(0,TOTAL_SOLDIERS) for _ in range(NUM_CASTLES)]\n",
    "    return normalize_army(army)"
   ]
  },
  {
   "cell_type": "code",
   "execution_count": 5,
   "metadata": {
    "collapsed": true
   },
   "outputs": [],
   "source": [
    "def test_army_fights(function):\n",
    "    army = [15, 14, 4, 16, 6, 3, 16, 6, 16, 4]\n",
    "    \n",
    "    other_armies = [[(100, 0, 0, 0, 0, 0, 0, 0, 0, 0),      1],\n",
    "                    [(10, 0, 0, 0, 0, 0, 0, 30, 30, 30),    1],\n",
    "                    [(5, 5, 0, 0, 0, 0, 0, 30, 30, 30),     1],\n",
    "                    [(3, 5, 7, 9, 11, 13, 15, 17, 19, 1),   0],\n",
    "                    [(2, 4, 6, 8, 10, 12, 14, 16, 18, 10),  0],\n",
    "                    [(2, 2, 4, 5, 7, 10, 10, 15, 20, 25),   0],\n",
    "                    [(2, 0, 0, 0, 0, 0, 0, 31, 33, 34),     1],\n",
    "                    [(1, 2, 3, 6, 9, 10, 13, 16, 18, 22),   0],\n",
    "                    [(1, 1, 1, 15, 15, 15, 16, 16, 10, 10), 0],\n",
    "                    [(1, 1, 1, 1, 1, 17, 18, 19, 20, 21),   0],\n",
    "                    [(0, 6, 7, 11, 14, 17, 20, 25, 0, 0),   0],\n",
    "                    [(0, 0, 12, 16, 11, 0, 14, 0, 47, 0),   1],\n",
    "                    [(0, 0, 0, 14, 18, 0, 0, 0, 33, 35),    1],\n",
    "                    [(15, 14, 4, 16, 6, 3, 16, 6, 16, 4),   0],\n",
    "                    [(14, 13, 6, 16, 6, 3, 16, 6, 16, 4),   0],\n",
    "                    [(15, 14, 4, 16, 6, 3, 16, 6, 17, 3),   1],\n",
    "                    [(0, 0, 0, 0, 17, 21, 0, 29, 33, 0),    0]]\n",
    "    \n",
    "    for other_army, wins in other_armies:\n",
    "        f = function(army, [other_army])\n",
    "        if f != (wins,):\n",
    "            print(army, other_army, f, wins)"
   ]
  },
  {
   "cell_type": "code",
   "execution_count": 6,
   "metadata": {
    "collapsed": false,
    "deletable": true,
    "editable": true
   },
   "outputs": [],
   "source": [
    "def total_castles_defeated(army, other_armies=()):\n",
    "    wins = 0\n",
    "    \n",
    "    for other_army in other_armies:\n",
    "        castle_diffs = np.subtract(army, other_army)\n",
    "    \n",
    "        other_sum = np.sum(POINTS[np.argwhere(castle_diffs < 0)])\n",
    "        army_sum = np.sum(POINTS[np.argwhere(castle_diffs > 0)])\n",
    "        \n",
    "        if army_sum > other_sum:\n",
    "            wins += 1\n",
    "    \n",
    "    return wins,"
   ]
  },
  {
   "cell_type": "code",
   "execution_count": 7,
   "metadata": {
    "collapsed": false,
    "deletable": true,
    "editable": true
   },
   "outputs": [],
   "source": [
    "test_army_fights(total_castles_defeated)"
   ]
  },
  {
   "cell_type": "code",
   "execution_count": 8,
   "metadata": {
    "collapsed": true,
    "deletable": true,
    "editable": true
   },
   "outputs": [],
   "source": [
    "def mate_armies(army1, army2):\n",
    "    new_army1, new_army2 = tools.cxTwoPoint(army1, army2)\n",
    "\n",
    "    new_army1 = normalize_army(new_army1)\n",
    "    new_army2 = normalize_army(new_army2)\n",
    "\n",
    "    return new_army1, new_army2"
   ]
  },
  {
   "cell_type": "code",
   "execution_count": 9,
   "metadata": {
    "collapsed": true,
    "deletable": true,
    "editable": true
   },
   "outputs": [],
   "source": [
    "def mutate_army(army, indpb):\n",
    "    if random.random() < indpb:\n",
    "        a = random.randint(0, 9)\n",
    "        b = random.randint(0, 9)\n",
    "        while a != b and army[b] > 0:\n",
    "            b = random.randint(0, 9)\n",
    "\n",
    "        army[a] += 1\n",
    "        army[b] -= 1\n",
    "\n",
    "    return army,"
   ]
  },
  {
   "cell_type": "code",
   "execution_count": 10,
   "metadata": {
    "collapsed": true,
    "deletable": true,
    "editable": true
   },
   "outputs": [],
   "source": [
    "def get_best_army(stats):\n",
    "    fit_values = [army.fitness.values[0] for army in stats]\n",
    "    index = fit_values.index(max(fit_values))\n",
    "    return stats[index]"
   ]
  },
  {
   "cell_type": "code",
   "execution_count": 11,
   "metadata": {
    "collapsed": true,
    "deletable": true,
    "editable": true
   },
   "outputs": [],
   "source": [
    "def get_num_unique_armies(stats):\n",
    "    return len(set(map(tuple, stats)))"
   ]
  },
  {
   "cell_type": "code",
   "execution_count": 12,
   "metadata": {
    "collapsed": true,
    "deletable": true,
    "editable": true
   },
   "outputs": [],
   "source": [
    "def init_individual(army_container):\n",
    "    return army_container(generate_random_army())"
   ]
  },
  {
   "cell_type": "code",
   "execution_count": 13,
   "metadata": {
    "collapsed": true,
    "deletable": true,
    "editable": true
   },
   "outputs": [],
   "source": [
    "def simulate(population=200,\n",
    "             generations=20,\n",
    "             tournament_size=20,\n",
    "             mating_prob=0.5,\n",
    "             individual_mutate_prob=0.2,\n",
    "             hof_size=1):\n",
    "    toolbox = base.Toolbox()\n",
    "\n",
    "    creator.create(\"FitnessMax\", base.Fitness, weights=(1.0,))\n",
    "    creator.create(\"Army\", list, fitness=creator.FitnessMax)\n",
    "\n",
    "    toolbox.register(\"individual\", init_individual, creator.Army)\n",
    "    toolbox.register(\"population\", tools.initRepeat, list, toolbox.individual)\n",
    "    toolbox.register(\"evaluate\", total_castles_defeated, other_armies=ARMIES)\n",
    "    toolbox.register(\"mate\", mate_armies)\n",
    "    toolbox.register(\"mutate\", mutate_army, indpb=individual_mutate_prob)\n",
    "    toolbox.register(\"select\", tools.selTournament, tournsize=tournament_size)\n",
    "\n",
    "    pop = toolbox.population(n=population)\n",
    "    hof = tools.HallOfFame(hof_size)\n",
    "\n",
    "    stats = tools.Statistics(lambda army: army.fitness.values)\n",
    "    stats.register(\"avg\", np.mean)\n",
    "    stats.register(\"min\", np.min)\n",
    "    stats.register(\"max\", np.max)\n",
    "\n",
    "    best_stats = tools.Statistics(lambda army: army)\n",
    "    best_stats.register(\"best\", get_best_army)\n",
    "    best_stats.register(\"uniq\", get_num_unique_armies)\n",
    "\n",
    "    all_stats = tools.MultiStatistics(scores=stats, boards=best_stats)\n",
    "\n",
    "    pop, logbook = algorithms.eaSimple(pop,\n",
    "                                       toolbox,\n",
    "                                       mating_prob,\n",
    "                                       individual_mutate_prob,\n",
    "                                       generations,\n",
    "                                       stats=all_stats,\n",
    "                                       halloffame=hof,\n",
    "                                       verbose=True)\n",
    "\n",
    "    return pop, logbook, hof"
   ]
  },
  {
   "cell_type": "code",
   "execution_count": 14,
   "metadata": {
    "collapsed": false,
    "deletable": true,
    "editable": true
   },
   "outputs": [
    {
     "name": "stdout",
     "output_type": "stream",
     "text": [
      "   \t      \t                   boards                   \t       scores      \n",
      "   \t      \t--------------------------------------------\t-------------------\n",
      "gen\tnevals\tbest                             \tuniq\tavg    \tmax \tmin\n",
      "0  \t5000  \t[8, 5, 6, 8, 17, 16, 5, 27, 5, 3]\t5000\t609.603\t1138\t108\n",
      "1  \t3077  \t[5, 8, 6, 10, 11, 24, 25, 2, 5, 4]\t3165\t813.244\t1153\t431\n",
      "2  \t2964  \t[5, 5, 6, 8, 17, 16, 5, 31, 4, 3] \t2748\t959.86 \t1196\t519\n",
      "3  \t2935  \t[5, 6, 6, 8, 17, 16, 3, 31, 5, 3] \t1837\t1079.42\t1210\t749\n",
      "4  \t2938  \t[5, 6, 6, 8, 17, 16, 3, 31, 5, 3] \t1084\t1132.31\t1210\t802\n",
      "5  \t3071  \t[3, 5, 7, 14, 15, 15, 4, 31, 3, 3]\t753 \t1175.66\t1220\t882\n",
      "6  \t2972  \t[3, 5, 6, 8, 12, 21, 3, 31, 6, 5] \t295 \t1193.14\t1231\t1009\n",
      "7  \t2991  \t[3, 5, 7, 14, 15, 16, 3, 31, 3, 3]\t357 \t1195.47\t1232\t999 \n",
      "8  \t3026  \t[3, 6, 6, 8, 12, 21, 3, 31, 5, 5] \t616 \t1194.49\t1234\t994 \n",
      "9  \t2981  \t[3, 6, 6, 8, 12, 21, 3, 31, 5, 5] \t281 \t1210.32\t1234\t981 \n",
      "10 \t3060  \t[3, 6, 6, 8, 12, 21, 3, 31, 5, 5] \t59  \t1228   \t1234\t1065\n",
      "11 \t3032  \t[3, 6, 6, 8, 12, 21, 3, 31, 5, 5] \t45  \t1221.42\t1234\t1070\n",
      "12 \t2978  \t[3, 6, 6, 8, 12, 21, 3, 31, 5, 5] \t1   \t1234   \t1234\t1234\n",
      "13 \t3004  \t[3, 6, 6, 8, 12, 21, 3, 31, 5, 5] \t1   \t1234   \t1234\t1234\n",
      "14 \t2948  \t[3, 6, 6, 8, 12, 21, 3, 31, 5, 5] \t1   \t1234   \t1234\t1234\n",
      "15 \t2947  \t[3, 6, 6, 8, 12, 21, 3, 31, 5, 5] \t1   \t1234   \t1234\t1234\n",
      "16 \t2979  \t[3, 6, 6, 8, 12, 21, 3, 31, 5, 5] \t1   \t1234   \t1234\t1234\n",
      "17 \t2914  \t[3, 6, 6, 8, 12, 21, 3, 31, 5, 5] \t1   \t1234   \t1234\t1234\n",
      "18 \t3022  \t[3, 6, 6, 8, 12, 21, 3, 31, 5, 5] \t1   \t1234   \t1234\t1234\n",
      "19 \t3004  \t[3, 6, 6, 8, 12, 21, 3, 31, 5, 5] \t1   \t1234   \t1234\t1234\n",
      "20 \t2998  \t[3, 6, 6, 8, 12, 21, 3, 31, 5, 5] \t1   \t1234   \t1234\t1234\n"
     ]
    }
   ],
   "source": [
    "p, l, h = simulate(population=5000, generations=20)"
   ]
  }
 ],
 "metadata": {
  "kernelspec": {
   "display_name": "puzzles_venv",
   "language": "python",
   "name": "puzzles_venv"
  },
  "language_info": {
   "codemirror_mode": {
    "name": "ipython",
    "version": 3
   },
   "file_extension": ".py",
   "mimetype": "text/x-python",
   "name": "python",
   "nbconvert_exporter": "python",
   "pygments_lexer": "ipython3",
   "version": "3.5.3"
  }
 },
 "nbformat": 4,
 "nbformat_minor": 2
}
