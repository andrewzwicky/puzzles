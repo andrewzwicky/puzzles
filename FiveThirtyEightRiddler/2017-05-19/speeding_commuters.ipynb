{
 "cells": [
  {
   "cell_type": "markdown",
   "metadata": {},
   "source": [
    "From Jerry Meyers, a careening commute problem:\n",
    "\n",
    "Four co-workers carpool to work each day. A driver is selected randomly for the drive to work and again randomly for the drive home. Each of the drivers has a lead foot, and each has a chance of being ticketed for speeding. Driver A has a 10 percent chance of getting a ticket each time he drives, Driver B a 15 percent chance, Driver C a 20 percent chance, and Driver D a 25 percent chance. The state will immediately revoke the license of a driver after his or her third ticket, and a driver will stop driving in the carpool once his license is revoked. Since there is only one police officer on the carpool rout, a maximum of one ticket will be issued per morning and a max of one per evening.\n",
    "\n",
    "Assuming that all four drivers start with no tickets, how many days can we expect the carpool to last until all the drivers have lost their licenses?"
   ]
  },
  {
   "cell_type": "code",
   "execution_count": 202,
   "metadata": {
    "collapsed": true
   },
   "outputs": [],
   "source": [
    "import numpy as np\n",
    "import itertools"
   ]
  },
  {
   "cell_type": "code",
   "execution_count": 203,
   "metadata": {
    "collapsed": false
   },
   "outputs": [],
   "source": [
    "def prob_transition(initial, final, ticket_limit=3):\n",
    "    initial = np.array(initial)\n",
    "    final = np.array(final)\n",
    "    # only 1 driver ticket has increased by exactly 1 ticket\n",
    "    ticket_diff = np.subtract(final, initial)\n",
    "    if len(np.argwhere(ticket_diff < 0)) > 0 \\\n",
    "    or len(np.argwhere(ticket_diff > 1)) > 0 \\\n",
    "    or len(np.argwhere(ticket_diff == 1)) > 1 \\\n",
    "    or len(np.argwhere(ticket_diff == 1)) == 0:\n",
    "        # can't remove tickets, invalid transition\n",
    "        return 0\n",
    "    \n",
    "    tickets_issued = np.count_nonzero(ticket_diff)\n",
    "    # 1 ticket issued, calc prob\n",
    "    avail_drivers = len(np.argwhere(initial < ticket_limit))\n",
    "    ticketed_driver_indx = np.argwhere(ticket_diff == 1)[0][0]\n",
    "        \n",
    "    return (1/avail_drivers) * probs_pulled_over[ticketed_driver_indx]"
   ]
  },
  {
   "cell_type": "code",
   "execution_count": 204,
   "metadata": {
    "collapsed": true
   },
   "outputs": [],
   "source": [
    "TICKETS_TO_SUSPENSION = 3\n",
    "probs_pulled_over = np.array([0.10, 0.15, 0.20, 0.25])\n",
    "NUM_DRIVERS = len(probs_pulled_over)"
   ]
  },
  {
   "cell_type": "code",
   "execution_count": 205,
   "metadata": {
    "collapsed": false
   },
   "outputs": [],
   "source": [
    "states = {i:state for i,state in enumerate(itertools.product(range(0,TICKETS_TO_SUSPENSION+1), repeat = NUM_DRIVERS))}\n",
    "num_states = len(states.keys())"
   ]
  },
  {
   "cell_type": "code",
   "execution_count": 206,
   "metadata": {
    "collapsed": false
   },
   "outputs": [],
   "source": [
    "prob_trans_arr = np.zeros((num_states,num_states))"
   ]
  },
  {
   "cell_type": "code",
   "execution_count": 207,
   "metadata": {
    "collapsed": false
   },
   "outputs": [],
   "source": [
    "for row in range(0,num_states):\n",
    "    for col in range(row+1, num_states):\n",
    "        prob_trans_arr[row][col] = prob_transition(states[row], states[col], TICKETS_TO_SUSPENSION)"
   ]
  },
  {
   "cell_type": "code",
   "execution_count": 208,
   "metadata": {
    "collapsed": false
   },
   "outputs": [],
   "source": [
    "for row,col in zip(*np.diag_indices_from(prob_trans_arr)):\n",
    "    prob_trans_arr[row][col] = 1 - np.sum(prob_trans_arr[row])\n",
    "    "
   ]
  },
  {
   "cell_type": "code",
   "execution_count": 209,
   "metadata": {
    "collapsed": false
   },
   "outputs": [],
   "source": [
    "prob_trans_arr = np.delete(prob_trans_arr, -1, 0)\n",
    "prob_trans_arr = np.delete(prob_trans_arr, -1, 1)"
   ]
  },
  {
   "cell_type": "code",
   "execution_count": 210,
   "metadata": {
    "collapsed": false
   },
   "outputs": [
    {
     "data": {
      "text/plain": [
       "38.499999999999957"
      ]
     },
     "execution_count": 210,
     "metadata": {},
     "output_type": "execute_result"
    }
   ],
   "source": [
    "q = np.mat(prob_trans_arr)\n",
    "i = np.identity(num_states - 1)\n",
    "n = np.linalg.inv(i - q)\n",
    "expected_trips_to_states = np.array(n * np.ones((num_states-1,1)))\n",
    "expected_trips_to_all_suspended = expected_trips_to_states[0][0]\n",
    "expected_days_to_all_suspended = expected_trips_to_all_suspended / 2\n",
    "expected_days_to_all_suspended"
   ]
  }
 ],
 "metadata": {
  "kernelspec": {
   "display_name": "Python 3",
   "language": "python",
   "name": "python3"
  },
  "language_info": {
   "codemirror_mode": {
    "name": "ipython",
    "version": 3
   },
   "file_extension": ".py",
   "mimetype": "text/x-python",
   "name": "python",
   "nbconvert_exporter": "python",
   "pygments_lexer": "ipython3",
   "version": "3.5.1"
  }
 },
 "nbformat": 4,
 "nbformat_minor": 0
}
