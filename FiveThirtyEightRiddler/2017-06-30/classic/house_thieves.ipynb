{
 "cells": [
  {
   "cell_type": "markdown",
   "metadata": {},
   "source": [
    "From Max Weinreich, a purge puzzle:\n",
    "\n",
    "A town of 1,000 households has a strange law intended to prevent wealth-hoarding. On January 1 of every year, each household robs one other household, selected at random, moving all of that house’s money into their own house. The order in which the robberies take place is also random and is determined by a lottery. (Note that if House A robs House B first, and then C robs A, the houses of A and B would each be empty and C would have acquired the resources of both A and B.)\n",
    "\n",
    "Two questions about this fateful day:\n",
    "\n",
    "* What is the probability that a house is not robbed over the course of the day?\n",
    "* Suppose that every house has the same amount of cash to begin with — say $100. Which position in the lottery has the most expected cash at the end of the day, and what is that amount?"
   ]
  },
  {
   "cell_type": "code",
   "execution_count": 1,
   "metadata": {
    "collapsed": true
   },
   "outputs": [],
   "source": [
    "from itertools import repeat, cycle, chain, count\n",
    "from collections import defaultdict\n",
    "import matplotlib.pyplot as plt\n",
    "import matplotlib.cm as cm\n",
    "import matplotlib as mpl\n",
    "from tqdm import tqdm_notebook\n",
    "from multiprocessing import Pool\n",
    "import matplotlib.animation as animation\n",
    "import numpy as np"
   ]
  },
  {
   "cell_type": "code",
   "execution_count": 2,
   "metadata": {
    "collapsed": true
   },
   "outputs": [],
   "source": [
    "def calculate_all_expecteds(houses):\n",
    "    return list(map(calculate_expected, houses))"
   ]
  },
  {
   "cell_type": "code",
   "execution_count": 3,
   "metadata": {
    "collapsed": true
   },
   "outputs": [],
   "source": [
    "def calculate_expected(house):\n",
    "    return sum([amt*odd for amt,odd in house.items()])"
   ]
  },
  {
   "cell_type": "code",
   "execution_count": 4,
   "metadata": {
    "collapsed": true
   },
   "outputs": [],
   "source": [
    "def possible_amounts(all_houses, ignore_index, num_houses):\n",
    "    possibles = defaultdict(float)\n",
    "    for j, house in enumerate(all_houses):\n",
    "        if j != ignore_index:\n",
    "            for amount, odd in house.items():\n",
    "                possibles[amount] += odd\n",
    "\n",
    "    return {a: o / (num_houses - 1) for a, o in possibles.items()}"
   ]
  },
  {
   "cell_type": "code",
   "execution_count": 5,
   "metadata": {
    "collapsed": true
   },
   "outputs": [],
   "source": [
    "def adjust_thief_odds(house, possibles):\n",
    "    resulting_probs = []\n",
    "\n",
    "    for h_amount, h_odd in house.items():\n",
    "        for p_amount, p_odd in possibles.items():\n",
    "            resulting_probs.append((h_amount + p_amount, h_odd * p_odd))\n",
    "\n",
    "    new_house = defaultdict(float)\n",
    "    for r_amount, r_odd in resulting_probs:\n",
    "        new_house[r_amount] += r_odd\n",
    "\n",
    "    return dict(new_house)"
   ]
  },
  {
   "cell_type": "code",
   "execution_count": 6,
   "metadata": {
    "collapsed": true
   },
   "outputs": [],
   "source": [
    "def adjust_victim_house(house, num_houses):\n",
    "    total = 0\n",
    "    new_house = defaultdict(float)\n",
    "    for amount, odd in house.items():\n",
    "        temp_odd = odd * (1 - (1/(num_houses - 1)))\n",
    "        new_house[amount] = temp_odd\n",
    "        total += temp_odd\n",
    "\n",
    "    new_house[0] += 1 - total\n",
    "\n",
    "    return dict(new_house)"
   ]
  },
  {
   "cell_type": "code",
   "execution_count": 7,
   "metadata": {
    "collapsed": true
   },
   "outputs": [],
   "source": [
    "def run_simulation(num_houses, initial_amount):\n",
    "    all_houses = list(repeat({initial_amount: 1.0}, num_houses))\n",
    "\n",
    "    for i, thief_house in enumerate(tqdm_notebook(all_houses, desc='calculation')):\n",
    "        # calculate possible amounts that could be stolen, probability of each\n",
    "        possibles = possible_amounts(all_houses, i, num_houses)\n",
    "\n",
    "        # adjust probabilities of each amount in selected house\n",
    "        all_houses[i] = adjust_thief_odds(thief_house, possibles)\n",
    "\n",
    "        # add probability to each other house that their amount was stolen\n",
    "        for j, victim_house in enumerate(all_houses):\n",
    "            if j != i:\n",
    "                all_houses[j] = adjust_victim_house(victim_house, num_houses)\n",
    "\n",
    "        yield calculate_all_expecteds(all_houses)"
   ]
  },
  {
   "cell_type": "code",
   "execution_count": 71,
   "metadata": {},
   "outputs": [],
   "source": [
    "def generate_evolution_figure(expecteds):\n",
    "    num_houses = len(expecteds)\n",
    "    \n",
    "    fig, ax = plt.subplots(figsize=(12, 8))\n",
    "    \n",
    "    ax.set_xlim([0, num_houses])\n",
    "    ax.set_ylim([0, max(expecteds[1])])\n",
    "    ax.set_xlabel(\"House Index\")\n",
    "    ax.set_ylabel(\"Expected Amount [$]\")\n",
    "    ax.set_title(\"Expected Amount in House over time\")\n",
    "    \n",
    "    bar = ax.bar(range(num_houses), expecteds[0], width=1, align='center')\n",
    "    fit_line, = ax.plot([],[], 'r--', linewidth=3)\n",
    "    \n",
    "    return fig, bar, fit_line\n",
    "\n",
    "def update_evolution_figure(frame_num,\n",
    "                            fig,\n",
    "                            bar,\n",
    "                            fit_line,\n",
    "                            norm,\n",
    "                            expected_len,\n",
    "                            expected_generator,\n",
    "                            pbar):\n",
    "    exp = next(expected_generator)\n",
    "    \n",
    "    for i, b in enumerate(bar):\n",
    "        b.set_height(exp[i])\n",
    "        b.set_facecolor(color=cm.ScalarMappable(norm=norm, cmap=cm.viridis).to_rgba(exp[i]))\n",
    "    \n",
    "    if frame_num >= expected_len:\n",
    "        x = range(len(exp))\n",
    "        p = np.poly1d(np.polyfit(x, exp, 2))\n",
    "        fit_line.set_data(x, p(x))\n",
    "    \n",
    "    pbar.update(1)\n",
    "\n",
    "def plot_expected_evolution(expecteds, output_file, fps, repeat_delay):\n",
    "    fig, bar, fit_line = generate_evolution_figure(expecteds)\n",
    "    norm = mpl.colors.Normalize(vmin=0, vmax=max(expecteds[1]))\n",
    "    \n",
    "    with tqdm_notebook(total=len(expecteds)+repeat_delay) as pbar:\n",
    "        evo_ani = animation.FuncAnimation(fig,\n",
    "                                          update_evolution_figure,\n",
    "                                          fargs=(fig,\n",
    "                                                 bar,\n",
    "                                                 fit_line,\n",
    "                                                 norm,\n",
    "                                                 len(expecteds),\n",
    "                                                 cycle(chain(expecteds,\n",
    "                                                             repeat(expecteds[-1],\n",
    "                                                                    repeat_delay))),\n",
    "                                                 pbar),\n",
    "                                          repeat=True,\n",
    "                                          save_count=len(expecteds)+repeat_delay)\n",
    "        evo_ani.save(output_file, writer=\"imagemagick\", fps=fps)"
   ]
  },
  {
   "cell_type": "code",
   "execution_count": 72,
   "metadata": {
    "collapsed": true
   },
   "outputs": [],
   "source": [
    "NUM_HOUSES = 1000\n",
    "INIT_AMOUNT = 100"
   ]
  },
  {
   "cell_type": "code",
   "execution_count": 73,
   "metadata": {},
   "outputs": [
    {
     "data": {
      "application/vnd.jupyter.widget-view+json": {
       "model_id": "7f2baea99a534726adc910058a57c110"
      }
     },
     "metadata": {},
     "output_type": "display_data"
    },
    {
     "name": "stdout",
     "output_type": "stream",
     "text": [
      "\n"
     ]
    }
   ],
   "source": [
    "expecteds = list(run_simulation(NUM_HOUSES, INIT_AMOUNT))"
   ]
  },
  {
   "cell_type": "code",
   "execution_count": 75,
   "metadata": {},
   "outputs": [
    {
     "data": {
      "application/vnd.jupyter.widget-view+json": {
       "model_id": "2d9e5d3293f341ab8d1614357fd958db"
      }
     },
     "metadata": {},
     "output_type": "display_data"
    },
    {
     "name": "stdout",
     "output_type": "stream",
     "text": [
      "\n"
     ]
    }
   ],
   "source": [
    "plot_expected_evolution(expecteds,'evolution.gif', 48, 100)\n",
    "plt.close('all')"
   ]
  }
 ],
 "metadata": {
  "kernelspec": {
   "display_name": "puzzles_venv",
   "language": "python",
   "name": "puzzles_venv"
  },
  "language_info": {
   "codemirror_mode": {
    "name": "ipython",
    "version": 3
   },
   "file_extension": ".py",
   "mimetype": "text/x-python",
   "name": "python",
   "nbconvert_exporter": "python",
   "pygments_lexer": "ipython3",
   "version": "3.6.1"
  }
 },
 "nbformat": 4,
 "nbformat_minor": 2
}
