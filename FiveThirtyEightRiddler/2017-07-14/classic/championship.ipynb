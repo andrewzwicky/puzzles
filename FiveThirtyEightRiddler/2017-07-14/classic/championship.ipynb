{
 "cells": [
  {
   "cell_type": "markdown",
   "metadata": {},
   "source": [
    "Congratulations! The Acme Axegrinders, which you own, are the regular season champions of the National Squishyball League (NSL). Your team will now play a championship series against the Boondocks Barbarians, which had the second-best regular season record. You feel good about Acme’s chances in the series because Acme won exactly 60 percent of the hundreds of games it played against Boondocks this season. (The NSL has an incredibly long regular season.) The NSL has two special rules for the playoffs:\n",
    "\n",
    "The owner of the top-seeded team (i.e., you) gets to select the length of the championship series in advance of the first game, so you could decide to play a single game, a best two out of three series, a three out of five series, etc., all the way up to a 50 out of 99 series.\n",
    "The owner of the winning team gets \\$1 million minus \\$10,000 for each of the victories required to win the series, regardless of how many games the series lasts in total. Thus, if the top-seeded team’s owner selects a single-game championship, the winning owner will collect \\$990,000. If he or she selects a 4 out of 7 series, the winning team’s owner will collect \\$960,000. The owner of the losing team gets nothing.\n",
    "Since Acme has a 60 percent chance of winning any individual game against Boondocks, Rule 1 encourages you to opt for a very long series to improve Acme’s chances of winning the series. But Rule 2 means that a long series will mean less winnings for you if Acme does take the series.\n",
    "\n",
    "How long a series should you select in order to maximize your expected winnings? And how much money do you expect to win?"
   ]
  },
  {
   "cell_type": "code",
   "execution_count": 3,
   "metadata": {
    "collapsed": true
   },
   "outputs": [],
   "source": [
    "from matplotlib import pyplot as plt\n",
    "from scipy.special import binom"
   ]
  },
  {
   "cell_type": "markdown",
   "metadata": {},
   "source": [
    "$A_n(p) = \\sum_{k=n}^{2 n - 1}  \\binom{2 n - 1}{k} p^k (1 - p)^{2 n - 1 - k}$    "
   ]
  },
  {
   "cell_type": "code",
   "execution_count": 4,
   "metadata": {
    "collapsed": true
   },
   "outputs": [],
   "source": [
    "def how_many_games(p=0.6, initial_amount=1_000_000, win_subtraction=10_000):\n",
    "    expected_winnings = []\n",
    "\n",
    "    for num_wins in range(1,50):\n",
    "        series_length = 2*num_wins - 1\n",
    "        prize = initial_amount - (win_subtraction*num_wins)\n",
    "        win_p = 0\n",
    "        for k in range(num_wins, series_length + 1):\n",
    "            win_p += binom(series_length, k) * (p**k) * ((1-p)**(series_length - k))\n",
    "\n",
    "        expected_winning = prize * win_p\n",
    "\n",
    "        expected_winnings.append((series_length, expected_winning))\n",
    "    return expected_winnings"
   ]
  },
  {
   "cell_type": "code",
   "execution_count": 5,
   "metadata": {},
   "outputs": [
    {
     "data": {
      "image/png": "[encoded data removed]",
      "text/plain": [
       "<matplotlib.figure.Figure at 0x4687518>"
      ]
     },
     "metadata": {},
     "output_type": "display_data"
    }
   ],
   "source": [
    "expected_winnings = how_many_games()\n",
    "plt.plot(*zip(*expected_winnings))\n",
    "plt.show()"
   ]
  },
  {
   "cell_type": "code",
   "execution_count": 7,
   "metadata": {},
   "outputs": [
    {
     "data": {
      "text/plain": [
       "[(25, 736222.04099108616),\n",
       " (23, 735993.77223689435),\n",
       " (27, 735599.48264806077),\n",
       " (21, 734803.69893802213),\n",
       " (29, 734218.99363577936)]"
      ]
     },
     "execution_count": 7,
     "metadata": {},
     "output_type": "execute_result"
    }
   ],
   "source": [
    "sorted_by_winnings = sorted(expected_winnings, key=lambda x: x[1], reverse=True)\n",
    "sorted_by_winnings[0:5]"
   ]
  },
  {
   "cell_type": "markdown",
   "metadata": {},
   "source": [
    "### Answer\n",
    "25 game series has the highest expected winnings"
   ]
  }
 ],
 "metadata": {
  "kernelspec": {
   "display_name": "Python 3",
   "language": "python",
   "name": "python3"
  },
  "language_info": {
   "codemirror_mode": {
    "name": "ipython",
    "version": 3
   },
   "file_extension": ".py",
   "mimetype": "text/x-python",
   "name": "python",
   "nbconvert_exporter": "python",
   "pygments_lexer": "ipython3",
   "version": "3.6.1"
  }
 },
 "nbformat": 4,
 "nbformat_minor": 2
}
