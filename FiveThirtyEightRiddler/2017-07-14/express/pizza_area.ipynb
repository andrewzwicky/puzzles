{
 "cells": [
  {
   "cell_type": "markdown",
   "metadata": {},
   "source": [
    "You and your two older siblings are sharing two extra-large pizzas and decide to cut them in an unusual way. You overlap the pizzas so that the crust of one touches the center of the other (and vice versa since they are the same size). You then slice both pizzas around the area of overlap. Two of you will each get one of the crescent-shaped pieces, and the third will get both of the football-shaped cutouts.\n",
    "\n",
    "Which should you choose to get more pizza: one crescent or two footballs?"
   ]
  },
  {
   "cell_type": "markdown",
   "metadata": {},
   "source": [
    "![](https://upload.wikimedia.org/wikipedia/commons/thumb/f/fb/Circularsegment.svg/257px-Circularsegment.svg.png)\n",
    "\n",
    "I'm going to work this problem by finding the area of the green shaded chord, then multiplying that by 2 to find the area of 1 football (which is also the area to subtract to find the area of 1 crescent), then compare the area of the 2 footballs to 1 crescent."
   ]
  },
  {
   "cell_type": "code",
   "execution_count": 1,
   "metadata": {
    "collapsed": true
   },
   "outputs": [],
   "source": [
    "from sympy import symbols, init_printing, sin, acos, simplify, pi, collect, factor, expand\n",
    "from sympy.physics.vector import vlatex\n",
    "init_printing(latex_printer=vlatex)"
   ]
  },
  {
   "cell_type": "code",
   "execution_count": 2,
   "metadata": {
    "collapsed": true
   },
   "outputs": [],
   "source": [
    "R = symbols('R')\n",
    "theta  = symbols('\\Theta')"
   ]
  },
  {
   "cell_type": "code",
   "execution_count": 3,
   "metadata": {},
   "outputs": [
    {
     "data": {
      "image/png": "[encoded data removed]",
      "text/latex": [
       "$$R^{2} \\left(- \\frac{\\sqrt{3}}{2} + \\frac{2 \\pi}{3}\\right)$$"
      ],
      "text/plain": [
       " 2 ⎛  √3   2⋅π⎞\n",
       "R ⋅⎜- ── + ───⎟\n",
       "   ⎝  2     3 ⎠"
      ]
     },
     "execution_count": 3,
     "metadata": {},
     "output_type": "execute_result"
    }
   ],
   "source": [
    "area_chord = (R**2 / 2)*(theta - sin(theta))\n",
    "area_football = 2*area_chord.subs(theta, 2*acos((R/2)/R))\n",
    "collect(area_football,R)"
   ]
  },
  {
   "cell_type": "code",
   "execution_count": 4,
   "metadata": {},
   "outputs": [
    {
     "data": {
      "image/png": "[encoded data removed]",
      "text/latex": [
       "$$R^{2} \\left(\\frac{\\sqrt{3}}{2} + \\frac{\\pi}{3}\\right)$$"
      ],
      "text/plain": [
       " 2 ⎛√3   π⎞\n",
       "R ⋅⎜── + ─⎟\n",
       "   ⎝2    3⎠"
      ]
     },
     "execution_count": 4,
     "metadata": {},
     "output_type": "execute_result"
    }
   ],
   "source": [
    "area_crescent = (pi*R**2) - area_football\n",
    "collect(area_crescent,R)"
   ]
  },
  {
   "cell_type": "code",
   "execution_count": 5,
   "metadata": {},
   "outputs": [
    {
     "data": {
      "image/png": "[encoded data removed]",
      "text/latex": [
       "$$1.28408421549691$$"
      ],
      "text/plain": [
       "1.28408421549691"
      ]
     },
     "execution_count": 5,
     "metadata": {},
     "output_type": "execute_result"
    }
   ],
   "source": [
    "((2*area_football) / area_crescent).evalf()"
   ]
  },
  {
   "cell_type": "code",
   "execution_count": 6,
   "metadata": {},
   "outputs": [
    {
     "data": {
      "image/png": "[encoded data removed]",
      "text/latex": [
       "$$6.28318530717959 R^{2}$$"
      ],
      "text/plain": [
       "                  2\n",
       "6.28318530717959⋅R "
      ]
     },
     "execution_count": 6,
     "metadata": {},
     "output_type": "execute_result"
    }
   ],
   "source": [
    "(2*area_football + 2*area_crescent).evalf()"
   ]
  },
  {
   "cell_type": "code",
   "execution_count": 10,
   "metadata": {},
   "outputs": [
    {
     "data": {
      "image/png": "[encoded data removed]",
      "text/latex": [
       "$$6.28318530717959 R^{2}$$"
      ],
      "text/plain": [
       "                  2\n",
       "6.28318530717959⋅R "
      ]
     },
     "execution_count": 10,
     "metadata": {},
     "output_type": "execute_result"
    }
   ],
   "source": [
    "(2*pi*R**2).evalf()"
   ]
  },
  {
   "cell_type": "markdown",
   "metadata": {},
   "source": [
    "### Answer\n",
    "2 footballs are larger than 1 crescent."
   ]
  }
 ],
 "metadata": {
  "kernelspec": {
   "display_name": "Python 3",
   "language": "python",
   "name": "python3"
  },
  "language_info": {
   "codemirror_mode": {
    "name": "ipython",
    "version": 3
   },
   "file_extension": ".py",
   "mimetype": "text/x-python",
   "name": "python",
   "nbconvert_exporter": "python",
   "pygments_lexer": "ipython3",
   "version": "3.6.1"
  }
 },
 "nbformat": 4,
 "nbformat_minor": 2
}
