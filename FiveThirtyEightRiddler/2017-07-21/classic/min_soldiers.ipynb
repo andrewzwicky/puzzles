{
 "cells": [
  {
   "cell_type": "markdown",
   "metadata": {},
   "source": [
    "Twice before, I’ve pitted Riddler Nation against itself in a battle royale for national domination. War must wage once more. Here are the rules. There are two warlords: you and your archenemy, with whom you’re competing to conquer castles and collect the most victory points. Each of the 10 castles has its own strategic value for a would-be conqueror. Specifically, the castles are worth 1, 2, 3, … , 9 and 10 victory points. You and your enemy each have 100 soldiers to distribute between any of the 10 castles. Whoever sends more soldiers to a given castle conquers that castle and wins its victory points. (If you each send the same number of troops, you split the points.) Whoever ends up with the most points wins.\n",
    "\n",
    "But now, you have a spy! You know how many soldiers your archenemy will send to each castle. The bad news, though, is that you no longer have 100 soldiers — your army suffered some losses in a previous battle.\n",
    "\n",
    "What is the value of the spy?\n",
    "\n",
    "That is, how many soldiers do you need to have in order to win, no matter the distribution of your opponent’s soldiers? Put another way: What k is the minimum number such that, for any distribution of 100 soldiers in the 10 castles by your opponent, you can distribute k soldiers and win the battle?"
   ]
  },
  {
   "cell_type": "code",
   "execution_count": 24,
   "metadata": {
    "collapsed": true
   },
   "outputs": [],
   "source": [
    "import csv\n",
    "import numpy as np"
   ]
  },
  {
   "cell_type": "code",
   "execution_count": 47,
   "metadata": {
    "collapsed": true
   },
   "outputs": [],
   "source": [
    "with open('castle-solutions.csv', newline='', encoding='latin1') as prev_castles_file:\n",
    "    file_reader = csv.reader(prev_castles_file)\n",
    "    ARMIES = list(file_reader)\n",
    "\n",
    "ARMIES = ARMIES[1:]\n",
    "ARMIES = [tuple(int(n) for n in row[:10]) for row in ARMIES]\n",
    "\n",
    "TOTAL_SOLDIERS = 100\n",
    "NUM_CASTLES = 10\n",
    "\n",
    "POINTS = np.array([1,2,3,4,5,6,7,8,9,10])\n",
    "\n",
    "NEEDED_SCORE = 28"
   ]
  },
  {
   "cell_type": "code",
   "execution_count": 28,
   "metadata": {
    "collapsed": true
   },
   "outputs": [],
   "source": [
    "def normalize_army(army):\n",
    "    army_sum = sum(army)\n",
    "\n",
    "    for i in range(len(army)):\n",
    "        army[i] = int((army[i]/army_sum)*TOTAL_SOLDIERS)\n",
    "\n",
    "    army_sum = sum(army)\n",
    "    \n",
    "    if army_sum < TOTAL_SOLDIERS:\n",
    "            army[army.index(min(army))] += TOTAL_SOLDIERS - army_sum\n",
    "    if army_sum > TOTAL_SOLDIERS:\n",
    "            army[army.index(max(army))] -= army_sum - TOTAL_SOLDIERS\n",
    "            \n",
    "    return army"
   ]
  },
  {
   "cell_type": "code",
   "execution_count": 29,
   "metadata": {
    "collapsed": true
   },
   "outputs": [],
   "source": [
    "def generate_random_army():\n",
    "    army = [random.randint(0,TOTAL_SOLDIERS) for _ in range(NUM_CASTLES)]\n",
    "    return normalize_army(army)"
   ]
  },
  {
   "cell_type": "code",
   "execution_count": 50,
   "metadata": {
    "collapsed": true
   },
   "outputs": [],
   "source": [
    "def min_solders_simple(army):\n",
    "    score = 0\n",
    "    soldiers_needed = 0\n",
    "    \n",
    "    points_per_solder = np.divide(POINTS,army)\n",
    "\n",
    "    for pps,soldiers,point in sorted(zip(points_per_solder,army,POINTS),\n",
    "                                    key=lambda x: x[0],\n",
    "                                    reverse=True):\n",
    "        if score < NEEDED_SCORE:\n",
    "            soldiers_needed += soldiers\n",
    "            score += point\n",
    "        else:\n",
    "            break\n",
    "\n",
    "    return soldiers_needed"
   ]
  },
  {
   "cell_type": "code",
   "execution_count": 51,
   "metadata": {},
   "outputs": [
    {
     "data": {
      "text/plain": [
       "35"
      ]
     },
     "execution_count": 51,
     "metadata": {},
     "output_type": "execute_result"
    }
   ],
   "source": [
    "min_solders_simple(ARMIES[25])"
   ]
  },
  {
   "cell_type": "code",
   "execution_count": null,
   "metadata": {
    "collapsed": true
   },
   "outputs": [],
   "source": []
  }
 ],
 "metadata": {
  "kernelspec": {
   "display_name": "Python 3",
   "language": "python",
   "name": "python3"
  },
  "language_info": {
   "codemirror_mode": {
    "name": "ipython",
    "version": 3
   },
   "file_extension": ".py",
   "mimetype": "text/x-python",
   "name": "python",
   "nbconvert_exporter": "python",
   "pygments_lexer": "ipython3",
   "version": "3.6.1"
  }
 },
 "nbformat": 4,
 "nbformat_minor": 2
}
