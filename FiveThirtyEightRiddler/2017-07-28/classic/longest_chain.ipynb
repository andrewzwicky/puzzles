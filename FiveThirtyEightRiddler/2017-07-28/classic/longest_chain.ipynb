{
 "cells": [
  {
   "cell_type": "code",
   "execution_count": 20,
   "metadata": {
    "collapsed": true
   },
   "outputs": [],
   "source": [
    "from itertools import count\n",
    "from functools import reduce\n",
    "from math import sqrt"
   ]
  },
  {
   "cell_type": "code",
   "execution_count": 40,
   "metadata": {
    "collapsed": true
   },
   "outputs": [],
   "source": [
    "# http://stackoverflow.com/a/19578818/2597564\n",
    "def factors(n):\n",
    "        step = 2 if n%2 else 1\n",
    "        return set(reduce(list.__add__,\n",
    "                    ([i, n//i] for i in range(1, int(sqrt(n))+1, step) if n % i == 0)))"
   ]
  },
  {
   "cell_type": "code",
   "execution_count": 41,
   "metadata": {
    "collapsed": true
   },
   "outputs": [],
   "source": [
    "def multiples(n, max_num=100):\n",
    "    output = set()\n",
    "    i = 2\n",
    "    while n*i <= max_num:\n",
    "        output.add(n*i)\n",
    "        i += 1\n",
    "    return output"
   ]
  },
  {
   "cell_type": "code",
   "execution_count": 42,
   "metadata": {},
   "outputs": [],
   "source": [
    "def destinations(n, max_num=100):\n",
    "    return (multiples(n, max_num) | factors(n)) - {n}"
   ]
  },
  {
   "cell_type": "code",
   "execution_count": 61,
   "metadata": {
    "collapsed": true
   },
   "outputs": [],
   "source": [
    "def graph(max_num):\n",
    "    return {i: destinations(i,max_num) for i in range(1,max_num+1)}"
   ]
  },
  {
   "cell_type": "code",
   "execution_count": 83,
   "metadata": {
    "collapsed": true
   },
   "outputs": [],
   "source": [
    "def longest_path_recurse(graph, visited_nodes, longest_path):\n",
    "    if not visited_nodes:\n",
    "        possible_nodes = set(graph.keys())\n",
    "    else:\n",
    "        if len(visited_nodes) > len(longest_path):\n",
    "            longest_path = visited_nodes\n",
    "        possible_nodes = graph[visited_nodes[-1]] - set(visited_nodes)\n",
    "        \n",
    "    for node in possible_nodes:\n",
    "        longest_path = longest_path_recurse(graph, visited_nodes + (node,), longest_path)\n",
    "    \n",
    "    return longest_path    "
   ]
  },
  {
   "cell_type": "code",
   "execution_count": 100,
   "metadata": {},
   "outputs": [],
   "source": [
    "paths = []\n",
    "for n in range(5,30):\n",
    "    g = graph(n)\n",
    "    p = longest_path_recurse(g, tuple(), tuple())\n",
    "    paths.append((n,p,len(p)))"
   ]
  },
  {
   "cell_type": "code",
   "execution_count": 101,
   "metadata": {
    "collapsed": true
   },
   "outputs": [],
   "source": [
    "from matplotlib import pyplot as plt"
   ]
  },
  {
   "cell_type": "code",
   "execution_count": 110,
   "metadata": {},
   "outputs": [
    {
     "data": {
      "image/png": "[encoded data removed]",
      "text/plain": [
       "<matplotlib.figure.Figure at 0x876eef0>"
      ]
     },
     "metadata": {},
     "output_type": "display_data"
    }
   ],
   "source": [
    "n,p,l = zip(*paths)\n",
    "fig, ax = plt.subplots()\n",
    "ax.scatter(n, l)\n",
    "ax.grid(True)\n",
    "plt.yticks(list(int(i) for i in range(min(l),max(l)+1)))\n",
    "plt.xticks(list(int(i) for i in range(min(n),max(n)+1)))\n",
    "plt.show()"
   ]
  },
  {
   "cell_type": "markdown",
   "metadata": {},
   "source": [
    "https://oeis.org/A063208"
   ]
  }
 ],
 "metadata": {
  "kernelspec": {
   "display_name": "Python 3",
   "language": "python",
   "name": "python3"
  },
  "language_info": {
   "codemirror_mode": {
    "name": "ipython",
    "version": 3
   },
   "file_extension": ".py",
   "mimetype": "text/x-python",
   "name": "python",
   "nbconvert_exporter": "python",
   "pygments_lexer": "ipython3",
   "version": "3.6.1"
  }
 },
 "nbformat": 4,
 "nbformat_minor": 2
}
