{
 "cells": [
  {
   "cell_type": "markdown",
   "metadata": {},
   "source": [
    "# Riddler Express\n",
    "From Alex Vornsand, a puzzle for your daily routine:\n",
    "\n",
    "You take half of a vitamin every morning. The vitamins are sold in a bottle of 100 (whole) tablets, so at first you have to cut the tablets in half. Every day you randomly pull one thing from the bottle — if it’s a whole tablet, you cut it in half and put the leftover half back in the bottle. If it’s a half-tablet, you take the vitamin. You just bought a fresh bottle. How many days, on average, will it be before you pull a half-tablet out of the bottle?"
   ]
  },
  {
   "cell_type": "code",
   "execution_count": 1,
   "metadata": {
    "collapsed": true
   },
   "outputs": [],
   "source": [
    "import random\n",
    "import numpy as np\n",
    "import matplotlib.pyplot as plt\n",
    "\n",
    "BOTTLE_NUM = 100"
   ]
  },
  {
   "cell_type": "code",
   "execution_count": 2,
   "metadata": {
    "scrolled": false
   },
   "outputs": [
    {
     "name": "stdout",
     "output_type": "stream",
     "text": [
      "     0 0.00000\n",
      "     1 0.00000\n",
      "     2 0.01000\n",
      "     3 0.02980\n",
      "     4 0.05891\n",
      "     5 0.09655\n",
      "     6 0.14172\n",
      "     7 0.19322\n",
      "     8 0.24969\n",
      "     9 0.30972\n",
      "    10 0.37184\n",
      "    11 0.43466\n",
      "    12 0.49685\n",
      "    13 0.55723\n",
      "    14 0.61479\n",
      "    15 0.66872\n",
      "    16 0.71841\n",
      "    17 0.76346\n",
      "    18 0.80367\n",
      "    19 0.83901\n",
      "    20 0.86960\n",
      "    21 0.89568\n",
      "    22 0.91759\n",
      "    23 0.93572\n",
      "    24 0.95050\n",
      "    25 0.96238\n",
      "    26 0.97179\n",
      "    27 0.97912\n",
      "    28 0.98476\n",
      "    29 0.98903\n",
      "    30 0.99221\n",
      "    31 0.99455\n",
      "    32 0.99624\n",
      "    33 0.99744\n",
      "    34 0.99829\n",
      "    35 0.99887\n",
      "    36 0.99926\n",
      "    37 0.99953\n",
      "    38 0.99970\n",
      "    39 0.99982\n",
      "    40 0.99989\n",
      "    41 0.99993\n",
      "    42 0.99996\n",
      "    43 0.99998\n",
      "    44 0.99999\n",
      "    45 0.99999\n",
      "    46 1.00000\n",
      "    47 1.00000\n",
      "    48 1.00000\n",
      "    49 1.00000\n",
      "    50 1.00000\n",
      "    51 1.00000\n",
      "    52 1.00000\n",
      "    53 1.00000\n",
      "    54 1.00000\n",
      "    55 1.00000\n",
      "    56 1.00000\n",
      "    57 1.00000\n",
      "    58 1.00000\n",
      "    59 1.00000\n",
      "    60 1.00000\n",
      "    61 1.00000\n",
      "    62 1.00000\n",
      "    63 1.00000\n",
      "    64 1.00000\n",
      "    65 1.00000\n",
      "    66 1.00000\n",
      "    67 1.00000\n",
      "    68 1.00000\n",
      "    69 1.00000\n",
      "    70 1.00000\n",
      "    71 1.00000\n",
      "    72 1.00000\n",
      "    73 1.00000\n",
      "    74 1.00000\n",
      "    75 1.00000\n",
      "    76 1.00000\n",
      "    77 1.00000\n",
      "    78 1.00000\n",
      "    79 1.00000\n",
      "    80 1.00000\n",
      "    81 1.00000\n",
      "    82 1.00000\n",
      "    83 1.00000\n",
      "    84 1.00000\n",
      "    85 1.00000\n",
      "    86 1.00000\n",
      "    87 1.00000\n",
      "    88 1.00000\n",
      "    89 1.00000\n",
      "    90 1.00000\n",
      "    91 1.00000\n",
      "    92 1.00000\n",
      "    93 1.00000\n",
      "    94 1.00000\n",
      "    95 1.00000\n",
      "    96 1.00000\n",
      "    97 1.00000\n",
      "    98 1.00000\n",
      "    99 1.00000\n",
      "   100 1.00000\n"
     ]
    }
   ],
   "source": [
    "odds = []\n",
    "\n",
    "odds_not_half_pulled = 1\n",
    "\n",
    "for day in range(BOTTLE_NUM+1):\n",
    "    odds_half_pulled = 1 - odds_not_half_pulled\n",
    "    print(f'{day:>6.0f} {odds_half_pulled:<6.5f}')\n",
    "    odds_not_half_pulled *= (BOTTLE_NUM - day)/(BOTTLE_NUM)\n",
    "    odds.append(odds_half_pulled)"
   ]
  },
  {
   "cell_type": "code",
   "execution_count": 3,
   "metadata": {
    "scrolled": true
   },
   "outputs": [
    {
     "data": {
      "image/png": "[encoded data removed]",
      "text/plain": [
       "<matplotlib.figure.Figure at 0x7df5828>"
      ]
     },
     "metadata": {},
     "output_type": "display_data"
    }
   ],
   "source": [
    "plt.plot((0,BOTTLE_NUM),(0.5,0.5))\n",
    "plt.plot(odds)\n",
    "plt.xlim(0, BOTTLE_NUM)\n",
    "plt.ylim(0, 1)\n",
    "plt.show()"
   ]
  },
  {
   "cell_type": "code",
   "execution_count": 4,
   "metadata": {},
   "outputs": [
    {
     "data": {
      "image/png": "[encoded data removed]",
      "text/plain": [
       "<matplotlib.figure.Figure at 0x85ada58>"
      ]
     },
     "metadata": {},
     "output_type": "display_data"
    }
   ],
   "source": [
    "plt.plot((0,BOTTLE_NUM),(0.5,0.5))\n",
    "plt.plot(odds)\n",
    "plt.plot((12,12),(0.3,0.7))\n",
    "plt.xlim(10, 20)\n",
    "plt.ylim(0.4, 0.6)\n",
    "plt.show()"
   ]
  },
  {
   "cell_type": "code",
   "execution_count": 5,
   "metadata": {
    "collapsed": true
   },
   "outputs": [],
   "source": [
    "def simulate_picking(bottle_num):\n",
    "    for day in range(BOTTLE_NUM):\n",
    "        if random.random() < (day/BOTTLE_NUM):\n",
    "            return day"
   ]
  },
  {
   "cell_type": "code",
   "execution_count": 6,
   "metadata": {
    "scrolled": true
   },
   "outputs": [
    {
     "data": {
      "image/png": "[encoded data removed]",
      "text/plain": [
       "<matplotlib.figure.Figure at 0x8617160>"
      ]
     },
     "metadata": {},
     "output_type": "display_data"
    }
   ],
   "source": [
    "TRIALS = 1000000\n",
    "\n",
    "bins = list(range(101))\n",
    "n, bins, patches = plt.hist([simulate_picking(BOTTLE_NUM) for _ in range(TRIALS)], bins, normed=1)\n",
    "plt.xlim(0, 40)\n",
    "plt.show()"
   ]
  },
  {
   "cell_type": "markdown",
   "metadata": {},
   "source": [
    "On average, you will have to wait **12** days"
   ]
  }
 ],
 "metadata": {
  "kernelspec": {
   "display_name": "Python 3",
   "language": "python",
   "name": "python3"
  },
  "language_info": {
   "codemirror_mode": {
    "name": "ipython",
    "version": 3
   },
   "file_extension": ".py",
   "mimetype": "text/x-python",
   "name": "python",
   "nbconvert_exporter": "python",
   "pygments_lexer": "ipython3",
   "version": "3.6.1"
  }
 },
 "nbformat": 4,
 "nbformat_minor": 2
}
