{
 "cells": [
  {
   "cell_type": "markdown",
   "metadata": {},
   "source": [
    "# Riddler Express\n",
    "From Shaun Raviv, a tall tale on the basketball court:\n",
    "\n",
    "You’re hanging out with some friends, shooting the breeze and talking sports. One of them brags to the group that he once made 17 free throws in a row after years of not having touched a basketball. You think the claim sounds unlikely, but plausible. Another friend scoffs, thinking it completely impossible. Let’s give your bragging friend the benefit of the doubt and say he’s a 70-percent free-throw shooter.\n",
    "\n",
    "So, who’s right? What is the number of free throws that a 70-percent shooter would be expected to take before having a streak of 17 makes in a row? And what if his accuracy was a bit worse?"
   ]
  },
  {
   "cell_type": "code",
   "execution_count": 1,
   "metadata": {
    "collapsed": true
   },
   "outputs": [],
   "source": [
    "import numpy as np\n",
    "import random\n",
    "from matplotlib import pyplot as plt\n",
    "import itertools\n",
    "from multiprocessing import Pool\n",
    "import matplotlib.colors as colors"
   ]
  },
  {
   "cell_type": "code",
   "execution_count": 2,
   "metadata": {
    "collapsed": true
   },
   "outputs": [],
   "source": [
    "CONSECUTIVE_SHOTS = 17\n",
    "MAKE_CHANCE = 0.7"
   ]
  },
  {
   "cell_type": "code",
   "execution_count": 3,
   "metadata": {},
   "outputs": [],
   "source": [
    "def calculate_shots(consecutive_makes, make_chance):\n",
    "\n",
    "    T = np.zeros((consecutive_makes + 1,consecutive_makes + 1))\n",
    "    T[:-1,0] = 1 - make_chance\n",
    "    T[-1,-1] = 1\n",
    "    rng = np.arange(consecutive_makes)\n",
    "    T[rng, rng+1] = make_chance\n",
    "\n",
    "    q = np.mat(T[:-1,:-1])\n",
    "    i = np.identity(q.shape[0])\n",
    "    n = np.linalg.inv(i - q)\n",
    "    \n",
    "    return np.array(n * np.ones((n.shape[1],1)))[0][0]"
   ]
  },
  {
   "cell_type": "code",
   "execution_count": 4,
   "metadata": {},
   "outputs": [
    {
     "data": {
      "text/plain": [
       "1429.5540709031739"
      ]
     },
     "execution_count": 4,
     "metadata": {},
     "output_type": "execute_result"
    }
   ],
   "source": [
    "calculate_shots(CONSECUTIVE_SHOTS, MAKE_CHANCE)"
   ]
  },
  {
   "cell_type": "code",
   "execution_count": 5,
   "metadata": {},
   "outputs": [],
   "source": [
    "def simulate_shots(consecutive_makes, make_chance):\n",
    "    consec_shots = 0\n",
    "    total_shots = 0\n",
    "    \n",
    "    while consec_shots < consecutive_makes:\n",
    "        if random.random() < make_chance:\n",
    "            consec_shots += 1\n",
    "        else:\n",
    "            consec_shots = 0\n",
    "        total_shots += 1\n",
    "    \n",
    "    return total_shots"
   ]
  },
  {
   "cell_type": "code",
   "execution_count": 6,
   "metadata": {},
   "outputs": [],
   "source": [
    "N = 10000\n",
    "results = [simulate_shots(CONSECUTIVE_SHOTS, MAKE_CHANCE) for _ in range(N)]"
   ]
  },
  {
   "cell_type": "code",
   "execution_count": 7,
   "metadata": {},
   "outputs": [
    {
     "data": {
      "text/plain": [
       "1438.9706000000001"
      ]
     },
     "execution_count": 7,
     "metadata": {},
     "output_type": "execute_result"
    }
   ],
   "source": [
    "np.mean(results)"
   ]
  },
  {
   "cell_type": "code",
   "execution_count": 16,
   "metadata": {},
   "outputs": [
    {
     "data": {
      "image/png": "[encoded data removed]",
      "text/plain": [
       "<matplotlib.figure.Figure at 0x8485e80>"
      ]
     },
     "metadata": {},
     "output_type": "display_data"
    }
   ],
   "source": [
    "make_chances = np.arange(0.55,0.95,0.01)\n",
    "expects = [calculate_shots(CONSECUTIVE_SHOTS, chance) for chance in make_chances]\n",
    "\n",
    "fig, ax = plt.subplots(figsize=(10,8))\n",
    "ax.scatter(make_chances, expects)\n",
    "ax.set_ylabel(f'Expected shots to make {CONSECUTIVE_SHOTS} consecutive')\n",
    "ax.set_xlabel('Chance to make each shot')\n",
    "ax.set_yscale('log')\n",
    "plt.show()"
   ]
  },
  {
   "cell_type": "markdown",
   "metadata": {},
   "source": [
    "On average, 1430 shots should be expected to make 17 consecutive shots with a 70% chance to make each."
   ]
  }
 ],
 "metadata": {
  "kernelspec": {
   "display_name": "Python 3",
   "language": "python",
   "name": "python3"
  },
  "language_info": {
   "codemirror_mode": {
    "name": "ipython",
    "version": 3
   },
   "file_extension": ".py",
   "mimetype": "text/x-python",
   "name": "python",
   "nbconvert_exporter": "python",
   "pygments_lexer": "ipython3",
   "version": "3.6.1"
  }
 },
 "nbformat": 4,
 "nbformat_minor": 2
}
