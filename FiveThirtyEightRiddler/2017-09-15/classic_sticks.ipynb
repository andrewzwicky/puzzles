{
 "cells": [
  {
   "cell_type": "markdown",
   "metadata": {},
   "source": [
    "# Riddler Classic\n",
    "This week’s Classic, from Spreck Rosekrans, continues our camping theme. Here are four questions of increasing difficulty about finding sticks in the woods, breaking them and making shapes:\n",
    "\n",
    "1. If you break a stick in two places at random, forming three pieces, what is the probability of being able to form a triangle with the pieces?\n",
    "2. If you select three sticks, each of random length (between 0 and 1), what is the probability of being able to form a triangle with them?\n",
    "3. If you break a stick in two places at random, what is the probability of being able to form an acute triangle — where each angle is less than 90 degrees — with the pieces?\n",
    "4. If you select three sticks, each of random length (between 0 and 1), what is the probability of being able to form an acute triangle with the sticks?"
   ]
  },
  {
   "cell_type": "code",
   "execution_count": 48,
   "metadata": {
    "collapsed": true
   },
   "outputs": [],
   "source": [
    "import random"
   ]
  },
  {
   "cell_type": "code",
   "execution_count": 54,
   "metadata": {
    "collapsed": true
   },
   "outputs": [],
   "source": [
    "N = 1000000"
   ]
  },
  {
   "cell_type": "markdown",
   "metadata": {},
   "source": [
    "## 1"
   ]
  },
  {
   "cell_type": "code",
   "execution_count": 66,
   "metadata": {},
   "outputs": [
    {
     "data": {
      "text/plain": [
       "0.250935"
      ]
     },
     "execution_count": 66,
     "metadata": {},
     "output_type": "execute_result"
    }
   ],
   "source": [
    "triangle_count = 0\n",
    "for _ in range(N):\n",
    "    a,b = sorted((random.random(), random.random()))\n",
    "    x,y,z = (a,b-a,1-b)\n",
    "    if x<0.5 and y<0.5 and z<0.5:\n",
    "        triangle_count += 1\n",
    "        \n",
    "triangle_count / N"
   ]
  },
  {
   "cell_type": "markdown",
   "metadata": {},
   "source": [
    "## 2"
   ]
  },
  {
   "cell_type": "code",
   "execution_count": 67,
   "metadata": {},
   "outputs": [
    {
     "data": {
      "text/plain": [
       "0.499781"
      ]
     },
     "execution_count": 67,
     "metadata": {},
     "output_type": "execute_result"
    }
   ],
   "source": [
    "triangle_count = 0\n",
    "for _ in range(N):\n",
    "    sticks = sorted((random.random(), random.random(), random.random()))\n",
    "    if sticks[2] < sticks[0] + sticks[1]:\n",
    "        triangle_count += 1\n",
    "                    \n",
    "triangle_count / N"
   ]
  },
  {
   "cell_type": "markdown",
   "metadata": {},
   "source": [
    "## 3"
   ]
  },
  {
   "cell_type": "code",
   "execution_count": 68,
   "metadata": {},
   "outputs": [
    {
     "data": {
      "text/plain": [
       "0.079496"
      ]
     },
     "execution_count": 68,
     "metadata": {},
     "output_type": "execute_result"
    }
   ],
   "source": [
    "triangle_count = 0\n",
    "for _ in range(N):\n",
    "    a,b = sorted((random.random(), random.random()))\n",
    "    x,y,z = (a,b-a,1-b)\n",
    "    if (x**2 + y**2 >  z**2) and (x**2 + z**2 > y**2) and (z**2 + y**2 > x**2):\n",
    "        triangle_count += 1\n",
    "        \n",
    "triangle_count / N"
   ]
  },
  {
   "cell_type": "markdown",
   "metadata": {},
   "source": [
    "## 4"
   ]
  },
  {
   "cell_type": "code",
   "execution_count": 69,
   "metadata": {},
   "outputs": [
    {
     "data": {
      "text/plain": [
       "0.21426"
      ]
     },
     "execution_count": 69,
     "metadata": {},
     "output_type": "execute_result"
    }
   ],
   "source": [
    "triangle_count = 0\n",
    "for _ in range(N):\n",
    "    x,y,z = (random.random(), random.random(), random.random())\n",
    "    if (x**2 + y**2 >  z**2) and (x**2 + z**2 > y**2) and (z**2 + y**2 > x**2):\n",
    "        triangle_count += 1\n",
    "                    \n",
    "triangle_count / N"
   ]
  },
  {
   "cell_type": "code",
   "execution_count": null,
   "metadata": {
    "collapsed": true
   },
   "outputs": [],
   "source": []
  }
 ],
 "metadata": {
  "kernelspec": {
   "display_name": "Python 3",
   "language": "python",
   "name": "python3"
  },
  "language_info": {
   "codemirror_mode": {
    "name": "ipython",
    "version": 3
   },
   "file_extension": ".py",
   "mimetype": "text/x-python",
   "name": "python",
   "nbconvert_exporter": "python",
   "pygments_lexer": "ipython3",
   "version": "3.6.1"
  }
 },
 "nbformat": 4,
 "nbformat_minor": 2
}
