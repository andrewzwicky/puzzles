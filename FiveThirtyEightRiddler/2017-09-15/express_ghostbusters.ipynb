{
 "cells": [
  {
   "cell_type": "markdown",
   "metadata": {},
   "source": [
    "# Riddler Express\n",
    "From Max Weinreich, a phantasmal puzzle:\n",
    "\n",
    "Twenty ghostbusters are on their annual camping retreat. Two of them, Abe and Betty, have discovered that another pair, Candace and Dan, are in fact ghosts posing as ghostbusters. Abe and Betty hatch a plan: When all 20 campers are sitting in a circle around the campfire, Abe will fire his proton pack at Candace, and Betty will simultaneously fire her proton pack at Dan, annihilating the ghosts. However, if two proton streams cross, it means the end of all life on Earth.\n",
    "\n",
    "If the ghostbusters are arranged randomly around the fire, what are the chances that Abe and Betty will cross streams?"
   ]
  },
  {
   "cell_type": "code",
   "execution_count": 12,
   "metadata": {
    "collapsed": true
   },
   "outputs": [],
   "source": [
    "import itertools\n",
    "from math import factorial"
   ]
  },
  {
   "cell_type": "markdown",
   "metadata": {},
   "source": [
    "The only people that are relevant for this problem are the 2 ghostbusters and the 2 ghosts.  There are only a few ways they can be arranged.  The other 16 people can be arranged in any manner and it doesn't affect the solution.\n",
    "\n",
    "Because the direction also doesn't matter, I'll just label each shooter/ghost pair as either X or Y."
   ]
  },
  {
   "cell_type": "code",
   "execution_count": 38,
   "metadata": {},
   "outputs": [],
   "source": [
    "people = 'XY' * 2"
   ]
  },
  {
   "cell_type": "code",
   "execution_count": 41,
   "metadata": {},
   "outputs": [
    {
     "name": "stdout",
     "output_type": "stream",
     "text": [
      "YXYX True\n",
      "YYXX False\n",
      "XYYX False\n",
      "XYXY True\n",
      "YXXY False\n",
      "XXYY False\n"
     ]
    }
   ],
   "source": [
    "cross_count = 0\n",
    "total_count = 0\n",
    "\n",
    "# use set to remove redundant permutations\n",
    "for perm in set(itertools.permutations(people)):\n",
    "    perm_str = ''.join(perm)\n",
    "    # If there is a sequence where a single person from a pair is \n",
    "    # between the other pair, streams must cross.\n",
    "    cross = 'XYX' in perm_str or 'YXY' in perm_str\n",
    "    if cross:\n",
    "        cross_count += 1\n",
    "    total_count += 1\n",
    "    print(perm_str, cross)"
   ]
  },
  {
   "cell_type": "code",
   "execution_count": 42,
   "metadata": {},
   "outputs": [
    {
     "data": {
      "text/plain": [
       "33.33333333333333"
      ]
     },
     "execution_count": 42,
     "metadata": {},
     "output_type": "execute_result"
    }
   ],
   "source": [
    "(cross_count / total_count) * 100"
   ]
  }
 ],
 "metadata": {
  "kernelspec": {
   "display_name": "Python 3",
   "language": "python",
   "name": "python3"
  },
  "language_info": {
   "codemirror_mode": {
    "name": "ipython",
    "version": 3
   },
   "file_extension": ".py",
   "mimetype": "text/x-python",
   "name": "python",
   "nbconvert_exporter": "python",
   "pygments_lexer": "ipython3",
   "version": "3.6.1"
  }
 },
 "nbformat": 4,
 "nbformat_minor": 2
}
