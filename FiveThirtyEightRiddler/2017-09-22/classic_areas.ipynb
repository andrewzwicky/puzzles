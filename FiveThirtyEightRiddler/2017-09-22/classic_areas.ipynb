{
 "cells": [
  {
   "cell_type": "markdown",
   "metadata": {},
   "source": [
    "![](https://espnfivethirtyeight.files.wordpress.com/2017/09/roeder-riddler-0922-2.png?w=575&h=342&quality=90&strip=info)"
   ]
  },
  {
   "cell_type": "code",
   "execution_count": 62,
   "metadata": {
    "collapsed": true
   },
   "outputs": [],
   "source": [
    "A0 = 32\n",
    "A1 = 34\n",
    "A3 = 45\n",
    "TH = 11\n",
    "TW = 14"
   ]
  },
  {
   "cell_type": "code",
   "execution_count": 63,
   "metadata": {
    "collapsed": true
   },
   "outputs": [],
   "source": [
    "import sympy\n",
    "from sympy import Eq"
   ]
  },
  {
   "cell_type": "code",
   "execution_count": 64,
   "metadata": {
    "collapsed": true
   },
   "outputs": [],
   "source": [
    "h = sympy.symbols('h0:4')\n",
    "w = sympy.symbols('w0:4')\n",
    "A = sympy.symbols('A')"
   ]
  },
  {
   "cell_type": "code",
   "execution_count": 65,
   "metadata": {},
   "outputs": [],
   "source": [
    "rels = [Eq(h[0]+h[2], TH),\n",
    "        Eq(w[2]+w[3], TW),\n",
    "        Eq(h[0], h[1]),\n",
    "        Eq(h[2], h[3]),\n",
    "        Eq(w[0], w[2]),\n",
    "        Eq(h[0]*w[0], A0),\n",
    "        Eq(h[1]*w[1], A1),\n",
    "        Eq(h[2]*w[2], A),\n",
    "        Eq(h[3]*w[3], A3),]\n",
    "solns = sympy.solve(rels)"
   ]
  },
  {
   "cell_type": "code",
   "execution_count": 66,
   "metadata": {
    "collapsed": true
   },
   "outputs": [],
   "source": [
    "import matplotlib.pyplot as plt\n",
    "from matplotlib.patches import Rectangle"
   ]
  },
  {
   "cell_type": "code",
   "execution_count": 87,
   "metadata": {},
   "outputs": [
    {
     "data": {
      "image/png": "[encoded data removed]",
      "text/plain": [
       "<matplotlib.figure.Figure at 0xa3b4320>"
      ]
     },
     "metadata": {},
     "output_type": "display_data"
    },
    {
     "data": {
      "image/png": "[encoded data removed]",
      "text/plain": [
       "<matplotlib.figure.Figure at 0xa484a90>"
      ]
     },
     "metadata": {},
     "output_type": "display_data"
    }
   ],
   "source": [
    "for soln in solns:\n",
    "    fig, ax = plt.subplots()\n",
    "    \n",
    "    coords = [(0, 0, soln[w[2]], soln[h[2]]),\n",
    "              (soln[w[2]], 0, soln[w[3]], soln[h[3]]),\n",
    "              (soln[w[2]], soln[h[2]], soln[w[1]], soln[h[1]]),\n",
    "              (0, soln[h[2]], soln[w[0]], soln[h[0]])]\n",
    "    \n",
    "    colors = 'rwww'\n",
    "    \n",
    "    for color, (x,y,w_,h_) in zip(colors, coords):\n",
    "        rect = Rectangle((x, y), w_, h_, ec='k', fc=color)\n",
    "        ax.text(x+w_/2, y+h_/2, h_*w_, ha='center', va='center', size=20)\n",
    "        ax.add_patch(rect)\n",
    "        \n",
    "    ax.set_ylim(0,12)\n",
    "    ax.set_xticks([0,14])\n",
    "    ax.set_xlim(0,15)\n",
    "    ax.set_yticks([0,11])\n",
    "    ax.set_facecolor('gray')\n",
    "    plt.show()"
   ]
  },
  {
   "cell_type": "code",
   "execution_count": 85,
   "metadata": {},
   "outputs": [
    {
     "name": "stdout",
     "output_type": "stream",
     "text": [
      "32\n",
      "45\n"
     ]
    }
   ],
   "source": [
    "for soln in solns:\n",
    "    print(soln[A])"
   ]
  }
 ],
 "metadata": {
  "kernelspec": {
   "display_name": "Python 3",
   "language": "python",
   "name": "python3"
  },
  "language_info": {
   "codemirror_mode": {
    "name": "ipython",
    "version": 3
   },
   "file_extension": ".py",
   "mimetype": "text/x-python",
   "name": "python",
   "nbconvert_exporter": "python",
   "pygments_lexer": "ipython3",
   "version": "3.6.1"
  }
 },
 "nbformat": 4,
 "nbformat_minor": 2
}
