{
 "cells": [
  {
   "cell_type": "code",
   "execution_count": 43,
   "metadata": {
    "collapsed": true
   },
   "outputs": [],
   "source": [
    "from scipy.spatial.distance import euclidean\n",
    "import numpy as np\n",
    "from mpl_toolkits.mplot3d import Axes3D\n",
    "import matplotlib.pyplot as plt\n",
    "from itertools import product, combinations"
   ]
  },
  {
   "cell_type": "code",
   "execution_count": 78,
   "metadata": {},
   "outputs": [],
   "source": [
    "def coord_along_line(start_point, end_point, percent):\n",
    "    assert len(start_point) == len(end_point)\n",
    "    assert 0.0 <= percent <= 1.0\n",
    "    dist_between = euclidean(start_point, end_point)\n",
    "    dist_from_start = dist_between * percent\n",
    "    direction_vector = np.subtract(end_point, start_point)\n",
    "    unit_dir_vector = direction_vector / np.linalg.norm(direction_vector)\n",
    "    result_coord = np.add(start_point, unit_dir_vector * dist_from_start)\n",
    "    \n",
    "    return result_coord"
   ]
  },
  {
   "cell_type": "code",
   "execution_count": 79,
   "metadata": {
    "collapsed": true
   },
   "outputs": [],
   "source": [
    "def distance(line_1, percent_1, line_2, percent_2):\n",
    "    c1 = coord_along_line(*line_1, percent_1)\n",
    "    c2 = coord_along_line(*line_2, percent_2)\n",
    "    \n",
    "    return c1, c2, euclidean(c1, c2)"
   ]
  },
  {
   "cell_type": "code",
   "execution_count": 135,
   "metadata": {
    "collapsed": true
   },
   "outputs": [],
   "source": [
    "def plot_lines(line_1, line_2, c1, c2):\n",
    "    \n",
    "    fig = plt.figure()\n",
    "    ax = fig.gca(projection='3d')\n",
    "    ax.set_aspect(\"equal\")\n",
    "\n",
    "    # Hide grid lines\n",
    "    ax.grid(False)\n",
    "    plt.axis('off')\n",
    "\n",
    "    # Hide axes ticks\n",
    "    ax.set_xticks([])\n",
    "    ax.set_yticks([])\n",
    "    ax.set_zticks([])\n",
    "\n",
    "    # draw cube\n",
    "    r = [0, 1]\n",
    "    for s, e in combinations(np.array(list(product(r, r, r))), 2):\n",
    "        if np.sum(np.abs(s-e)) == r[1]-r[0]:\n",
    "            ax.plot3D(*zip(s, e), color=\"gray\")\n",
    "    \n",
    "    ax.plot3D(*zip(*line_1), color='r')\n",
    "    ax.plot3D(*zip(*line_2), color='r')\n",
    "\n",
    "    #ax.scatter(*c1, color='k')\n",
    "    #ax.scatter(*c2, color='k')\n",
    "    \n",
    "    ax.plot3D(*zip(c1, c2), color='b')\n",
    "    \n",
    "    plt.show()"
   ]
  },
  {
   "cell_type": "code",
   "execution_count": 117,
   "metadata": {
    "collapsed": true
   },
   "outputs": [],
   "source": [
    "LINE_1 = [(0,0,0),(0,1,1)]\n",
    "LINE_2 = [(0,1,0),(1,0,1)]"
   ]
  },
  {
   "cell_type": "code",
   "execution_count": 118,
   "metadata": {
    "collapsed": true
   },
   "outputs": [],
   "source": [
    "@np.vectorize\n",
    "def percent_change(percent_1, percent_2):\n",
    "    _, _, dist = distance(LINE_1, percent_1, LINE_2, percent_2)\n",
    "    return dist"
   ]
  },
  {
   "cell_type": "code",
   "execution_count": 119,
   "metadata": {},
   "outputs": [
    {
     "data": {
      "image/png": "[encoded data removed]",
      "text/plain": [
       "<matplotlib.figure.Figure at 0x8bbecf8>"
      ]
     },
     "metadata": {},
     "output_type": "display_data"
    }
   ],
   "source": [
    "x = np.arange(0, 1, 0.05)\n",
    "y = np.arange(0, 1, 0.05)\n",
    "xx, yy = np.meshgrid(x, y, sparse=True)\n",
    "z = percent_change(xx,yy)\n",
    "\n",
    "x_i, y_i = np.unravel_index(np.argmin(z), z.shape)\n",
    "p_2, p_1 = x[x_i], y[y_i]\n",
    "\n",
    "h = plt.contourf(x,y,z)\n",
    "plt.scatter(p_1,p_2,color='r')\n",
    "plt.show()"
   ]
  },
  {
   "cell_type": "code",
   "execution_count": 136,
   "metadata": {},
   "outputs": [
    {
     "name": "stdout",
     "output_type": "stream",
     "text": [
      "0.40926763859362253\n"
     ]
    },
    {
     "data": {
      "image/png": "[encoded data removed]",
      "text/plain": [
       "<matplotlib.figure.Figure at 0xa2266d8>"
      ]
     },
     "metadata": {},
     "output_type": "display_data"
    }
   ],
   "source": [
    "c1, c2, dist = distance(LINE_1, p_1, LINE_2, p_2)\n",
    "print(dist)\n",
    "plot_lines(LINE_1, LINE_2, c1, c2)"
   ]
  },
  {
   "cell_type": "code",
   "execution_count": null,
   "metadata": {
    "collapsed": true
   },
   "outputs": [],
   "source": []
  }
 ],
 "metadata": {
  "kernelspec": {
   "display_name": "Python 3",
   "language": "python",
   "name": "python3"
  },
  "language_info": {
   "codemirror_mode": {
    "name": "ipython",
    "version": 3
   },
   "file_extension": ".py",
   "mimetype": "text/x-python",
   "name": "python",
   "nbconvert_exporter": "python",
   "pygments_lexer": "ipython3",
   "version": "3.6.1"
  }
 },
 "nbformat": 4,
 "nbformat_minor": 2
}
