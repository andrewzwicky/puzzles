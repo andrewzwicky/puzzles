{
 "cells": [
  {
   "cell_type": "code",
   "execution_count": 242,
   "metadata": {},
   "outputs": [],
   "source": [
    "from enum import Enum\n",
    "from typing import List, Tuple\n",
    "from collections import Counter, OrderedDict\n",
    "from itertools import combinations, product\n",
    "import operator"
   ]
  },
  {
   "cell_type": "code",
   "execution_count": 183,
   "metadata": {},
   "outputs": [],
   "source": [
    "DICE_PER_ROLL = 5\n",
    "DICE_VALUES = [1,2,3,4,5,6]\n",
    "INDENT = 22"
   ]
  },
  {
   "cell_type": "code",
   "execution_count": 184,
   "metadata": {},
   "outputs": [],
   "source": [
    "def sum_of_single_value(input_list: Tuple[int], value: int):\n",
    "    return input_list.count(value) * value"
   ]
  },
  {
   "cell_type": "code",
   "execution_count": 185,
   "metadata": {},
   "outputs": [],
   "source": [
    "def n_of_a_kind(input_list: Tuple[int], n: int):\n",
    "    for value, count in Counter(input_list).items():\n",
    "        if count >= n:\n",
    "            if n == DICE_PER_ROLL:\n",
    "                return 50\n",
    "            else:\n",
    "                return sum(input_list)\n",
    "    return 0"
   ]
  },
  {
   "cell_type": "code",
   "execution_count": 186,
   "metadata": {},
   "outputs": [],
   "source": [
    "def full_house(input_list: Tuple[int]):\n",
    "    if set(Counter(input_list).values()) == {3, 2}:\n",
    "        return 25\n",
    "    else:\n",
    "        return 0"
   ]
  },
  {
   "cell_type": "code",
   "execution_count": 187,
   "metadata": {},
   "outputs": [],
   "source": [
    "def find_longest_sequence(input_list: Tuple[int]):\n",
    "    max_seq = 1\n",
    "    nums = set(input_list)\n",
    "    for num in nums:\n",
    "        this_seq = 1\n",
    "        seq = True\n",
    "        while seq:\n",
    "            if num + this_seq in nums:\n",
    "                this_seq += 1\n",
    "            else:\n",
    "                seq = False\n",
    "        \n",
    "        max_seq = max(this_seq, max_seq)\n",
    "    \n",
    "    return max_seq"
   ]
  },
  {
   "cell_type": "code",
   "execution_count": 188,
   "metadata": {},
   "outputs": [],
   "source": [
    "def straight(input_list: Tuple[int], size: int):\n",
    "    seq = find_longest_sequence(input_list)\n",
    "    \n",
    "    if seq >= size:\n",
    "        if size == DICE_PER_ROLL:\n",
    "            return 40\n",
    "        elif size == DICE_PER_ROLL - 1:\n",
    "            return 30\n",
    "        \n",
    "    return 0"
   ]
  },
  {
   "cell_type": "code",
   "execution_count": 244,
   "metadata": {},
   "outputs": [],
   "source": [
    "hand_scoring_functions = [\n",
    "    lambda x: sum_of_single_value(x, 1),\n",
    "    lambda x: sum_of_single_value(x, 2),\n",
    "    lambda x: sum_of_single_value(x, 3),\n",
    "    lambda x: sum_of_single_value(x, 4),\n",
    "    lambda x: sum_of_single_value(x, 5),\n",
    "    lambda x: sum_of_single_value(x, 6),\n",
    "    lambda x: n_of_a_kind(x, 3),\n",
    "    lambda x: n_of_a_kind(x, 4),\n",
    "    lambda x: full_house(x),\n",
    "    lambda x: straight(x, 4),\n",
    "    lambda x: straight(x, 5),\n",
    "    lambda x: n_of_a_kind(x, 5),\n",
    "    lambda x: sum(x)\n",
    "]\n",
    "\n",
    "hand_scoring_names = [\n",
    "    \"ONES\",\n",
    "    \"TWOS\",\n",
    "    \"THREES\",\n",
    "    \"FOURS\",\n",
    "    \"FIVES\",\n",
    "    \"SIXES\",\n",
    "    \"THREE OF A KIND\",\n",
    "    \"FOUR OF A KIND\",\n",
    "    \"FULL HOUSE\",\n",
    "    \"SMALL STRAIGHT\",\n",
    "    \"LARGE STRAIGHT\",\n",
    "    \"YAHTZEE\",\n",
    "    \"CHANCE\"\n",
    "]"
   ]
  },
  {
   "cell_type": "code",
   "execution_count": 190,
   "metadata": {},
   "outputs": [],
   "source": [
    "def calculate_hand_scores(roll: Tuple[int], debug: bool = False):\n",
    "    hand_scores = [func(roll) for func in hand_scoring_functions]\n",
    "    if debug:\n",
    "        print(f'{\"all hand scores:\":>{INDENT}} {hand_scores}')\n",
    "    return hand_scores"
   ]
  },
  {
   "cell_type": "code",
   "execution_count": 247,
   "metadata": {},
   "outputs": [],
   "source": [
    "def calc_max_score(roll: Tuple[int], debug: bool = False):\n",
    "    max_index, max_value = max(enumerate(calculate_hand_scores(roll, debug=debug)[::-1]),\n",
    "                               key=operator.itemgetter(1))\n",
    "    \n",
    "    if debug:\n",
    "        print(f'{\"max roll score:\":>{INDENT}} {max_value}')\n",
    "        print(f'{\"catgeory:\":>{INDENT}} {hand_scoring_names[::-1][max_index]}')\n",
    "    return max_value"
   ]
  },
  {
   "cell_type": "code",
   "execution_count": 235,
   "metadata": {},
   "outputs": [],
   "source": [
    "def all_possible_final_hands(saved_dice: Tuple[int], debug: bool = False):\n",
    "    number_of_rerolls = DICE_PER_ROLL - len(saved_dice)\n",
    "    possible_reroll_outcomes = []\n",
    "    \n",
    "    for reroll in product(DICE_VALUES, repeat=number_of_rerolls):\n",
    "        hand = tuple(saved_dice + tuple(sorted(reroll)))\n",
    "        possible_reroll_outcomes.append(hand)\n",
    "    \n",
    "    return Counter(possible_reroll_outcomes)"
   ]
  },
  {
   "cell_type": "code",
   "execution_count": 258,
   "metadata": {},
   "outputs": [],
   "source": [
    "def calculate_expected_score(saved_dice: Tuple[int], debug: bool = False):\n",
    "    final_rolls = all_possible_final_hands(saved_dice, debug=debug)\n",
    "    number_of_final_hands = sum(final_rolls.values())\n",
    "    running_expected_score = 0\n",
    "    running_probability = 0\n",
    "    \n",
    "    if debug:\n",
    "        print(f'{\"total rerolled hands:\":>{INDENT}} {number_of_final_hands}')\n",
    "        print()\n",
    "    \n",
    "    for roll, count in final_rolls.items():\n",
    "        if debug:\n",
    "            print(f'{\"possible roll:\":>{INDENT}} {roll}')\n",
    "            print(f'{\"count:\":>{INDENT}} {count}')\n",
    "        this_max_score = calc_max_score(roll, debug=debug)\n",
    "        chance_of_roll = (count/number_of_final_hands)\n",
    "        expected_score = this_max_score * chance_of_roll\n",
    "                                        \n",
    "        if debug:\n",
    "            print(f'{\"chance of roll :\":>{INDENT}} {chance_of_roll*100:.2f}')\n",
    "            print(f'{\"expected contrib :\":>{INDENT}} {chance_of_roll*100:.2f}')\n",
    "            print()\n",
    "        running_expected_score += expected_score\n",
    "        running_probability += chance_of_roll\n",
    "    \n",
    "    if debug:\n",
    "        print(f'{\"total expected :\":>{INDENT}} {running_expected_score:.2f}')\n",
    "        print(f'{\"sum of chances :\":>{INDENT}} {running_probability*100:.2f}')\n",
    "        \n",
    "    return running_expected_score"
   ]
  },
  {
   "cell_type": "code",
   "execution_count": 252,
   "metadata": {},
   "outputs": [],
   "source": [
    "def calculate_all_save_possibilities(input_list: Tuple[int], debug: bool = False):\n",
    "    saved_dice = {tuple(), }\n",
    "    for i in range(1, len(input_list)+1):\n",
    "        for combo in combinations(input_list, i):\n",
    "            saved_dice.add(tuple(sorted(combo)))\n",
    "            \n",
    "    return saved_dice"
   ]
  },
  {
   "cell_type": "code",
   "execution_count": 298,
   "metadata": {},
   "outputs": [],
   "source": [
    "def simulate(second_to_last_roll: Tuple[int], debug: bool = False):\n",
    "    result = dict()\n",
    "    \n",
    "    for saved_dice in calculate_all_save_possibilities(second_to_last_roll, debug=debug):\n",
    "        if debug: print(f'{\"saved dice:\":>{INDENT}} {saved_dice}')\n",
    "        result[saved_dice] = calculate_expected_score(saved_dice, debug=debug)\n",
    "        if debug: print()\n",
    "    \n",
    "    \n",
    "        \n",
    "    #print(f'{\"saved_dice\":<18}score')\n",
    "    #for (saved_roll, expected) in sorted(result.items(), key=lambda x: x[1]):\n",
    "    #    print(f'{str(saved_roll):<18}{expected:.2f}')\n",
    "        \n",
    "    return {k:v for k,v in sorted(result.items(), key=lambda x: -x[1])}"
   ]
  },
  {
   "cell_type": "code",
   "execution_count": 299,
   "metadata": {},
   "outputs": [],
   "source": [
    "results = simulate((4,4,4,5,5), debug=False)"
   ]
  },
  {
   "cell_type": "code",
   "execution_count": 300,
   "metadata": {},
   "outputs": [],
   "source": [
    "from matplotlib import pyplot as plt"
   ]
  },
  {
   "cell_type": "code",
   "execution_count": 346,
   "metadata": {},
   "outputs": [],
   "source": [
    "def plot_reroll_expecteds(results):\n",
    "    fig, ax = plt.subplots(figsize=(10,6))\n",
    "    bar_locs = list(range(len(results.values())))\n",
    "    ax.barh(bar_locs,\n",
    "            results.values(),\n",
    "            tick_label=[' '.join(map(str,k)) for k in results.keys()],\n",
    "            height=1,\n",
    "           edgecolor='k')\n",
    "    ax.set_title('expected score for combinations of saved dice')\n",
    "    ax.set_xlabel('expected score')\n",
    "    ax.set_ylabel('dice saved after second roll')\n",
    "    ax.set_ylim(min(bar_locs)-0.5, max(bar_locs)+0.5)\n",
    "    #ax.set_xlim(18, 26)\n",
    "    plt.show()"
   ]
  },
  {
   "cell_type": "code",
   "execution_count": 347,
   "metadata": {},
   "outputs": [
    {
     "data": {
      "image/png": "[encoded data removed]",
      "text/plain": [
       "<matplotlib.figure.Figure at 0x7f31fa0470>"
      ]
     },
     "metadata": {},
     "output_type": "display_data"
    }
   ],
   "source": [
    "plot_reroll_expecteds(results)"
   ]
  },
  {
   "cell_type": "code",
   "execution_count": null,
   "metadata": {},
   "outputs": [],
   "source": []
  }
 ],
 "metadata": {
  "kernelspec": {
   "display_name": "Python 3",
   "language": "python",
   "name": "python3"
  },
  "language_info": {
   "codemirror_mode": {
    "name": "ipython",
    "version": 3
   },
   "file_extension": ".py",
   "mimetype": "text/x-python",
   "name": "python",
   "nbconvert_exporter": "python",
   "pygments_lexer": "ipython3",
   "version": "3.6.2"
  }
 },
 "nbformat": 4,
 "nbformat_minor": 2
}
