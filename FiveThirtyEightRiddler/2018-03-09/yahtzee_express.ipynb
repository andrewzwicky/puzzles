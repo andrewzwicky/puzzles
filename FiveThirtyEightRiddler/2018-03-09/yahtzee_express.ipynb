{
 "cells": [
  {
   "cell_type": "code",
   "execution_count": 39,
   "metadata": {},
   "outputs": [],
   "source": [
    "from enum import Enum\n",
    "from typing import List, Tuple\n",
    "from collections import Counter, OrderedDict\n",
    "from itertools import combinations, combinations_with_replacement"
   ]
  },
  {
   "cell_type": "code",
   "execution_count": 2,
   "metadata": {},
   "outputs": [],
   "source": [
    "DICE_PER_ROLL = 5\n",
    "DICE_VALUES = [1,2,3,4,5,6]"
   ]
  },
  {
   "cell_type": "code",
   "execution_count": 3,
   "metadata": {},
   "outputs": [],
   "source": [
    "def sum_of_single_value(input_list: Tuple[int], value: int):\n",
    "    return input_list.count(value) * value"
   ]
  },
  {
   "cell_type": "code",
   "execution_count": 4,
   "metadata": {},
   "outputs": [],
   "source": [
    "def n_of_a_kind(input_list: Tuple[int], n: int):\n",
    "    for value, count in Counter(input_list).items():\n",
    "        if count >= n:\n",
    "            if n == DICE_PER_ROLL:\n",
    "                return 50\n",
    "            else:\n",
    "                return sum(input_list)\n",
    "    return 0"
   ]
  },
  {
   "cell_type": "code",
   "execution_count": 5,
   "metadata": {},
   "outputs": [],
   "source": [
    "def full_house(input_list: Tuple[int]):\n",
    "    if set(Counter(input_list).values()) == {3, 2}:\n",
    "        return 25\n",
    "    else:\n",
    "        return 0"
   ]
  },
  {
   "cell_type": "code",
   "execution_count": 6,
   "metadata": {},
   "outputs": [],
   "source": [
    "def find_longest_sequence(input_list: Tuple[int]):\n",
    "    max_seq = 1\n",
    "    nums = set(input_list)\n",
    "    for num in nums:\n",
    "        this_seq = 1\n",
    "        seq = True\n",
    "        while seq:\n",
    "            if num + this_seq in nums:\n",
    "                this_seq += 1\n",
    "            else:\n",
    "                seq = False\n",
    "        \n",
    "        max_seq = max(this_seq, max_seq)\n",
    "    \n",
    "    return max_seq"
   ]
  },
  {
   "cell_type": "code",
   "execution_count": 7,
   "metadata": {},
   "outputs": [],
   "source": [
    "def straight(input_list: Tuple[int], size: int):\n",
    "    seq = find_longest_sequence(input_list)\n",
    "    \n",
    "    if seq >= size:\n",
    "        if size == DICE_PER_ROLL:\n",
    "            return 40\n",
    "        elif size == DICE_PER_ROLL - 1:\n",
    "            return 30\n",
    "        \n",
    "    return 0"
   ]
  },
  {
   "cell_type": "code",
   "execution_count": 97,
   "metadata": {},
   "outputs": [],
   "source": [
    "hand_scoring_functions = [\n",
    "    lambda x: sum_of_single_value(x, 1),\n",
    "    lambda x: sum_of_single_value(x, 2),\n",
    "    lambda x: sum_of_single_value(x, 3),\n",
    "    lambda x: sum_of_single_value(x, 4),\n",
    "    lambda x: sum_of_single_value(x, 5),\n",
    "    lambda x: sum_of_single_value(x, 6),\n",
    "    lambda x: n_of_a_kind(x, 3),\n",
    "    lambda x: n_of_a_kind(x, 4),\n",
    "    lambda x: full_house(x),\n",
    "    lambda x: straight(x, 4),\n",
    "    lambda x: straight(x, 5),\n",
    "    lambda x: n_of_a_kind(x, 5),\n",
    "    lambda x: sum(x)\n",
    "]"
   ]
  },
  {
   "cell_type": "code",
   "execution_count": 98,
   "metadata": {},
   "outputs": [],
   "source": [
    "def calculate_all_scores(input_list: Tuple[int]):\n",
    "    return [func(input_list) for func in hand_scoring_functions]"
   ]
  },
  {
   "cell_type": "code",
   "execution_count": 99,
   "metadata": {},
   "outputs": [],
   "source": [
    "def calculate_maximum_score(input_list: Tuple[int]):\n",
    "    return max(calculate_all_scores(input_list))"
   ]
  },
  {
   "cell_type": "code",
   "execution_count": 100,
   "metadata": {},
   "outputs": [],
   "source": [
    "def calculate_possible_final_rolls(saved_dice: Tuple[int]):\n",
    "    num_to_roll = DICE_PER_ROLL - len(saved_dice)\n",
    "    return [tuple(sorted(saved_dice + combo)) for combo in \n",
    "            combinations_with_replacement(DICE_VALUES, num_to_roll)]"
   ]
  },
  {
   "cell_type": "code",
   "execution_count": 101,
   "metadata": {},
   "outputs": [],
   "source": [
    "def calculate_expected_score(saved_dice: Tuple[int]):\n",
    "    final_rolls = calculate_possible_final_rolls(saved_dice)\n",
    "    running_expected_score = 0\n",
    "    for roll in final_rolls:\n",
    "        running_expected_score += calculate_maximum_score(roll) / len(final_rolls)\n",
    "        \n",
    "    return running_expected_score"
   ]
  },
  {
   "cell_type": "code",
   "execution_count": 102,
   "metadata": {},
   "outputs": [],
   "source": [
    "def calculate_all_save_possibilities(input_list: Tuple[int]):\n",
    "    saved_dice = {tuple(), }\n",
    "    for i in range(1, len(input_list)+1):\n",
    "        for combo in combinations(input_list, i):\n",
    "            saved_dice.add(tuple(sorted(combo)))\n",
    "            \n",
    "    return saved_dice"
   ]
  },
  {
   "cell_type": "code",
   "execution_count": 103,
   "metadata": {},
   "outputs": [],
   "source": [
    "def simulate(second_to_last_roll: Tuple[int]):\n",
    "    result = {possible_saved_dice: calculate_expected_score(possible_saved_dice) \n",
    "                        for possible_saved_dice in calculate_all_save_possibilities(second_to_last_roll)}\n",
    "    \n",
    "    print(f'{\"saved_dice\":<18}score')\n",
    "    for (saved_roll, expected) in sorted(result.items(), key=lambda x: x[1]):\n",
    "        print(f'{str(saved_roll):<18}{expected:.2f}')"
   ]
  },
  {
   "cell_type": "code",
   "execution_count": 114,
   "metadata": {},
   "outputs": [
    {
     "name": "stdout",
     "output_type": "stream",
     "text": [
      "saved_dice        score\n",
      "(1,)              17.30\n",
      "(1, 5)            17.50\n",
      "(1, 4, 4, 5)      17.50\n",
      "(1, 4, 4)         17.95\n",
      "(1, 4)            18.09\n",
      "(1, 4, 5, 5)      18.50\n",
      "(1, 4, 5)         18.71\n",
      "(1, 5, 5)         18.95\n",
      "(1, 4, 4, 5, 5)   19.00\n",
      "()                20.06\n",
      "(4,)              20.51\n",
      "(5,)              20.67\n",
      "(4, 4)            20.86\n",
      "(4, 4, 5)         21.19\n",
      "(4, 5)            22.02\n",
      "(4, 5, 5)         22.10\n",
      "(5, 5)            22.16\n",
      "(4, 4, 5, 5)      22.33\n"
     ]
    }
   ],
   "source": [
    "simulate((1,4,5,4,5))"
   ]
  },
  {
   "cell_type": "code",
   "execution_count": 110,
   "metadata": {},
   "outputs": [
    {
     "data": {
      "text/plain": [
       "[3, 2, 3, 0, 0, 0, 8, 0, 0, 0, 0, 0, 8]"
      ]
     },
     "execution_count": 110,
     "metadata": {},
     "output_type": "execute_result"
    }
   ],
   "source": [
    "calculate_all_scores((1,1,1,2,3))"
   ]
  },
  {
   "cell_type": "code",
   "execution_count": null,
   "metadata": {},
   "outputs": [],
   "source": []
  }
 ],
 "metadata": {
  "kernelspec": {
   "display_name": "Python 3",
   "language": "python",
   "name": "python3"
  },
  "language_info": {
   "codemirror_mode": {
    "name": "ipython",
    "version": 3
   },
   "file_extension": ".py",
   "mimetype": "text/x-python",
   "name": "python",
   "nbconvert_exporter": "python",
   "pygments_lexer": "ipython3",
   "version": "3.6.1"
  }
 },
 "nbformat": 4,
 "nbformat_minor": 2
}
