{
 "cells": [
  {
   "cell_type": "markdown",
   "metadata": {},
   "source": [
    "From Matt Gold, a chance, perhaps, to redeem your busted bracket:\n",
    "\n",
    "On Monday, Villanova won the NCAA men’s basketball national title. But I recently overheard some boisterous Butler fans calling themselves the “transitive national champions,” because Butler beat Villanova earlier in the season. Of course, other teams also beat Butler during the season and their fans could therefore make exactly the same claim.2\n",
    "\n",
    "How many transitive national champions were there this season? Or, maybe more descriptively, how many teams weren’t transitive national champions?\n",
    "\n",
    "(All of this season’s college basketball results are here. To get you started, Villanova lost to Butler, St. John’s, Providence and Creighton this season, all of whom can claim a transitive title. But remember, teams beat those teams, too.)\n",
    "\n",
    "[https://fivethirtyeight.com/features/when-will-the-arithmetic-anarchists-attack/](https://fivethirtyeight.com/features/when-will-the-arithmetic-anarchists-attack/)"
   ]
  },
  {
   "cell_type": "code",
   "execution_count": 1,
   "metadata": {},
   "outputs": [],
   "source": [
    "from pathlib import Path\n",
    "from collections import namedtuple, defaultdict\n",
    "import itertools"
   ]
  },
  {
   "cell_type": "code",
   "execution_count": 2,
   "metadata": {},
   "outputs": [],
   "source": [
    "games = Path('scores.txt').read_text().split('\\n')"
   ]
  },
  {
   "cell_type": "code",
   "execution_count": 3,
   "metadata": {},
   "outputs": [],
   "source": [
    "def parse_game_text(line):\n",
    "    team_1 = line[12:36].strip()\n",
    "    team_2 = line[41:65].strip()\n",
    "    score_1 = int(line[36:39])\n",
    "    score_2 = int(line[65:68])\n",
    "    \n",
    "    return (team_1, team_2)"
   ]
  },
  {
   "cell_type": "code",
   "execution_count": 4,
   "metadata": {},
   "outputs": [],
   "source": [
    "loser_dict = defaultdict(set)\n",
    "all_teams_set = set()\n",
    "for winner, loser in [parse_game_text(game) for game in games]:\n",
    "    loser_dict[loser].add(winner)\n",
    "    all_teams_set.add(winner)\n",
    "    all_teams_set.add(loser)"
   ]
  },
  {
   "cell_type": "code",
   "execution_count": 5,
   "metadata": {},
   "outputs": [
    {
     "data": {
      "text/plain": [
       "1362"
      ]
     },
     "execution_count": 5,
     "metadata": {},
     "output_type": "execute_result"
    }
   ],
   "source": [
    "len(all_teams_set)"
   ]
  },
  {
   "cell_type": "code",
   "execution_count": 6,
   "metadata": {},
   "outputs": [
    {
     "name": "stdout",
     "output_type": "stream",
     "text": [
      "5\n",
      "23\n",
      "90\n",
      "196\n",
      "323\n",
      "384\n",
      "476\n",
      "647\n",
      "868\n",
      "1041\n",
      "1136\n",
      "1180\n",
      "1185\n",
      "1185\n"
     ]
    }
   ],
   "source": [
    "new_transitive_winners = {'Villanova'}\n",
    "transitive_winners = new_transitive_winners\n",
    "\n",
    "while new_transitive_winners:\n",
    "    all_transitive_winners = set.union(*[loser_dict[winner] for winner in new_transitive_winners])\n",
    "    new_transitive_winners = all_transitive_winners - transitive_winners\n",
    "    transitive_winners |= new_transitive_winners\n",
    "    print(len(transitive_winners))"
   ]
  },
  {
   "cell_type": "code",
   "execution_count": 7,
   "metadata": {},
   "outputs": [
    {
     "data": {
      "text/plain": [
       "177"
      ]
     },
     "execution_count": 7,
     "metadata": {},
     "output_type": "execute_result"
    }
   ],
   "source": [
    "len(all_teams_set) - len(transitive_winners)"
   ]
  }
 ],
 "metadata": {
  "kernelspec": {
   "display_name": "Python 3",
   "language": "python",
   "name": "python3"
  },
  "language_info": {
   "codemirror_mode": {
    "name": "ipython",
    "version": 3
   },
   "file_extension": ".py",
   "mimetype": "text/x-python",
   "name": "python",
   "nbconvert_exporter": "python",
   "pygments_lexer": "ipython3",
   "version": "3.6.1"
  }
 },
 "nbformat": 4,
 "nbformat_minor": 2
}
