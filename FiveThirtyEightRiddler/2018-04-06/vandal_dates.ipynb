{
 "cells": [
  {
   "cell_type": "markdown",
   "metadata": {},
   "source": [
    "From Eric Veneto, mathematical madmen are on the loose:\n",
    "\n",
    "The year is 2000, and an arithmetical anarchist group has an idea. For the next 100 years, it will vandalize a famous landmark whenever the year (in two-digit form, for example this year is “18”) is the product of the month and date (i.e. month × date = year, in the MM/DD/YY format).\n",
    "\n",
    "[https://fivethirtyeight.com/features/when-will-the-arithmetic-anarchists-attack/](https://fivethirtyeight.com/features/when-will-the-arithmetic-anarchists-attack/)"
   ]
  },
  {
   "cell_type": "code",
   "execution_count": 1,
   "metadata": {},
   "outputs": [],
   "source": [
    "import datetime\n",
    "from collections import Counter"
   ]
  },
  {
   "cell_type": "code",
   "execution_count": 2,
   "metadata": {},
   "outputs": [],
   "source": [
    "start = datetime.date(2001, 1, 1)\n",
    "end = datetime.date(2100, 1, 1) - datetime.timedelta(days=1)"
   ]
  },
  {
   "cell_type": "code",
   "execution_count": 3,
   "metadata": {},
   "outputs": [],
   "source": [
    "d = start\n",
    "anarchy_dates = []\n",
    "delta = datetime.timedelta(days=1)\n",
    "while d <= end:\n",
    "    if d.day * d.month == d.year % 100:\n",
    "        anarchy_dates.append(d)\n",
    "    d += delta\n",
    "    \n",
    "anarchy_dates.sort()"
   ]
  },
  {
   "cell_type": "markdown",
   "metadata": {},
   "source": [
    "### How many attacks will happen between the beginning of 2001 and the end of 2099"
   ]
  },
  {
   "cell_type": "code",
   "execution_count": 4,
   "metadata": {},
   "outputs": [
    {
     "data": {
      "text/plain": [
       "212"
      ]
     },
     "execution_count": 4,
     "metadata": {},
     "output_type": "execute_result"
    }
   ],
   "source": [
    "len(anarchy_dates)"
   ]
  },
  {
   "cell_type": "markdown",
   "metadata": {},
   "source": [
    "### What year will see the most vandalism?"
   ]
  },
  {
   "cell_type": "code",
   "execution_count": 5,
   "metadata": {},
   "outputs": [],
   "source": [
    "date_counts = Counter(d.year for d in anarchy_dates)"
   ]
  },
  {
   "cell_type": "code",
   "execution_count": 6,
   "metadata": {},
   "outputs": [],
   "source": [
    "_, max_attacks = date_counts.most_common()[0]\n",
    "_, min_attacks = date_counts.most_common()[-1]"
   ]
  },
  {
   "cell_type": "code",
   "execution_count": 7,
   "metadata": {},
   "outputs": [
    {
     "name": "stdout",
     "output_type": "stream",
     "text": [
      "7 attacks in year 2024\n"
     ]
    }
   ],
   "source": [
    "for year, attacks in date_counts.items():\n",
    "    if attacks == max_attacks:\n",
    "        print(f'{attacks} attacks in year {year}')"
   ]
  },
  {
   "cell_type": "markdown",
   "metadata": {},
   "source": [
    "### The least?"
   ]
  },
  {
   "cell_type": "code",
   "execution_count": 8,
   "metadata": {},
   "outputs": [
    {
     "name": "stdout",
     "output_type": "stream",
     "text": [
      "1 attacks in year 2001\n",
      "1 attacks in year 2013\n",
      "1 attacks in year 2017\n",
      "1 attacks in year 2019\n",
      "1 attacks in year 2023\n",
      "1 attacks in year 2029\n",
      "1 attacks in year 2031\n",
      "1 attacks in year 2034\n",
      "1 attacks in year 2038\n",
      "1 attacks in year 2039\n",
      "1 attacks in year 2046\n",
      "1 attacks in year 2049\n",
      "1 attacks in year 2051\n",
      "1 attacks in year 2057\n",
      "1 attacks in year 2065\n",
      "1 attacks in year 2068\n",
      "1 attacks in year 2069\n",
      "1 attacks in year 2076\n",
      "1 attacks in year 2085\n",
      "1 attacks in year 2087\n",
      "1 attacks in year 2091\n",
      "1 attacks in year 2092\n",
      "1 attacks in year 2093\n",
      "1 attacks in year 2095\n",
      "1 attacks in year 2098\n"
     ]
    }
   ],
   "source": [
    "for year, attacks in date_counts.items():\n",
    "    if attacks == min_attacks:\n",
    "        print(f'{attacks} attacks in year {year}')"
   ]
  },
  {
   "cell_type": "markdown",
   "metadata": {},
   "source": [
    "### What will be the longest gap between attacks?"
   ]
  },
  {
   "cell_type": "code",
   "execution_count": 9,
   "metadata": {},
   "outputs": [],
   "source": [
    "gaps = [this-previous for this,previous in zip(anarchy_dates[1:], anarchy_dates)]"
   ]
  },
  {
   "cell_type": "code",
   "execution_count": 10,
   "metadata": {},
   "outputs": [
    {
     "name": "stdout",
     "output_type": "stream",
     "text": [
      "1097 days between 2056-08-07 and 2057-03-19\n"
     ]
    }
   ],
   "source": [
    "max_gap = max(gaps)\n",
    "\n",
    "for i, gap in enumerate(gaps):\n",
    "    if gap == max_gap:\n",
    "        print(f'{gap.days} days between {anarchy_dates[i-1]} and {anarchy_dates[i]}')"
   ]
  }
 ],
 "metadata": {
  "kernelspec": {
   "display_name": "Python 3",
   "language": "python",
   "name": "python3"
  },
  "language_info": {
   "codemirror_mode": {
    "name": "ipython",
    "version": 3
   },
   "file_extension": ".py",
   "mimetype": "text/x-python",
   "name": "python",
   "nbconvert_exporter": "python",
   "pygments_lexer": "ipython3",
   "version": "3.6.1"
  }
 },
 "nbformat": 4,
 "nbformat_minor": 2
}
