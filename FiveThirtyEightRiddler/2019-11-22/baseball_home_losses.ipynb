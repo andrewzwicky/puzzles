{
 "cells": [
  {
   "cell_type": "code",
   "execution_count": 1,
   "metadata": {},
   "outputs": [],
   "source": [
    "import itertools\n",
    "import functools\n",
    "from numpy.random import choice\n",
    "from IPython.display import clear_output"
   ]
  },
  {
   "cell_type": "code",
   "execution_count": 2,
   "metadata": {},
   "outputs": [],
   "source": [
    "HOME_WIN_PCT = .54\n",
    "AT_LEAST_CONSEC_LOSSES = 5\n",
    "TOTAL_GAMES = 7\n",
    "HOME_LOSS = 1\n",
    "HOME_WIN = 0\n",
    "A_HOME = (0,1,5,6)"
   ]
  },
  {
   "cell_type": "code",
   "execution_count": 7,
   "metadata": {},
   "outputs": [],
   "source": [
    "@functools.lru_cache(256)\n",
    "def series_outcome(games):\n",
    "    a_wins = 0\n",
    "    b_wins = 0\n",
    "    series = []\n",
    "    for i, g in enumerate(games):\n",
    "        if i in A_HOME:\n",
    "            if g == HOME_WIN:\n",
    "                a_wins += 1\n",
    "            else:\n",
    "                b_wins += 1\n",
    "        else:\n",
    "            if g == HOME_WIN:\n",
    "                b_wins += 1\n",
    "            else:\n",
    "                a_wins += 1\n",
    "        \n",
    "        series.append(g)\n",
    "        \n",
    "        if a_wins == 4 or b_wins == 4:\n",
    "            break  \n",
    "\n",
    "    return tuple(series)"
   ]
  },
  {
   "cell_type": "code",
   "execution_count": 4,
   "metadata": {},
   "outputs": [],
   "source": [
    "NUM_TRIALS = 5000000"
   ]
  },
  {
   "cell_type": "code",
   "execution_count": 10,
   "metadata": {},
   "outputs": [],
   "source": [
    "@functools.lru_cache(256)\n",
    "def consec_losses(series):\n",
    "    groups = itertools.groupby(series)\n",
    "\n",
    "    try:\n",
    "        consec_losses = max([sum(group) for label, group in groups if label == HOME_LOSS])\n",
    "    except ValueError:\n",
    "        consec_losses = 0\n",
    "        \n",
    "    return consec_losses"
   ]
  },
  {
   "cell_type": "code",
   "execution_count": 16,
   "metadata": {},
   "outputs": [],
   "source": [
    "AT_LEAST_CONSEC_LOSSES = 6"
   ]
  },
  {
   "cell_type": "code",
   "execution_count": 17,
   "metadata": {},
   "outputs": [
    {
     "name": "stdout",
     "output_type": "stream",
     "text": [
      "4999000 0.009466493298659732\n"
     ]
    }
   ],
   "source": [
    "at_least_loss_count = 0\n",
    "\n",
    "for i,n in enumerate(range(NUM_TRIALS)):\n",
    "    games = series_outcome(tuple(choice((HOME_WIN, HOME_LOSS), 7, p=[HOME_WIN_PCT, 1-HOME_WIN_PCT])))\n",
    "    \n",
    "    c_losses = consec_losses(games)\n",
    "\n",
    "    if c_losses >= AT_LEAST_CONSEC_LOSSES:\n",
    "        at_least_loss_count += 1\n",
    "\n",
    "    if (i % 1000)== 0 and i != 0:\n",
    "        clear_output()\n",
    "        print(i, at_least_loss_count / i)"
   ]
  },
  {
   "cell_type": "code",
   "execution_count": 18,
   "metadata": {},
   "outputs": [],
   "source": [
    "AT_LEAST_CONSEC_LOSSES = 5"
   ]
  },
  {
   "cell_type": "code",
   "execution_count": 19,
   "metadata": {},
   "outputs": [
    {
     "name": "stdout",
     "output_type": "stream",
     "text": [
      "4999000 0.02063372674534907\n"
     ]
    }
   ],
   "source": [
    "at_least_loss_count = 0\n",
    "\n",
    "for i,n in enumerate(range(NUM_TRIALS)):\n",
    "    games = series_outcome(tuple(choice((HOME_WIN, HOME_LOSS), 7, p=[HOME_WIN_PCT, 1-HOME_WIN_PCT])))\n",
    "    \n",
    "    c_losses = consec_losses(games)\n",
    "\n",
    "    if c_losses >= AT_LEAST_CONSEC_LOSSES:\n",
    "        at_least_loss_count += 1\n",
    "\n",
    "    if (i % 1000)== 0 and i != 0:\n",
    "        clear_output()\n",
    "        print(i, at_least_loss_count / i)"
   ]
  },
  {
   "cell_type": "code",
   "execution_count": 20,
   "metadata": {},
   "outputs": [],
   "source": [
    "AT_LEAST_CONSEC_LOSSES = 4"
   ]
  },
  {
   "cell_type": "code",
   "execution_count": 21,
   "metadata": {},
   "outputs": [
    {
     "name": "stdout",
     "output_type": "stream",
     "text": [
      "4999000 0.08082416483296659\n"
     ]
    }
   ],
   "source": [
    "at_least_loss_count = 0\n",
    "\n",
    "for i,n in enumerate(range(NUM_TRIALS)):\n",
    "    games = series_outcome(tuple(choice((HOME_WIN, HOME_LOSS), 7, p=[HOME_WIN_PCT, 1-HOME_WIN_PCT])))\n",
    "    \n",
    "    c_losses = consec_losses(games)\n",
    "\n",
    "    if c_losses >= AT_LEAST_CONSEC_LOSSES:\n",
    "        at_least_loss_count += 1\n",
    "\n",
    "    if (i % 1000)== 0 and i != 0:\n",
    "        clear_output()\n",
    "        print(i, at_least_loss_count / i)"
   ]
  },
  {
   "cell_type": "code",
   "execution_count": 22,
   "metadata": {},
   "outputs": [],
   "source": [
    "AT_LEAST_CONSEC_LOSSES = 3"
   ]
  },
  {
   "cell_type": "code",
   "execution_count": 23,
   "metadata": {},
   "outputs": [
    {
     "name": "stdout",
     "output_type": "stream",
     "text": [
      "4999000 0.2317971594318864\n"
     ]
    }
   ],
   "source": [
    "at_least_loss_count = 0\n",
    "\n",
    "for i,n in enumerate(range(NUM_TRIALS)):\n",
    "    games = series_outcome(tuple(choice((HOME_WIN, HOME_LOSS), 7, p=[HOME_WIN_PCT, 1-HOME_WIN_PCT])))\n",
    "    \n",
    "    c_losses = consec_losses(games)\n",
    "\n",
    "    if c_losses >= AT_LEAST_CONSEC_LOSSES:\n",
    "        at_least_loss_count += 1\n",
    "\n",
    "    if (i % 1000)== 0 and i != 0:\n",
    "        clear_output()\n",
    "        print(i, at_least_loss_count / i)"
   ]
  },
  {
   "cell_type": "code",
   "execution_count": null,
   "metadata": {},
   "outputs": [],
   "source": []
  }
 ],
 "metadata": {
  "kernelspec": {
   "display_name": "Python 3",
   "language": "python",
   "name": "python3"
  },
  "language_info": {
   "codemirror_mode": {
    "name": "ipython",
    "version": 3
   },
   "file_extension": ".py",
   "mimetype": "text/x-python",
   "name": "python",
   "nbconvert_exporter": "python",
   "pygments_lexer": "ipython3",
   "version": "3.7.3"
  }
 },
 "nbformat": 4,
 "nbformat_minor": 2
}
