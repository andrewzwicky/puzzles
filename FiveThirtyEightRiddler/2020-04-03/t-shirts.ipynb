{
 "cells": [
  {
   "cell_type": "markdown",
   "metadata": {},
   "source": [
    "## Riddler Express\n",
    "\n",
    "During a break at a music festival, the crew is launching T-shirts into the audience using a T-shirt cannon. And you’re in luck — your seat happens to be in the line of flight for one of the T-shirts! In other words, if the cannon is strong enough and the shirt is launched at the right angle, it will land in your arms.\n",
    "\n",
    "The rows of seats in the audience are all on the same level (i.e., there is no incline), they are numbered 1, 2, 3, etc., and the T-shirts are being launched from directly in front of Row 1. Assume also that there is no air resistance (yes, I know, that’s a big assumption). You also happen to know quite a bit about the particular model of T-shirt cannon being used — with no air resistance, it can launch T-shirts to the very back of Row 100 in the audience, but no farther.\n",
    "\n",
    "The crew member aiming in your direction is still figuring out the angle for the launch, which you figure will be a random angle between zero degrees (straight at the unfortunate person seated in Row 1) and 90 degrees (straight up). Which row should you be sitting in to maximize your chances of nabbing the T-shirt?"
   ]
  },
  {
   "cell_type": "code",
   "execution_count": 4,
   "metadata": {},
   "outputs": [],
   "source": [
    "from matplotlib import pyplot as plt\n",
    "import random\n",
    "import math\n",
    "import numpy as np\n",
    "import itertools"
   ]
  },
  {
   "cell_type": "code",
   "execution_count": 158,
   "metadata": {},
   "outputs": [],
   "source": [
    "LAST_ROW = 100\n",
    "NUM_SAMPLES = 200_000\n",
    "TIME_SPACING = 0.001\n",
    "TINY_MIN = -0.5\n",
    "G = 9.81"
   ]
  },
  {
   "cell_type": "code",
   "execution_count": 69,
   "metadata": {},
   "outputs": [],
   "source": [
    "def find_exit_velocity(max_distance):\n",
    "    return math.sqrt(max_distance * G)"
   ]
  },
  {
   "cell_type": "code",
   "execution_count": 125,
   "metadata": {},
   "outputs": [],
   "source": [
    "def create_x_linspace(max_distance):\n",
    "    return np.linspace(0, max_distance, max_distance*10 + 1)"
   ]
  },
  {
   "cell_type": "code",
   "execution_count": 123,
   "metadata": {},
   "outputs": [],
   "source": [
    "def create_points(exit_velocity, angle, x_linspace):\n",
    "    vx0 = exit_velocity * math.cos(angle)\n",
    "    vy0 = exit_velocity * math.sin(angle)\n",
    "    \n",
    "    y_points = (vy0*x_linspace)/vx0 - (((G/2) * x_linspace**2) / (vx0**2))\n",
    "\n",
    "    return y_points"
   ]
  },
  {
   "cell_type": "code",
   "execution_count": 72,
   "metadata": {},
   "outputs": [],
   "source": [
    "def create_overlay_plot(points_series):\n",
    "    fig, ax = plt.subplots(figsize=(10,10))\n",
    "    for x,y in points_series:\n",
    "        ax.plot(x,y, color='k', alpha=0.01)\n",
    "    ax.set_xlim(0,LAST_ROW)\n",
    "    ax.set_ylim(bottom=0)\n",
    "    plt.show()"
   ]
  },
  {
   "cell_type": "code",
   "execution_count": 152,
   "metadata": {},
   "outputs": [],
   "source": [
    "def create_overlay_plot_stacked(points_series, x_lispace, max_distance):\n",
    "    fig, ax = plt.subplots(figsize=(14, 14))\n",
    "    \n",
    "    fig.patch.set_facecolor('white')\n",
    "    \n",
    "    plt.subplots_adjust(hspace=0)\n",
    "    \n",
    "    ax1 = plt.subplot2grid((4, 1), (0, 0), rowspan=3)\n",
    "    ax2 = plt.subplot2grid((4, 1), (3, 0))\n",
    "    \n",
    "    for p in points_series:\n",
    "        ax1.plot(x_linspace,p, color='k', alpha=.002)\n",
    "    \n",
    "    ax2.hist([x_linspace[np.max(np.where(p >= 0))] for p in points_series], color='k', bins=LAST_ROW, density=True)\n",
    "    ax2.invert_yaxis()\n",
    "    \n",
    "    # limits\n",
    "    ax1.set_xlim(0,LAST_ROW)\n",
    "    ax1.set_ylim(bottom=0, top=np.max(points_series))\n",
    "    ax2.set_xlim(ax1.get_xlim())\n",
    "    \n",
    "    \n",
    "    #ticks\n",
    "    ax1.xaxis.tick_top()\n",
    "    ax2.yaxis.tick_right()\n",
    "    ax1.set_yticks([])\n",
    "    \n",
    "    #labels\n",
    "    ax1.set_xlabel('row')\n",
    "    ax2.set_ylabel('probability')\n",
    "    ax2.set_xlabel(ax1.get_xlabel())\n",
    "    ax2.yaxis.set_label_position('right')\n",
    "    ax1.xaxis.set_label_position('top')\n",
    "    \n",
    "    plt.show()"
   ]
  },
  {
   "cell_type": "code",
   "execution_count": 126,
   "metadata": {},
   "outputs": [],
   "source": [
    "exit_velocity = find_exit_velocity(LAST_ROW)\n",
    "x_linspace = create_x_linspace(LAST_ROW)"
   ]
  },
  {
   "cell_type": "code",
   "execution_count": 159,
   "metadata": {},
   "outputs": [],
   "source": [
    "random_angles = [random.uniform(0, (math.pi)/2) for _ in range(NUM_SAMPLES * 4)]\n",
    "point_cloud = np.array([create_points(exit_velocity, a, x_linspace) for a in random_angles])"
   ]
  },
  {
   "cell_type": "code",
   "execution_count": null,
   "metadata": {},
   "outputs": [],
   "source": [
    "create_overlay_plot_stacked(point_cloud, x_linspace, LAST_ROW)"
   ]
  },
  {
   "cell_type": "code",
   "execution_count": null,
   "metadata": {},
   "outputs": [],
   "source": []
  }
 ],
 "metadata": {
  "kernelspec": {
   "display_name": "Python 3",
   "language": "python",
   "name": "python3"
  },
  "language_info": {
   "codemirror_mode": {
    "name": "ipython",
    "version": 3
   },
   "file_extension": ".py",
   "mimetype": "text/x-python",
   "name": "python",
   "nbconvert_exporter": "python",
   "pygments_lexer": "ipython3",
   "version": "3.7.5"
  }
 },
 "nbformat": 4,
 "nbformat_minor": 4
}
