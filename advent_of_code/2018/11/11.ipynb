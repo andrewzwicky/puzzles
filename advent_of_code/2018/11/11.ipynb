{
 "cells": [
  {
   "cell_type": "markdown",
   "metadata": {},
   "source": [
    "### Part 1\n",
    "You watch the Elves and their sleigh fade into the distance as they head toward the North Pole.\n",
    "\n",
    "Actually, you're the one fading. The falling sensation returns.\n",
    "\n",
    "The low fuel warning light is illuminated on your wrist-mounted device. Tapping it once causes it to project a hologram of the situation: a 300x300 grid of fuel cells and their current power levels, some negative. You're not sure what negative power means in the context of time travel, but it can't be good.\n",
    "\n",
    "Each fuel cell has a coordinate ranging from 1 to 300 in both the X (horizontal) and Y (vertical) direction. In X,Y notation, the top-left cell is 1,1, and the top-right cell is 300,1.\n",
    "\n",
    "The interface lets you select any 3x3 square of fuel cells. To increase your chances of getting to your destination, you decide to choose the 3x3 square with the largest total power.\n",
    "\n",
    "The power level in a given fuel cell can be found through the following process:\n",
    "\n",
    "    Find the fuel cell's rack ID, which is its X coordinate plus 10.\n",
    "    Begin with a power level of the rack ID times the Y coordinate.\n",
    "    Increase the power level by the value of the grid serial number (your puzzle input).\n",
    "    Set the power level to itself multiplied by the rack ID.\n",
    "    Keep only the hundreds digit of the power level (so 12345 becomes 3; numbers with no hundreds digit become 0).\n",
    "    Subtract 5 from the power level.\n",
    "\n",
    "For example, to find the power level of the fuel cell at 3,5 in a grid with serial number 8:\n",
    "\n",
    "    The rack ID is 3 + 10 = 13.\n",
    "    The power level starts at 13 * 5 = 65.\n",
    "    Adding the serial number produces 65 + 8 = 73.\n",
    "    Multiplying by the rack ID produces 73 * 13 = 949.\n",
    "    The hundreds digit of 949 is 9.\n",
    "    Subtracting 5 produces 9 - 5 = 4.\n",
    "\n",
    "So, the power level of this fuel cell is 4.\n",
    "\n",
    "Here are some more example power levels:\n",
    "\n",
    "    Fuel cell at  122,79, grid serial number 57: power level -5.\n",
    "    Fuel cell at 217,196, grid serial number 39: power level  0.\n",
    "    Fuel cell at 101,153, grid serial number 71: power level  4.\n",
    "\n",
    "Your goal is to find the 3x3 square which has the largest total power. The square must be entirely within the 300x300 grid. Identify this square using the X,Y coordinate of its top-left fuel cell. For example:\n",
    "\n",
    "For grid serial number 18, the largest total 3x3 square has a top-left corner of 33,45 (with a total power of 29); these fuel cells appear in the middle of this 5x5 region:\n",
    "```\n",
    "-2  -4   4   4   4\n",
    "-4   4   4   4  -5\n",
    " 4   3   3   4  -4\n",
    " 1   1   2   4  -3\n",
    "-1   0   2  -5  -2\n",
    "```\n",
    "For grid serial number 42, the largest 3x3 square's top-left is 21,61 (with a total power of 30); they are in the middle of this region:\n",
    "```\n",
    "-3   4   2   2   2\n",
    "-4   4   3   3   4\n",
    "-5   3   3   4  -4\n",
    " 4   3   3   4  -3\n",
    " 3   3   3  -5  -1\n",
    "```\n",
    "What is the X,Y coordinate of the top-left fuel cell of the 3x3 square with the largest total power?"
   ]
  },
  {
   "cell_type": "code",
   "execution_count": 2,
   "metadata": {},
   "outputs": [],
   "source": [
    "from pathlib import Path\n",
    "import itertools\n",
    "from collections import Counter\n",
    "from collections import defaultdict\n",
    "from pprint import pprint\n",
    "import re\n",
    "from datetime import datetime\n",
    "import numpy as np\n",
    "import functools\n",
    "from copy import copy"
   ]
  },
  {
   "cell_type": "code",
   "execution_count": 3,
   "metadata": {},
   "outputs": [],
   "source": [
    "serial = 9445\n",
    "SIZE=300"
   ]
  },
  {
   "cell_type": "code",
   "execution_count": null,
   "metadata": {},
   "outputs": [],
   "source": [
    "serial = 42\n",
    "SIZE = 300"
   ]
  },
  {
   "cell_type": "code",
   "execution_count": null,
   "metadata": {},
   "outputs": [],
   "source": [
    "serial = 57\n",
    "SIZE = 300"
   ]
  },
  {
   "cell_type": "code",
   "execution_count": 4,
   "metadata": {},
   "outputs": [],
   "source": [
    "grid = np.zeros((SIZE,SIZE))"
   ]
  },
  {
   "cell_type": "code",
   "execution_count": 5,
   "metadata": {},
   "outputs": [
    {
     "data": {
      "text/plain": [
       "array([[ 11.,  12.,  13., ..., 308., 309., 310.],\n",
       "       [ 11.,  12.,  13., ..., 308., 309., 310.],\n",
       "       [ 11.,  12.,  13., ..., 308., 309., 310.],\n",
       "       ...,\n",
       "       [ 11.,  12.,  13., ..., 308., 309., 310.],\n",
       "       [ 11.,  12.,  13., ..., 308., 309., 310.],\n",
       "       [ 11.,  12.,  13., ..., 308., 309., 310.]])"
      ]
     },
     "execution_count": 5,
     "metadata": {},
     "output_type": "execute_result"
    }
   ],
   "source": [
    "rack = np.copy(grid)\n",
    "for index in range(SIZE):\n",
    "    rack[:,index] = index+1 + 10\n",
    "rack"
   ]
  },
  {
   "cell_type": "code",
   "execution_count": 6,
   "metadata": {},
   "outputs": [
    {
     "data": {
      "text/plain": [
       "array([[1.1000e+01, 1.2000e+01, 1.3000e+01, ..., 3.0800e+02, 3.0900e+02,\n",
       "        3.1000e+02],\n",
       "       [2.2000e+01, 2.4000e+01, 2.6000e+01, ..., 6.1600e+02, 6.1800e+02,\n",
       "        6.2000e+02],\n",
       "       [3.3000e+01, 3.6000e+01, 3.9000e+01, ..., 9.2400e+02, 9.2700e+02,\n",
       "        9.3000e+02],\n",
       "       ...,\n",
       "       [3.2780e+03, 3.5760e+03, 3.8740e+03, ..., 9.1784e+04, 9.2082e+04,\n",
       "        9.2380e+04],\n",
       "       [3.2890e+03, 3.5880e+03, 3.8870e+03, ..., 9.2092e+04, 9.2391e+04,\n",
       "        9.2690e+04],\n",
       "       [3.3000e+03, 3.6000e+03, 3.9000e+03, ..., 9.2400e+04, 9.2700e+04,\n",
       "        9.3000e+04]])"
      ]
     },
     "execution_count": 6,
     "metadata": {},
     "output_type": "execute_result"
    }
   ],
   "source": [
    "power_y = np.copy(rack)\n",
    "for index in range(SIZE):\n",
    "    power_y[index,:] = power_y[index,:] * (index+1)\n",
    "power_y"
   ]
  },
  {
   "cell_type": "code",
   "execution_count": 7,
   "metadata": {},
   "outputs": [
    {
     "data": {
      "text/plain": [
       "array([[  9456.,   9457.,   9458., ...,   9753.,   9754.,   9755.],\n",
       "       [  9467.,   9469.,   9471., ...,  10061.,  10063.,  10065.],\n",
       "       [  9478.,   9481.,   9484., ...,  10369.,  10372.,  10375.],\n",
       "       ...,\n",
       "       [ 12723.,  13021.,  13319., ..., 101229., 101527., 101825.],\n",
       "       [ 12734.,  13033.,  13332., ..., 101537., 101836., 102135.],\n",
       "       [ 12745.,  13045.,  13345., ..., 101845., 102145., 102445.]])"
      ]
     },
     "execution_count": 7,
     "metadata": {},
     "output_type": "execute_result"
    }
   ],
   "source": [
    "increase_input = np.copy(power_y)\n",
    "increase_input += serial\n",
    "increase_input"
   ]
  },
  {
   "cell_type": "code",
   "execution_count": 8,
   "metadata": {},
   "outputs": [
    {
     "data": {
      "text/plain": [
       "array([[  104016.,   113484.,   122954., ...,  3003924.,  3013986.,\n",
       "         3024050.],\n",
       "       [  104137.,   113628.,   123123., ...,  3098788.,  3109467.,\n",
       "         3120150.],\n",
       "       [  104258.,   113772.,   123292., ...,  3193652.,  3204948.,\n",
       "         3216250.],\n",
       "       ...,\n",
       "       [  139953.,   156252.,   173147., ..., 31178532., 31371843.,\n",
       "        31565750.],\n",
       "       [  140074.,   156396.,   173316., ..., 31273396., 31467324.,\n",
       "        31661850.],\n",
       "       [  140195.,   156540.,   173485., ..., 31368260., 31562805.,\n",
       "        31757950.]])"
      ]
     },
     "execution_count": 8,
     "metadata": {},
     "output_type": "execute_result"
    }
   ],
   "source": [
    "mult_by_rack = np.multiply(increase_input, rack)\n",
    "mult_by_rack"
   ]
  },
  {
   "cell_type": "code",
   "execution_count": 9,
   "metadata": {},
   "outputs": [
    {
     "data": {
      "text/plain": [
       "array([[0., 4., 9., ..., 9., 9., 0.],\n",
       "       [1., 6., 1., ..., 7., 4., 1.],\n",
       "       [2., 7., 2., ..., 6., 9., 2.],\n",
       "       ...,\n",
       "       [9., 2., 1., ..., 5., 8., 7.],\n",
       "       [0., 3., 3., ..., 3., 3., 8.],\n",
       "       [1., 5., 4., ..., 2., 8., 9.]])"
      ]
     },
     "execution_count": 9,
     "metadata": {},
     "output_type": "execute_result"
    }
   ],
   "source": [
    "hundreds = np.copy(mult_by_rack)\n",
    "hundreds = np.floor(hundreds/100)\n",
    "hundreds = np.remainder(hundreds, 10)\n",
    "hundreds"
   ]
  },
  {
   "cell_type": "code",
   "execution_count": 10,
   "metadata": {},
   "outputs": [
    {
     "data": {
      "text/plain": [
       "array([[-5., -1.,  4., ...,  4.,  4., -5.],\n",
       "       [-4.,  1., -4., ...,  2., -1., -4.],\n",
       "       [-3.,  2., -3., ...,  1.,  4., -3.],\n",
       "       ...,\n",
       "       [ 4., -3., -4., ...,  0.,  3.,  2.],\n",
       "       [-5., -2., -2., ..., -2., -2.,  3.],\n",
       "       [-4.,  0., -1., ..., -3.,  3.,  4.]])"
      ]
     },
     "execution_count": 10,
     "metadata": {},
     "output_type": "execute_result"
    }
   ],
   "source": [
    "minus_five = np.copy(hundreds)\n",
    "minus_five = minus_five - 5\n",
    "minus_five"
   ]
  },
  {
   "cell_type": "code",
   "execution_count": 11,
   "metadata": {},
   "outputs": [
    {
     "data": {
      "text/plain": [
       "array([[-2., -1.,  1., -5., -1.],\n",
       "       [-3., -1.,  2., -4.,  1.],\n",
       "       [-4., -2.,  2., -3.,  3.],\n",
       "       [-5., -2.,  2., -3.,  4.],\n",
       "       [ 4., -3.,  2., -2., -4.]])"
      ]
     },
     "execution_count": 11,
     "metadata": {},
     "output_type": "execute_result"
    }
   ],
   "source": [
    "minus_five[60-1:65-1,20-1:25-1]"
   ]
  },
  {
   "cell_type": "code",
   "execution_count": 12,
   "metadata": {},
   "outputs": [
    {
     "data": {
      "text/plain": [
       "(35, 232)"
      ]
     },
     "execution_count": 12,
     "metadata": {},
     "output_type": "execute_result"
    }
   ],
   "source": [
    "sums = np.zeros((SIZE-3, SIZE-3))\n",
    "for x,y in np.ndindex(SIZE-3,SIZE-3):\n",
    "    sums[y][x] = np.sum(minus_five[y:y+3,x:x+3])\n",
    "np.unravel_index(np.argmax(sums), (SIZE-3, SIZE-3))"
   ]
  },
  {
   "cell_type": "code",
   "execution_count": 13,
   "metadata": {},
   "outputs": [
    {
     "data": {
      "text/plain": [
       "array([[-13.,   2.,  -2., ...,   1.,   1.,  11.],\n",
       "       [-10.,  -2., -15., ...,  -1.,  -6.,   0.],\n",
       "       [ -7.,  -7.,  -7., ...,   6.,  -4.,   8.],\n",
       "       ...,\n",
       "       [ 16.,   2.,  -9., ..., -23.,  -3.,   1.],\n",
       "       [  9.,  -3.,  -1., ..., -16.,   0.,   9.],\n",
       "       [ -9.,  -8.,   7., ..., -19.,  -9.,  -4.]])"
      ]
     },
     "execution_count": 13,
     "metadata": {},
     "output_type": "execute_result"
    }
   ],
   "source": [
    "sums"
   ]
  },
  {
   "cell_type": "markdown",
   "metadata": {},
   "source": [
    "### Part 2\n",
    "You discover a dial on the side of the device; it seems to let you select a square of any size, not just 3x3. Sizes from 1x1 to 300x300 are supported.\n",
    "\n",
    "Realizing this, you now must find the square of any size with the largest total power. Identify this square by including its size as a third parameter after the top-left coordinate: a 9x9 square with a top-left corner of 3,5 is identified as 3,5,9.\n",
    "\n",
    "For example:\n",
    "\n",
    "    For grid serial number 18, the largest total square (with a total power of 113) is 16x16 and has a top-left corner of 90,269, so its identifier is 90,269,16.\n",
    "    For grid serial number 42, the largest total square (with a total power of 119) is 12x12 and has a top-left corner of 232,251, so its identifier is 232,251,12.\n",
    "\n",
    "What is the X,Y,size identifier of the square with the largest total power?"
   ]
  },
  {
   "cell_type": "code",
   "execution_count": 14,
   "metadata": {},
   "outputs": [
    {
     "name": "stdout",
     "output_type": "stream",
     "text": [
      "(1, 3, 2, 1.0)\n",
      "(1, 6, 3, 2.0)\n",
      "(1, 6, 4, 11.0)\n",
      "(1, 14, 6, 14.0)\n",
      "(1, 22, 4, 15.0)\n",
      "(1, 63, 4, 18.0)\n",
      "(1, 230, 3, 19.0)\n",
      "(2, 57, 4, 20.0)\n",
      "(12, 20, 12, 28.0)\n",
      "(12, 21, 11, 42.0)\n",
      "(20, 22, 10, 45.0)\n",
      "(44, 167, 14, 49.0)\n",
      "(45, 166, 13, 51.0)\n",
      "(94, 198, 13, 56.0)\n",
      "(95, 198, 13, 59.0)\n",
      "(165, 264, 14, 62.0)\n",
      "(166, 264, 12, 64.0)\n",
      "(166, 264, 14, 68.0)\n",
      "(166, 265, 13, 72.0)\n",
      "(216, 94, 26, 73.0)\n",
      "(217, 94, 25, 86.0)\n",
      "(223, 101, 19, 88.0)\n",
      "(223, 102, 19, 92.0)\n",
      "(223, 103, 19, 118.0)\n",
      "(224, 103, 18, 128.0)\n",
      "(225, 103, 17, 132.0)\n",
      "(226, 105, 16, 136.0)\n",
      "(227, 107, 15, 144.0)\n",
      "(228, 107, 14, 146.0)\n",
      "(230, 106, 15, 147.0)\n",
      "(231, 106, 14, 151.0)\n",
      "(231, 107, 14, 156.0)\n"
     ]
    }
   ],
   "source": [
    "max_square = (0,0,0,0)\n",
    "for x,y in np.ndindex(SIZE,SIZE):\n",
    "    for size in range(1, min(SIZE-x, SIZE-y)):\n",
    "        square_sum = np.sum(minus_five[y:y+size,x:x+size])\n",
    "        if square_sum > max_square[-1]:\n",
    "            max_square = (x+1, y+1, size, square_sum)        \n",
    "            print(max_square)"
   ]
  },
  {
   "cell_type": "code",
   "execution_count": 15,
   "metadata": {},
   "outputs": [
    {
     "data": {
      "text/plain": [
       "(231, 107, 14, 156.0)"
      ]
     },
     "execution_count": 15,
     "metadata": {},
     "output_type": "execute_result"
    }
   ],
   "source": [
    "max_square"
   ]
  },
  {
   "cell_type": "code",
   "execution_count": null,
   "metadata": {},
   "outputs": [],
   "source": []
  }
 ],
 "metadata": {
  "kernelspec": {
   "display_name": "Python 3",
   "language": "python",
   "name": "python3"
  },
  "language_info": {
   "codemirror_mode": {
    "name": "ipython",
    "version": 3
   },
   "file_extension": ".py",
   "mimetype": "text/x-python",
   "name": "python",
   "nbconvert_exporter": "python",
   "pygments_lexer": "ipython3",
   "version": "3.7.0"
  }
 },
 "nbformat": 4,
 "nbformat_minor": 2
}
