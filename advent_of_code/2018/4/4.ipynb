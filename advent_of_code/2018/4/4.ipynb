{
 "cells": [
  {
   "cell_type": "markdown",
   "metadata": {},
   "source": [
    "### Part 1\n",
    "\n",
    "You've sneaked into another supply closet - this time, it's across from the prototype suit manufacturing lab. You need to sneak inside and fix the issues with the suit, but there's a guard stationed outside the lab, so this is as close as you can safely get.\n",
    "\n",
    "As you search the closet for anything that might help, you discover that you're not the first person to want to sneak in. Covering the walls, someone has spent an hour starting every midnight for the past few months secretly observing this guard post! They've been writing down the ID of the one guard on duty that night - the Elves seem to have decided that one guard was enough for the overnight shift - as well as when they fall asleep or wake up while at their post (your puzzle input).\n",
    "\n",
    "For example, consider the following records, which have already been organized into chronological order:\n",
    "\n",
    "```\n",
    "[1518-11-01 00:00] Guard #10 begins shift\n",
    "[1518-11-01 00:05] falls asleep\n",
    "[1518-11-01 00:25] wakes up\n",
    "[1518-11-01 00:30] falls asleep\n",
    "[1518-11-01 00:55] wakes up\n",
    "[1518-11-01 23:58] Guard #99 begins shift\n",
    "[1518-11-02 00:40] falls asleep\n",
    "[1518-11-02 00:50] wakes up\n",
    "[1518-11-03 00:05] Guard #10 begins shift\n",
    "[1518-11-03 00:24] falls asleep\n",
    "[1518-11-03 00:29] wakes up\n",
    "[1518-11-04 00:02] Guard #99 begins shift\n",
    "[1518-11-04 00:36] falls asleep\n",
    "[1518-11-04 00:46] wakes up\n",
    "[1518-11-05 00:03] Guard #99 begins shift\n",
    "[1518-11-05 00:45] falls asleep\n",
    "[1518-11-05 00:55] wakes up\n",
    "```\n",
    "Timestamps are written using year-month-day hour:minute format. The guard falling asleep or waking up is always the one whose shift most recently started. Because all asleep/awake times are during the midnight hour (00:00 - 00:59), only the minute portion (00 - 59) is relevant for those events.\n",
    "\n",
    "Visually, these records show that the guards are asleep at these times:\n",
    "\n",
    "```\n",
    "Date   ID   Minute\n",
    "            000000000011111111112222222222333333333344444444445555555555\n",
    "            012345678901234567890123456789012345678901234567890123456789\n",
    "11-01  #10  .....####################.....#########################.....\n",
    "11-02  #99  ........................................##########..........\n",
    "11-03  #10  ........................#####...............................\n",
    "11-04  #99  ....................................##########..............\n",
    "11-05  #99  .............................................##########.....\n",
    "```\n",
    "\n",
    "The columns are Date, which shows the month-day portion of the relevant day; ID, which shows the guard on duty that day; and Minute, which shows the minutes during which the guard was asleep within the midnight hour. (The Minute column's header shows the minute's ten's digit in the first row and the one's digit in the second row.) Awake is shown as ., and asleep is shown as #.\n",
    "\n",
    "Note that guards count as asleep on the minute they fall asleep, and they count as awake on the minute they wake up. For example, because Guard #10 wakes up at 00:25 on 1518-11-01, minute 25 is marked as awake.\n",
    "\n",
    "If you can figure out the guard most likely to be asleep at a specific time, you might be able to trick that guard into working tonight so you can have the best chance of sneaking in. You have two strategies for choosing the best guard/minute combination.\n",
    "\n",
    "Strategy 1: Find the guard that has the most minutes asleep. What minute does that guard spend asleep the most?\n",
    "\n",
    "In the example above, Guard #10 spent the most minutes asleep, a total of 50 minutes (20+25+5), while Guard #99 only slept for a total of 30 minutes (10+10+10). Guard #10 was asleep most during minute 24 (on two days, whereas any other minute the guard was asleep was only seen on one day).\n",
    "\n",
    "While this example listed the entries in chronological order, your entries are in the order you found them. You'll need to organize them before they can be analyzed.\n",
    "\n",
    "What is the ID of the guard you chose multiplied by the minute you chose? (In the above example, the answer would be 10 * 24 = 240.)"
   ]
  },
  {
   "cell_type": "code",
   "execution_count": 1,
   "metadata": {},
   "outputs": [],
   "source": [
    "from pathlib import Path\n",
    "import itertools\n",
    "from collections import Counter\n",
    "from collections import defaultdict\n",
    "from pprint import pprint\n",
    "import re\n",
    "from datetime import datetime"
   ]
  },
  {
   "cell_type": "code",
   "execution_count": 2,
   "metadata": {},
   "outputs": [],
   "source": [
    "lines = Path('input').read_text().strip().split('\\n')"
   ]
  },
  {
   "cell_type": "code",
   "execution_count": 3,
   "metadata": {},
   "outputs": [],
   "source": [
    "sorted_lines = sorted(lines)"
   ]
  },
  {
   "cell_type": "code",
   "execution_count": 4,
   "metadata": {},
   "outputs": [],
   "source": [
    "date_format = \"[%Y-%m-%d %H:%M]\""
   ]
  },
  {
   "cell_type": "code",
   "execution_count": 5,
   "metadata": {},
   "outputs": [],
   "source": [
    "guard_re = re.compile('#(\\d+)')"
   ]
  },
  {
   "cell_type": "code",
   "execution_count": 6,
   "metadata": {},
   "outputs": [],
   "source": [
    "times = {}\n",
    "big_string = \"\"\n",
    "for line in sorted_lines:\n",
    "    time = datetime.strptime(line[0:18], date_format).minute\n",
    "    if 'Guard' in line:\n",
    "        time = 0\n",
    "        current_guard = int(guard_re.search(line).group(1))\n",
    "        big_string += f'\\n#{current_guard:<4} -'\n",
    "        try:\n",
    "            times[current_guard]\n",
    "        except KeyError:\n",
    "            times[current_guard] = defaultdict(int)\n",
    "    if 'asleep' in line:\n",
    "        min_awake = (time - last_time)\n",
    "        times[current_guard]['awake'] += min_awake\n",
    "        big_string += '_'*min_awake\n",
    "    if 'wake' in line:\n",
    "        min_asleep = (time - last_time)\n",
    "        times[current_guard]['asleep'] += min_asleep\n",
    "        big_string += '#'*min_asleep\n",
    "        \n",
    "    last_time = time"
   ]
  },
  {
   "cell_type": "code",
   "execution_count": 7,
   "metadata": {},
   "outputs": [
    {
     "data": {
      "text/plain": [
       "{641: defaultdict(int, {'asleep': 254, 'awake': 226}),\n",
       " 653: defaultdict(int, {'asleep': 249, 'awake': 461}),\n",
       " 683: defaultdict(int, {'asleep': 152, 'awake': 362}),\n",
       " 727: defaultdict(int, {'asleep': 343, 'awake': 398}),\n",
       " 919: defaultdict(int, {'asleep': 430, 'awake': 479}),\n",
       " 971: defaultdict(int, {'asleep': 449, 'awake': 379}),\n",
       " 1069: defaultdict(int, {'asleep': 223, 'awake': 266}),\n",
       " 1093: defaultdict(int, {'asleep': 330, 'awake': 277}),\n",
       " 1117: defaultdict(int, {'asleep': 300, 'awake': 242}),\n",
       " 1277: defaultdict(int, {}),\n",
       " 1409: defaultdict(int, {}),\n",
       " 1877: defaultdict(int, {'asleep': 406, 'awake': 601}),\n",
       " 1931: defaultdict(int, {'asleep': 294, 'awake': 285}),\n",
       " 2179: defaultdict(int, {'asleep': 318, 'awake': 359}),\n",
       " 2339: defaultdict(int, {'asleep': 260, 'awake': 165}),\n",
       " 2543: defaultdict(int, {'asleep': 188, 'awake': 139}),\n",
       " 2953: defaultdict(int, {'asleep': 237, 'awake': 323}),\n",
       " 3079: defaultdict(int, {'asleep': 414, 'awake': 371}),\n",
       " 3109: defaultdict(int, {'asleep': 250, 'awake': 513}),\n",
       " 3301: defaultdict(int, {}),\n",
       " 3319: defaultdict(int, {'asleep': 229, 'awake': 298}),\n",
       " 3331: defaultdict(int, {'asleep': 267, 'awake': 196}),\n",
       " 3461: defaultdict(int, {'asleep': 395, 'awake': 244})}"
      ]
     },
     "execution_count": 7,
     "metadata": {},
     "output_type": "execute_result"
    }
   ],
   "source": [
    "times"
   ]
  },
  {
   "cell_type": "code",
   "execution_count": 8,
   "metadata": {},
   "outputs": [],
   "source": [
    "filtered_list = list(filter(lambda x: x.startswith('#971'), big_string.strip().split('\\n')))"
   ]
  },
  {
   "cell_type": "code",
   "execution_count": 9,
   "metadata": {},
   "outputs": [],
   "source": [
    "hour_by_hour = list(itertools.zip_longest(*filtered_list, fillvalue='_'))"
   ]
  },
  {
   "cell_type": "code",
   "execution_count": 10,
   "metadata": {},
   "outputs": [
    {
     "data": {
      "text/plain": [
       "[(0, 0),\n",
       " (1, 1),\n",
       " (2, 3),\n",
       " (3, 3),\n",
       " (4, 3),\n",
       " (5, 5),\n",
       " (6, 6),\n",
       " (7, 7),\n",
       " (8, 6),\n",
       " (9, 6),\n",
       " (10, 7),\n",
       " (11, 7),\n",
       " (12, 7),\n",
       " (13, 7),\n",
       " (14, 7),\n",
       " (15, 9),\n",
       " (16, 9),\n",
       " (17, 9),\n",
       " (18, 9),\n",
       " (19, 10),\n",
       " (20, 10),\n",
       " (21, 10),\n",
       " (22, 9),\n",
       " (23, 8),\n",
       " (24, 8),\n",
       " (25, 8),\n",
       " (26, 8),\n",
       " (27, 10),\n",
       " (28, 10),\n",
       " (29, 11),\n",
       " (30, 13),\n",
       " (31, 13),\n",
       " (32, 13),\n",
       " (33, 13),\n",
       " (34, 12),\n",
       " (35, 13),\n",
       " (36, 13),\n",
       " (37, 13),\n",
       " (38, 14),\n",
       " (39, 12),\n",
       " (40, 11),\n",
       " (41, 11),\n",
       " (42, 11),\n",
       " (43, 12),\n",
       " (44, 11),\n",
       " (45, 10),\n",
       " (46, 9),\n",
       " (47, 7),\n",
       " (48, 7),\n",
       " (49, 5),\n",
       " (50, 3),\n",
       " (51, 2),\n",
       " (52, 2),\n",
       " (53, 3),\n",
       " (54, 2),\n",
       " (55, 0),\n",
       " (56, 0),\n",
       " (57, 1)]"
      ]
     },
     "execution_count": 10,
     "metadata": {},
     "output_type": "execute_result"
    }
   ],
   "source": [
    "list(enumerate([''.join(h).count('#') for h in hour_by_hour[7:]]))"
   ]
  },
  {
   "cell_type": "code",
   "execution_count": 11,
   "metadata": {},
   "outputs": [
    {
     "data": {
      "text/plain": [
       "36898"
      ]
     },
     "execution_count": 11,
     "metadata": {},
     "output_type": "execute_result"
    }
   ],
   "source": [
    "971*38"
   ]
  },
  {
   "cell_type": "markdown",
   "metadata": {},
   "source": [
    "### Part 2\n",
    "Strategy 2: Of all guards, which guard is most frequently asleep on the same minute?\n",
    "\n",
    "In the example above, Guard #99 spent minute 45 asleep more than any other guard or minute - three times in total. (In all other cases, any guard spent any minute asleep at most twice.)\n",
    "\n",
    "What is the ID of the guard you chose multiplied by the minute you chose? (In the above example, the answer would be 99 * 45 = 4455.)"
   ]
  },
  {
   "cell_type": "code",
   "execution_count": 12,
   "metadata": {},
   "outputs": [],
   "source": [
    "sorted_list = sorted(big_string.strip().split('\\n'))"
   ]
  },
  {
   "cell_type": "code",
   "execution_count": 13,
   "metadata": {},
   "outputs": [
    {
     "name": "stdout",
     "output_type": "stream",
     "text": [
      "{641: [(23, 9)],\n",
      " 653: [(38, 10)],\n",
      " 683: [(36, 6)],\n",
      " 727: [(37, 11)],\n",
      " 919: [(30, 13)],\n",
      " 971: [(38, 14)],\n",
      " 1069: [(32, 7)],\n",
      " 1093: [(25, 9)],\n",
      " 1117: [(40, 9)],\n",
      " 1277: [],\n",
      " 1409: [],\n",
      " 1877: [(43, 15)],\n",
      " 1931: [(18, 8)],\n",
      " 2179: [(27, 9)],\n",
      " 2339: [(25, 8)],\n",
      " 2543: [(37, 7)],\n",
      " 2953: [(13, 6)],\n",
      " 3079: [(22, 10)],\n",
      " 3109: [(36, 10)],\n",
      " 3301: [],\n",
      " 3319: [(22, 6)],\n",
      " 3331: [(40, 8)],\n",
      " 3461: [(36, 11)]}\n"
     ]
    }
   ],
   "source": [
    "data = {}\n",
    "for k, g in itertools.groupby(sorted_list, lambda x: x[0:7]):\n",
    "    counts = Counter()\n",
    "    for line in g:\n",
    "        for m, d in enumerate(line[7:]):\n",
    "            if d == \"#\":\n",
    "                counts[m] += 1\n",
    "    data[int(k[1:-1])] = counts.most_common(1)\n",
    "pprint(data)"
   ]
  },
  {
   "cell_type": "code",
   "execution_count": 14,
   "metadata": {},
   "outputs": [
    {
     "data": {
      "text/plain": [
       "80711"
      ]
     },
     "execution_count": 14,
     "metadata": {},
     "output_type": "execute_result"
    }
   ],
   "source": [
    "1877 * 43"
   ]
  }
 ],
 "metadata": {
  "kernelspec": {
   "display_name": "Python 3",
   "language": "python",
   "name": "python3"
  },
  "language_info": {
   "codemirror_mode": {
    "name": "ipython",
    "version": 3
   },
   "file_extension": ".py",
   "mimetype": "text/x-python",
   "name": "python",
   "nbconvert_exporter": "python",
   "pygments_lexer": "ipython3",
   "version": "3.6.2"
  }
 },
 "nbformat": 4,
 "nbformat_minor": 2
}
