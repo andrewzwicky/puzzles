{
 "cells": [
  {
   "cell_type": "markdown",
   "metadata": {},
   "source": [
    "### Part 1\n",
    "The device on your wrist beeps several times, and once again you feel like you're falling.\n",
    "\n",
    "\"Situation critical,\" the device announces. \"Destination indeterminate. Chronal interference detected. Please specify new target coordinates.\"\n",
    "\n",
    "The device then produces a list of coordinates (your puzzle input). Are they places it thinks are safe or dangerous? It recommends you check manual page 729. The Elves did not give you a manual.\n",
    "\n",
    "If they're dangerous, maybe you can minimize the danger by finding the coordinate that gives the largest distance from the other points.\n",
    "\n",
    "Using only the Manhattan distance, determine the area around each coordinate by counting the number of integer X,Y locations that are closest to that coordinate (and aren't tied in distance to any other coordinate).\n",
    "\n",
    "Your goal is to find the size of the largest area that isn't infinite. For example, consider the following list of coordinates:\n",
    "```\n",
    "1, 1\n",
    "1, 6\n",
    "8, 3\n",
    "3, 4\n",
    "5, 5\n",
    "8, 9\n",
    "```\n",
    "If we name these coordinates A through F, we can draw them on a grid, putting 0,0 at the top left:\n",
    "```\n",
    "..........\n",
    ".A........\n",
    "..........\n",
    "........C.\n",
    "...D......\n",
    ".....E....\n",
    ".B........\n",
    "..........\n",
    "..........\n",
    "........F.\n",
    "```\n",
    "This view is partial - the actual grid extends infinitely in all directions. Using the Manhattan distance, each location's closest coordinate can be determined, shown here in lowercase:\n",
    "```\n",
    "aaaaa.cccc\n",
    "aAaaa.cccc\n",
    "aaaddecccc\n",
    "aadddeccCc\n",
    "..dDdeeccc\n",
    "bb.deEeecc\n",
    "bBb.eeee..\n",
    "bbb.eeefff\n",
    "bbb.eeffff\n",
    "bbb.ffffFf\n",
    "```\n",
    "Locations shown as . are equally far from two or more coordinates, and so they don't count as being closest to any.\n",
    "\n",
    "In this example, the areas of coordinates A, B, C, and F are infinite - while not shown here, their areas extend forever outside the visible grid. However, the areas of coordinates D and E are finite: D is closest to 9 locations, and E is closest to 17 (both including the coordinate's location itself). Therefore, in this example, the size of the largest area is 17.\n",
    "\n",
    "What is the size of the largest area that isn't infinite?"
   ]
  },
  {
   "cell_type": "code",
   "execution_count": 1,
   "metadata": {},
   "outputs": [],
   "source": [
    "from pathlib import Path\n",
    "import itertools\n",
    "from collections import Counter\n",
    "from collections import defaultdict\n",
    "from pprint import pprint\n",
    "import re\n",
    "from datetime import datetime\n",
    "import numpy as np\n",
    "import functools"
   ]
  },
  {
   "cell_type": "code",
   "execution_count": 2,
   "metadata": {},
   "outputs": [],
   "source": [
    "lines = Path('input').read_text().strip().split('\\n')"
   ]
  },
  {
   "cell_type": "code",
   "execution_count": 39,
   "metadata": {},
   "outputs": [],
   "source": [
    "points = [tuple(map(int,l.replace(' ','').split(','))) for l in lines]"
   ]
  },
  {
   "cell_type": "code",
   "execution_count": 4,
   "metadata": {},
   "outputs": [],
   "source": [
    "@functools.lru_cache(maxsize= 32)\n",
    "def offsets_from_distance(dist):\n",
    "    result = set()\n",
    "    for x_d in range(-dist, dist+1):\n",
    "        for y_d in range(-dist, dist+1):\n",
    "            if abs(x_d) + abs(y_d) == dist:\n",
    "                result.add((x_d, y_d))\n",
    "                   \n",
    "    return np.copy(np.array(list(result)))"
   ]
  },
  {
   "cell_type": "code",
   "execution_count": 50,
   "metadata": {},
   "outputs": [],
   "source": [
    "SIZE = 353"
   ]
  },
  {
   "cell_type": "code",
   "execution_count": 16,
   "metadata": {},
   "outputs": [],
   "source": [
    "#TEST\n",
    "SIZE = 10\n",
    "points = [(1, 1),\n",
    "(1, 6),\n",
    "(8, 3),\n",
    "(3, 4),\n",
    "(5, 5),\n",
    "(8, 9)]"
   ]
  },
  {
   "cell_type": "code",
   "execution_count": null,
   "metadata": {},
   "outputs": [],
   "source": [
    "data = np.chararray((SIZE,SIZE), itemsize=10, order='F', unicode=True)\n",
    "data[:] = '__'\n",
    "for i, (row, col) in enumerate(points):\n",
    "    data[row][col] = str.zfill(str(i), 2)\n",
    "dist = 1\n",
    "point_labels = set()\n",
    "all_fully_expanded = defaultdict(bool)\n",
    "\n",
    "for dist in range(1, SIZE):\n",
    "    last_data = np.copy(data)\n",
    "    cells = offsets_from_distance(dist)\n",
    "    for i, (row, col) in enumerate(points):\n",
    "        num = str.zfill(str(i), 2)\n",
    "        point_labels.add(num)\n",
    "        if not all_fully_expanded[num]:\n",
    "            this_cells = np.copy(cells)\n",
    "            this_cells[:,0] += row\n",
    "            this_cells[:,1] += col\n",
    "            this_cells = np.take(this_cells,\n",
    "                                 np.where(np.logical_and(\n",
    "                                     np.logical_and(this_cells[:,0] < SIZE, this_cells[:,0] >= 0),\n",
    "                                     np.logical_and(this_cells[:,1] < SIZE, this_cells[:,1] >= 0)))[0],\n",
    "                                 axis=0)\n",
    "\n",
    "            fully_expanded = True\n",
    "            for (row2, col2) in this_cells:\n",
    "                if data[row2][col2] == '__':\n",
    "                    data[row2][col2] = num\n",
    "                    fully_expanded = False\n",
    "                elif data[row2][col2] == '..':\n",
    "                    pass\n",
    "                elif last_data[row2][col2] == '__':\n",
    "                    data[row2][col2] += ','+num\n",
    "                    fully_expanded = False\n",
    "                else:\n",
    "                    pass\n",
    "\n",
    "            all_fully_expanded[num] = fully_expanded\n",
    "\n",
    "            new_collisions = np.argwhere(np.char.count(data, ',')>0)\n",
    "            for row2, col2 in new_collisions:\n",
    "                if last_data[row2][col2] == '__':\n",
    "                    data[row2][col2] = '..'\n",
    "                else:\n",
    "                    data[row2][col2] = last_data[row2][col2]\n",
    "    if not ('__' in data):\n",
    "        break"
   ]
  },
  {
   "cell_type": "code",
   "execution_count": 10,
   "metadata": {},
   "outputs": [],
   "source": [
    "enclosed_points = point_labels - (set(data[0,:]) | set(data[:,0]) |set(data[-1,:]) | set(data[:,-1]))"
   ]
  },
  {
   "cell_type": "code",
   "execution_count": 11,
   "metadata": {},
   "outputs": [],
   "source": [
    "counts = Counter({label: np.sum(data.count(label)) for label in enclosed_points})"
   ]
  },
  {
   "cell_type": "code",
   "execution_count": 12,
   "metadata": {},
   "outputs": [
    {
     "data": {
      "text/plain": [
       "[('21', 3722)]"
      ]
     },
     "execution_count": 12,
     "metadata": {},
     "output_type": "execute_result"
    }
   ],
   "source": [
    "counts.most_common(1)"
   ]
  },
  {
   "cell_type": "markdown",
   "metadata": {},
   "source": [
    "### Part 2\n",
    "On the other hand, if the coordinates are safe, maybe the best you can do is try to find a region near as many coordinates as possible.\n",
    "\n",
    "For example, suppose you want the sum of the Manhattan distance to all of the coordinates to be less than 32. For each location, add up the distances to all of the given coordinates; if the total of those distances is less than 32, that location is within the desired region. Using the same coordinates as above, the resulting region looks like this:\n",
    "```\n",
    "..........\n",
    ".A........\n",
    "..........\n",
    "...###..C.\n",
    "..#D###...\n",
    "..###E#...\n",
    ".B.###....\n",
    "..........\n",
    "..........\n",
    "........F.\n",
    "```\n",
    "In particular, consider the highlighted location 4,3 located at the top middle of the region. Its calculation is as follows, where abs() is the absolute value function:\n",
    "\n",
    "    Distance to coordinate A: abs(4-1) + abs(3-1) =  5\n",
    "    Distance to coordinate B: abs(4-1) + abs(3-6) =  6\n",
    "    Distance to coordinate C: abs(4-8) + abs(3-3) =  4\n",
    "    Distance to coordinate D: abs(4-3) + abs(3-4) =  2\n",
    "    Distance to coordinate E: abs(4-5) + abs(3-5) =  3\n",
    "    Distance to coordinate F: abs(4-8) + abs(3-9) = 10\n",
    "    Total distance: 5 + 6 + 4 + 2 + 3 + 10 = 30\n",
    "\n",
    "Because the total distance to all coordinates (30) is less than 32, the location is within the region.\n",
    "\n",
    "This region, which also includes coordinates D and E, has a total size of 16.\n",
    "\n",
    "Your actual region will need to be much larger than this example, though, instead including all locations with a total distance of less than 10000.\n",
    "\n",
    "What is the size of the region containing all locations which have a total distance to all given coordinates of less than 10000?"
   ]
  },
  {
   "cell_type": "code",
   "execution_count": 51,
   "metadata": {},
   "outputs": [],
   "source": [
    "np_points = np.array(points)"
   ]
  },
  {
   "cell_type": "code",
   "execution_count": 53,
   "metadata": {},
   "outputs": [],
   "source": [
    "counts_data = np.zeros((SIZE,SIZE), order='F')"
   ]
  },
  {
   "cell_type": "code",
   "execution_count": 54,
   "metadata": {},
   "outputs": [],
   "source": [
    "from scipy.spatial.distance import cdist"
   ]
  },
  {
   "cell_type": "code",
   "execution_count": 55,
   "metadata": {},
   "outputs": [],
   "source": [
    "for (row,col) in np.ndindex(counts_data.shape):\n",
    "    counts_data[row][col] = np.sum(cdist([[row,col]], np_points, metric='cityblock'))"
   ]
  },
  {
   "cell_type": "code",
   "execution_count": 56,
   "metadata": {},
   "outputs": [
    {
     "data": {
      "text/plain": [
       "44634"
      ]
     },
     "execution_count": 56,
     "metadata": {},
     "output_type": "execute_result"
    }
   ],
   "source": [
    "np.count_nonzero(np.where(counts_data < 10000, counts_data, 0))"
   ]
  }
 ],
 "metadata": {
  "kernelspec": {
   "display_name": "Python 3",
   "language": "python",
   "name": "python3"
  },
  "language_info": {
   "codemirror_mode": {
    "name": "ipython",
    "version": 3
   },
   "file_extension": ".py",
   "mimetype": "text/x-python",
   "name": "python",
   "nbconvert_exporter": "python",
   "pygments_lexer": "ipython3",
   "version": "3.6.2"
  }
 },
 "nbformat": 4,
 "nbformat_minor": 2
}
