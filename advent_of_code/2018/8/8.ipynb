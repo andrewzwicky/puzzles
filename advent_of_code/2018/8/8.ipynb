{
 "cells": [
  {
   "cell_type": "markdown",
   "metadata": {},
   "source": [
    "### Part 1\n",
    "The sleigh is much easier to pull than you'd expect for something its weight. Unfortunately, neither you nor the Elves know which way the North Pole is from here.\n",
    "\n",
    "You check your wrist device for anything that might help. It seems to have some kind of navigation system! Activating the navigation system produces more bad news: \"Failed to start navigation system. Could not read software license file.\"\n",
    "\n",
    "The navigation system's license file consists of a list of numbers (your puzzle input). The numbers define a data structure which, when processed, produces some kind of tree that can be used to calculate the license number.\n",
    "\n",
    "The tree is made up of nodes; a single, outermost node forms the tree's root, and it contains all other nodes in the tree (or contains nodes that contain nodes, and so on).\n",
    "\n",
    "Specifically, a node consists of:\n",
    "\n",
    "    A header, which is always exactly two numbers:\n",
    "        The quantity of child nodes.\n",
    "        The quantity of metadata entries.\n",
    "    Zero or more child nodes (as specified in the header).\n",
    "    One or more metadata entries (as specified in the header).\n",
    "\n",
    "Each child node is itself a node that has its own header, child nodes, and metadata. For example:\n",
    "\n",
    "```\n",
    "2 3 0 3 10 11 12 1 1 0 1 99 2 1 1 2\n",
    "A----------------------------------\n",
    "    B----------- C-----------\n",
    "                     D-----\n",
    "```\n",
    "In this example, each node of the tree is also marked with an underline starting with a letter for easier identification. In it, there are four nodes:\n",
    "\n",
    "    A, which has 2 child nodes (B, C) and 3 metadata entries (1, 1, 2).\n",
    "    B, which has 0 child nodes and 3 metadata entries (10, 11, 12).\n",
    "    C, which has 1 child node (D) and 1 metadata entry (2).\n",
    "    D, which has 0 child nodes and 1 metadata entry (99).\n",
    "\n",
    "The first check done on the license file is to simply add up all of the metadata entries. In this example, that sum is 1+1+2+10+11+12+2+99=138.\n",
    "\n",
    "What is the sum of all metadata entries?"
   ]
  },
  {
   "cell_type": "code",
   "execution_count": 3,
   "metadata": {},
   "outputs": [],
   "source": [
    "from pathlib import Path\n",
    "import itertools\n",
    "from collections import Counter\n",
    "from collections import defaultdict\n",
    "from pprint import pprint\n",
    "import re\n",
    "from datetime import datetime\n",
    "import numpy as np\n",
    "import functools\n",
    "from copy import copy"
   ]
  },
  {
   "cell_type": "code",
   "execution_count": 71,
   "metadata": {},
   "outputs": [],
   "source": [
    "data = list(map(int, Path('input').read_text().strip().split(' ')))"
   ]
  },
  {
   "cell_type": "code",
   "execution_count": 58,
   "metadata": {},
   "outputs": [],
   "source": [
    "data = [2, 3, 0, 3, 10, 11, 12, 1, 1, 0, 1, 99, 2, 1, 1, 2]"
   ]
  },
  {
   "cell_type": "code",
   "execution_count": 72,
   "metadata": {},
   "outputs": [],
   "source": [
    "#each item is a list, #1 = id, #2 = child_nodes, #3 = meta_data\n",
    "\n",
    "def recur_data(data_iter,\n",
    "               id_iter=itertools.count(start=1)):\n",
    "    num_children = next(data_iter)\n",
    "    num_meta = next(data_iter)\n",
    "    this_id = next(id_iter)\n",
    "    result = [this_id]\n",
    "    result.append([recur_data(data_iter,id_iter) for _ in range(num_children)])\n",
    "    result.append([next(data_iter) for _ in range(num_meta)])\n",
    "            \n",
    "    return result"
   ]
  },
  {
   "cell_type": "code",
   "execution_count": 73,
   "metadata": {},
   "outputs": [],
   "source": [
    "tree = recur_data(iter(data))"
   ]
  },
  {
   "cell_type": "code",
   "execution_count": 74,
   "metadata": {},
   "outputs": [],
   "source": [
    "def recur_and_add(tree, result=0):\n",
    "    id_num, children, meta = tree\n",
    "    for child in children:\n",
    "        result += recur_and_add(child)\n",
    "    \n",
    "    result += sum(meta)\n",
    "    return result"
   ]
  },
  {
   "cell_type": "code",
   "execution_count": 75,
   "metadata": {},
   "outputs": [
    {
     "data": {
      "text/plain": [
       "46781"
      ]
     },
     "execution_count": 75,
     "metadata": {},
     "output_type": "execute_result"
    }
   ],
   "source": [
    "recur_and_add(tree)"
   ]
  },
  {
   "cell_type": "markdown",
   "metadata": {},
   "source": [
    "### Part 2\n",
    "The second check is slightly more complicated: you need to find the value of the root node (A in the example above).\n",
    "\n",
    "The value of a node depends on whether it has child nodes.\n",
    "\n",
    "If a node has no child nodes, its value is the sum of its metadata entries. So, the value of node B is 10+11+12=33, and the value of node D is 99.\n",
    "\n",
    "However, if a node does have child nodes, the metadata entries become indexes which refer to those child nodes. A metadata entry of 1 refers to the first child node, 2 to the second, 3 to the third, and so on. The value of this node is the sum of the values of the child nodes referenced by the metadata entries. If a referenced child node does not exist, that reference is skipped. A child node can be referenced multiple time and counts each time it is referenced. A metadata entry of 0 does not refer to any child node.\n",
    "\n",
    "For example, again using the above nodes:\n",
    "\n",
    "    Node C has one metadata entry, 2. Because node C has only one child node, 2 references a child node which does not exist, and so the value of node C is 0.\n",
    "    Node A has three metadata entries: 1, 1, and 2. The 1 references node A's first child node, B, and the 2 references node A's second child node, C. Because node B has a value of 33 and node C has a value of 0, the value of node A is 33+33+0=66.\n",
    "\n",
    "So, in this example, the value of the root node is 66.\n",
    "\n",
    "What is the value of the root node?"
   ]
  },
  {
   "cell_type": "code",
   "execution_count": 76,
   "metadata": {},
   "outputs": [],
   "source": [
    "#each item is a list, #1 = id, #2 = child_nodes, #3 = meta_data, #4 = value\n",
    "\n",
    "def recur_data_with_val(data_iter,\n",
    "                        id_iter=itertools.count(start=1)):\n",
    "    num_children = next(data_iter)\n",
    "    num_meta = next(data_iter)\n",
    "    this_id = next(id_iter)\n",
    "    result = [this_id]\n",
    "    result.append([recur_data_with_val(data_iter,id_iter) for _ in range(num_children)])\n",
    "    result.append([next(data_iter) for _ in range(num_meta)])\n",
    "    \n",
    "    if result[1]:\n",
    "        value = 0\n",
    "        for index in result[2]:\n",
    "            if 0 < index <= len(result[1]):\n",
    "                value += result[1][index-1][-1]\n",
    "    else:\n",
    "        value = sum(result[-1])\n",
    "    \n",
    "    result.append(value)\n",
    "            \n",
    "    return result"
   ]
  },
  {
   "cell_type": "code",
   "execution_count": 77,
   "metadata": {},
   "outputs": [
    {
     "data": {
      "text/plain": [
       "21405"
      ]
     },
     "execution_count": 77,
     "metadata": {},
     "output_type": "execute_result"
    }
   ],
   "source": [
    "tree = recur_data_with_val(iter(data))\n",
    "tree[-1]"
   ]
  }
 ],
 "metadata": {
  "kernelspec": {
   "display_name": "Python 3",
   "language": "python",
   "name": "python3"
  },
  "language_info": {
   "codemirror_mode": {
    "name": "ipython",
    "version": 3
   },
   "file_extension": ".py",
   "mimetype": "text/x-python",
   "name": "python",
   "nbconvert_exporter": "python",
   "pygments_lexer": "ipython3",
   "version": "3.7.0"
  }
 },
 "nbformat": 4,
 "nbformat_minor": 2
}
