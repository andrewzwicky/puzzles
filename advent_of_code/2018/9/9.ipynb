{
 "cells": [
  {
   "cell_type": "markdown",
   "metadata": {},
   "source": [
    "### Part 1\n",
    "You talk to the Elves while you wait for your navigation system to initialize. To pass the time, they introduce you to their favorite marble game.\n",
    "\n",
    "The Elves play this game by taking turns arranging the marbles in a circle according to very particular rules. The marbles are numbered starting with 0 and increasing by 1 until every marble has a number.\n",
    "\n",
    "First, the marble numbered 0 is placed in the circle. At this point, while it contains only a single marble, it is still a circle: the marble is both clockwise from itself and counter-clockwise from itself. This marble is designated the current marble.\n",
    "\n",
    "Then, each Elf takes a turn placing the lowest-numbered remaining marble into the circle between the marbles that are 1 and 2 marbles clockwise of the current marble. (When the circle is large enough, this means that there is one marble between the marble that was just placed and the current marble.) The marble that was just placed then becomes the current marble.\n",
    "\n",
    "However, if the marble that is about to be placed has a number which is a multiple of 23, something entirely different happens. First, the current player keeps the marble they would have placed, adding it to their score. In addition, the marble 7 marbles counter-clockwise from the current marble is removed from the circle and also added to the current player's score. The marble located immediately clockwise of the marble that was removed becomes the new current marble.\n",
    "\n",
    "For example, suppose there are 9 players. After the marble with value 0 is placed in the middle, each player (shown in square brackets) takes a turn. The result of each of those turns would produce circles of marbles like this, where clockwise is to the right and the resulting current marble is in parentheses:\n",
    "\n",
    "```\n",
    "[-] (0)\n",
    "[1]  0 (1)\n",
    "[2]  0 (2) 1 \n",
    "[3]  0  2  1 (3)\n",
    "[4]  0 (4) 2  1  3 \n",
    "[5]  0  4  2 (5) 1  3 \n",
    "[6]  0  4  2  5  1 (6) 3 \n",
    "[7]  0  4  2  5  1  6  3 (7)\n",
    "[8]  0 (8) 4  2  5  1  6  3  7 \n",
    "[9]  0  8  4 (9) 2  5  1  6  3  7 \n",
    "[1]  0  8  4  9  2(10) 5  1  6  3  7 \n",
    "[2]  0  8  4  9  2 10  5(11) 1  6  3  7 \n",
    "[3]  0  8  4  9  2 10  5 11  1(12) 6  3  7 \n",
    "[4]  0  8  4  9  2 10  5 11  1 12  6(13) 3  7 \n",
    "[5]  0  8  4  9  2 10  5 11  1 12  6 13  3(14) 7 \n",
    "[6]  0  8  4  9  2 10  5 11  1 12  6 13  3 14  7(15)\n",
    "[7]  0(16) 8  4  9  2 10  5 11  1 12  6 13  3 14  7 15 \n",
    "[8]  0 16  8(17) 4  9  2 10  5 11  1 12  6 13  3 14  7 15 \n",
    "[9]  0 16  8 17  4(18) 9  2 10  5 11  1 12  6 13  3 14  7 15 \n",
    "[1]  0 16  8 17  4 18  9(19) 2 10  5 11  1 12  6 13  3 14  7 15 \n",
    "[2]  0 16  8 17  4 18  9 19  2(20)10  5 11  1 12  6 13  3 14  7 15 \n",
    "[3]  0 16  8 17  4 18  9 19  2 20 10(21) 5 11  1 12  6 13  3 14  7 15 \n",
    "[4]  0 16  8 17  4 18  9 19  2 20 10 21  5(22)11  1 12  6 13  3 14  7 15 \n",
    "[5]  0 16  8 17  4 18(19) 2 20 10 21  5 22 11  1 12  6 13  3 14  7 15 \n",
    "[6]  0 16  8 17  4 18 19  2(24)20 10 21  5 22 11  1 12  6 13  3 14  7 15 \n",
    "[7]  0 16  8 17  4 18 19  2 24 20(25)10 21  5 22 11  1 12  6 13  3 14  7 15\n",
    "```\n",
    "The goal is to be the player with the highest score after the last marble is used up. Assuming the example above ends after the marble numbered 25, the winning score is 23+9=32 (because player 5 kept marble 23 and removed marble 9, while no other player got any points in this very short example game).\n",
    "\n",
    "Here are a few more examples:\n",
    "\n",
    "    10 players; last marble is worth 1618 points: high score is 8317\n",
    "    13 players; last marble is worth 7999 points: high score is 146373\n",
    "    17 players; last marble is worth 1104 points: high score is 2764\n",
    "    21 players; last marble is worth 6111 points: high score is 54718\n",
    "    30 players; last marble is worth 5807 points: high score is 37305\n",
    "\n",
    "What is the winning Elf's score?"
   ]
  },
  {
   "cell_type": "code",
   "execution_count": 1,
   "metadata": {},
   "outputs": [],
   "source": [
    "from pathlib import Path\n",
    "import itertools\n",
    "from collections import Counter\n",
    "from collections import defaultdict\n",
    "from pprint import pprint\n",
    "import re\n",
    "from datetime import datetime\n",
    "import numpy as np\n",
    "import functools\n",
    "from copy import copy"
   ]
  },
  {
   "cell_type": "code",
   "execution_count": 2,
   "metadata": {},
   "outputs": [],
   "source": [
    "in_data = Path('input').read_text().strip()"
   ]
  },
  {
   "cell_type": "code",
   "execution_count": 3,
   "metadata": {},
   "outputs": [
    {
     "data": {
      "text/plain": [
       "'465 players; last marble is worth 71498 points'"
      ]
     },
     "execution_count": 3,
     "metadata": {},
     "output_type": "execute_result"
    }
   ],
   "source": [
    "in_data"
   ]
  },
  {
   "cell_type": "code",
   "execution_count": 4,
   "metadata": {},
   "outputs": [],
   "source": [
    "PLAYERS = 465\n",
    "LAST_MARBLE = 71498"
   ]
  },
  {
   "cell_type": "code",
   "execution_count": 5,
   "metadata": {},
   "outputs": [
    {
     "name": "stdout",
     "output_type": "stream",
     "text": [
      "383475\n"
     ]
    }
   ],
   "source": [
    "result = np.array([0, 2, 1])\n",
    "last_placed_index = 1\n",
    "scores = np.zeros(PLAYERS)\n",
    "\n",
    "for player, marble_num in zip(itertools.cycle(np.roll(np.array(range(PLAYERS)),-len(result))),\n",
    "                              range(max(result)+1, LAST_MARBLE+1)):\n",
    "    if marble_num % 23 != 0:\n",
    "        new_index = last_placed_index + 2\n",
    "        if new_index == len(result):\n",
    "            result = np.append(result, marble_num)\n",
    "        else:\n",
    "            new_index = new_index % len(result)\n",
    "            result = np.insert(result, new_index, marble_num)\n",
    "\n",
    "        last_placed_index = int(np.where(result == marble_num)[0][0])\n",
    "\n",
    "    else:\n",
    "        new_index = (len(result) + last_placed_index - 7) % len(result)\n",
    "        scores[player] += marble_num\n",
    "        scores[player] += result[new_index]\n",
    "        result = np.delete(result, new_index)\n",
    "        last_placed_index = new_index\n",
    "\n",
    "print(int(max(scores)))"
   ]
  },
  {
   "cell_type": "markdown",
   "metadata": {},
   "source": [
    "### Part 2\n",
    "Amused by the speed of your answer, the Elves are curious:\n",
    "\n",
    "What would the new winning Elf's score be if the number of the last marble were 100 times larger?"
   ]
  },
  {
   "cell_type": "code",
   "execution_count": 6,
   "metadata": {},
   "outputs": [],
   "source": [
    "PLAYERS = 465\n",
    "LAST_MARBLE = 7149800"
   ]
  },
  {
   "cell_type": "code",
   "execution_count": null,
   "metadata": {},
   "outputs": [],
   "source": [
    "result = np.array([0, 2, 1])\n",
    "last_placed_index = 1\n",
    "scores = np.zeros(PLAYERS)\n",
    "\n",
    "for player, marble_num in zip(itertools.cycle(np.roll(np.array(range(PLAYERS)),-len(result))),\n",
    "                              range(max(result)+1, LAST_MARBLE+1)):\n",
    "    if marble_num % 23 != 0:\n",
    "        new_index = last_placed_index + 2\n",
    "        if new_index == len(result):\n",
    "            result = np.append(result, marble_num)\n",
    "        else:\n",
    "            new_index = new_index % len(result)\n",
    "            result = np.insert(result, new_index, marble_num)\n",
    "\n",
    "        last_placed_index = int(np.where(result == marble_num)[0][0])\n",
    "\n",
    "    else:\n",
    "        new_index = (len(result) + last_placed_index - 7) % len(result)\n",
    "        scores[player] += marble_num\n",
    "        scores[player] += result[new_index]\n",
    "        result = np.delete(result, new_index)\n",
    "        last_placed_index = new_index\n",
    "\n",
    "print(int(max(scores)))"
   ]
  },
  {
   "cell_type": "code",
   "execution_count": null,
   "metadata": {},
   "outputs": [],
   "source": [
    "marble_num"
   ]
  },
  {
   "cell_type": "code",
   "execution_count": null,
   "metadata": {},
   "outputs": [],
   "source": []
  }
 ],
 "metadata": {
  "kernelspec": {
   "display_name": "Python 3",
   "language": "python",
   "name": "python3"
  },
  "language_info": {
   "codemirror_mode": {
    "name": "ipython",
    "version": 3
   },
   "file_extension": ".py",
   "mimetype": "text/x-python",
   "name": "python",
   "nbconvert_exporter": "python",
   "pygments_lexer": "ipython3",
   "version": "3.7.0"
  }
 },
 "nbformat": 4,
 "nbformat_minor": 2
}
