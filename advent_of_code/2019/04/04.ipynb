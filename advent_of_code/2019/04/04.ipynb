{
 "cells": [
  {
   "cell_type": "code",
   "execution_count": 1,
   "metadata": {},
   "outputs": [],
   "source": [
    "from pathlib import Path\n",
    "import itertools\n",
    "from collections import Counter\n",
    "from collections import defaultdict\n",
    "from pprint import pprint\n",
    "import re\n",
    "from datetime import datetime\n",
    "import numpy as np\n",
    "import functools\n",
    "from copy import copy, deepcopy\n",
    "from collections import namedtuple"
   ]
  },
  {
   "cell_type": "markdown",
   "metadata": {},
   "source": [
    "--- Day 4: Secure Container ---\n",
    "\n",
    "You arrive at the Venus fuel depot only to discover it's protected by a password. The Elves had written the password on a sticky note, but someone threw it out.\n",
    "\n",
    "However, they do remember a few key facts about the password:\n",
    "\n",
    "    It is a six-digit number.\n",
    "    The value is within the range given in your puzzle input.\n",
    "    Two adjacent digits are the same (like 22 in 122345).\n",
    "    Going from left to right, the digits never decrease; they only ever increase or stay the same (like 111123 or 135679).\n",
    "\n",
    "Other than the range rule, the following are true:\n",
    "\n",
    "    111111 meets these criteria (double 11, never decreases).\n",
    "    223450 does not meet these criteria (decreasing pair of digits 50).\n",
    "    123789 does not meet these criteria (no double).\n",
    "\n",
    "How many different passwords within the range given in your puzzle input meet these criteria?\n"
   ]
  },
  {
   "cell_type": "code",
   "execution_count": 2,
   "metadata": {},
   "outputs": [],
   "source": [
    "data_in = '272091-815432'"
   ]
  },
  {
   "cell_type": "code",
   "execution_count": 3,
   "metadata": {},
   "outputs": [],
   "source": [
    "def criteria(word):\n",
    "    meets = True\n",
    "    if '11' in word or \\\n",
    "    '22' in word or \\\n",
    "    '33' in word or \\\n",
    "    '44' in word or \\\n",
    "    '55' in word or \\\n",
    "    '66' in word or \\\n",
    "    '77' in word or \\\n",
    "    '88' in word or \\\n",
    "    '99' in word:\n",
    "        last_num = None\n",
    "        for x in word:\n",
    "            if last_num is not None:\n",
    "                if int(x) < last_num:\n",
    "                    meets = False\n",
    "            last_num = int(x)\n",
    "    else:\n",
    "        meets = False\n",
    "        \n",
    "    return meets"
   ]
  },
  {
   "cell_type": "code",
   "execution_count": 4,
   "metadata": {},
   "outputs": [
    {
     "data": {
      "text/plain": [
       "(True, False, False)"
      ]
     },
     "execution_count": 4,
     "metadata": {},
     "output_type": "execute_result"
    }
   ],
   "source": [
    "criteria('11111'), criteria('223450'), criteria('123789'), "
   ]
  },
  {
   "cell_type": "code",
   "execution_count": 5,
   "metadata": {},
   "outputs": [
    {
     "name": "stdout",
     "output_type": "stream",
     "text": [
      "931\n"
     ]
    }
   ],
   "source": [
    "count = 0\n",
    "for i in range(*map(int, data_in.split('-'))):\n",
    "    if criteria(str(i)):\n",
    "        count += 1\n",
    "print(count)"
   ]
  },
  {
   "cell_type": "markdown",
   "metadata": {},
   "source": [
    "--- Part Two ---\n",
    "\n",
    "An Elf just remembered one more important detail: the two adjacent matching digits are not part of a larger group of matching digits.\n",
    "\n",
    "Given this additional criterion, but still ignoring the range rule, the following are now true:\n",
    "\n",
    "    112233 meets these criteria because the digits never decrease and all repeated digits are exactly two digits long.\n",
    "    123444 no longer meets the criteria (the repeated 44 is part of a larger group of 444).\n",
    "    111122 meets the criteria (even though 1 is repeated more than twice, it still contains a double 22).\n",
    "\n",
    "How many different passwords within the range given in your puzzle input meet all of the criteria?\n"
   ]
  },
  {
   "cell_type": "code",
   "execution_count": 6,
   "metadata": {},
   "outputs": [],
   "source": [
    "def criteria_2(word):\n",
    "    meets = True\n",
    "    this_digit_ok = [False]*10\n",
    "    \n",
    "    for dig in '1234567890':\n",
    "        if dig*2 in word:\n",
    "            this_digit_ok[int(dig)] = True\n",
    "        for length in range(3,7):\n",
    "            if dig*length in word:\n",
    "                this_digit_ok[int(dig)] = False\n",
    "\n",
    "    if any(this_digit_ok):\n",
    "        last_num = None\n",
    "        for x in word:\n",
    "            if last_num is not None:\n",
    "                if int(x) < last_num:\n",
    "                    meets = False\n",
    "            last_num = int(x)\n",
    "    else:\n",
    "        return False\n",
    "    return meets"
   ]
  },
  {
   "cell_type": "code",
   "execution_count": 7,
   "metadata": {},
   "outputs": [
    {
     "data": {
      "text/plain": [
       "(True, False, True)"
      ]
     },
     "execution_count": 7,
     "metadata": {},
     "output_type": "execute_result"
    }
   ],
   "source": [
    "criteria_2('112233'), criteria_2('123444'), criteria_2('111122'), "
   ]
  },
  {
   "cell_type": "code",
   "execution_count": 8,
   "metadata": {},
   "outputs": [
    {
     "name": "stdout",
     "output_type": "stream",
     "text": [
      "609\n"
     ]
    }
   ],
   "source": [
    "count = 0\n",
    "for i in range(*map(int, data_in.split('-'))):\n",
    "    if criteria_2(str(i)):\n",
    "        count += 1\n",
    "print(count)"
   ]
  }
 ],
 "metadata": {
  "kernelspec": {
   "display_name": "Python 3",
   "language": "python",
   "name": "python3"
  },
  "language_info": {
   "codemirror_mode": {
    "name": "ipython",
    "version": 3
   },
   "file_extension": ".py",
   "mimetype": "text/x-python",
   "name": "python",
   "nbconvert_exporter": "python",
   "pygments_lexer": "ipython3",
   "version": "3.7.3"
  }
 },
 "nbformat": 4,
 "nbformat_minor": 2
}
