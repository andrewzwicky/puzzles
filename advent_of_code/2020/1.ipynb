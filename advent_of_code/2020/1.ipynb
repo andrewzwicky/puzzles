{
 "cells": [
  {
   "cell_type": "code",
   "execution_count": 36,
   "metadata": {},
   "outputs": [],
   "source": [
    "import requests\n",
    "from constants import INPUT_URL\n",
    "from session import SESSION\n",
    "import itertools"
   ]
  },
  {
   "cell_type": "code",
   "execution_count": 37,
   "metadata": {},
   "outputs": [],
   "source": [
    "DAY = 1"
   ]
  },
  {
   "cell_type": "code",
   "execution_count": 38,
   "metadata": {},
   "outputs": [],
   "source": [
    "resp = requests.get(INPUT_URL.format(DAY), cookies={\"session\":SESSION})"
   ]
  },
  {
   "cell_type": "code",
   "execution_count": 39,
   "metadata": {},
   "outputs": [
    {
     "name": "stdout",
     "output_type": "stream",
     "text": [
      "['1686', '1983', '1801', '1890', '1910', '1722', '1571', '1952', '1602', '1551', '1144', '1208', '1335', '1914', '1656', '1515', '1600', '1520', '1683', '1679', '1800', '1889', '1717', '1592', '1617', '1756', '1646', '1596', '1874', '1595', '1660', '1748', '1946', '1734', '1852', '2006', '1685', '1668', '1607', '1677', '403', '1312', '1828', '1627', '1925', '1657', '1536', '1522', '1557', '1636', '1586', '1654', '1541', '1363', '1844', '1951', '1765', '1872', '696', '1764', '1718', '1540', '1493', '1947', '1786', '1548', '1981', '1861', '1589', '1707', '1915', '1755', '1906', '1911', '1628', '1980', '1986', '1780', '1645', '741', '1727', '524', '1690', '1732', '1956', '1523', '1534', '1498', '1510', '372', '1777', '1585', '1614', '1712', '1650', '702', '1773', '1713', '1797', '1691', '1758', '1973', '1560', '1615', '1933', '1281', '1899', '1845', '1752', '1542', '1694', '1950', '1879', '1684', '1809', '1988', '1978', '1843', '1730', '1377', '1507', '1506', '1566', '935', '1851', '1995', '1796', '1900', '896', '171', '1728', '1635', '1810', '2003', '1580', '1789', '1709', '2007', '1639', '1726', '1537', '1976', '1538', '1544', '1626', '1876', '1840', '1953', '1710', '1661', '1563', '1836', '1358', '1550', '1112', '1832', '1555', '1394', '1912', '1884', '1524', '1689', '1775', '1724', '1366', '1966', '1549', '1931', '1975', '1500', '1667', '1674', '1771', '1631', '1662', '1902', '1970', '1864', '2004', '2010', '504', '1714', '1917', '1907', '1704', '1501', '1812', '1349', '1577', '1638', '1886', '1157', '1761', '1676', '1731', '2001', '1261', '1154', '1769', '1529']\n"
     ]
    }
   ],
   "source": [
    "data = resp.text.strip().split(\"\\n\")\n",
    "print(data)"
   ]
  },
  {
   "cell_type": "markdown",
   "metadata": {},
   "source": [
    "Before you leave, the Elves in accounting just need you to fix your expense report (your puzzle input); apparently, something isn't quite adding up.\n",
    "\n",
    "Specifically, they need you to find the two entries that sum to `2020` and then multiply those two numbers together.\n",
    "\n",
    "For example, suppose your expense report contained the following:\n",
    "\n",
    "    1721\n",
    "    979\n",
    "    366\n",
    "    299\n",
    "    675\n",
    "    1456\n",
    "\n",
    "In this list, the two entries that sum to `2020` are `1721` and `299`. Multiplying them together produces `1721 * 299 = 514579`, so the correct answer is `514579`.\n",
    "\n",
    "Of course, your expense report is much larger. Find the two entries that sum to `2020`; what do you get if you multiply them together?"
   ]
  },
  {
   "cell_type": "code",
   "execution_count": 40,
   "metadata": {},
   "outputs": [
    {
     "name": "stdout",
     "output_type": "stream",
     "text": [
      "651651\n"
     ]
    }
   ],
   "source": [
    "for a,b in itertools.permutations(list(map(int, data)), 2):\n",
    "    if a+b == 2020:\n",
    "        print(a*b)\n",
    "        break"
   ]
  },
  {
   "cell_type": "markdown",
   "metadata": {},
   "source": [
    "The Elves in accounting are thankful for your help; one of them even offers you a starfish coin they had left over from a past vacation. They offer you a second one if you can find three numbers in your expense report that meet the same criteria.\n",
    "\n",
    "Using the above example again, the three entries that sum to `2020` are `979`, `366`, and `675`. Multiplying them together produces the answer, `241861950`.\n",
    "\n",
    "In your expense report, what is the product of the three entries that sum to `2020`?"
   ]
  },
  {
   "cell_type": "code",
   "execution_count": 41,
   "metadata": {},
   "outputs": [
    {
     "name": "stdout",
     "output_type": "stream",
     "text": [
      "214486272\n"
     ]
    }
   ],
   "source": [
    "for a,b,c in itertools.permutations(list(map(int, data)), 3):\n",
    "    if a+b+c == 2020:\n",
    "        print(a*b*c)\n",
    "        break"
   ]
  }
 ],
 "metadata": {
  "kernelspec": {
   "display_name": "Python 3",
   "language": "python",
   "name": "python3"
  },
  "language_info": {
   "codemirror_mode": {
    "name": "ipython",
    "version": 3
   },
   "file_extension": ".py",
   "mimetype": "text/x-python",
   "name": "python",
   "nbconvert_exporter": "python",
   "pygments_lexer": "ipython3",
   "version": "3.7.5"
  }
 },
 "nbformat": 4,
 "nbformat_minor": 4
}
