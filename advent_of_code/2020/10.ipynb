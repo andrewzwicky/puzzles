{
 "cells": [
  {
   "cell_type": "code",
   "execution_count": 1,
   "metadata": {},
   "outputs": [],
   "source": [
    "%load_ext autoreload\n",
    "%autoreload 2"
   ]
  },
  {
   "cell_type": "code",
   "execution_count": 2,
   "metadata": {},
   "outputs": [],
   "source": [
    "import requests\n",
    "from session import SESSION\n",
    "from common import print_problem, get_problem_input, submit_answer\n",
    "from bs4 import BeautifulSoup\n",
    "from IPython.core.display import HTML\n",
    "from collections import Counter\n",
    "import re\n",
    "from collections import defaultdict\n",
    "from copy import copy\n",
    "import itertools"
   ]
  },
  {
   "cell_type": "code",
   "execution_count": 3,
   "metadata": {},
   "outputs": [],
   "source": [
    "DAY = 10"
   ]
  },
  {
   "cell_type": "code",
   "execution_count": 87,
   "metadata": {},
   "outputs": [
    {
     "name": "stdout",
     "output_type": "stream",
     "text": [
      "Raw Data:\n",
      "'35\\n111\\n135\\n32\\n150\\n5\\n106\\n154\\n41\\n7\\n27\\n117\\n109\\n63\\n64\\n21\\n138\\n98\\n40\\n71\\n144\\n13\\n66\\n48\\n1'\n",
      "Split Data:\n",
      "['35', '111', '135', '32', '150', '5', '106', '154', '41', '7']\n"
     ]
    }
   ],
   "source": [
    "raw_data, data = get_problem_input(DAY)"
   ]
  },
  {
   "cell_type": "code",
   "execution_count": 88,
   "metadata": {},
   "outputs": [],
   "source": [
    "int_data = list(map(int,data))"
   ]
  },
  {
   "cell_type": "code",
   "execution_count": 89,
   "metadata": {},
   "outputs": [],
   "source": [
    "def func(data):\n",
    "    highest = max(data) + 3\n",
    "    \n",
    "    sdata = sorted(data)\n",
    "    \n",
    "    last = 0\n",
    "    three = 0\n",
    "    one = 0\n",
    "    for i in sdata + [highest]:\n",
    "        if i - last == 1:\n",
    "            one += 1\n",
    "        elif i - last == 3:\n",
    "            three += 1\n",
    "        else:\n",
    "            pass\n",
    "        last = i\n",
    "        \n",
    "            \n",
    "    result = three * one\n",
    "    print(result)\n",
    "    return result"
   ]
  },
  {
   "cell_type": "code",
   "execution_count": 90,
   "metadata": {},
   "outputs": [
    {
     "name": "stdout",
     "output_type": "stream",
     "text": [
      "2030\n"
     ]
    }
   ],
   "source": [
    "first = func(int_data)"
   ]
  },
  {
   "cell_type": "code",
   "execution_count": 26,
   "metadata": {},
   "outputs": [
    {
     "name": "stdout",
     "output_type": "stream",
     "text": [
      "2030\n",
      "(\"That's the right answer!  You are one gold star closer to saving your \"\n",
      " 'vacation. [Continue to Part Two]')\n"
     ]
    },
    {
     "data": {
      "text/plain": [
       "True"
      ]
     },
     "execution_count": 26,
     "metadata": {},
     "output_type": "execute_result"
    }
   ],
   "source": [
    "submit_answer(DAY, 1, first)"
   ]
  },
  {
   "cell_type": "code",
   "execution_count": 92,
   "metadata": {},
   "outputs": [],
   "source": [
    "def check_all_options(sdata):\n",
    "    jump_dict = defaultdict(set)\n",
    "    for s in reversed(sdata):\n",
    "        for x in (1,2,3):\n",
    "            if s-x in sdata:\n",
    "                jump_dict[s].add(s-x)\n",
    "    \n",
    "    count_dict = defaultdict(int,{0:1})\n",
    "    \n",
    "    for s in sdata:\n",
    "        for x in jump_dict[s]:\n",
    "            count_dict[s] += count_dict[x]\n",
    "    \n",
    "    result = count_dict[max(sdata)]\n",
    "    print(result)\n",
    "    return result"
   ]
  },
  {
   "cell_type": "code",
   "execution_count": 94,
   "metadata": {},
   "outputs": [
    {
     "name": "stdout",
     "output_type": "stream",
     "text": [
      "42313823813632\n"
     ]
    }
   ],
   "source": [
    "second = check_all_options(sdata)"
   ]
  },
  {
   "cell_type": "code",
   "execution_count": 96,
   "metadata": {},
   "outputs": [
    {
     "name": "stdout",
     "output_type": "stream",
     "text": [
      "42313823813632\n",
      "(\"You don't seem to be solving the right level.  Did you already complete it? \"\n",
      " '[Return to Day 10]')\n"
     ]
    },
    {
     "data": {
      "text/plain": [
       "False"
      ]
     },
     "execution_count": 96,
     "metadata": {},
     "output_type": "execute_result"
    }
   ],
   "source": [
    "submit_answer(DAY, 2, second)"
   ]
  }
 ],
 "metadata": {
  "kernelspec": {
   "display_name": "Python 3",
   "language": "python",
   "name": "python3"
  },
  "language_info": {
   "codemirror_mode": {
    "name": "ipython",
    "version": 3
   },
   "file_extension": ".py",
   "mimetype": "text/x-python",
   "name": "python",
   "nbconvert_exporter": "python",
   "pygments_lexer": "ipython3",
   "version": "3.7.5"
  }
 },
 "nbformat": 4,
 "nbformat_minor": 4
}
