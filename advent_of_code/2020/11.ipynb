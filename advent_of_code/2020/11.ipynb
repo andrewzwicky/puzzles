{
 "cells": [
  {
   "cell_type": "code",
   "execution_count": 1,
   "metadata": {},
   "outputs": [],
   "source": [
    "%load_ext autoreload\n",
    "%autoreload 2"
   ]
  },
  {
   "cell_type": "code",
   "execution_count": 5,
   "metadata": {},
   "outputs": [],
   "source": [
    "import requests\n",
    "from session import SESSION\n",
    "from common import print_problem, get_problem_input, submit_answer\n",
    "from bs4 import BeautifulSoup\n",
    "from IPython.core.display import HTML\n",
    "from collections import Counter\n",
    "import re\n",
    "from collections import defaultdict\n",
    "from copy import copy\n",
    "import itertools"
   ]
  },
  {
   "cell_type": "code",
   "execution_count": 3,
   "metadata": {},
   "outputs": [],
   "source": [
    "DAY = 11"
   ]
  },
  {
   "cell_type": "code",
   "execution_count": 31,
   "metadata": {},
   "outputs": [
    {
     "name": "stdout",
     "output_type": "stream",
     "text": [
      "Raw Data:\n",
      "'LLLLLL.LLLLLLLLL.LLLLLLL.LLLLLLLLLLLLLLL.LLLLLL.LLLLLLL.LLLLLLLLLLLLL.LLLLL.LLLL'\n",
      "Split Data:\n",
      "['LLLLLL.LLLLLLLLL.LLLLLLL.LLLLLLLLLLLLLLL.LLLLLL.LLLLLLL.LLLLLLLLLLLLL.LLLLL.LLLLLLLLLLLLLLL',\n",
      " 'LLLLLL.LLLLLLLLL.LLLLLLL.LLLLLLLLL.LLLLL.LLLLLL.LLLLLLL.LLLLLLL.LLLLL.LLLLL.LLLLLLLLLLLLLLL',\n",
      " 'LLLLLL.LLLLLLLLL.LLLLLLLLLLLLLLLLL.LLLLL.LLLLLLLLLLLLLL.LLLLLLL.LLLLLLLLLLL.LLLLLLLL.LLLLLL',\n",
      " 'LLLLLL.LLLLLLLLL.LLLLLLL.LLLLLLLLLLLLLLLLLLLLLLLLLLLLLLLLLLLLLL.LLLLL.LLLLL.LLLLLLLL.LLLLLL',\n",
      " 'LLLLLLLLLLLLLLLL.LLLLLLL.LLLLLLLLL.LLLLLLLLLLLL.LLLLLLL.LLLLLLL.LLLLLLLLLLLLLLLLLLLLLLLLLLL',\n",
      " '.......L.L.....LL..L....LLL...L...........L.....L...LL...L.....L..LL..L..L.L...L........L.L',\n",
      " 'LLLLLL.LLLLLLLLL.LLLLLLL.LLLLLLLLL.LLLLL.LLLLLLLLLLLLLL.LLLLLLL.LLLLLLLLLLL.LLLLLLLL.LLLLLL',\n",
      " 'LLL.LL.LLLLLLLLL.LLLLLLL.LLLLLLLLL.LLLLLLLLLLLLLLLLLLLLLLLLLLLL.LLLLL.LLLLL.LLLLLLLLLLLLLLL',\n",
      " 'LLLLLL.LLLLLLLLL.LLLLLLL.LLLLLLLLLLLLLLL.LLLLLL.LLLLLLLLL.LLLLLLLLLLLLLLLLL.LLLLLLLLLLLLLL.',\n",
      " 'LLLLLLLLLLLLLLLL.LLLLLLL.LLLLLLLLLLLLLLL.LLLLL..LLLLLLL.LLLLLLL.LLLLL.LLLLL.LLLLLLLL.LLLLLL']\n"
     ]
    }
   ],
   "source": [
    "raw_data, data = get_problem_input(DAY)"
   ]
  },
  {
   "cell_type": "code",
   "execution_count": 12,
   "metadata": {},
   "outputs": [],
   "source": [
    "directions = [(0,1),(1,1),(-1,1),(0,-1),(-1,-1),(1,-1),(1,0),(-1,0)]"
   ]
  },
  {
   "cell_type": "code",
   "execution_count": 60,
   "metadata": {},
   "outputs": [],
   "source": [
    "def adjacent_seats(ir,ic,data):\n",
    "    rows = len(data)\n",
    "    cols = len(data[0])\n",
    "    result = []\n",
    "    for x,y in directions:\n",
    "        if 0 <= ir + x < rows and 0 <= ic + y < cols:\n",
    "            result.append(data[ir + x][ic + y])\n",
    "    return result"
   ]
  },
  {
   "cell_type": "code",
   "execution_count": 33,
   "metadata": {},
   "outputs": [],
   "source": [
    "input_data = deepcopy(data)"
   ]
  },
  {
   "cell_type": "code",
   "execution_count": 28,
   "metadata": {},
   "outputs": [],
   "source": [
    "from copy import deepcopy"
   ]
  },
  {
   "cell_type": "code",
   "execution_count": 56,
   "metadata": {},
   "outputs": [],
   "source": [
    "def func(data):\n",
    "    result = 0\n",
    "    count=1\n",
    "    \n",
    "    while True:\n",
    "        new_data = deepcopy(data)\n",
    "        #print(count)\n",
    "        for ir, row in enumerate(data):\n",
    "            #print(''.join(row))\n",
    "            for ic, col in enumerate(row):\n",
    "                adj = adjacent_seats(ir,ic,data)\n",
    "                if data[ir][ic] == 'L':\n",
    "                    if '#' not in adj:\n",
    "                        new_data[ir][ic] = '#'\n",
    "                elif data[ir][ic] == '#':\n",
    "                    if len([a for a in adj if a == '#']) >= 4:\n",
    "                        new_data[ir][ic] = 'L'\n",
    "        if new_data == data:\n",
    "            break\n",
    "        else:\n",
    "            data = new_data\n",
    "        \n",
    "        count += 1\n",
    "\n",
    "    occ = 0\n",
    "    for row in new_data:\n",
    "        for col in row:\n",
    "            if col == '#': occ +=1\n",
    "    print(occ)\n",
    "    return occ"
   ]
  },
  {
   "cell_type": "code",
   "execution_count": 59,
   "metadata": {},
   "outputs": [
    {
     "name": "stdout",
     "output_type": "stream",
     "text": [
      "7231\n"
     ]
    }
   ],
   "source": [
    "first = func(input_data)"
   ]
  },
  {
   "cell_type": "code",
   "execution_count": 50,
   "metadata": {},
   "outputs": [
    {
     "name": "stdout",
     "output_type": "stream",
     "text": [
      "2222\n",
      "(\"That's the right answer!  You are one gold star closer to saving your \"\n",
      " \"vacation. You got rank 608 on this star's leaderboard. [Continue to Part \"\n",
      " 'Two]')\n"
     ]
    },
    {
     "data": {
      "text/plain": [
       "True"
      ]
     },
     "execution_count": 50,
     "metadata": {},
     "output_type": "execute_result"
    }
   ],
   "source": [
    "submit_answer(DAY, 1, first)"
   ]
  },
  {
   "cell_type": "code",
   "execution_count": 61,
   "metadata": {},
   "outputs": [],
   "source": [
    "def adjacent_seats(ir,ic,data):\n",
    "    rows = len(data)\n",
    "    cols = len(data[0])\n",
    "    result = []\n",
    "    for x,y in directions:\n",
    "        for n in itertools.count(start=1):\n",
    "            nx=n*x\n",
    "            ny=n*y\n",
    "            if 0 <= ir + nx < rows and 0 <= ic + ny < cols:\n",
    "                if data[ir + nx][ic + ny] == '.':\n",
    "                    continue\n",
    "                \n",
    "                result.append(data[ir + nx][ic + ny])\n",
    "                break\n",
    "            else:\n",
    "                break\n",
    "    return result"
   ]
  },
  {
   "cell_type": "code",
   "execution_count": 62,
   "metadata": {},
   "outputs": [
    {
     "data": {
      "text/plain": [
       "['L', 'L', 'L']"
      ]
     },
     "execution_count": 62,
     "metadata": {},
     "output_type": "execute_result"
    }
   ],
   "source": [
    "adjacent_seats(0,0,test_data)"
   ]
  },
  {
   "cell_type": "code",
   "execution_count": 63,
   "metadata": {},
   "outputs": [],
   "source": [
    "def func2(data):\n",
    "    result = 0\n",
    "    count=1\n",
    "    \n",
    "    while True:\n",
    "        new_data = deepcopy(data)\n",
    "        #print(count)\n",
    "        for ir, row in enumerate(data):\n",
    "            #print(''.join(row))\n",
    "            for ic, col in enumerate(row):\n",
    "                adj = adjacent_seats(ir,ic,data)\n",
    "                if data[ir][ic] == 'L':\n",
    "                    if '#' not in adj:\n",
    "                        new_data[ir][ic] = '#'\n",
    "                elif data[ir][ic] == '#':\n",
    "                    if len([a for a in adj if a == '#']) >= 5:\n",
    "                        new_data[ir][ic] = 'L'\n",
    "        if new_data == data:\n",
    "            break\n",
    "        else:\n",
    "            data = new_data\n",
    "        \n",
    "        count += 1\n",
    "\n",
    "    occ = 0\n",
    "    for row in new_data:\n",
    "        for col in row:\n",
    "            if col == '#': occ +=1\n",
    "    print(occ)\n",
    "    return occ"
   ]
  },
  {
   "cell_type": "code",
   "execution_count": 65,
   "metadata": {},
   "outputs": [
    {
     "name": "stdout",
     "output_type": "stream",
     "text": [
      "2032\n"
     ]
    }
   ],
   "source": [
    "second = func2(input_data)"
   ]
  },
  {
   "cell_type": "code",
   "execution_count": 66,
   "metadata": {},
   "outputs": [
    {
     "name": "stdout",
     "output_type": "stream",
     "text": [
      "2032\n",
      "(\"That's the right answer!  You are one gold star closer to saving your \"\n",
      " \"vacation. You got rank 479 on this star's leaderboard.You have completed Day \"\n",
      " '11! You can [Shareon\\n'\n",
      " '  Twitter\\n'\n",
      " 'Mastodon] this victory or [Return to Your Advent Calendar].')\n"
     ]
    },
    {
     "data": {
      "text/plain": [
       "True"
      ]
     },
     "execution_count": 66,
     "metadata": {},
     "output_type": "execute_result"
    }
   ],
   "source": [
    "submit_answer(DAY, 2, second)"
   ]
  }
 ],
 "metadata": {
  "kernelspec": {
   "display_name": "Python 3",
   "language": "python",
   "name": "python3"
  },
  "language_info": {
   "codemirror_mode": {
    "name": "ipython",
    "version": 3
   },
   "file_extension": ".py",
   "mimetype": "text/x-python",
   "name": "python",
   "nbconvert_exporter": "python",
   "pygments_lexer": "ipython3",
   "version": "3.7.5"
  }
 },
 "nbformat": 4,
 "nbformat_minor": 4
}
