{
 "cells": [
  {
   "cell_type": "code",
   "execution_count": 1,
   "metadata": {},
   "outputs": [],
   "source": [
    "%load_ext autoreload\n",
    "%autoreload 2"
   ]
  },
  {
   "cell_type": "code",
   "execution_count": 6,
   "metadata": {},
   "outputs": [],
   "source": [
    "import requests\n",
    "from session import SESSION\n",
    "from common import print_problem, get_problem_input, submit_answer\n",
    "from bs4 import BeautifulSoup\n",
    "from IPython.core.display import HTML\n",
    "from collections import Counter\n",
    "import re\n",
    "from collections import defaultdict\n",
    "from copy import copy, deepcopy\n",
    "import itertools"
   ]
  },
  {
   "cell_type": "code",
   "execution_count": 4,
   "metadata": {},
   "outputs": [],
   "source": [
    "DAY = 12"
   ]
  },
  {
   "cell_type": "code",
   "execution_count": 60,
   "metadata": {},
   "outputs": [
    {
     "name": "stdout",
     "output_type": "stream",
     "text": [
      "Raw Data:\n",
      "'W4\\nN5\\nF23\\nE1\\nL90\\nN5\\nF62\\nW2\\nL90\\nF56\\nW1\\nL90\\nW1\\nS4\\nF69\\nR90\\nF40\\nR90\\nF86\\nS4\\nF94\\nN4\\nR1'\n",
      "Split Data:\n",
      "['W4', 'N5', 'F23', 'E1', 'L90', 'N5', 'F62', 'W2', 'L90', 'F56']\n"
     ]
    }
   ],
   "source": [
    "raw_data, data = get_problem_input(DAY)"
   ]
  },
  {
   "cell_type": "code",
   "execution_count": 65,
   "metadata": {},
   "outputs": [],
   "source": [
    "def func(data):\n",
    "    result = 0\n",
    "    \n",
    "    # 1e, 2n, 3w, 4s\n",
    "    direction = 'E'\n",
    "    x=y=0\n",
    "    for line in data:\n",
    "        #print(x,y,direction,line)\n",
    "        i,*n = line\n",
    "        n = int(''.join(n))\n",
    "        if i == 'F':\n",
    "            #print('forward')\n",
    "            if direction == 'E':\n",
    "                x += n\n",
    "            if direction == 'W':\n",
    "                x -= n\n",
    "            if direction == 'N':\n",
    "                y += n\n",
    "            if direction == 'S':\n",
    "                y -= n\n",
    "        elif i == 'E':\n",
    "            #print('east')\n",
    "            x += n\n",
    "        elif i == 'W':\n",
    "            #print('west')\n",
    "            x -= n\n",
    "        elif i == 'N':\n",
    "            #print('north')\n",
    "            y += n\n",
    "        elif i == 'S':\n",
    "            #print('south')\n",
    "            y -= n\n",
    "        elif i == 'L':\n",
    "            for _ in range(n//90):\n",
    "                #print('left')\n",
    "                if direction == 'E':\n",
    "                    direction = 'N'\n",
    "                elif direction == 'W':\n",
    "                    direction = 'S'\n",
    "                elif direction == 'N':\n",
    "                    direction = 'W'\n",
    "                elif direction == 'S':\n",
    "                    direction = 'E'\n",
    "        elif i == 'R':\n",
    "            for _ in range(n//90):\n",
    "                #print('right')\n",
    "                if direction == 'E':\n",
    "                    direction = 'S'\n",
    "                elif direction == 'W':\n",
    "                    direction = 'N'\n",
    "                elif direction == 'N':\n",
    "                    direction = 'E'\n",
    "                elif direction == 'S':\n",
    "                    direction = 'W'\n",
    "        else:\n",
    "            raise ValueError\n",
    "            \n",
    "    #print(x,y,direction,line)\n",
    "    result = abs(x) + abs(y)\n",
    "    print(result)\n",
    "    return result"
   ]
  },
  {
   "cell_type": "code",
   "execution_count": 66,
   "metadata": {},
   "outputs": [
    {
     "name": "stdout",
     "output_type": "stream",
     "text": [
      "2297\n"
     ]
    }
   ],
   "source": [
    "first = func(data)"
   ]
  },
  {
   "cell_type": "code",
   "execution_count": 62,
   "metadata": {},
   "outputs": [
    {
     "name": "stdout",
     "output_type": "stream",
     "text": [
      "2297\n",
      "(\"That's the right answer!  You are one gold star closer to saving your \"\n",
      " 'vacation. [Continue to Part Two]')\n"
     ]
    },
    {
     "data": {
      "text/plain": [
       "True"
      ]
     },
     "execution_count": 62,
     "metadata": {},
     "output_type": "execute_result"
    }
   ],
   "source": [
    "submit_answer(DAY, 1, first)"
   ]
  },
  {
   "cell_type": "code",
   "execution_count": 112,
   "metadata": {},
   "outputs": [],
   "source": [
    "def func2(data):\n",
    "    result = 0\n",
    "    \n",
    "    # 1e, 2n, 3w, 4s\n",
    "    direction = 'E'\n",
    "    x=0\n",
    "    y=0\n",
    "    wx=10\n",
    "    wy=1\n",
    "    for line in data:\n",
    "        #print(x,y,wx,wy,wx-x,wy-y,direction,line)\n",
    "        i,*n = line\n",
    "        n = int(''.join(n))\n",
    "        if i == 'F':\n",
    "            #print('forward')\n",
    "            xd = (wx-x)\n",
    "            yd = (wy-y)\n",
    "            for _ in range(n):\n",
    "                x += xd\n",
    "                y += yd\n",
    "                wx += xd\n",
    "                wy += yd\n",
    "        elif i == 'E':\n",
    "            #print('east')\n",
    "            wx += n\n",
    "        elif i == 'W':\n",
    "            #print('west')\n",
    "            wx -= n\n",
    "        elif i == 'N':\n",
    "            #print('north')\n",
    "            wy += n\n",
    "        elif i == 'S':\n",
    "            #print('south')\n",
    "            wy -= n\n",
    "        elif i == 'L':\n",
    "            for _ in range(n//90):\n",
    "                _wx = wx - x\n",
    "                _wy = wy - y\n",
    "                #print(_wx, _wy)\n",
    "                #print('left')\n",
    "                __wy = _wx\n",
    "                __wx = -_wy\n",
    "                wx = x + __wx\n",
    "                wy = y + __wy\n",
    "        elif i == 'R':\n",
    "            for _ in range(n//90):\n",
    "                _wx = wx - x\n",
    "                _wy = wy - y\n",
    "                #print(_wx, _wy)\n",
    "                #print('right')\n",
    "                __wy = -_wx\n",
    "                __wx = _wy\n",
    "                wx = x + __wx\n",
    "                wy = y + __wy\n",
    "        else:\n",
    "            raise ValueError\n",
    "            \n",
    "    #print(x,y,wx,wy,wx-x,wy-y,direction,line)\n",
    "    result = abs(wx) + abs(wy)\n",
    "    print(result)\n",
    "    return result"
   ]
  },
  {
   "cell_type": "code",
   "execution_count": 113,
   "metadata": {},
   "outputs": [
    {
     "name": "stdout",
     "output_type": "stream",
     "text": [
      "89984\n"
     ]
    }
   ],
   "source": [
    "second = func2(data)"
   ]
  },
  {
   "cell_type": "code",
   "execution_count": 109,
   "metadata": {},
   "outputs": [
    {
     "name": "stdout",
     "output_type": "stream",
     "text": [
      "89984\n",
      "(\"That's the right answer!  You are one gold star closer to saving your \"\n",
      " 'vacation.You have completed Day 12! You can [Shareon\\n'\n",
      " '  Twitter\\n'\n",
      " 'Mastodon] this victory or [Return to Your Advent Calendar].')\n"
     ]
    },
    {
     "data": {
      "text/plain": [
       "True"
      ]
     },
     "execution_count": 109,
     "metadata": {},
     "output_type": "execute_result"
    }
   ],
   "source": [
    "submit_answer(DAY, 2, second)"
   ]
  }
 ],
 "metadata": {
  "kernelspec": {
   "display_name": "Python 3",
   "language": "python",
   "name": "python3"
  },
  "language_info": {
   "codemirror_mode": {
    "name": "ipython",
    "version": 3
   },
   "file_extension": ".py",
   "mimetype": "text/x-python",
   "name": "python",
   "nbconvert_exporter": "python",
   "pygments_lexer": "ipython3",
   "version": "3.7.5"
  }
 },
 "nbformat": 4,
 "nbformat_minor": 4
}
