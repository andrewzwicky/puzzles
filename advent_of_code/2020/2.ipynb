{
 "cells": [
  {
   "cell_type": "code",
   "execution_count": 1,
   "metadata": {},
   "outputs": [],
   "source": [
    "%load_ext autoreload\n",
    "%autoreload 2"
   ]
  },
  {
   "cell_type": "code",
   "execution_count": 2,
   "metadata": {},
   "outputs": [],
   "source": [
    "import requests\n",
    "from session import SESSION\n",
    "from common import print_problem, get_problem_input, submit_answer\n",
    "from bs4 import BeautifulSoup\n",
    "from IPython.core.display import HTML"
   ]
  },
  {
   "cell_type": "code",
   "execution_count": 16,
   "metadata": {},
   "outputs": [],
   "source": [
    "DAY = 2"
   ]
  },
  {
   "cell_type": "code",
   "execution_count": 18,
   "metadata": {},
   "outputs": [
    {
     "name": "stdout",
     "output_type": "stream",
     "text": [
      "Data Sample:\n",
      "['1-7 q: qqqqxvqrkbqqztlqlzq',\n",
      " '1-3 q: cqbm',\n",
      " '15-16 h: hhhhhhhhhhhhhhbsh',\n",
      " '4-16 x: xvbxswpnvxtnfjrxxx',\n",
      " '6-7 v: kbbvnswp',\n",
      " '17-18 h: hhhvhhhhhhhhhhhhhh',\n",
      " '1-7 w: twftdrb',\n",
      " '4-5 t: wcjtfpt',\n",
      " '3-9 f: mbfvfptbfq',\n",
      " '3-10 x: xfxxxxxxxv']\n"
     ]
    }
   ],
   "source": [
    "data = get_problem_input(DAY)"
   ]
  },
  {
   "cell_type": "code",
   "execution_count": 19,
   "metadata": {},
   "outputs": [],
   "source": [
    "from collections import Counter"
   ]
  },
  {
   "cell_type": "code",
   "execution_count": 20,
   "metadata": {},
   "outputs": [],
   "source": [
    "def func(data):\n",
    "    result = 0\n",
    "    \n",
    "    for p in data:\n",
    "        num, letter, pw = p.split(' ')\n",
    "        low, high = num.split('-')\n",
    "        low = int(low)\n",
    "        high = int(high)\n",
    "        letter = letter[0]\n",
    "        #print(low, high, letter, pw)\n",
    "        c = Counter(pw)\n",
    "        if c[letter] <= high and c[letter] >= low:\n",
    "            result +=1\n",
    "    \n",
    "    print(result)\n",
    "    return result"
   ]
  },
  {
   "cell_type": "code",
   "execution_count": 21,
   "metadata": {},
   "outputs": [
    {
     "name": "stdout",
     "output_type": "stream",
     "text": [
      "500\n"
     ]
    }
   ],
   "source": [
    "first = func(data)"
   ]
  },
  {
   "cell_type": "code",
   "execution_count": 22,
   "metadata": {},
   "outputs": [
    {
     "name": "stdout",
     "output_type": "stream",
     "text": [
      "500\n",
      "(\"You don't seem to be solving the right level.  Did you already complete it? \"\n",
      " '[Return to Day 2]')\n"
     ]
    },
    {
     "data": {
      "text/plain": [
       "False"
      ]
     },
     "execution_count": 22,
     "metadata": {},
     "output_type": "execute_result"
    }
   ],
   "source": [
    "submit_answer(DAY, 1, first)"
   ]
  },
  {
   "cell_type": "code",
   "execution_count": 24,
   "metadata": {},
   "outputs": [],
   "source": [
    "def func2(data):\n",
    "    result = 0\n",
    "    \n",
    "    for p in data:\n",
    "        num, letter, pw = p.split(' ')\n",
    "        low, high = num.split('-')\n",
    "        low = int(low)\n",
    "        high = int(high)\n",
    "        letter = letter[0]\n",
    "        #print(low, high, letter, pw)\n",
    "        if Counter([pw[low-1], pw[high-1]])[letter] == 1:\n",
    "            result += 1\n",
    "    \n",
    "    print(result)\n",
    "    return result"
   ]
  },
  {
   "cell_type": "code",
   "execution_count": 25,
   "metadata": {},
   "outputs": [
    {
     "name": "stdout",
     "output_type": "stream",
     "text": [
      "313\n"
     ]
    }
   ],
   "source": [
    "second = func2(data)"
   ]
  },
  {
   "cell_type": "code",
   "execution_count": 26,
   "metadata": {},
   "outputs": [
    {
     "name": "stdout",
     "output_type": "stream",
     "text": [
      "313\n",
      "(\"You don't seem to be solving the right level.  Did you already complete it? \"\n",
      " '[Return to Day 2]')\n"
     ]
    },
    {
     "data": {
      "text/plain": [
       "False"
      ]
     },
     "execution_count": 26,
     "metadata": {},
     "output_type": "execute_result"
    }
   ],
   "source": [
    "submit_answer(DAY, 2, second)"
   ]
  }
 ],
 "metadata": {
  "kernelspec": {
   "display_name": "Python 3",
   "language": "python",
   "name": "python3"
  },
  "language_info": {
   "codemirror_mode": {
    "name": "ipython",
    "version": 3
   },
   "file_extension": ".py",
   "mimetype": "text/x-python",
   "name": "python",
   "nbconvert_exporter": "python",
   "pygments_lexer": "ipython3",
   "version": "3.7.5"
  }
 },
 "nbformat": 4,
 "nbformat_minor": 4
}
