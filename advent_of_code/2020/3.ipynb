{
 "cells": [
  {
   "cell_type": "code",
   "execution_count": 1,
   "metadata": {},
   "outputs": [],
   "source": [
    "%load_ext autoreload\n",
    "%autoreload 2"
   ]
  },
  {
   "cell_type": "code",
   "execution_count": 51,
   "metadata": {},
   "outputs": [],
   "source": [
    "import requests\n",
    "from session import SESSION\n",
    "from common import print_problem, get_problem_input, submit_answer\n",
    "from bs4 import BeautifulSoup\n",
    "from IPython.core.display import HTML\n",
    "from collections import Counter"
   ]
  },
  {
   "cell_type": "code",
   "execution_count": 3,
   "metadata": {},
   "outputs": [],
   "source": [
    "DAY = 3"
   ]
  },
  {
   "cell_type": "code",
   "execution_count": 5,
   "metadata": {},
   "outputs": [
    {
     "name": "stdout",
     "output_type": "stream",
     "text": [
      "Data Sample:\n",
      "['.##.............##......#.....#',\n",
      " '.#.#................#..........',\n",
      " '...#..#.##..#.#......#.#.#.#..#',\n",
      " '..#......#........#..#..#.#.#..',\n",
      " '.......#....#..#..#.......#....',\n",
      " '..#..#..##.#...#........#.###..',\n",
      " '..#...#..#.....#.##....#.......',\n",
      " '....#..###.#......#.##..#...##.',\n",
      " '..#..........#.##.#...#........',\n",
      " '#...#............##....#..##...']\n"
     ]
    }
   ],
   "source": [
    "data = get_problem_input(DAY)"
   ]
  },
  {
   "cell_type": "code",
   "execution_count": 54,
   "metadata": {},
   "outputs": [],
   "source": [
    "def func(data):\n",
    "    result = 0\n",
    "\n",
    "    y = 0 # top down\n",
    "    x = 0\n",
    "    \n",
    "    while y <= len(data):\n",
    "        y += 1\n",
    "        x += 3\n",
    "        \n",
    "        x %= len(data[0])\n",
    "        \n",
    "        if y >= len(data):\n",
    "            break\n",
    "        \n",
    "        if data[y][x] == \"#\":\n",
    "            result +=1\n",
    "    \n",
    "    print(result)\n",
    "    return result"
   ]
  },
  {
   "cell_type": "code",
   "execution_count": 53,
   "metadata": {},
   "outputs": [
    {
     "name": "stdout",
     "output_type": "stream",
     "text": [
      "176\n"
     ]
    }
   ],
   "source": [
    "first = func(data)"
   ]
  },
  {
   "cell_type": "code",
   "execution_count": 27,
   "metadata": {},
   "outputs": [
    {
     "name": "stdout",
     "output_type": "stream",
     "text": [
      "176\n",
      "(\"That's the right answer!  You are one gold star closer to saving your \"\n",
      " 'vacation. [Continue to Part Two]')\n"
     ]
    },
    {
     "data": {
      "text/plain": [
       "True"
      ]
     },
     "execution_count": 27,
     "metadata": {},
     "output_type": "execute_result"
    }
   ],
   "source": [
    "submit_answer(DAY, 1, first)"
   ]
  },
  {
   "cell_type": "code",
   "execution_count": 55,
   "metadata": {},
   "outputs": [],
   "source": [
    "def func2(data):\n",
    "    results = []\n",
    "\n",
    "    coords = [\n",
    "        (1,1),\n",
    "        (3,1),\n",
    "        (5,1),\n",
    "        (7,1),\n",
    "        (1,2),\n",
    "    ]\n",
    "    for r,d in coords:\n",
    "        y = 0 # top down\n",
    "        x = 0\n",
    "        \n",
    "        result = 0\n",
    "        while y <= len(data):\n",
    "            y += d\n",
    "            x += r\n",
    "\n",
    "            x %= len(data[0])\n",
    "\n",
    "            if y >= len(data):\n",
    "                break\n",
    "\n",
    "            if data[y][x] == \"#\":\n",
    "                result +=1\n",
    "        \n",
    "        results.append(result)\n",
    "    total = 1\n",
    "    \n",
    "    for r in results:\n",
    "        total = total * r\n",
    "    print(total)\n",
    "    return total"
   ]
  },
  {
   "cell_type": "code",
   "execution_count": 56,
   "metadata": {},
   "outputs": [
    {
     "name": "stdout",
     "output_type": "stream",
     "text": [
      "5872458240\n"
     ]
    }
   ],
   "source": [
    "second = func2(data)"
   ]
  },
  {
   "cell_type": "code",
   "execution_count": 46,
   "metadata": {},
   "outputs": [
    {
     "name": "stdout",
     "output_type": "stream",
     "text": [
      "5872458240\n",
      "(\"That's the right answer!  You are one gold star closer to saving your \"\n",
      " 'vacation.You have completed Day 3! You can [Shareon\\n'\n",
      " '  Twitter\\n'\n",
      " 'Mastodon] this victory or [Return to Your Advent Calendar].')\n"
     ]
    },
    {
     "data": {
      "text/plain": [
       "True"
      ]
     },
     "execution_count": 46,
     "metadata": {},
     "output_type": "execute_result"
    }
   ],
   "source": [
    "submit_answer(DAY, 2, second)"
   ]
  }
 ],
 "metadata": {
  "kernelspec": {
   "display_name": "Python 3",
   "language": "python",
   "name": "python3"
  },
  "language_info": {
   "codemirror_mode": {
    "name": "ipython",
    "version": 3
   },
   "file_extension": ".py",
   "mimetype": "text/x-python",
   "name": "python",
   "nbconvert_exporter": "python",
   "pygments_lexer": "ipython3",
   "version": "3.7.5"
  }
 },
 "nbformat": 4,
 "nbformat_minor": 4
}
