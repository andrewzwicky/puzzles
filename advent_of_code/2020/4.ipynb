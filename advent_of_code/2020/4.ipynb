{
 "cells": [
  {
   "cell_type": "code",
   "execution_count": 3,
   "metadata": {},
   "outputs": [],
   "source": [
    "%load_ext autoreload\n",
    "%autoreload 2"
   ]
  },
  {
   "cell_type": "code",
   "execution_count": 4,
   "metadata": {},
   "outputs": [],
   "source": [
    "import requests\n",
    "from session import SESSION\n",
    "from common import print_problem, get_problem_input, submit_answer\n",
    "from bs4 import BeautifulSoup\n",
    "from IPython.core.display import HTML\n",
    "from collections import Counter"
   ]
  },
  {
   "cell_type": "code",
   "execution_count": 5,
   "metadata": {},
   "outputs": [],
   "source": [
    "DAY = 4"
   ]
  },
  {
   "cell_type": "code",
   "execution_count": 37,
   "metadata": {},
   "outputs": [
    {
     "name": "stdout",
     "output_type": "stream",
     "text": [
      "Data Sample:\n",
      "['hcl:#6b5442 ecl:brn iyr:2019',\n",
      " 'pid:637485594 hgt:171cm',\n",
      " 'eyr:2021 byr:1986',\n",
      " '',\n",
      " 'eyr:2025 iyr:1938 byr:2014 hcl:#341e13',\n",
      " 'hgt:66cm',\n",
      " 'pid:70195175',\n",
      " '',\n",
      " 'hcl:#efcc98',\n",
      " 'iyr:2011 ecl:hzl']\n"
     ]
    }
   ],
   "source": [
    "data = get_problem_input(DAY)"
   ]
  },
  {
   "cell_type": "code",
   "execution_count": 11,
   "metadata": {},
   "outputs": [],
   "source": [
    "most = {'byr', 'iyr', 'eyr', 'hgt', 'hcl', 'ecl', 'pid', 'cid'}\n",
    "miss = {'byr', 'iyr', 'eyr', 'hgt', 'hcl', 'ecl', 'pid'}"
   ]
  },
  {
   "cell_type": "code",
   "execution_count": 49,
   "metadata": {},
   "outputs": [],
   "source": [
    "def func(data):\n",
    "    result = 0\n",
    "    \n",
    "    fields = set()\n",
    "    for line in data:\n",
    "        if line == '':\n",
    "            valid = (fields == most or fields == miss)\n",
    "            if valid:\n",
    "                result += 1\n",
    "            fields=set()\n",
    "            continue\n",
    "\n",
    "        t = line.split(' ')\n",
    "        x = [_t.split(':') for _t in t]\n",
    "        \n",
    "        for f,v in x:\n",
    "            fields.add(f)\n",
    "    \n",
    "    valid = (fields == most or fields == miss)\n",
    "    if valid:\n",
    "        result += 1\n",
    "    \n",
    "    print(result)\n",
    "    return result"
   ]
  },
  {
   "cell_type": "code",
   "execution_count": 50,
   "metadata": {},
   "outputs": [
    {
     "name": "stdout",
     "output_type": "stream",
     "text": [
      "196\n"
     ]
    }
   ],
   "source": [
    "first = func(data)"
   ]
  },
  {
   "cell_type": "code",
   "execution_count": 52,
   "metadata": {},
   "outputs": [
    {
     "name": "stdout",
     "output_type": "stream",
     "text": [
      "196\n",
      "(\"That's the right answer!  You are one gold star closer to saving your \"\n",
      " 'vacation. [Continue to Part Two]')\n"
     ]
    },
    {
     "data": {
      "text/plain": [
       "True"
      ]
     },
     "execution_count": 52,
     "metadata": {},
     "output_type": "execute_result"
    }
   ],
   "source": [
    "submit_answer(DAY, 1, first)"
   ]
  },
  {
   "cell_type": "code",
   "execution_count": 55,
   "metadata": {},
   "outputs": [],
   "source": [
    "import re"
   ]
  },
  {
   "cell_type": "code",
   "execution_count": 64,
   "metadata": {},
   "outputs": [],
   "source": [
    "hgt_re = re.compile('^(\\d+)(in|cm)$')"
   ]
  },
  {
   "cell_type": "code",
   "execution_count": 66,
   "metadata": {},
   "outputs": [],
   "source": [
    "hcl_re = re.compile('^#[a-f0-9]{6}$')"
   ]
  },
  {
   "cell_type": "code",
   "execution_count": 67,
   "metadata": {},
   "outputs": [],
   "source": [
    "pid_re = re.compile('^[0-9]{9}$')"
   ]
  },
  {
   "cell_type": "code",
   "execution_count": 127,
   "metadata": {},
   "outputs": [],
   "source": [
    "def func2(data):\n",
    "    result = 0\n",
    "    \n",
    "    fields = dict()\n",
    "    valid_fail = False\n",
    "    for line in data:\n",
    "        if line == '':\n",
    "            valid = (set(fields.keys()) == most or set(fields.keys()) == miss)\n",
    "            if valid:\n",
    "                for f,v in fields.items():\n",
    "                    try:\n",
    "                        if f=='byr':\n",
    "                            if len(v) != 4 or int(v) > 2002 or int(v) < 1920:\n",
    "                                valid_fail = True\n",
    "\n",
    "                        if f=='iyr':\n",
    "                            if len(v) != 4 or int(v) > 2020 or int(v) < 2010:\n",
    "                                valid_fail = True\n",
    "\n",
    "                        if f=='eyr':\n",
    "                            if len(v) != 4 or int(v) > 2030 or int(v) < 2020:\n",
    "                                valid_fail = True\n",
    "\n",
    "                        if f=='hgt':\n",
    "                            m = hgt_re.fullmatch(v)\n",
    "                            if m:\n",
    "                                n,unit = m.groups()\n",
    "                                if unit =='cm':\n",
    "                                    if int(n) > 193 or int(n) < 150:\n",
    "                                        valid_fail = True\n",
    "                                if unit =='in':\n",
    "                                    if int(n) > 76 or int(n) < 59:\n",
    "                                        valid_fail = True\n",
    "                            else:\n",
    "                                valid_fail = True\n",
    "\n",
    "                        if f=='hcl':\n",
    "                            m = hcl_re.fullmatch(v)\n",
    "                            if not m:\n",
    "                                valid_fail= True\n",
    "\n",
    "                        if f == 'ecl':\n",
    "                            if v not in {'amb','blu','brn','gry','grn','hzl','oth'}:\n",
    "                                valid_fail=True\n",
    "\n",
    "\n",
    "                        if f=='pid':\n",
    "                            m = pid_re.fullmatch(v)\n",
    "                            if not m:\n",
    "                                valid_fail= True\n",
    "\n",
    "                    except TypeError:\n",
    "                        valid_fail=True\n",
    "                \n",
    "                if not valid_fail:\n",
    "                    result += 1\n",
    "            \n",
    "            fields=dict()\n",
    "            valid_fail = False\n",
    "            continue\n",
    "\n",
    "        t = line.split(' ')\n",
    "        x = [_t.split(':') for _t in t]\n",
    "        \n",
    "        for f,d in x:\n",
    "            fields[f] = d\n",
    "    \n",
    "    valid = (fields == most or fields == miss)\n",
    "    if valid and not valid_fail:\n",
    "        result += 1\n",
    "    \n",
    "    print(result)\n",
    "    return result"
   ]
  },
  {
   "cell_type": "code",
   "execution_count": 128,
   "metadata": {},
   "outputs": [
    {
     "name": "stdout",
     "output_type": "stream",
     "text": [
      "114\n"
     ]
    }
   ],
   "source": [
    "second = func2(data)"
   ]
  },
  {
   "cell_type": "code",
   "execution_count": 126,
   "metadata": {},
   "outputs": [
    {
     "name": "stdout",
     "output_type": "stream",
     "text": [
      "114\n",
      "(\"That's the right answer!  You are one gold star closer to saving your \"\n",
      " 'vacation.You have completed Day 4! You can [Shareon\\n'\n",
      " '  Twitter\\n'\n",
      " 'Mastodon] this victory or [Return to Your Advent Calendar].')\n"
     ]
    },
    {
     "data": {
      "text/plain": [
       "True"
      ]
     },
     "execution_count": 126,
     "metadata": {},
     "output_type": "execute_result"
    }
   ],
   "source": [
    "submit_answer(DAY, 2, second)"
   ]
  }
 ],
 "metadata": {
  "kernelspec": {
   "display_name": "Python 3",
   "language": "python",
   "name": "python3"
  },
  "language_info": {
   "codemirror_mode": {
    "name": "ipython",
    "version": 3
   },
   "file_extension": ".py",
   "mimetype": "text/x-python",
   "name": "python",
   "nbconvert_exporter": "python",
   "pygments_lexer": "ipython3",
   "version": "3.7.5"
  }
 },
 "nbformat": 4,
 "nbformat_minor": 4
}
