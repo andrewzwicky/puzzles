{
 "cells": [
  {
   "cell_type": "code",
   "execution_count": 1,
   "metadata": {},
   "outputs": [],
   "source": [
    "%load_ext autoreload\n",
    "%autoreload 2"
   ]
  },
  {
   "cell_type": "code",
   "execution_count": 2,
   "metadata": {},
   "outputs": [],
   "source": [
    "import requests\n",
    "from session import SESSION\n",
    "from common import print_problem, get_problem_input, submit_answer\n",
    "from bs4 import BeautifulSoup\n",
    "from IPython.core.display import HTML\n",
    "from collections import Counter"
   ]
  },
  {
   "cell_type": "code",
   "execution_count": 4,
   "metadata": {},
   "outputs": [],
   "source": [
    "DAY = 5"
   ]
  },
  {
   "cell_type": "code",
   "execution_count": 10,
   "metadata": {},
   "outputs": [
    {
     "name": "stdout",
     "output_type": "stream",
     "text": [
      "Data Sample:\n",
      "['FBBFBFBLRR',\n",
      " 'FBFFFFFLLR',\n",
      " 'FBBBBBBLLR',\n",
      " 'FFBFBBBRLL',\n",
      " 'FBBFFFFLRR',\n",
      " 'BFFBFFFLLL',\n",
      " 'FFBFFFFRLR',\n",
      " 'FBBBBFBRLR',\n",
      " 'BFBFFBBRRL',\n",
      " 'FFFBBBBLLL']\n"
     ]
    }
   ],
   "source": [
    "data = get_problem_input(DAY)"
   ]
  },
  {
   "cell_type": "code",
   "execution_count": 46,
   "metadata": {},
   "outputs": [],
   "source": [
    "def func(data):\n",
    "    result = 0\n",
    "    max_sid = 0\n",
    "\n",
    "    for line in data:\n",
    "        l=0\n",
    "        h=127\n",
    "        rl=0\n",
    "        rh=7\n",
    "        for x in line:\n",
    "            m = ((h-l)//2 + l)\n",
    "            if x =='F':\n",
    "                h = m\n",
    "            if x == 'B':\n",
    "                l = m+1\n",
    "            rm = ((rh-rl)//2 + rl)\n",
    "            if x =='L':\n",
    "                rh = rm\n",
    "            if x == 'R':\n",
    "                rl = rm+1\n",
    "            #print(x,m,l,h,rl,rh)\n",
    "        row = l\n",
    "        col = rl\n",
    "        \n",
    "        sid = row * 8 +col\n",
    "        max_sid = max(sid, max_sid)\n",
    "    print(max_sid)\n",
    "    return max_sid"
   ]
  },
  {
   "cell_type": "code",
   "execution_count": 47,
   "metadata": {},
   "outputs": [
    {
     "name": "stdout",
     "output_type": "stream",
     "text": [
      "963\n"
     ]
    }
   ],
   "source": [
    "first = func(data)"
   ]
  },
  {
   "cell_type": "code",
   "execution_count": 45,
   "metadata": {},
   "outputs": [
    {
     "name": "stdout",
     "output_type": "stream",
     "text": [
      "963\n",
      "(\"That's the right answer!  You are one gold star closer to saving your \"\n",
      " \"vacation. You got rank 739 on this star's leaderboard. [Continue to Part \"\n",
      " 'Two]')\n"
     ]
    },
    {
     "data": {
      "text/plain": [
       "True"
      ]
     },
     "execution_count": 45,
     "metadata": {},
     "output_type": "execute_result"
    }
   ],
   "source": [
    "submit_answer(DAY, 1, first)"
   ]
  },
  {
   "cell_type": "code",
   "execution_count": 52,
   "metadata": {},
   "outputs": [],
   "source": [
    "def func2(data):\n",
    "    result = 0\n",
    "    max_sid = 0\n",
    "\n",
    "    found_seats = set()\n",
    "    \n",
    "    for line in data:\n",
    "        l=0\n",
    "        h=127\n",
    "        rl=0\n",
    "        rh=7\n",
    "        for x in line:\n",
    "            m = ((h-l)//2 + l)\n",
    "            if x =='F':\n",
    "                h = m\n",
    "            if x == 'B':\n",
    "                l = m+1\n",
    "            rm = ((rh-rl)//2 + rl)\n",
    "            if x =='L':\n",
    "                rh = rm\n",
    "            if x == 'R':\n",
    "                rl = rm+1\n",
    "            #print(x,m,l,h,rl,rh)\n",
    "        row = l\n",
    "        col = rl\n",
    "        \n",
    "        sid = row * 8 +col\n",
    "        max_sid = max(sid, max_sid)\n",
    "        found_seats.add(sid)\n",
    "    return found_seats"
   ]
  },
  {
   "cell_type": "code",
   "execution_count": 53,
   "metadata": {},
   "outputs": [],
   "source": [
    "second = func2(data)"
   ]
  },
  {
   "cell_type": "code",
   "execution_count": 55,
   "metadata": {},
   "outputs": [
    {
     "name": "stdout",
     "output_type": "stream",
     "text": [
      "592\n"
     ]
    }
   ],
   "source": [
    "for i in range(0,max(second)):\n",
    "    if i not in second and i-1 in second and i+1 in second:\n",
    "        print(i)"
   ]
  },
  {
   "cell_type": "code",
   "execution_count": 57,
   "metadata": {},
   "outputs": [
    {
     "name": "stdout",
     "output_type": "stream",
     "text": [
      "592\n",
      "(\"You don't seem to be solving the right level.  Did you already complete it? \"\n",
      " '[Return to Day 5]')\n"
     ]
    },
    {
     "data": {
      "text/plain": [
       "False"
      ]
     },
     "execution_count": 57,
     "metadata": {},
     "output_type": "execute_result"
    }
   ],
   "source": [
    "submit_answer(DAY, 2, 592)"
   ]
  }
 ],
 "metadata": {
  "kernelspec": {
   "display_name": "Python 3",
   "language": "python",
   "name": "python3"
  },
  "language_info": {
   "codemirror_mode": {
    "name": "ipython",
    "version": 3
   },
   "file_extension": ".py",
   "mimetype": "text/x-python",
   "name": "python",
   "nbconvert_exporter": "python",
   "pygments_lexer": "ipython3",
   "version": "3.7.5"
  }
 },
 "nbformat": 4,
 "nbformat_minor": 4
}
