{
 "cells": [
  {
   "cell_type": "code",
   "execution_count": 2,
   "metadata": {},
   "outputs": [],
   "source": [
    "%load_ext autoreload\n",
    "%autoreload 2"
   ]
  },
  {
   "cell_type": "code",
   "execution_count": 3,
   "metadata": {},
   "outputs": [],
   "source": [
    "import requests\n",
    "from session import SESSION\n",
    "from common import print_problem, get_problem_input, submit_answer\n",
    "from bs4 import BeautifulSoup\n",
    "from IPython.core.display import HTML\n",
    "from collections import Counter"
   ]
  },
  {
   "cell_type": "code",
   "execution_count": 4,
   "metadata": {},
   "outputs": [],
   "source": [
    "DAY = 6"
   ]
  },
  {
   "cell_type": "code",
   "execution_count": 26,
   "metadata": {},
   "outputs": [
    {
     "name": "stdout",
     "output_type": "stream",
     "text": [
      "Raw Data:\n",
      "'lznroxbqymvfijpwkec\\ngljkpwyvsbmroziefnqxc\\nbmkiewyxjfzqrocnlpv\\nibewnmlkzfcrjyvxop'\n",
      "Split Data:\n",
      "['lznroxbqymvfijpwkec',\n",
      " 'gljkpwyvsbmroziefnqxc',\n",
      " 'bmkiewyxjfzqrocnlpv',\n",
      " 'ibewnmlkzfcrjyvxopq',\n",
      " 'fkmxpbvjiwlrzocqyne',\n",
      " '',\n",
      " 'khicbaxyvmlgorz',\n",
      " 'baonifgtlkrmcxhzv',\n",
      " 'albmyvgrihxkzoc',\n",
      " 'vmcizkpglyoarxbh']\n"
     ]
    }
   ],
   "source": [
    "raw_data, data = get_problem_input(DAY)"
   ]
  },
  {
   "cell_type": "code",
   "execution_count": 32,
   "metadata": {},
   "outputs": [],
   "source": [
    "def func(data):\n",
    "    result = 0\n",
    "    \n",
    "    this_count = set()\n",
    "    for row in data:\n",
    "        this_count |= set([x for x in row])\n",
    "        if row == '':\n",
    "            result += len(this_count)\n",
    "            this_count=set()\n",
    "            continue\n",
    "    result += len(this_count)\n",
    "    \n",
    "    print(result)\n",
    "    return result"
   ]
  },
  {
   "cell_type": "code",
   "execution_count": 33,
   "metadata": {},
   "outputs": [
    {
     "name": "stdout",
     "output_type": "stream",
     "text": [
      "6782\n"
     ]
    }
   ],
   "source": [
    "first = func(data)"
   ]
  },
  {
   "cell_type": "code",
   "execution_count": 34,
   "metadata": {},
   "outputs": [
    {
     "name": "stdout",
     "output_type": "stream",
     "text": [
      "6782\n",
      "(\"That's the right answer!  You are one gold star closer to saving your \"\n",
      " \"vacation. You got rank 619 on this star's leaderboard. [Continue to Part \"\n",
      " 'Two]')\n"
     ]
    },
    {
     "data": {
      "text/plain": [
       "True"
      ]
     },
     "execution_count": 34,
     "metadata": {},
     "output_type": "execute_result"
    }
   ],
   "source": [
    "submit_answer(DAY, 1, first)"
   ]
  },
  {
   "cell_type": "code",
   "execution_count": 7,
   "metadata": {},
   "outputs": [],
   "source": [
    "def func2(data):\n",
    "    result = 0\n",
    "    print(result)\n",
    "    return resultv"
   ]
  },
  {
   "cell_type": "code",
   "execution_count": 56,
   "metadata": {},
   "outputs": [
    {
     "data": {
      "text/plain": [
       "['madgj', 'mjgdwua', 'jmgad', 'gmjda', '', 'fukp', 'ojqxyn', 'bkr', 'rmsp', '']"
      ]
     },
     "execution_count": 56,
     "metadata": {},
     "output_type": "execute_result"
    }
   ],
   "source": [
    "data[-10:]"
   ]
  },
  {
   "cell_type": "code",
   "execution_count": 61,
   "metadata": {},
   "outputs": [],
   "source": [
    "def func2(data):\n",
    "    result = 0\n",
    "    \n",
    "    this_count = []\n",
    "    total_sets = set([x for x in 'abcdefghijklmnopqrstuvwxyz'])\n",
    "    \n",
    "    for row in data:\n",
    "        if row == '':\n",
    "            for c in this_count:\n",
    "                total_sets &= c\n",
    "            result += len(total_sets)\n",
    "            \n",
    "            total_sets = set([x for x in 'abcdefghijklmnopqrstuvwxyz'])\n",
    "            this_count=[]\n",
    "            \n",
    "        else:\n",
    "            this_count.append(set([x for x in row]))\n",
    "    \n",
    "    print(result)\n",
    "    return result"
   ]
  },
  {
   "cell_type": "code",
   "execution_count": 63,
   "metadata": {},
   "outputs": [
    {
     "name": "stdout",
     "output_type": "stream",
     "text": [
      "3596\n"
     ]
    }
   ],
   "source": [
    "second = func2(data)"
   ]
  },
  {
   "cell_type": "code",
   "execution_count": 64,
   "metadata": {},
   "outputs": [
    {
     "name": "stdout",
     "output_type": "stream",
     "text": [
      "3596\n",
      "(\"That's the right answer!  You are one gold star closer to saving your \"\n",
      " 'vacation.You have completed Day 6! You can [Shareon\\n'\n",
      " '  Twitter\\n'\n",
      " 'Mastodon] this victory or [Return to Your Advent Calendar].')\n"
     ]
    },
    {
     "data": {
      "text/plain": [
       "True"
      ]
     },
     "execution_count": 64,
     "metadata": {},
     "output_type": "execute_result"
    }
   ],
   "source": [
    "submit_answer(DAY, 2, second)"
   ]
  }
 ],
 "metadata": {
  "kernelspec": {
   "display_name": "Python 3",
   "language": "python",
   "name": "python3"
  },
  "language_info": {
   "codemirror_mode": {
    "name": "ipython",
    "version": 3
   },
   "file_extension": ".py",
   "mimetype": "text/x-python",
   "name": "python",
   "nbconvert_exporter": "python",
   "pygments_lexer": "ipython3",
   "version": "3.7.5"
  }
 },
 "nbformat": 4,
 "nbformat_minor": 4
}
