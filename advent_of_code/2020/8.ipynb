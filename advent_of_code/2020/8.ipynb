{
 "cells": [
  {
   "cell_type": "code",
   "execution_count": 1,
   "metadata": {},
   "outputs": [],
   "source": [
    "%load_ext autoreload\n",
    "%autoreload 2"
   ]
  },
  {
   "cell_type": "code",
   "execution_count": 4,
   "metadata": {},
   "outputs": [],
   "source": [
    "import requests\n",
    "from session import SESSION\n",
    "from common import print_problem, get_problem_input, submit_answer\n",
    "from bs4 import BeautifulSoup\n",
    "from IPython.core.display import HTML\n",
    "from collections import Counter\n",
    "import re\n",
    "from collections import defaultdict\n",
    "from copy import copy"
   ]
  },
  {
   "cell_type": "code",
   "execution_count": 3,
   "metadata": {},
   "outputs": [],
   "source": [
    "DAY = 7"
   ]
  },
  {
   "cell_type": "code",
   "execution_count": 5,
   "metadata": {},
   "outputs": [
    {
     "name": "stdout",
     "output_type": "stream",
     "text": [
      "Raw Data:\n",
      "'drab plum bags contain 5 clear turquoise bags, 5 striped aqua bags, 4 dotted gol'\n",
      "Split Data:\n",
      "['drab plum bags contain 5 clear turquoise bags, 5 striped aqua bags, 4 dotted '\n",
      " 'gold bags, 4 plaid chartreuse bags.',\n",
      " 'faded cyan bags contain 1 dim brown bag, 5 wavy magenta bags, 3 vibrant '\n",
      " 'chartreuse bags, 4 muted fuchsia bags.',\n",
      " 'shiny brown bags contain 4 dark maroon bags.',\n",
      " 'bright plum bags contain 3 dull tomato bags, 5 bright tan bags, 4 plaid lime '\n",
      " 'bags.',\n",
      " 'plaid purple bags contain 2 posh black bags.',\n",
      " 'wavy turquoise bags contain 1 wavy white bag, 5 dotted maroon bags.',\n",
      " 'dotted aqua bags contain 4 dotted brown bags, 4 dim plum bags.',\n",
      " 'drab chartreuse bags contain 2 dark olive bags.',\n",
      " 'vibrant black bags contain 5 mirrored black bags, 3 dark chartreuse bags, 2 '\n",
      " 'muted salmon bags, 1 plaid coral bag.',\n",
      " 'posh purple bags contain 1 faded white bag, 5 clear gray bags, 4 clear '\n",
      " 'silver bags.']\n"
     ]
    }
   ],
   "source": [
    "raw_data, data = get_problem_input(DAY)"
   ]
  },
  {
   "cell_type": "code",
   "execution_count": 109,
   "metadata": {},
   "outputs": [],
   "source": [
    "bag_re = re.compile(r\"(\\w+ \\w+) bags?\")"
   ]
  },
  {
   "cell_type": "code",
   "execution_count": 115,
   "metadata": {},
   "outputs": [],
   "source": [
    "def func(data):\n",
    "    contains_dict = defaultdict(set)\n",
    "    contained_in_dict = defaultdict(set)\n",
    "    \n",
    "    for i,line in enumerate(data):\n",
    "        m = bag_re.findall(line)\n",
    "        outer = m[0]\n",
    "        \n",
    "        if len(m) > 1:\n",
    "            for _m in m[1:]:\n",
    "                contains_dict[outer].add(_m)\n",
    "                contained_in_dict[_m].add(outer)\n",
    "    #print(contains_dict)\n",
    "    #print(contained_in_dict)\n",
    "    \n",
    "    found_in = set(contained_in_dict['shiny gold'])\n",
    "    \n",
    "    while True:\n",
    "        prev_found_in = copy(found_in)\n",
    "        #print(prev_found_in)\n",
    "        \n",
    "        for f in prev_found_in:\n",
    "            #print(f, contained_in_dict[f])\n",
    "            found_in |= contained_in_dict[f]\n",
    "        \n",
    "        if prev_found_in == found_in:\n",
    "            break\n",
    "    x = len(found_in)\n",
    "    print(x)\n",
    "    return x"
   ]
  },
  {
   "cell_type": "code",
   "execution_count": 116,
   "metadata": {},
   "outputs": [
    {
     "name": "stdout",
     "output_type": "stream",
     "text": [
      "151\n"
     ]
    }
   ],
   "source": [
    "first = func(data)"
   ]
  },
  {
   "cell_type": "code",
   "execution_count": 112,
   "metadata": {},
   "outputs": [
    {
     "name": "stdout",
     "output_type": "stream",
     "text": [
      "151\n",
      "(\"That's the right answer!  You are one gold star closer to saving your \"\n",
      " 'vacation. [Continue to Part Two]')\n"
     ]
    },
    {
     "data": {
      "text/plain": [
       "True"
      ]
     },
     "execution_count": 112,
     "metadata": {},
     "output_type": "execute_result"
    }
   ],
   "source": [
    "submit_answer(DAY, 1, first)"
   ]
  },
  {
   "cell_type": "code",
   "execution_count": 123,
   "metadata": {},
   "outputs": [],
   "source": [
    "bag2_re = re.compile(r\"((\\d+) )?(\\w+ \\w+) bags?\")"
   ]
  },
  {
   "cell_type": "code",
   "execution_count": 172,
   "metadata": {},
   "outputs": [],
   "source": [
    "def recur_bags(data, current_style, count=0):\n",
    "    x = data[current_style]\n",
    "    if not data[current_style]:\n",
    "        return 0\n",
    "    else:\n",
    "        for d,style in data[current_style]:\n",
    "            count += int(d) * (1 + recur_bags(data, style))\n",
    "        return count"
   ]
  },
  {
   "cell_type": "code",
   "execution_count": 175,
   "metadata": {},
   "outputs": [],
   "source": [
    "def func2(data):\n",
    "    contains_dict = defaultdict(set)\n",
    "    \n",
    "    for i,line in enumerate(data):\n",
    "        m = bag2_re.findall(line)\n",
    "        #print(line, m)\n",
    "        \n",
    "        if len(m) > 1 and \"no other\" not in line:\n",
    "            o_style = m[0][-1]\n",
    "            for c,_,i_style in m[1:]:\n",
    "                contains_dict[o_style].add((c,i_style))\n",
    "    \n",
    "    result =  recur_bags(contains_dict, \"shiny gold\")\n",
    "    print(result)\n",
    "    return result"
   ]
  },
  {
   "cell_type": "code",
   "execution_count": 176,
   "metadata": {},
   "outputs": [
    {
     "name": "stdout",
     "output_type": "stream",
     "text": [
      "41559\n"
     ]
    }
   ],
   "source": [
    "second = func2(data)"
   ]
  },
  {
   "cell_type": "code",
   "execution_count": 171,
   "metadata": {},
   "outputs": [
    {
     "name": "stdout",
     "output_type": "stream",
     "text": [
      "41559\n",
      "(\"That's the right answer!  You are one gold star closer to saving your \"\n",
      " 'vacation.You have completed Day 7! You can [Shareon\\n'\n",
      " '  Twitter\\n'\n",
      " 'Mastodon] this victory or [Return to Your Advent Calendar].')\n"
     ]
    },
    {
     "data": {
      "text/plain": [
       "True"
      ]
     },
     "execution_count": 171,
     "metadata": {},
     "output_type": "execute_result"
    }
   ],
   "source": [
    "submit_answer(DAY, 2, second)"
   ]
  }
 ],
 "metadata": {
  "kernelspec": {
   "display_name": "Python 3",
   "language": "python",
   "name": "python3"
  },
  "language_info": {
   "codemirror_mode": {
    "name": "ipython",
    "version": 3
   },
   "file_extension": ".py",
   "mimetype": "text/x-python",
   "name": "python",
   "nbconvert_exporter": "python",
   "pygments_lexer": "ipython3",
   "version": "3.7.5"
  }
 },
 "nbformat": 4,
 "nbformat_minor": 4
}
