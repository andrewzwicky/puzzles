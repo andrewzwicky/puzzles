{
 "cells": [
  {
   "cell_type": "code",
   "execution_count": 1,
   "metadata": {},
   "outputs": [],
   "source": [
    "%load_ext autoreload\n",
    "%autoreload 2"
   ]
  },
  {
   "cell_type": "code",
   "execution_count": 2,
   "metadata": {},
   "outputs": [],
   "source": [
    "import requests\n",
    "from session import SESSION\n",
    "from common import print_problem, get_problem_input, submit_answer\n",
    "from bs4 import BeautifulSoup\n",
    "from IPython.core.display import HTML\n",
    "from collections import Counter\n",
    "import re\n",
    "from collections import defaultdict\n",
    "from copy import copy"
   ]
  },
  {
   "cell_type": "code",
   "execution_count": 3,
   "metadata": {},
   "outputs": [],
   "source": [
    "DAY = 9"
   ]
  },
  {
   "cell_type": "code",
   "execution_count": 9,
   "metadata": {},
   "outputs": [
    {
     "name": "stdout",
     "output_type": "stream",
     "text": [
      "Raw Data:\n",
      "'37\\n7\\n16\\n34\\n48\\n24\\n5\\n40\\n30\\n35\\n2\\n45\\n19\\n33\\n36\\n49\\n32\\n1\\n44\\n21\\n25\\n3\\n11\\n38\\n15\\n4\\n6\\n7\\n8\\n16'\n",
      "Split Data:\n",
      "['37', '7', '16', '34', '48', '24', '5', '40', '30', '35']\n"
     ]
    }
   ],
   "source": [
    "raw_data, data = get_problem_input(DAY)"
   ]
  },
  {
   "cell_type": "code",
   "execution_count": 10,
   "metadata": {},
   "outputs": [],
   "source": [
    "import itertools"
   ]
  },
  {
   "cell_type": "code",
   "execution_count": 30,
   "metadata": {},
   "outputs": [],
   "source": [
    "def func(data):\n",
    "    result = 0\n",
    "    int_data = list(map(int, data))\n",
    "\n",
    "    for i,num in enumerate(int_data):\n",
    "        if i >= 25:\n",
    "            sub_sort = sorted(int_data[i-25:i])\n",
    "            \n",
    "            sums = [a+b for a,b in itertools.combinations(sub_sort,2)]\n",
    "            if num not in sums:\n",
    "                result=num\n",
    "                break\n",
    "            \n",
    "    \n",
    "    print(result)\n",
    "    return result"
   ]
  },
  {
   "cell_type": "code",
   "execution_count": 31,
   "metadata": {},
   "outputs": [
    {
     "name": "stdout",
     "output_type": "stream",
     "text": [
      "177777905\n"
     ]
    }
   ],
   "source": [
    "first = func(data)"
   ]
  },
  {
   "cell_type": "code",
   "execution_count": 32,
   "metadata": {},
   "outputs": [
    {
     "name": "stdout",
     "output_type": "stream",
     "text": [
      "177777905\n",
      "(\"That's the right answer!  You are one gold star closer to saving your \"\n",
      " 'vacation. [Continue to Part Two]')\n"
     ]
    },
    {
     "data": {
      "text/plain": [
       "True"
      ]
     },
     "execution_count": 32,
     "metadata": {},
     "output_type": "execute_result"
    }
   ],
   "source": [
    "submit_answer(DAY, 1, first)"
   ]
  },
  {
   "cell_type": "code",
   "execution_count": 46,
   "metadata": {},
   "outputs": [],
   "source": [
    "def func2(data, target):\n",
    "    result = None\n",
    "    int_data = list(map(int, data))\n",
    "    \n",
    "    for i in itertools.count():\n",
    "        for j in itertools.count(start=i+1):\n",
    "            x = sum(int_data[i:j])\n",
    "            #print(i,j,x)\n",
    "            if x == target:\n",
    "                print(i,j,int_data[i:j])\n",
    "                result = min(int_data[i:j]) + max(int_data[i:j])\n",
    "                break\n",
    "            elif x < target:\n",
    "                continue\n",
    "            else:\n",
    "                break\n",
    "        if result is not None:\n",
    "            break\n",
    "            \n",
    "            \n",
    "    \n",
    "    \n",
    "    \n",
    "    print(result)\n",
    "    return result"
   ]
  },
  {
   "cell_type": "code",
   "execution_count": 47,
   "metadata": {},
   "outputs": [
    {
     "name": "stdout",
     "output_type": "stream",
     "text": [
      "465 482 [6817951, 7713384, 11509827, 7749170, 7760870, 7796656, 8824488, 8860105, 8895891, 10281770, 12554407, 15536208, 9667607, 16645061, 13548127, 9923723, 13692660]\n",
      "23463012\n"
     ]
    }
   ],
   "source": [
    "second = func2(data,first)"
   ]
  },
  {
   "cell_type": "code",
   "execution_count": 48,
   "metadata": {},
   "outputs": [
    {
     "name": "stdout",
     "output_type": "stream",
     "text": [
      "23463012\n",
      "(\"That's the right answer!  You are one gold star closer to saving your \"\n",
      " 'vacation.You have completed Day 9! You can [Shareon\\n'\n",
      " '  Twitter\\n'\n",
      " 'Mastodon] this victory or [Return to Your Advent Calendar].')\n"
     ]
    },
    {
     "data": {
      "text/plain": [
       "True"
      ]
     },
     "execution_count": 48,
     "metadata": {},
     "output_type": "execute_result"
    }
   ],
   "source": [
    "submit_answer(DAY, 2, second)"
   ]
  }
 ],
 "metadata": {
  "kernelspec": {
   "display_name": "Python 3",
   "language": "python",
   "name": "python3"
  },
  "language_info": {
   "codemirror_mode": {
    "name": "ipython",
    "version": 3
   },
   "file_extension": ".py",
   "mimetype": "text/x-python",
   "name": "python",
   "nbconvert_exporter": "python",
   "pygments_lexer": "ipython3",
   "version": "3.7.5"
  }
 },
 "nbformat": 4,
 "nbformat_minor": 4
}
