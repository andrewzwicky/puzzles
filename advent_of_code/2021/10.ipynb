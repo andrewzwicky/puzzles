{
 "cells": [
  {
   "cell_type": "code",
   "execution_count": 1,
   "metadata": {},
   "outputs": [],
   "source": [
    "%load_ext autoreload\n",
    "%autoreload 2"
   ]
  },
  {
   "cell_type": "code",
   "execution_count": 2,
   "metadata": {},
   "outputs": [],
   "source": [
    "import requests\n",
    "from session import SESSION\n",
    "from common import print_problem, get_problem_input, submit_answer\n",
    "from bs4 import BeautifulSoup\n",
    "from IPython.core.display import HTML\n",
    "from collections import Counter\n",
    "import re\n",
    "from collections import defaultdict\n",
    "from copy import copy, deepcopy\n",
    "import itertools\n",
    "from pprint import pprint\n",
    "from functools import lru_cache\n",
    "import numpy as np"
   ]
  },
  {
   "cell_type": "code",
   "execution_count": 3,
   "metadata": {},
   "outputs": [],
   "source": [
    "DAY = 10"
   ]
  },
  {
   "cell_type": "code",
   "execution_count": 157,
   "metadata": {},
   "outputs": [
    {
     "name": "stdout",
     "output_type": "stream",
     "text": [
      "Raw Data:\n",
      "'[[<[<{[<{{<[{(()[])[[]()]}[((){})<[]{}>]}<<{[]{}}<(){}>><([]<>)>>>[[[<<>>[<><>]]'\n",
      "Split Data:\n",
      "['[[<[<{[<{{<[{(()[])[[]()]}[((){})<[]{}>]}<<{[]{}}<(){}>><([]<>)>>>[[[<<>>[<><>]][<<>>(<><>)]][{',\n",
      " '((<[(<<(<{<((<()<>>{()()}){<<>><()[]>})([{<>{}}(()[])]{(<><>>})>(<((()())<[][]>)>([(<>{})({}())][<',\n",
      " '<<<(<<[[((({<([]<>)[[]]>{<{}>{(){}}}}{[<[][]><<>[]>]({<><>}{()<>})})[<<({}())(()<>)>[([]{})<[]()>]>({[[]',\n",
      " '<(<<<[((([{({((){})<<>{}>}[<(){}>[<>()]])[[<{}[]>({}{}]](<<>[]><[]<>>)]}](<[({[][]}<()<>>)<[',\n",
      " '{<<<{[({{(<<(<<>[]><[]()>){<[][]>{<>{}}}>((({}())([]<>))[<{}{}>({}())])>(<<<()[]>><<<>{}>(()<',\n",
      " '{<{<<[[(<<[{<<{}[]>>([<>()]{{}{}})}]<(<{<>()}{{}()}>{({}[])<<>()>})>>>){[{[{<[[]{}][<><>]>}{(<{}(',\n",
      " '(((([(({((<[<(<>{})[{}{}]>](<[()<>]{<><>}>)><<[<[]{}>((){})]<[()[]]>>{[{<>()}((){})]({()[]}(()[]))}>))}(',\n",
      " '<<[(({({(<{{((<>[])[[]<>])([<>]{()()})}<<{<>[]}><<{}()>>>}>)(<(<{<()[]><(){}>}{{(){}}[{}<>]}>{',\n",
      " '(([[{<[<<{[<{<()[]>{<>[]}}{<{}{}>{[]<>}}>[{<{}{}>(<>[])}]]{<<({}[])>(<[]<>>[{}])>({{<>()}(<',\n",
      " '(<{{(<<{[([<<{()[]}>{({}<>){<>[]}]>((<[]{}><{}{}>))]([{(()<>)(<>[])}]<<((){})<<>{}>>[(()[])']\n"
     ]
    }
   ],
   "source": [
    "raw_data, data = get_problem_input(DAY)"
   ]
  },
  {
   "cell_type": "code",
   "execution_count": 139,
   "metadata": {},
   "outputs": [],
   "source": [
    "data = [\n",
    "\"[({(<(())[]>[[{[]{<()<>>\",\n",
    "\"[(()[<>])]({[<{<<[]>>(\",\n",
    "\"{([(<{}[<>[]}>{[]{[(<()>\",\n",
    "\"(((({<>}<{<{<>}{[]{[]{}\",\n",
    "\"[[<[([]))<([[{}[[()]]]\",\n",
    "\"[{[{({}]{}}([{[{{{}}([]\",\n",
    "\"{<[[]]>}<{[{[{[]{()[[[]\",\n",
    "\"[<(<(<(<{}))><([]([]()\",\n",
    "\"<{([([[(<>()){}]>(<<{{\",\n",
    "\"<{([{{}}[<[[[<>{}]]]>[]]\",\n",
    "]"
   ]
  },
  {
   "cell_type": "code",
   "execution_count": 160,
   "metadata": {},
   "outputs": [],
   "source": [
    "mirror = {\n",
    "    \"{\":\"}\",\n",
    "\"[\":\"]\",\n",
    "\"<\":\">\",\n",
    "\"(\":\")\",\n",
    "\"}\":\"{\",\n",
    "\"]\":\"[\",\n",
    "\">\":\"<\",\n",
    "\")\":\"(\",\n",
    "}"
   ]
  },
  {
   "cell_type": "code",
   "execution_count": 161,
   "metadata": {},
   "outputs": [],
   "source": [
    "scores = {\n",
    "    0:0, \"}\":1197,\"]\":57,\">\":25137,\")\":3\n",
    "}"
   ]
  },
  {
   "cell_type": "code",
   "execution_count": 162,
   "metadata": {},
   "outputs": [],
   "source": [
    "def valid(line):\n",
    "    queue = []\n",
    "    for i in line:\n",
    "        if i in \"<{[(\":\n",
    "            queue.append(i)\n",
    "        else:\n",
    "            if queue[-1] == mirror[i]:\n",
    "                queue.pop()\n",
    "            else:\n",
    "                return (i, '')\n",
    "    \n",
    "    return (0, ''.join([mirror[q] for q in queue[::-1]]))\n",
    "    "
   ]
  },
  {
   "cell_type": "code",
   "execution_count": 163,
   "metadata": {},
   "outputs": [
    {
     "name": "stdout",
     "output_type": "stream",
     "text": [
      "344193\n"
     ]
    }
   ],
   "source": [
    "first = 0\n",
    "for l in data:\n",
    "    first += scores[valid(l)[0]]\n",
    "    \n",
    "print(first)\n",
    "    "
   ]
  },
  {
   "cell_type": "code",
   "execution_count": 164,
   "metadata": {},
   "outputs": [
    {
     "name": "stdout",
     "output_type": "stream",
     "text": [
      "344193\n"
     ]
    }
   ],
   "source": [
    "print(first)"
   ]
  },
  {
   "cell_type": "code",
   "execution_count": 104,
   "metadata": {},
   "outputs": [
    {
     "name": "stdout",
     "output_type": "stream",
     "text": [
      "344193\n",
      "(\"That's the right answer!  You are one gold star closer to finding the sleigh \"\n",
      " 'keys. [Continue to Part Two]')\n"
     ]
    },
    {
     "data": {
      "text/plain": [
       "True"
      ]
     },
     "execution_count": 104,
     "metadata": {},
     "output_type": "execute_result"
    }
   ],
   "source": [
    "submit_answer(DAY, 1, first)"
   ]
  },
  {
   "cell_type": "code",
   "execution_count": 165,
   "metadata": {},
   "outputs": [],
   "source": [
    "_,v = valid(\"<{([{{}}[<[[[<>{}]]]>[]]\")"
   ]
  },
  {
   "cell_type": "code",
   "execution_count": 166,
   "metadata": {},
   "outputs": [],
   "source": [
    "second = {\n",
    "    \"}\":3,\"]\":2,\">\":4,\")\":1\n",
    "}"
   ]
  },
  {
   "cell_type": "code",
   "execution_count": 167,
   "metadata": {},
   "outputs": [],
   "source": [
    "def sc(string):\n",
    "    total = 0\n",
    "    for s in string:\n",
    "        total = total * 5\n",
    "        total += second[s]\n",
    "    return total"
   ]
  },
  {
   "cell_type": "code",
   "execution_count": 170,
   "metadata": {},
   "outputs": [
    {
     "name": "stdout",
     "output_type": "stream",
     "text": [
      "]})]))]]>>)>>> 3244733999\n",
      ">)>>))}})]}>>>} 26819789998\n",
      ")>)}]}]}]]>>}>} 11403399973\n",
      ")))])))) 98281\n",
      "})>)})}))]>> 164713324\n",
      ">)})}}>>]>}]])) 26453092806\n",
      ")]]))>]}}})>]} 1820136488\n",
      "))>]>]}}]}}}>> 1688571099\n",
      ">])}>}})]>]>) 1091692446\n",
      "})}]>>]>}})}>> 4081870849\n",
      "})>]])>)]>>)}}} 20628640218\n",
      ">))]])>]}>>)}] 5199965542\n",
      ">>}))}})>)]] 240760537\n",
      "]]]>])>>)]})))) 15355414531\n",
      ")}]>))>]])>>] 418507747\n",
      "}]})}}]}]}])}> 4313883419\n",
      "]]}}}}>>)}}]> 622576089\n",
      ">>}})}>]>>]]>> 6038640324\n",
      ")}}]])}))} 3397908\n",
      "]}))>]]>)])}}] 3241238967\n",
      ">}}>}}}))})}>} 5808067723\n",
      "}]))]]}>]}>)>) 4213977421\n",
      ")}]}}>}>)) 3340481\n",
      ">>>)>>]})]}}>>} 30370180498\n",
      "]}))]}>})]>>)) 3237864356\n",
      ">]>}]}>>}]>}} 1120233493\n",
      "])]}}]])}>]))} 2819324658\n",
      ")]}]]})))])}>>} 9400882373\n",
      "]]}}}}>>)>)) 124515231\n",
      ">>>}]}>>)>))) 1217888656\n",
      ">}}]])))]))]] 1157129537\n",
      "]}})]}}>>]}))>) 16677336421\n",
      "]))]])>}>>)>)>} 13792888673\n",
      ">>)]}]>)>}>)>)} 29673590233\n",
      "]}}}])}]])))]) 3354178911\n",
      "}}>})))}>>)}}} 4621624593\n",
      "}}]}}])]]>>) 181129746\n",
      ">)])>>>)>)> 41952734\n",
      "]}>)>}}]}]]}) 677633441\n",
      "]}>])>)))]}]]}) 16961430316\n",
      "]}}}]>>]>}>>>] 3355436872\n",
      "))]]>))]]>>> 63614124\n",
      ")}>)}}>>>>})]} 2165624788\n",
      "])>]>>}) 186241\n",
      "]>)})]>]]>}]}> 3499181069\n",
      "))]>)})]]>}}> 320961219\n",
      "})]>}}))]>}]}] 4050102942\n",
      "2771042 [98281, 186241, 3340481, 3397908, 41952734, 63614124, 124515231, 164713324, 181129746, 240760537, 320961219, 418507747, 622576089, 677633441, 1091692446, 1120233493, 1157129537, 1217888656, 1688571099, 1820136488, 2165624788, 2819324658, 3237864356, 3241238967, 3244733999, 3354178911, 3355436872, 3499181069, 4050102942, 4081870849, 4213977421, 4313883419, 4621624593, 5199965542, 5808067723, 6038640324, 9400882373, 11403399973, 13792888673, 15355414531, 16677336421, 16961430316, 20628640218, 26453092806, 26819789998, 29673590233, 30370180498]\n"
     ]
    }
   ],
   "source": [
    "scores = []\n",
    "for l in data:\n",
    "    x,y = valid(l)\n",
    "    if x == 0:\n",
    "        s = sc(y)\n",
    "        print(y, s)\n",
    "        scores.append(s)\n",
    "    \n",
    "    \n",
    "print(this, sorted(scores))\n",
    "second = sorted(scores)[len(scores)//2]\n",
    "    "
   ]
  },
  {
   "cell_type": "code",
   "execution_count": 171,
   "metadata": {},
   "outputs": [
    {
     "name": "stdout",
     "output_type": "stream",
     "text": [
      "3241238967\n"
     ]
    }
   ],
   "source": [
    "print(second)"
   ]
  },
  {
   "cell_type": "code",
   "execution_count": 172,
   "metadata": {},
   "outputs": [
    {
     "name": "stdout",
     "output_type": "stream",
     "text": [
      "3241238967\n",
      "(\"That's the right answer!  You are one gold star closer to finding the sleigh \"\n",
      " 'keys.You have completed Day 10! You can [Shareon\\n'\n",
      " '  Twitter\\n'\n",
      " 'Mastodon] this victory or [Return to Your Advent Calendar].')\n"
     ]
    },
    {
     "data": {
      "text/plain": [
       "True"
      ]
     },
     "execution_count": 172,
     "metadata": {},
     "output_type": "execute_result"
    }
   ],
   "source": [
    "submit_answer(DAY, 2, second)"
   ]
  }
 ],
 "metadata": {
  "kernelspec": {
   "display_name": "Python 3",
   "language": "python",
   "name": "python3"
  },
  "language_info": {
   "codemirror_mode": {
    "name": "ipython",
    "version": 3
   },
   "file_extension": ".py",
   "mimetype": "text/x-python",
   "name": "python",
   "nbconvert_exporter": "python",
   "pygments_lexer": "ipython3",
   "version": "3.8.6"
  }
 },
 "nbformat": 4,
 "nbformat_minor": 4
}
