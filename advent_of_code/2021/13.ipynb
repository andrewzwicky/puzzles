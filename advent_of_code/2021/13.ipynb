{
 "cells": [
  {
   "cell_type": "code",
   "execution_count": 1,
   "metadata": {},
   "outputs": [],
   "source": [
    "%load_ext autoreload\n",
    "%autoreload 2"
   ]
  },
  {
   "cell_type": "code",
   "execution_count": 2,
   "metadata": {},
   "outputs": [],
   "source": [
    "import requests\n",
    "from session import SESSION\n",
    "from common import print_problem, get_problem_input, submit_answer, neighbors\n",
    "from bs4 import BeautifulSoup\n",
    "from IPython.core.display import HTML\n",
    "from collections import Counter\n",
    "import re\n",
    "from collections import defaultdict\n",
    "from copy import copy, deepcopy\n",
    "import itertools\n",
    "from pprint import pprint\n",
    "from functools import lru_cache\n",
    "import numpy as np\n",
    "import colorama"
   ]
  },
  {
   "cell_type": "code",
   "execution_count": 3,
   "metadata": {},
   "outputs": [],
   "source": [
    "DAY = 13"
   ]
  },
  {
   "cell_type": "code",
   "execution_count": 233,
   "metadata": {},
   "outputs": [
    {
     "name": "stdout",
     "output_type": "stream",
     "text": [
      "Raw Data:\n",
      "'792,394\\n1124,850\\n1208,850\\n721,173\\n1057,252\\n1119,182\\n1017,402\\n485,58\\n773,880\\n1171'\n",
      "Split Data:\n",
      "['792,394',\n",
      " '1124,850',\n",
      " '1208,850',\n",
      " '721,173',\n",
      " '1057,252',\n",
      " '1119,182',\n",
      " '1017,402',\n",
      " '485,58',\n",
      " '773,880',\n",
      " '1171,197']\n"
     ]
    }
   ],
   "source": [
    "raw_data, data = get_problem_input(DAY)"
   ]
  },
  {
   "cell_type": "code",
   "execution_count": 226,
   "metadata": {},
   "outputs": [],
   "source": [
    "data =[\n",
    "\"6,10\",\n",
    "\"0,14\",\n",
    "\"9,10\",\n",
    "\"0,3\",\n",
    "\"10,4\",\n",
    "\"4,11\",\n",
    "\"6,0\",\n",
    "\"6,12\",\n",
    "\"4,1\",\n",
    "\"0,13\",\n",
    "\"10,12\",\n",
    "\"3,4\",\n",
    "\"3,0\",\n",
    "\"8,4\",\n",
    "\"1,10\",\n",
    "\"2,14\",\n",
    "\"8,10\",\n",
    "\"9,0\",\n",
    "\"\",\n",
    "\"fold along y=7\",\n",
    "\"fold along x=5\",\n",
    "]"
   ]
  },
  {
   "cell_type": "code",
   "execution_count": 234,
   "metadata": {},
   "outputs": [],
   "source": [
    "coords = []\n",
    "folds = []\n",
    "step = False\n",
    "for d in data:\n",
    "    if d == '':\n",
    "        step=True\n",
    "        continue\n",
    "    if not step:\n",
    "        coords.append(d)\n",
    "    else:\n",
    "        folds.append(d)\n",
    "    "
   ]
  },
  {
   "cell_type": "code",
   "execution_count": 235,
   "metadata": {},
   "outputs": [],
   "source": [
    "coord_arr = np.array([list(map(int,c.split(\",\"))) for c in coords])\n",
    "fold_arr = [(f[11],int(f[13:])) for f in folds]\n",
    "width = coord_arr[:,0]\n",
    "height = coord_arr[:,1]\n",
    "z = np.zeros((max(height)+1,max(width)+1), dtype=int)\n",
    "z[(height, width)] = 1"
   ]
  },
  {
   "cell_type": "code",
   "execution_count": 246,
   "metadata": {},
   "outputs": [],
   "source": [
    "def fold(arr, xy, s):\n",
    "    if xy == \"x\":\n",
    "        arr = arr.T\n",
    "    #     s = (xs//2)\n",
    "    # else:\n",
    "    #     s = (ys//2)\n",
    "\n",
    "    top = arr[:s,:][::-1]\n",
    "    bot = arr[s+1:,:]\n",
    "\n",
    "    change = top.shape[0] - bot.shape[0]\n",
    "\n",
    "    if change == 0:\n",
    "        pass\n",
    "    elif change < 0:\n",
    "        #bot bigger\n",
    "        top = np.concatenate((top,np.zeros((change,top.shape[1]),dtype=int)),0)\n",
    "    else:\n",
    "        #top bigger\n",
    "        bot = np.concatenate((bot,np.zeros((change,bot.shape[1]),dtype=int)),0)\n",
    "\n",
    "    arr = (top | bot)[::-1]\n",
    "\n",
    "    \n",
    "    if xy == \"x\":\n",
    "        arr = arr.T\n",
    "\n",
    "    return arr\n",
    "\n",
    "        "
   ]
  },
  {
   "cell_type": "code",
   "execution_count": 237,
   "metadata": {},
   "outputs": [],
   "source": [
    "first = sum(fold(z,*fold_arr[0]).flatten())"
   ]
  },
  {
   "cell_type": "code",
   "execution_count": 238,
   "metadata": {},
   "outputs": [
    {
     "name": "stdout",
     "output_type": "stream",
     "text": [
      "701\n"
     ]
    }
   ],
   "source": [
    "print(first)"
   ]
  },
  {
   "cell_type": "code",
   "execution_count": 125,
   "metadata": {},
   "outputs": [
    {
     "name": "stdout",
     "output_type": "stream",
     "text": [
      "701\n",
      "(\"That's the right answer!  You are one gold star closer to finding the sleigh \"\n",
      " 'keys. [Continue to Part Two]')\n"
     ]
    },
    {
     "data": {
      "text/plain": [
       "True"
      ]
     },
     "execution_count": 125,
     "metadata": {},
     "output_type": "execute_result"
    }
   ],
   "source": [
    "submit_answer(DAY, 1, first)"
   ]
  },
  {
   "cell_type": "code",
   "execution_count": 247,
   "metadata": {},
   "outputs": [
    {
     "name": "stdout",
     "output_type": "stream",
     "text": [
      "x 655\n",
      "(892, 1311)\n",
      "y 447\n",
      "(892, 655)\n",
      "x 327\n",
      "(447, 655)\n",
      "y 223\n",
      "(447, 327)\n",
      "x 163\n",
      "(223, 327)\n",
      "y 111\n",
      "(223, 163)\n",
      "x 81\n",
      "(111, 163)\n",
      "y 55\n",
      "(111, 81)\n",
      "x 40\n",
      "(55, 81)\n",
      "y 27\n",
      "(55, 40)\n",
      "y 13\n",
      "(27, 40)\n",
      "y 6\n",
      "(13, 40)\n",
      "[[1 1 1 1 0 1 1 1 0 0 1 1 1 1 0 1 0 0 1 0 1 1 1 0 0 1 1 1 1 0 0 0 1 1 0 1\n",
      "  0 0 0 0]\n",
      " [1 0 0 0 0 1 0 0 1 0 1 0 0 0 0 1 0 1 0 0 1 0 0 1 0 1 0 0 0 0 0 0 0 1 0 1\n",
      "  0 0 0 0]\n",
      " [1 1 1 0 0 1 0 0 1 0 1 1 1 0 0 1 1 0 0 0 1 1 1 0 0 1 1 1 0 0 0 0 0 1 0 1\n",
      "  0 0 0 0]\n",
      " [1 0 0 0 0 1 1 1 0 0 1 0 0 0 0 1 0 1 0 0 1 0 0 1 0 1 0 0 0 0 0 0 0 1 0 1\n",
      "  0 0 0 0]\n",
      " [1 0 0 0 0 1 0 0 0 0 1 0 0 0 0 1 0 1 0 0 1 0 0 1 0 1 0 0 0 0 1 0 0 1 0 1\n",
      "  0 0 0 0]\n",
      " [1 0 0 0 0 1 0 0 0 0 1 1 1 1 0 1 0 0 1 0 1 1 1 0 0 1 1 1 1 0 0 1 1 0 0 1\n",
      "  1 1 1 0]]\n"
     ]
    }
   ],
   "source": [
    "this = np.copy(z)\n",
    "for d,i in fold_arr:\n",
    "    print(d,i)\n",
    "    print(this.shape)\n",
    "    this = fold(this,d,i)\n",
    "print(this)"
   ]
  },
  {
   "cell_type": "code",
   "execution_count": 256,
   "metadata": {},
   "outputs": [
    {
     "name": "stdout",
     "output_type": "stream",
     "text": [
      "#### ###  #### #  # ###  ####   ## #    \n",
      "#    #  # #    # #  #  # #       # #    \n",
      "###  #  # ###  ##   ###  ###     # #    \n",
      "#    ###  #    # #  #  # #       # #    \n",
      "#    #    #    # #  #  # #    #  # #    \n",
      "#    #    #### #  # ###  ####  ##  #### \n"
     ]
    }
   ],
   "source": [
    "m = {0:' ',1:'#'}\n",
    "for tt in this:\n",
    "    print(''.join([m[t] for t in tt]))"
   ]
  },
  {
   "cell_type": "code",
   "execution_count": 59,
   "metadata": {},
   "outputs": [
    {
     "name": "stdout",
     "output_type": "stream",
     "text": [
      "104834\n",
      "(\"That's the right answer!  You are one gold star closer to finding the sleigh \"\n",
      " 'keys.You have completed Day 12! You can [Shareon\\n'\n",
      " '  Twitter\\n'\n",
      " 'Mastodon] this victory or [Return to Your Advent Calendar].')\n"
     ]
    },
    {
     "data": {
      "text/plain": [
       "True"
      ]
     },
     "execution_count": 59,
     "metadata": {},
     "output_type": "execute_result"
    }
   ],
   "source": [
    "submit_answer(DAY, 2, second)"
   ]
  }
 ],
 "metadata": {
  "kernelspec": {
   "display_name": "Python 3",
   "language": "python",
   "name": "python3"
  },
  "language_info": {
   "codemirror_mode": {
    "name": "ipython",
    "version": 3
   },
   "file_extension": ".py",
   "mimetype": "text/x-python",
   "name": "python",
   "nbconvert_exporter": "python",
   "pygments_lexer": "ipython3",
   "version": "3.8.6"
  }
 },
 "nbformat": 4,
 "nbformat_minor": 4
}
