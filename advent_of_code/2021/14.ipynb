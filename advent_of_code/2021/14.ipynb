{
 "cells": [
  {
   "cell_type": "code",
   "execution_count": 1,
   "metadata": {},
   "outputs": [],
   "source": [
    "%load_ext autoreload\n",
    "%autoreload 2"
   ]
  },
  {
   "cell_type": "code",
   "execution_count": 2,
   "metadata": {},
   "outputs": [],
   "source": [
    "import requests\n",
    "from session import SESSION\n",
    "from common import print_problem, get_problem_input, submit_answer, neighbors\n",
    "from bs4 import BeautifulSoup\n",
    "from IPython.core.display import HTML\n",
    "from collections import Counter\n",
    "import re\n",
    "from collections import defaultdict\n",
    "from copy import copy, deepcopy\n",
    "import itertools\n",
    "from pprint import pprint\n",
    "from functools import lru_cache\n",
    "import numpy as np\n",
    "import colorama"
   ]
  },
  {
   "cell_type": "code",
   "execution_count": 3,
   "metadata": {},
   "outputs": [],
   "source": [
    "DAY = 14"
   ]
  },
  {
   "cell_type": "code",
   "execution_count": 4,
   "metadata": {},
   "outputs": [
    {
     "name": "stdout",
     "output_type": "stream",
     "text": [
      "Raw Data:\n",
      "'FSHBKOOPCFSFKONFNFBB\\n\\nFO -> K\\nFF -> H\\nSN -> C\\nCC -> S\\nBB -> V\\nFK -> H\\nPC -> P\\nPH'\n",
      "Split Data:\n",
      "['FSHBKOOPCFSFKONFNFBB',\n",
      " '',\n",
      " 'FO -> K',\n",
      " 'FF -> H',\n",
      " 'SN -> C',\n",
      " 'CC -> S',\n",
      " 'BB -> V',\n",
      " 'FK -> H',\n",
      " 'PC -> P',\n",
      " 'PH -> N']\n"
     ]
    }
   ],
   "source": [
    "raw_data, data = get_problem_input(DAY)"
   ]
  },
  {
   "cell_type": "code",
   "execution_count": 5,
   "metadata": {},
   "outputs": [],
   "source": [
    "start = data[0]\n",
    "rules = {x:y for x,y in [row.split(\" -> \") for row in data[2:]]}\n",
    "rules_pairs = tuple(rules.keys())\n",
    "rules_ins = tuple(rules.values())\n",
    "all_letters = set(''.join(rules.keys()))"
   ]
  },
  {
   "cell_type": "code",
   "execution_count": 6,
   "metadata": {},
   "outputs": [],
   "source": [
    "def insert(chain, rules, steps):\n",
    "    for _ in range(steps):\n",
    "        i = 0\n",
    "        while True:\n",
    "            if i >= len(chain)-1:\n",
    "                break\n",
    "            pair = chain[i:i+2]\n",
    "            insert = rules[pair]\n",
    "            chain = chain[:i+1] + insert + chain[i+1:]\n",
    "            i+=(1+len(insert))\n",
    "    return chain\n"
   ]
  },
  {
   "cell_type": "code",
   "execution_count": 7,
   "metadata": {},
   "outputs": [],
   "source": [
    "c = Counter(insert(start, rules,10))"
   ]
  },
  {
   "cell_type": "code",
   "execution_count": 8,
   "metadata": {},
   "outputs": [
    {
     "name": "stdout",
     "output_type": "stream",
     "text": [
      "3143\n"
     ]
    }
   ],
   "source": [
    "print(first := c.most_common()[0][1] - c.most_common()[-1][1])"
   ]
  },
  {
   "cell_type": "code",
   "execution_count": 119,
   "metadata": {},
   "outputs": [
    {
     "name": "stdout",
     "output_type": "stream",
     "text": [
      "3143\n",
      "(\"You don't seem to be solving the right level.  Did you already complete it? \"\n",
      " '[Return to Day 14]')\n"
     ]
    },
    {
     "data": {
      "text/plain": [
       "False"
      ]
     },
     "execution_count": 119,
     "metadata": {},
     "output_type": "execute_result"
    }
   ],
   "source": [
    "submit_answer(DAY, 1, first)"
   ]
  },
  {
   "cell_type": "code",
   "execution_count": 9,
   "metadata": {},
   "outputs": [],
   "source": [
    "@lru_cache(maxsize=None)\n",
    "def recur(pair: str, steps: int):\n",
    "    steps -= 1\n",
    "    first, second = pair\n",
    "    middle = rules[pair]\n",
    "\n",
    "    this = tuple(1 if l == middle else 0 for l in all_letters)\n",
    "    if not steps:\n",
    "        return this\n",
    "\n",
    "    else:\n",
    "        counter = tuple(x+y for x,y in zip(this, recur(first + middle, steps)))\n",
    "        counter = tuple(x+y for x,y in zip(counter, recur(middle + second, steps)))\n",
    "\n",
    "    return counter\n",
    "    # no more recursion\n"
   ]
  },
  {
   "cell_type": "code",
   "execution_count": 10,
   "metadata": {},
   "outputs": [],
   "source": [
    "def insert2(start, steps):\n",
    "    blank = tuple(0 for l in all_letters)\n",
    "    overall = Counter(start)\n",
    "    for i in range(len(start)-1):\n",
    "        c = start[i:i+2]\n",
    "        res = {l:y for l,y in zip(all_letters, recur(c,steps))}\n",
    "        overall.update(res)\n",
    "\n",
    "    return overall"
   ]
  },
  {
   "cell_type": "code",
   "execution_count": 11,
   "metadata": {},
   "outputs": [
    {
     "name": "stdout",
     "output_type": "stream",
     "text": [
      "Counter({'C': 4580129184584, 'S': 2839199115675, 'P': 2620681635877, 'F': 2327036746225, 'H': 2324646240751, 'K': 2083647690981, 'V': 1316428617764, 'O': 1262030235815, 'N': 1067007877945, 'B': 469913582128})\n"
     ]
    }
   ],
   "source": [
    "print(c := insert2(start, 40))"
   ]
  },
  {
   "cell_type": "code",
   "execution_count": 12,
   "metadata": {},
   "outputs": [
    {
     "name": "stdout",
     "output_type": "stream",
     "text": [
      "4110215602456\n"
     ]
    }
   ],
   "source": [
    "print(second := c.most_common()[0][1] - c.most_common()[-1][1])"
   ]
  },
  {
   "cell_type": "code",
   "execution_count": 339,
   "metadata": {},
   "outputs": [
    {
     "name": "stdout",
     "output_type": "stream",
     "text": [
      "4110215602456\n",
      "(\"That's the right answer!  You are one gold star closer to finding the sleigh \"\n",
      " 'keys.You have completed Day 14! You can [Shareon\\n'\n",
      " '  Twitter\\n'\n",
      " 'Mastodon] this victory or [Return to Your Advent Calendar].')\n"
     ]
    },
    {
     "data": {
      "text/plain": [
       "True"
      ]
     },
     "execution_count": 339,
     "metadata": {},
     "output_type": "execute_result"
    }
   ],
   "source": [
    "submit_answer(DAY, 2, second)"
   ]
  }
 ],
 "metadata": {
  "kernelspec": {
   "display_name": "Python 3",
   "language": "python",
   "name": "python3"
  },
  "language_info": {
   "codemirror_mode": {
    "name": "ipython",
    "version": 3
   },
   "file_extension": ".py",
   "mimetype": "text/x-python",
   "name": "python",
   "nbconvert_exporter": "python",
   "pygments_lexer": "ipython3",
   "version": "3.8.6"
  }
 },
 "nbformat": 4,
 "nbformat_minor": 4
}
