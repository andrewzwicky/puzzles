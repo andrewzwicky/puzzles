{
 "cells": [
  {
   "cell_type": "code",
   "execution_count": 2,
   "metadata": {},
   "outputs": [
    {
     "name": "stdout",
     "output_type": "stream",
     "text": [
      "The autoreload extension is already loaded. To reload it, use:\n",
      "  %reload_ext autoreload\n"
     ]
    }
   ],
   "source": [
    "%load_ext autoreload\n",
    "%autoreload 2"
   ]
  },
  {
   "cell_type": "code",
   "execution_count": 3,
   "metadata": {},
   "outputs": [],
   "source": [
    "import requests\n",
    "from session import SESSION\n",
    "from common import print_problem, get_problem_input, submit_answer\n",
    "from bs4 import BeautifulSoup\n",
    "from IPython.core.display import HTML\n",
    "from collections import Counter\n",
    "import re\n",
    "from collections import defaultdict\n",
    "from copy import copy, deepcopy\n",
    "import itertools\n",
    "from pprint import pprint\n",
    "from functools import lru_cache\n",
    "import numpy as np"
   ]
  },
  {
   "cell_type": "code",
   "execution_count": 4,
   "metadata": {},
   "outputs": [],
   "source": [
    "DAY = 3"
   ]
  },
  {
   "cell_type": "code",
   "execution_count": 6,
   "metadata": {},
   "outputs": [
    {
     "name": "stdout",
     "output_type": "stream",
     "text": [
      "Raw Data:\n",
      "'010100010111\\n100100100110\\n100110111001\\n011001011011\\n010000110111\\n000011101001\\n01'\n",
      "Split Data:\n",
      "['010100010111',\n",
      " '100100100110',\n",
      " '100110111001',\n",
      " '011001011011',\n",
      " '010000110111',\n",
      " '000011101001',\n",
      " '011000011101',\n",
      " '101111011111',\n",
      " '011001011010',\n",
      " '111100001001']\n"
     ]
    }
   ],
   "source": [
    "raw_data, data = get_problem_input(DAY)"
   ]
  },
  {
   "cell_type": "code",
   "execution_count": 36,
   "metadata": {},
   "outputs": [],
   "source": [
    "test = [\n",
    "\"00100\",\n",
    "\"11110\",\n",
    "\"10110\",\n",
    "\"10111\",\n",
    "\"10101\",\n",
    "\"01111\",\n",
    "\"00111\",\n",
    "\"11100\",\n",
    "\"10000\",\n",
    "\"11001\",\n",
    "\"00010\",\n",
    "\"01010\"\n",
    "]"
   ]
  },
  {
   "cell_type": "code",
   "execution_count": 50,
   "metadata": {},
   "outputs": [],
   "source": [
    "y = [Counter(c).most_common() for c in [''.join(x) for x in zip(*data)]]"
   ]
  },
  {
   "cell_type": "code",
   "execution_count": 51,
   "metadata": {},
   "outputs": [
    {
     "data": {
      "text/plain": [
       "[[('1', 503), ('0', 497)],\n",
       " [('0', 507), ('1', 493)],\n",
       " [('0', 538), ('1', 462)],\n",
       " [('0', 506), ('1', 494)],\n",
       " [('1', 511), ('0', 489)],\n",
       " [('1', 510), ('0', 490)],\n",
       " [('1', 502), ('0', 498)],\n",
       " [('0', 522), ('1', 478)],\n",
       " [('0', 506), ('1', 494)],\n",
       " [('1', 514), ('0', 486)],\n",
       " [('0', 510), ('1', 490)],\n",
       " [('1', 506), ('0', 494)]]"
      ]
     },
     "execution_count": 51,
     "metadata": {},
     "output_type": "execute_result"
    }
   ],
   "source": [
    "y"
   ]
  },
  {
   "cell_type": "code",
   "execution_count": 52,
   "metadata": {},
   "outputs": [],
   "source": [
    "gamma = int(''.join([j[0] for j,k in y]),2)"
   ]
  },
  {
   "cell_type": "code",
   "execution_count": 53,
   "metadata": {},
   "outputs": [],
   "source": [
    "epsilon = int(''.join([k[0] for j,k in y]),2)"
   ]
  },
  {
   "cell_type": "code",
   "execution_count": 54,
   "metadata": {},
   "outputs": [],
   "source": [
    "first = gamma * epsilon"
   ]
  },
  {
   "cell_type": "code",
   "execution_count": 55,
   "metadata": {},
   "outputs": [
    {
     "name": "stdout",
     "output_type": "stream",
     "text": [
      "4139586\n"
     ]
    }
   ],
   "source": [
    "print(first)"
   ]
  },
  {
   "cell_type": "code",
   "execution_count": 56,
   "metadata": {},
   "outputs": [
    {
     "name": "stdout",
     "output_type": "stream",
     "text": [
      "4139586\n",
      "(\"That's the right answer!  You are one gold star closer to finding the sleigh \"\n",
      " \"keys. You got rank 735 on this star's leaderboard. [Continue to Part Two]\")\n"
     ]
    },
    {
     "data": {
      "text/plain": [
       "True"
      ]
     },
     "execution_count": 56,
     "metadata": {},
     "output_type": "execute_result"
    }
   ],
   "source": [
    "submit_answer(DAY, 1, first)"
   ]
  },
  {
   "cell_type": "code",
   "execution_count": 102,
   "metadata": {},
   "outputs": [],
   "source": [
    "ddata = deepcopy(data)\n",
    "i = 0\n",
    "while True:\n",
    "    try:\n",
    "        c = Counter([''.join(x) for x in zip(*ddata)][i])\n",
    "        if len(set(c.values())) == 1:\n",
    "            #equal num take 1\n",
    "            y = \"1\"\n",
    "        else:\n",
    "            y=c.most_common()[0][0]\n",
    "        \n",
    "        #print(len(ddata), i, y)\n",
    "        #print(ddata)\n",
    "        \n",
    "        ddata = list(filter(lambda x: x[i] == y, ddata))\n",
    "        \n",
    "        if len(ddata) == 1:\n",
    "            oxygen = int(ddata[0],2)\n",
    "            \n",
    "        \n",
    "        i += 1\n",
    "    except IndexError:\n",
    "        break\n",
    "    #print()"
   ]
  },
  {
   "cell_type": "code",
   "execution_count": 103,
   "metadata": {},
   "outputs": [],
   "source": [
    "ddata = deepcopy(data)\n",
    "i = 0\n",
    "while True:\n",
    "    try:\n",
    "        c = Counter([''.join(x) for x in zip(*ddata)][i])\n",
    "        if len(set(c.values())) == 1:\n",
    "            #equal num take 1\n",
    "            y = \"0\"\n",
    "        else:\n",
    "            y=c.most_common()[-1][0]\n",
    "        \n",
    "        #print(len(ddata), i, y)\n",
    "        #print(ddata)\n",
    "        \n",
    "        ddata = list(filter(lambda x: x[i] == y, ddata))\n",
    "        \n",
    "        if len(ddata) == 1:\n",
    "            co2 = int(ddata[0],2)\n",
    "            \n",
    "        \n",
    "        i += 1\n",
    "    except IndexError:\n",
    "        break\n",
    "    #print()"
   ]
  },
  {
   "cell_type": "code",
   "execution_count": 104,
   "metadata": {},
   "outputs": [],
   "source": [
    "second = oxygen * co2"
   ]
  },
  {
   "cell_type": "code",
   "execution_count": 105,
   "metadata": {},
   "outputs": [
    {
     "name": "stdout",
     "output_type": "stream",
     "text": [
      "1800151\n"
     ]
    }
   ],
   "source": [
    "print(second)"
   ]
  },
  {
   "cell_type": "code",
   "execution_count": 106,
   "metadata": {},
   "outputs": [
    {
     "name": "stdout",
     "output_type": "stream",
     "text": [
      "1800151\n",
      "(\"That's the right answer!  You are one gold star closer to finding the sleigh \"\n",
      " 'keys.You have completed Day 3! You can [Shareon\\n'\n",
      " '  Twitter\\n'\n",
      " 'Mastodon] this victory or [Return to Your Advent Calendar].')\n"
     ]
    },
    {
     "data": {
      "text/plain": [
       "True"
      ]
     },
     "execution_count": 106,
     "metadata": {},
     "output_type": "execute_result"
    }
   ],
   "source": [
    "submit_answer(DAY, 2, second)"
   ]
  }
 ],
 "metadata": {
  "kernelspec": {
   "display_name": "Python 3",
   "language": "python",
   "name": "python3"
  },
  "language_info": {
   "codemirror_mode": {
    "name": "ipython",
    "version": 3
   },
   "file_extension": ".py",
   "mimetype": "text/x-python",
   "name": "python",
   "nbconvert_exporter": "python",
   "pygments_lexer": "ipython3",
   "version": "3.8.6"
  }
 },
 "nbformat": 4,
 "nbformat_minor": 4
}
