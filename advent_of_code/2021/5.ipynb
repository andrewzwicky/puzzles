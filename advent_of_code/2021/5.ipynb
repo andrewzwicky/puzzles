{
 "cells": [
  {
   "cell_type": "code",
   "execution_count": 1,
   "metadata": {},
   "outputs": [],
   "source": [
    "%load_ext autoreload\n",
    "%autoreload 2"
   ]
  },
  {
   "cell_type": "code",
   "execution_count": 2,
   "metadata": {},
   "outputs": [],
   "source": [
    "import requests\n",
    "from session import SESSION\n",
    "from common import print_problem, get_problem_input, submit_answer\n",
    "from bs4 import BeautifulSoup\n",
    "from IPython.core.display import HTML\n",
    "from collections import Counter\n",
    "import re\n",
    "from collections import defaultdict\n",
    "from copy import copy, deepcopy\n",
    "import itertools\n",
    "from pprint import pprint\n",
    "from functools import lru_cache\n",
    "import numpy as np"
   ]
  },
  {
   "cell_type": "code",
   "execution_count": 3,
   "metadata": {},
   "outputs": [],
   "source": [
    "DAY = 5"
   ]
  },
  {
   "cell_type": "code",
   "execution_count": 300,
   "metadata": {},
   "outputs": [
    {
     "name": "stdout",
     "output_type": "stream",
     "text": [
      "Raw Data:\n",
      "'959,103 -> 139,923\\n899,63 -> 899,53\\n591,871 -> 364,644\\n739,913 -> 310,484\\n460,30'\n",
      "Split Data:\n",
      "['959,103 -> 139,923',\n",
      " '899,63 -> 899,53',\n",
      " '591,871 -> 364,644',\n",
      " '739,913 -> 310,484',\n",
      " '460,309 -> 460,705',\n",
      " '351,389 -> 351,837',\n",
      " '420,55 -> 420,541',\n",
      " '916,520 -> 382,520',\n",
      " '136,604 -> 295,604',\n",
      " '343,59 -> 142,59']\n"
     ]
    }
   ],
   "source": [
    "raw_data, data = get_problem_input(DAY)"
   ]
  },
  {
   "cell_type": "code",
   "execution_count": 283,
   "metadata": {},
   "outputs": [],
   "source": [
    "data = [\n",
    "\"0,9 -> 5,9\",\n",
    "\"8,0 -> 0,8\",\n",
    "\"9,4 -> 3,4\",\n",
    "\"2,2 -> 2,1\",\n",
    "\"7,0 -> 7,4\",\n",
    "\"6,4 -> 2,0\",\n",
    "\"0,9 -> 2,9\",\n",
    "\"3,4 -> 1,4\",\n",
    "\"0,0 -> 8,8\",\n",
    "\"5,5 -> 8,2\",\n",
    "]"
   ]
  },
  {
   "cell_type": "code",
   "execution_count": 301,
   "metadata": {},
   "outputs": [],
   "source": [
    "nums = np.array([list(map(int,re.findall(\"\\d+\",row))) for row in data])"
   ]
  },
  {
   "cell_type": "code",
   "execution_count": 302,
   "metadata": {},
   "outputs": [],
   "source": [
    "nums = nums.flatten().reshape((-1,4))"
   ]
  },
  {
   "cell_type": "code",
   "execution_count": 303,
   "metadata": {},
   "outputs": [],
   "source": [
    "x = np.where(nums[:,0] == nums[:,2])\n",
    "y = np.where(nums[:,1] == nums[:,3])\n",
    "idx = np.sort(np.concatenate((x,y),axis=1))"
   ]
  },
  {
   "cell_type": "code",
   "execution_count": 304,
   "metadata": {},
   "outputs": [],
   "source": [
    "h = np.max(nums[:,[1,3]])\n",
    "w = np.max(nums[:,[0,2]])"
   ]
  },
  {
   "cell_type": "code",
   "execution_count": 305,
   "metadata": {},
   "outputs": [],
   "source": [
    "grid = np.zeros((h+1,w+1),dtype=int)"
   ]
  },
  {
   "cell_type": "code",
   "execution_count": 306,
   "metadata": {},
   "outputs": [],
   "source": [
    "for row in nums[x]:\n",
    "    a,b = sorted(row[(1,3),])\n",
    "    grid[a:b+1, row[0]] += 1"
   ]
  },
  {
   "cell_type": "code",
   "execution_count": 307,
   "metadata": {},
   "outputs": [],
   "source": [
    "for row in nums[y]:\n",
    "    a,b = sorted(row[(0,2),])\n",
    "    grid[row[1],a:b+1] += 1"
   ]
  },
  {
   "cell_type": "code",
   "execution_count": 308,
   "metadata": {},
   "outputs": [],
   "source": [
    "first = len(np.where(grid > 1)[0])"
   ]
  },
  {
   "cell_type": "code",
   "execution_count": 309,
   "metadata": {},
   "outputs": [
    {
     "name": "stdout",
     "output_type": "stream",
     "text": [
      "7318\n"
     ]
    }
   ],
   "source": [
    "print(first)"
   ]
  },
  {
   "cell_type": "code",
   "execution_count": 161,
   "metadata": {},
   "outputs": [
    {
     "name": "stdout",
     "output_type": "stream",
     "text": [
      "7318\n",
      "(\"That's the right answer!  You are one gold star closer to finding the sleigh \"\n",
      " 'keys. [Continue to Part Two]')\n"
     ]
    },
    {
     "data": {
      "text/plain": [
       "True"
      ]
     },
     "execution_count": 161,
     "metadata": {},
     "output_type": "execute_result"
    }
   ],
   "source": [
    "submit_answer(DAY, 1, first)"
   ]
  },
  {
   "cell_type": "code",
   "execution_count": 310,
   "metadata": {},
   "outputs": [
    {
     "data": {
      "text/plain": [
       "array([[959, 103, 139, 923],\n",
       "       [899,  63, 899,  53],\n",
       "       [591, 871, 364, 644],\n",
       "       ...,\n",
       "       [436, 978, 244, 978],\n",
       "       [921, 633, 921, 340],\n",
       "       [872,  63, 233,  63]])"
      ]
     },
     "execution_count": 310,
     "metadata": {},
     "output_type": "execute_result"
    }
   ],
   "source": [
    "nums"
   ]
  },
  {
   "cell_type": "code",
   "execution_count": 311,
   "metadata": {},
   "outputs": [
    {
     "data": {
      "text/plain": [
       "array([[0, 0, 0, ..., 0, 0, 0],\n",
       "       [0, 0, 0, ..., 0, 0, 0],\n",
       "       [0, 0, 0, ..., 0, 0, 0],\n",
       "       ...,\n",
       "       [0, 0, 0, ..., 0, 0, 0],\n",
       "       [0, 0, 0, ..., 0, 0, 0],\n",
       "       [0, 0, 0, ..., 0, 0, 0]])"
      ]
     },
     "execution_count": 311,
     "metadata": {},
     "output_type": "execute_result"
    }
   ],
   "source": [
    "grid"
   ]
  },
  {
   "cell_type": "code",
   "execution_count": 312,
   "metadata": {},
   "outputs": [
    {
     "data": {
      "text/plain": [
       "array([[False, False, False, False],\n",
       "       [ True,  True,  True,  True],\n",
       "       [False, False, False, False],\n",
       "       [False, False, False, False],\n",
       "       [False, False, False, False],\n",
       "       [ True,  True,  True,  True],\n",
       "       [False, False, False, False],\n",
       "       [False, False, False, False],\n",
       "       [ True,  True,  True,  True],\n",
       "       [ True,  True,  True,  True]])"
      ]
     },
     "execution_count": 312,
     "metadata": {},
     "output_type": "execute_result"
    }
   ],
   "source": [
    "mask"
   ]
  },
  {
   "cell_type": "code",
   "execution_count": 313,
   "metadata": {},
   "outputs": [],
   "source": [
    "mask = np.ones(nums.shape, dtype=bool)\n",
    "mask[x,:] = False\n",
    "mask[y,:] = False\n",
    "diags = nums[mask].reshape((-1,4))"
   ]
  },
  {
   "cell_type": "code",
   "execution_count": 314,
   "metadata": {},
   "outputs": [
    {
     "data": {
      "text/plain": [
       "(165, 172, 163, 500)"
      ]
     },
     "execution_count": 314,
     "metadata": {},
     "output_type": "execute_result"
    }
   ],
   "source": [
    "len(x[0]), len(y[0]), len(diags[:,1]), len(x[0]) + len(y[0]) + len(diags[:,1])"
   ]
  },
  {
   "cell_type": "code",
   "execution_count": 315,
   "metadata": {},
   "outputs": [],
   "source": [
    "for diag in diags:\n",
    "    a,b,c,d = diag\n",
    "    if a < c:\n",
    "        xx = list(range(a,c+1,1))\n",
    "    else:\n",
    "        xx = list(range(a,c-1,-1))\n",
    "\n",
    "    if b < d:\n",
    "        yy = list(range(b,d+1,1))\n",
    "    else:\n",
    "        yy = list(range(b,d-1,-1))\n",
    "    grid[yy,xx]+=1"
   ]
  },
  {
   "cell_type": "code",
   "execution_count": 316,
   "metadata": {},
   "outputs": [
    {
     "data": {
      "text/plain": [
       "array([[0, 0, 0, ..., 0, 0, 0],\n",
       "       [0, 0, 0, ..., 0, 0, 0],\n",
       "       [0, 0, 0, ..., 0, 0, 0],\n",
       "       ...,\n",
       "       [0, 0, 0, ..., 0, 0, 0],\n",
       "       [0, 0, 0, ..., 0, 0, 0],\n",
       "       [0, 0, 0, ..., 0, 0, 0]])"
      ]
     },
     "execution_count": 316,
     "metadata": {},
     "output_type": "execute_result"
    }
   ],
   "source": [
    "grid"
   ]
  },
  {
   "cell_type": "code",
   "execution_count": 317,
   "metadata": {},
   "outputs": [],
   "source": [
    "second = len(np.where(grid > 1)[0])"
   ]
  },
  {
   "cell_type": "code",
   "execution_count": 318,
   "metadata": {},
   "outputs": [
    {
     "name": "stdout",
     "output_type": "stream",
     "text": [
      "19939\n"
     ]
    }
   ],
   "source": [
    "print(second)"
   ]
  },
  {
   "cell_type": "code",
   "execution_count": 319,
   "metadata": {},
   "outputs": [
    {
     "name": "stdout",
     "output_type": "stream",
     "text": [
      "19939\n",
      "(\"That's the right answer!  You are one gold star closer to finding the sleigh \"\n",
      " 'keys.You have completed Day 5! You can [Shareon\\n'\n",
      " '  Twitter\\n'\n",
      " 'Mastodon] this victory or [Return to Your Advent Calendar].')\n"
     ]
    },
    {
     "data": {
      "text/plain": [
       "True"
      ]
     },
     "execution_count": 319,
     "metadata": {},
     "output_type": "execute_result"
    }
   ],
   "source": [
    "submit_answer(DAY, 2, second)"
   ]
  }
 ],
 "metadata": {
  "kernelspec": {
   "display_name": "Python 3",
   "language": "python",
   "name": "python3"
  },
  "language_info": {
   "codemirror_mode": {
    "name": "ipython",
    "version": 3
   },
   "file_extension": ".py",
   "mimetype": "text/x-python",
   "name": "python",
   "nbconvert_exporter": "python",
   "pygments_lexer": "ipython3",
   "version": "3.8.6"
  }
 },
 "nbformat": 4,
 "nbformat_minor": 4
}
