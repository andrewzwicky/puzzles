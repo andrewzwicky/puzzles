{
 "cells": [
  {
   "cell_type": "code",
   "execution_count": 1,
   "metadata": {},
   "outputs": [],
   "source": [
    "%load_ext autoreload\n",
    "%autoreload 2"
   ]
  },
  {
   "cell_type": "code",
   "execution_count": 2,
   "metadata": {},
   "outputs": [],
   "source": [
    "import requests\n",
    "from session import SESSION\n",
    "from common import print_problem, get_problem_input, submit_answer\n",
    "from bs4 import BeautifulSoup\n",
    "from IPython.core.display import HTML\n",
    "from collections import Counter\n",
    "import re\n",
    "from collections import defaultdict\n",
    "from copy import copy, deepcopy\n",
    "import itertools\n",
    "from pprint import pprint\n",
    "from functools import lru_cache\n",
    "import numpy as np"
   ]
  },
  {
   "cell_type": "code",
   "execution_count": 3,
   "metadata": {},
   "outputs": [],
   "source": [
    "DAY = 8"
   ]
  },
  {
   "cell_type": "code",
   "execution_count": 272,
   "metadata": {},
   "outputs": [
    {
     "name": "stdout",
     "output_type": "stream",
     "text": [
      "Raw Data:\n",
      "'afebd ecdgfb gacfed dgaeb bf acefd fgdabec bfd bedcaf bafc | afcbed fb bfd bdf\\ne'\n",
      "Split Data:\n",
      "['afebd ecdgfb gacfed dgaeb bf acefd fgdabec bfd bedcaf bafc | afcbed fb bfd '\n",
      " 'bdf',\n",
      " 'eabcdg fc fbce dbfagc cagbdfe cbdge fgc gfade ecdgfb gfedc | cf fgbacd fecb '\n",
      " 'becdg',\n",
      " 'fbeadcg fdcge deb gcdeaf fdgb bd bedacg cedbf feabc fcgdeb | dbcfeg cbeagd '\n",
      " 'ebd db',\n",
      " 'adgcbe bgaef cab gbfadec deacg bdcg cfegad gbcea fbeadc cb | bgcd gdcb acb '\n",
      " 'gabced',\n",
      " 'fcdbae fgadebc gefac gfda fac gcedf dgcefa dgefcb fa baceg | bdgeacf af '\n",
      " 'gaecbfd cebga',\n",
      " 'fgadbe db fabgc daeb gdb gdefa afdbg dcgebf gadcef ebcagdf | adefcbg cefagbd '\n",
      " 'gbd adgfe',\n",
      " 'dfcbga ebfc aefdb dfb bdgae edagfc bf bfcaed bedgcfa ecadf | bf ebdaf '\n",
      " 'cfdbaeg abdfcge',\n",
      " 'dbeag fda fd feadb geabfc facbe cbfaged efbacd fcde adfbgc | df afd dfbecga '\n",
      " 'gbdefac',\n",
      " 'ac ecda ecfdb bcedaf bac bfega fdgcab caebf bgecdf fcdgeab | ca ceda ca '\n",
      " 'fecgbd',\n",
      " 'dabfc egafb gda fbadce dfcagb gcbd dg gcadfeb dafcge afbgd | dbafce dcgb '\n",
      " 'gdbface dbgc']\n"
     ]
    }
   ],
   "source": [
    "raw_data, data = get_problem_input(DAY)"
   ]
  },
  {
   "cell_type": "code",
   "execution_count": 142,
   "metadata": {},
   "outputs": [],
   "source": [
    "data = [\"acedgfb cdfbe gcdfa fbcad dab cefabd cdfgeb eafb cagedb ab | cdfeb fcadb cdfeb cdbaf\",\n",
    "    \"be cfbegad cbdgef fgaecd cgeb fdcge agebfd fecdb fabcd edb | fdgacbe cefdb cefbgd gcbe\",\n",
    "\"edbfga begcd cbg gc gcadebf fbgde acbgfd abcde gfcbed gfec | fcgedb cgb dgebacf gc\",\n",
    "\"fgaebd cg bdaec gdafb agbcfd gdcbef bgcad gfac gcb cdgabef | cg cg fdcagb cbg\",\n",
    "\"fbegcd cbd adcefb dageb afcb bc aefdc ecdab fgdeca fcdbega | efabcd cedba gadfec cb\",\n",
    "\"aecbfdg fbg gf bafeg dbefa fcge gcbea fcaegb dgceab fcbdga | gecf egdcabf bgf bfgea\",\n",
    "\"fgeab ca afcebg bdacfeg cfaedg gcfdb baec bfadeg bafgc acf | gebdcfa ecba ca fadegcb\",\n",
    "\"dbcfg fgd bdegcaf fgec aegbdf ecdfab fbedc dacgb gdcebf gf | cefg dcbef fcge gbcadfe\",\n",
    "\"bdfegc cbegaf gecbf dfcage bdacg ed bedf ced adcbefg gebcd | ed bcgafe cdgba cbgef\",\n",
    "\"egadfb cdbfeg cegd fecab cgb gbdefca cg fgcdab egfdb bfceg | gbdfcae bgc cg cgb\",\n",
    "\"gcafb gcf dcaebfg ecagb gf abcdeg gaef cafbge fdbac fegbdc | fgae cfgab fg bagce\"]"
   ]
  },
  {
   "cell_type": "code",
   "execution_count": 96,
   "metadata": {},
   "outputs": [],
   "source": [
    "outputs = list(map(len,' '.join([d.split(\"|\")[1].strip() for d in data]).split(\" \")))"
   ]
  },
  {
   "cell_type": "code",
   "execution_count": 97,
   "metadata": {},
   "outputs": [],
   "source": [
    "c = Counter(outputs)"
   ]
  },
  {
   "cell_type": "code",
   "execution_count": 98,
   "metadata": {},
   "outputs": [],
   "source": [
    "first = c[7] + c[4] + c[3] + c[2]"
   ]
  },
  {
   "cell_type": "code",
   "execution_count": 99,
   "metadata": {},
   "outputs": [
    {
     "name": "stdout",
     "output_type": "stream",
     "text": [
      "554\n"
     ]
    }
   ],
   "source": [
    "print(first)"
   ]
  },
  {
   "cell_type": "code",
   "execution_count": 100,
   "metadata": {},
   "outputs": [
    {
     "name": "stdout",
     "output_type": "stream",
     "text": [
      "554\n",
      "(\"That's the right answer!  You are one gold star closer to finding the sleigh \"\n",
      " 'keys. [Continue to Part Two]')\n"
     ]
    },
    {
     "data": {
      "text/plain": [
       "True"
      ]
     },
     "execution_count": 100,
     "metadata": {},
     "output_type": "execute_result"
    }
   ],
   "source": [
    "submit_answer(DAY, 1, first)"
   ]
  },
  {
   "cell_type": "code",
   "execution_count": 273,
   "metadata": {},
   "outputs": [],
   "source": [
    "segments = {\n",
    "    0: \"abcefg\",\n",
    "    1: \"cf\",\n",
    "    2: \"acdeg\",\n",
    "    3: \"acdfg\",\n",
    "    4: \"bcdf\",\n",
    "    5: \"abdfg\",\n",
    "    6: \"abdefg\",\n",
    "    7: \"acf\",\n",
    "    8: \"abcdefg\",\n",
    "    9: \"abcdfg\",\n",
    "}"
   ]
  },
  {
   "cell_type": "code",
   "execution_count": 274,
   "metadata": {},
   "outputs": [
    {
     "data": {
      "text/plain": [
       "{'a': {'a', 'b', 'c', 'd', 'e', 'f', 'g'},\n",
       " 'b': {'a', 'b', 'c', 'd', 'e', 'f', 'g'},\n",
       " 'c': {'a', 'b', 'c', 'd', 'e', 'f', 'g'},\n",
       " 'd': {'a', 'b', 'c', 'd', 'e', 'f', 'g'},\n",
       " 'e': {'a', 'b', 'c', 'd', 'e', 'f', 'g'},\n",
       " 'f': {'a', 'b', 'c', 'd', 'e', 'f', 'g'},\n",
       " 'g': {'a', 'b', 'c', 'd', 'e', 'f', 'g'}}"
      ]
     },
     "execution_count": 274,
     "metadata": {},
     "output_type": "execute_result"
    }
   ],
   "source": [
    "options = {x:set('abcdefg') for x in 'abcdefg'}\n",
    "options"
   ]
  },
  {
   "cell_type": "code",
   "execution_count": 261,
   "metadata": {},
   "outputs": [],
   "source": [
    "def narrow(numbers, options):\n",
    "    this_options = deepcopy(options)\n",
    "    numbers = numbers.split(\" \")\n",
    "    seg_determined = dict()\n",
    "    while True:\n",
    "        for this in numbers:\n",
    "            if len(this) == 2:\n",
    "                digit = 1\n",
    "                seg_determined[digit] = set(this)\n",
    "                \n",
    "                for seg in this_options.keys():\n",
    "                    if seg in segments[digit]:\n",
    "                        this_options[seg] &= seg_determined[digit]\n",
    "                    else:\n",
    "                        this_options[seg] -= seg_determined[digit]\n",
    "            \n",
    "            if len(this) == 3:\n",
    "                digit = 7\n",
    "                seg_determined[digit] = set(this)\n",
    "                \n",
    "                for seg in this_options.keys():\n",
    "                    if seg in segments[digit]:\n",
    "                        this_options[seg] &= seg_determined[digit]\n",
    "                    else:\n",
    "                        this_options[seg] -= seg_determined[digit]\n",
    "            \n",
    "            if len(this) == 4:\n",
    "                digit = 4\n",
    "                seg_determined[digit] = set(this)\n",
    "                \n",
    "                for seg in this_options.keys():\n",
    "                    if seg in segments[digit]:\n",
    "                        this_options[seg] &= seg_determined[digit]\n",
    "                    else:\n",
    "                        this_options[seg] -= seg_determined[digit]\n",
    "            \n",
    "            if len(this) == 7:\n",
    "                digit = 8\n",
    "                seg_determined[digit] = set(this)\n",
    "                \n",
    "            if len(this) == 6:\n",
    "                try:\n",
    "                    x = set(this) - seg_determined[7]\n",
    "                    if len(x) == 4:\n",
    "                        digit = 6\n",
    "                        seg_determined[digit] = set(this)\n",
    "\n",
    "                        for seg in this_options.keys():\n",
    "                            if seg in segments[digit]:\n",
    "                                this_options[seg] &= seg_determined[digit]\n",
    "                            else:\n",
    "                                this_options[seg] -= seg_determined[digit]\n",
    "                    \n",
    "                except KeyError:\n",
    "                    pass\n",
    "            \n",
    "            if len(this) == 5:\n",
    "                try:\n",
    "                    x = set(this) - seg_determined[6]\n",
    "                    \n",
    "                    if len(x) == 0:\n",
    "                        digit = 5\n",
    "                        seg_determined[digit] = set(this)\n",
    "\n",
    "                        for seg in this_options.keys():\n",
    "                            if seg in segments[digit]:\n",
    "                                this_options[seg] &= seg_determined[digit]\n",
    "                            else:\n",
    "                                this_options[seg] -= seg_determined[digit]\n",
    "                    \n",
    "                except KeyError:\n",
    "                    pass\n",
    "            \n",
    "                try:\n",
    "                    x = set(this) & seg_determined[7]\n",
    "                    \n",
    "                    if x == seg_determined[7]:\n",
    "                        digit = 3\n",
    "                        seg_determined[digit] = set(this)\n",
    "\n",
    "                        for seg in this_options.keys():\n",
    "                            if seg in segments[digit]:\n",
    "                                this_options[seg] &= seg_determined[digit]\n",
    "                            else:\n",
    "                                this_options[seg] -= seg_determined[digit]\n",
    "                    \n",
    "                except KeyError:\n",
    "                    pass\n",
    "            \n",
    "            try:\n",
    "                a_seg = seg_determined[7] - seg_determined[1]\n",
    "                for seg in this_options.keys():\n",
    "                    if seg == \"a\":\n",
    "                        this_options[seg] = a_seg\n",
    "                    else:\n",
    "                        this_options[seg] -= a_seg\n",
    "                \n",
    "            except KeyError:\n",
    "                pass\n",
    "            \n",
    "            try:\n",
    "                a_seg = seg_determined[7] - seg_determined[1]\n",
    "                for seg in this_options.keys():\n",
    "                    if seg == \"a\":\n",
    "                        this_options[seg] = a_seg\n",
    "                    else:\n",
    "                        this_options[seg] -= a_seg\n",
    "                \n",
    "            except KeyError:\n",
    "                pass\n",
    "         \n",
    "        if all([len(y) == 1 for y in this_options.values()]):\n",
    "            break\n",
    "    \n",
    "    this_options = {x:y.pop() for x,y in this_options.items()}\n",
    "    reverse = {y:x for x,y in this_options.items()}\n",
    "    \n",
    "    return this_options"
   ]
  },
  {
   "cell_type": "code",
   "execution_count": 279,
   "metadata": {},
   "outputs": [],
   "source": [
    "second = 0\n",
    "for d in data:\n",
    "    left, right = d.split('|')\n",
    "    \n",
    "    left = left.strip()\n",
    "    right = right.strip()\n",
    "    \n",
    "    p = narrow(left, options)\n",
    "    mapping = {frozenset([p[l] for l in v]):str(k) for k,v in segments.items()}\n",
    "    \n",
    "    step = int(''.join([mapping[frozenset(u)] for u in right.split(\" \")]))\n",
    "\n",
    "    second += step"
   ]
  },
  {
   "cell_type": "code",
   "execution_count": 280,
   "metadata": {},
   "outputs": [
    {
     "data": {
      "text/plain": [
       "990964"
      ]
     },
     "execution_count": 280,
     "metadata": {},
     "output_type": "execute_result"
    }
   ],
   "source": [
    "second"
   ]
  },
  {
   "cell_type": "code",
   "execution_count": 281,
   "metadata": {},
   "outputs": [
    {
     "name": "stdout",
     "output_type": "stream",
     "text": [
      "990964\n",
      "(\"You don't seem to be solving the right level.  Did you already complete it? \"\n",
      " '[Return to Day 8]')\n"
     ]
    },
    {
     "data": {
      "text/plain": [
       "False"
      ]
     },
     "execution_count": 281,
     "metadata": {},
     "output_type": "execute_result"
    }
   ],
   "source": [
    "submit_answer(DAY, 2, second)"
   ]
  }
 ],
 "metadata": {
  "kernelspec": {
   "display_name": "Python 3",
   "language": "python",
   "name": "python3"
  },
  "language_info": {
   "codemirror_mode": {
    "name": "ipython",
    "version": 3
   },
   "file_extension": ".py",
   "mimetype": "text/x-python",
   "name": "python",
   "nbconvert_exporter": "python",
   "pygments_lexer": "ipython3",
   "version": "3.8.6"
  }
 },
 "nbformat": 4,
 "nbformat_minor": 4
}
