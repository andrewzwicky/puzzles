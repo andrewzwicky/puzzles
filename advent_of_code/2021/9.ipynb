{
 "cells": [
  {
   "cell_type": "code",
   "execution_count": 1,
   "metadata": {},
   "outputs": [],
   "source": [
    "%load_ext autoreload\n",
    "%autoreload 2"
   ]
  },
  {
   "cell_type": "code",
   "execution_count": 2,
   "metadata": {},
   "outputs": [],
   "source": [
    "import requests\n",
    "from session import SESSION\n",
    "from common import print_problem, get_problem_input, submit_answer\n",
    "from bs4 import BeautifulSoup\n",
    "from IPython.core.display import HTML\n",
    "from collections import Counter\n",
    "import re\n",
    "from collections import defaultdict\n",
    "from copy import copy, deepcopy\n",
    "import itertools\n",
    "from pprint import pprint\n",
    "from functools import lru_cache\n",
    "import numpy as np"
   ]
  },
  {
   "cell_type": "code",
   "execution_count": 3,
   "metadata": {},
   "outputs": [],
   "source": [
    "DAY = 9"
   ]
  },
  {
   "cell_type": "code",
   "execution_count": 80,
   "metadata": {},
   "outputs": [
    {
     "name": "stdout",
     "output_type": "stream",
     "text": [
      "Raw Data:\n",
      "'67698768876989998763678985432123789976543212910987654323987676679899765432101234'\n",
      "Split Data:\n",
      "['6769876887698999876367898543212378997654321291098765432398767667989976543210123456987678999766598921',\n",
      " '5456965476567999985457897654301456989743210989989898540987656545678987654323634679876569998757387892',\n",
      " '4349864345476889876778999864323699879654329879878987659876543434569998789434545798765459879543296989',\n",
      " '3298753212345678989889298765459989768965498764567898899865432523459999998587657987654365965654135678',\n",
      " '4349432101346789999992169876798778957896796553456789956976921012367899987699788998543234984321015789',\n",
      " '5498763212457899999743456989987667945997985432377894344989854323456789998989999987642149765632134899',\n",
      " '6569854343568999897654599797898543234589876545688943243498765434678999999878891298753259898543236789',\n",
      " '7679878987699598789775988676987632123578987656799654102349876545678999898566789987654345997654545678',\n",
      " '8999989398789699678989876545698821014567898787898743212357987656789998787355679999965456789765656799',\n",
      " '9889895459893987565699876123799935223698979898987654523456898967899987676234589999876767899878767898']\n"
     ]
    }
   ],
   "source": [
    "raw_data, data = get_problem_input(DAY)"
   ]
  },
  {
   "cell_type": "code",
   "execution_count": 81,
   "metadata": {},
   "outputs": [],
   "source": [
    "data_dict = dict()\n",
    "for i,row in enumerate(data):\n",
    "    for k,col in enumerate(row):\n",
    "        data_dict[i+k*(0+1j)] = int(col)"
   ]
  },
  {
   "cell_type": "code",
   "execution_count": 82,
   "metadata": {},
   "outputs": [],
   "source": [
    "neighbors = [\n",
    "    1j,\n",
    "    -1j,\n",
    "    -1,\n",
    "    1\n",
    "]"
   ]
  },
  {
   "cell_type": "code",
   "execution_count": 83,
   "metadata": {},
   "outputs": [],
   "source": [
    "lowest_points = list()\n",
    "lowest_coords = list()\n",
    "for k,v in data_dict.items():\n",
    "    lowest = True\n",
    "    for n in neighbors:\n",
    "        try:\n",
    "            if data_dict[k+n] <= v:\n",
    "                lowest = False\n",
    "        except KeyError:\n",
    "            pass\n",
    "    if lowest:\n",
    "        lowest_coords.append(k)\n",
    "        lowest_points.append(v)"
   ]
  },
  {
   "cell_type": "code",
   "execution_count": 84,
   "metadata": {},
   "outputs": [],
   "source": [
    "first = sum(lowest_points) + len(lowest_points)"
   ]
  },
  {
   "cell_type": "code",
   "execution_count": 85,
   "metadata": {},
   "outputs": [
    {
     "name": "stdout",
     "output_type": "stream",
     "text": [
      "436\n"
     ]
    }
   ],
   "source": [
    "print(first)"
   ]
  },
  {
   "cell_type": "code",
   "execution_count": 42,
   "metadata": {},
   "outputs": [
    {
     "name": "stdout",
     "output_type": "stream",
     "text": [
      "436\n",
      "(\"That's the right answer!  You are one gold star closer to finding the sleigh \"\n",
      " 'keys. [Continue to Part Two]')\n"
     ]
    },
    {
     "data": {
      "text/plain": [
       "True"
      ]
     },
     "execution_count": 42,
     "metadata": {},
     "output_type": "execute_result"
    }
   ],
   "source": [
    "submit_answer(DAY, 1, first)"
   ]
  },
  {
   "cell_type": "code",
   "execution_count": 88,
   "metadata": {},
   "outputs": [],
   "source": [
    "def recurse_basins(points_contained,points_traveled,data_dict):\n",
    "    if points_contained == points_traveled:\n",
    "        return points_contained\n",
    "    \n",
    "    for point in points_contained-points_traveled:\n",
    "        points_traveled.add(point)\n",
    "        for neigh in neighbors:\n",
    "            try:\n",
    "                if data_dict[neigh+point] != 9:\n",
    "                    points_contained.add(neigh+point)\n",
    "            except KeyError:\n",
    "                pass\n",
    "    \n",
    "    return recurse_basins(points_contained, points_traveled, data_dict)"
   ]
  },
  {
   "cell_type": "code",
   "execution_count": 90,
   "metadata": {},
   "outputs": [],
   "source": [
    "second = np.prod(sorted([len(recurse_basins({coord},set(),data_dict)) for coord in lowest_coords])[-3:])"
   ]
  },
  {
   "cell_type": "code",
   "execution_count": 91,
   "metadata": {},
   "outputs": [
    {
     "name": "stdout",
     "output_type": "stream",
     "text": [
      "1317792\n"
     ]
    }
   ],
   "source": [
    "print(second)"
   ]
  },
  {
   "cell_type": "code",
   "execution_count": 92,
   "metadata": {},
   "outputs": [
    {
     "name": "stdout",
     "output_type": "stream",
     "text": [
      "1317792\n",
      "(\"That's the right answer!  You are one gold star closer to finding the sleigh \"\n",
      " \"keys. You got rank 746 on this star's leaderboard.You have completed Day 9! \"\n",
      " 'You can [Shareon\\n'\n",
      " '  Twitter\\n'\n",
      " 'Mastodon] this victory or [Return to Your Advent Calendar].')\n"
     ]
    },
    {
     "data": {
      "text/plain": [
       "True"
      ]
     },
     "execution_count": 92,
     "metadata": {},
     "output_type": "execute_result"
    }
   ],
   "source": [
    "submit_answer(DAY, 2, second)"
   ]
  }
 ],
 "metadata": {
  "kernelspec": {
   "display_name": "Python 3",
   "language": "python",
   "name": "python3"
  },
  "language_info": {
   "codemirror_mode": {
    "name": "ipython",
    "version": 3
   },
   "file_extension": ".py",
   "mimetype": "text/x-python",
   "name": "python",
   "nbconvert_exporter": "python",
   "pygments_lexer": "ipython3",
   "version": "3.8.6"
  }
 },
 "nbformat": 4,
 "nbformat_minor": 4
}
