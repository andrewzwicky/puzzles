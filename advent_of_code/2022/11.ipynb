{
 "cells": [
  {
   "cell_type": "code",
   "execution_count": 1,
   "metadata": {},
   "outputs": [],
   "source": [
    "%load_ext autoreload\n",
    "%autoreload 2"
   ]
  },
  {
   "cell_type": "code",
   "execution_count": 49,
   "metadata": {},
   "outputs": [],
   "source": [
    "import requests\n",
    "from session import SESSION\n",
    "from common import print_problem, get_problem_input, submit_answer, neighbors\n",
    "from bs4 import BeautifulSoup\n",
    "from IPython.core.display import HTML\n",
    "from collections import Counter, namedtuple\n",
    "import re\n",
    "from collections import defaultdict\n",
    "from copy import copy, deepcopy\n",
    "import itertools\n",
    "from itertools import accumulate\n",
    "from pprint import pprint\n",
    "from functools import cache\n",
    "import numpy as np\n",
    "from enum import Enum, IntEnum\n",
    "from string import ascii_lowercase, ascii_uppercase\n",
    "from dataclasses import dataclass, field\n",
    "import operator\n",
    "from typing import List, Tuple, Set"
   ]
  },
  {
   "cell_type": "code",
   "execution_count": 3,
   "metadata": {},
   "outputs": [],
   "source": [
    "DAY = 11"
   ]
  },
  {
   "cell_type": "code",
   "execution_count": 4,
   "metadata": {},
   "outputs": [
    {
     "name": "stdout",
     "output_type": "stream",
     "text": [
      "Raw Data:\n",
      "'Monkey 0:\\n  Starting items: 57, 58\\n  Operation: new = old * 19\\n  Test: divisible'\n",
      "Split Data:\n",
      "['Monkey 0:',\n",
      " '  Starting items: 57, 58',\n",
      " '  Operation: new = old * 19',\n",
      " '  Test: divisible by 7',\n",
      " '    If true: throw to monkey 2',\n",
      " '    If false: throw to monkey 3',\n",
      " '',\n",
      " 'Monkey 1:',\n",
      " '  Starting items: 66, 52, 59, 79, 94, 73',\n",
      " '  Operation: new = old + 1']\n"
     ]
    }
   ],
   "source": [
    "raw_data, data = get_problem_input(DAY)"
   ]
  },
  {
   "cell_type": "code",
   "execution_count": 78,
   "metadata": {},
   "outputs": [],
   "source": [
    "test_data = [\n",
    "\"Monkey 0:\",\n",
    "\"  Starting items: 79, 98\",\n",
    "\"  Operation: new = old * 19\",\n",
    "\"  Test: divisible by 23\",\n",
    "\"    If true: throw to monkey 2\",\n",
    "\"    If false: throw to monkey 3\",\n",
    "\"\",\n",
    "\"Monkey 1:\",\n",
    "\"  Starting items: 54, 65, 75, 74\",\n",
    "\"  Operation: new = old + 6\",\n",
    "\"  Test: divisible by 19\",\n",
    "\"    If true: throw to monkey 2\",\n",
    "\"    If false: throw to monkey 0\",\n",
    "\"\",\n",
    "\"Monkey 2:\",\n",
    "\"  Starting items: 79, 60, 97\",\n",
    "\"  Operation: new = old * old\",\n",
    "\"  Test: divisible by 13\",\n",
    "\"    If true: throw to monkey 1\",\n",
    "\"    If false: throw to monkey 3\",\n",
    "\"\",\n",
    "\"Monkey 3:\",\n",
    "\"  Starting items: 74\",\n",
    "\"  Operation: new = old + 3\",\n",
    "\"  Test: divisible by 17\",\n",
    "\"    If true: throw to monkey 0\",\n",
    "\"    If false: throw to monkey 1\",\n",
    "]"
   ]
  },
  {
   "cell_type": "code",
   "execution_count": 7,
   "metadata": {},
   "outputs": [],
   "source": [
    "monkey_re = re.compile(r\"^Monkey (\\d+):\")\n",
    "items_re = re.compile(r\"^  Starting items: (.*)\")\n",
    "ops_re = re.compile(r\"^  Operation: ([^\\s]*)\\s+=\\s+([^\\s]*)\\s+([^\\s]*)\\s+([^\\s]*)\")\n",
    "test_re = re.compile(r\"^  Test: divisible by (.*)\")\n",
    "true_re = re.compile(r\"^    If true: throw to monkey (.*)\")\n",
    "false_re = re.compile(r\"^    If false: throw to monkey (.*)\")"
   ]
  },
  {
   "cell_type": "code",
   "execution_count": 8,
   "metadata": {},
   "outputs": [],
   "source": [
    "@dataclass\n",
    "class Monkey:\n",
    "    num: int\n",
    "    items: List[Set[int]]\n",
    "    operation: List[str]\n",
    "    test: int\n",
    "    t: int\n",
    "    f: int\n",
    "    inspects: int = 0\n",
    "    locked_items: List[int] = field(default_factory=list)"
   ]
  },
  {
   "cell_type": "code",
   "execution_count": 9,
   "metadata": {
    "tags": []
   },
   "outputs": [],
   "source": [
    "word_dict = {'*':\"is multiplied by\", '+':\"increases by\" }\n",
    "op_dict = {'*':operator.mul, '+':operator.add }"
   ]
  },
  {
   "cell_type": "code",
   "execution_count": 123,
   "metadata": {
    "tags": []
   },
   "outputs": [],
   "source": [
    "def parse(str_data):\n",
    "    str_iter = iter(str_data)\n",
    "    monkies = []\n",
    "    try:\n",
    "        while True:\n",
    "            \n",
    "            monkey = int(monkey_re.match(next(str_iter)).group(1))\n",
    "            item_strings = items_re.match(next(str_iter)).group(1).split(\",\")\n",
    "            items = list(int(n) for n in item_strings if n != \"\")\n",
    "            operation = ops_re.match(next(str_iter)).groups()\n",
    "            test = int(test_re.match(next(str_iter)).group(1))\n",
    "            t = int(true_re.match(next(str_iter)).group(1))\n",
    "            f = int(false_re.match(next(str_iter)).group(1))\n",
    "            monkies.append(Monkey(monkey, items, operation, test, t, f))\n",
    "            next(str_iter)\n",
    "    except StopIteration:\n",
    "        pass\n",
    "    return monkies"
   ]
  },
  {
   "cell_type": "code",
   "execution_count": 128,
   "metadata": {
    "tags": []
   },
   "outputs": [],
   "source": [
    "def inspect(m: Monkey, ins_print=False):\n",
    "    if ins_print: print(f\"Monkey {m.num}:\")\n",
    "    for i in m.items:\n",
    "        if ins_print: print(f\"  Monkey inspects an item with a worry level of {i}.\")\n",
    "        try:\n",
    "            a_old = False\n",
    "            a = int(m.operation[1])\n",
    "        except ValueError:\n",
    "            a_old = True\n",
    "            a = i\n",
    "            \n",
    "        try:\n",
    "            b = int(m.operation[3])\n",
    "            b_text = str(b)\n",
    "        except ValueError:\n",
    "            b = i\n",
    "            if (a_old):\n",
    "                b_text = \"itself\"\n",
    "            else:\n",
    "                b_text = str(b)\n",
    "        \n",
    "        new = op_dict[m.operation[2]](a,b)\n",
    "        if ins_print: print(f\"    Worry level {word_dict[m.operation[2]]} {b_text} to {new}.\")\n",
    "    \n",
    "        new = (new // 3)\n",
    "        if ins_print: print(f\"    Monkey gets bored with item. Worry level is divided by 3 to {new}.\")\n",
    "        \n",
    "        if (new % m.test) == 0:\n",
    "            if ins_print: print(f\"    Current worry level is divisible by {m.test}.\")\n",
    "            if ins_print: print(f\"    Item with worry level {new} is thrown to monkey {m.t}.\")\n",
    "            yield (new, m.t)\n",
    "        else:\n",
    "            if ins_print: print(f\"    Current worry level is not divisible by {m.test}.\")\n",
    "            if ins_print: print(f\"    Item with worry level {new} is thrown to monkey {m.f}.\")\n",
    "            yield (new, m.f)"
   ]
  },
  {
   "cell_type": "code",
   "execution_count": 129,
   "metadata": {
    "tags": []
   },
   "outputs": [],
   "source": [
    "def round(m_list: List[Monkey]):\n",
    "    for i in range(len(m_list)):\n",
    "        for move,target in inspect(m_list[i]):\n",
    "            m_list[i].inspects += 1\n",
    "            m_list[target].items.append(move)\n",
    "        m_list[i].items = []\n",
    "    return m_list"
   ]
  },
  {
   "cell_type": "code",
   "execution_count": 130,
   "metadata": {
    "tags": []
   },
   "outputs": [],
   "source": [
    "def simul(str_data, rounds):\n",
    "    m_list = parse(str_data)\n",
    "    for i in range(1,rounds+1):\n",
    "        m_list = round(m_list)\n",
    "    res = sorted([m.inspects for m in m_list],reverse=True)\n",
    "    return res[0] * res[1]\n",
    "    "
   ]
  },
  {
   "cell_type": "code",
   "execution_count": 131,
   "metadata": {
    "tags": []
   },
   "outputs": [
    {
     "data": {
      "text/plain": [
       "10605"
      ]
     },
     "execution_count": 131,
     "metadata": {},
     "output_type": "execute_result"
    }
   ],
   "source": [
    "simul(test_data, 20)"
   ]
  },
  {
   "cell_type": "code",
   "execution_count": 132,
   "metadata": {
    "tags": []
   },
   "outputs": [],
   "source": [
    "first = simul(data, 20)"
   ]
  },
  {
   "cell_type": "code",
   "execution_count": 133,
   "metadata": {},
   "outputs": [
    {
     "data": {
      "text/plain": [
       "50830"
      ]
     },
     "execution_count": 133,
     "metadata": {},
     "output_type": "execute_result"
    }
   ],
   "source": [
    "first"
   ]
  },
  {
   "cell_type": "code",
   "execution_count": null,
   "metadata": {
    "tags": []
   },
   "outputs": [],
   "source": [
    "submit_answer(DAY, 1, first)"
   ]
  },
  {
   "cell_type": "code",
   "execution_count": 79,
   "metadata": {
    "tags": []
   },
   "outputs": [],
   "source": [
    "def parse_2(str_data):\n",
    "    str_iter = iter(str_data)\n",
    "    monkies = []\n",
    "    try:\n",
    "        while True:\n",
    "            monkey = int(monkey_re.match(next(str_iter)).group(1))\n",
    "            items = list(int(n) for n in items_re.match(next(str_iter)).group(1).split(\",\"))\n",
    "            operation = ops_re.match(next(str_iter)).groups()\n",
    "            test = int(test_re.match(next(str_iter)).group(1))\n",
    "            t = int(true_re.match(next(str_iter)).group(1))\n",
    "            f = int(false_re.match(next(str_iter)).group(1))\n",
    "            monkies.append(Monkey(monkey, items, operation, test, t, f))\n",
    "            next(str_iter)\n",
    "    except StopIteration:\n",
    "        pass\n",
    "    return monkies"
   ]
  },
  {
   "cell_type": "code",
   "execution_count": 109,
   "metadata": {
    "tags": []
   },
   "outputs": [],
   "source": [
    "def inspect_2(m: Monkey, total_divisor, ins_print=False):\n",
    "    if ins_print:\n",
    "        if m.items:\n",
    "            print(f\"Monkey {m.num}:\")\n",
    "    \n",
    "    for i in m.items:    \n",
    "        \n",
    "        if ins_print: print(f\"  Monkey inspects an item with a worry level of {i}.\")\n",
    "        try:\n",
    "            a_old = False\n",
    "            a = int(m.operation[1])\n",
    "        except ValueError:\n",
    "            a_old = True\n",
    "            a = i\n",
    "            \n",
    "        try:\n",
    "            b = int(m.operation[3])\n",
    "            b_text = str(b)\n",
    "        except ValueError:\n",
    "            b = i\n",
    "            if (a_old):\n",
    "                b_text = \"itself\"\n",
    "            else:\n",
    "                b_text = str(b)\n",
    "        \n",
    "        new = op_dict[m.operation[2]](a,b)\n",
    "        if ins_print: print(f\"    Worry level {word_dict[m.operation[2]]} {b_text} to {new}.\")\n",
    "\n",
    "        if (new % m.test) == 0:\n",
    "            if ins_print: print(f\"    Current worry level is divisible by {m.test}.\")\n",
    "            if ins_print: print(f\"    Item with worry level {new} is thrown to monkey {m.t}.\")\n",
    "            yield (new % total_divisor, m.t)\n",
    "        else:\n",
    "            if ins_print: print(f\"    Current worry level is not divisible by {m.test}.\")\n",
    "            if ins_print: print(f\"    Item with worry level {new} is thrown to monkey {m.f}.\")\n",
    "            yield (new % total_divisor, m.f)"
   ]
  },
  {
   "cell_type": "code",
   "execution_count": 110,
   "metadata": {
    "tags": []
   },
   "outputs": [],
   "source": [
    "def round_2(m_list: List[Monkey], total_divisor):\n",
    "    for i in range(len(m_list)):\n",
    "        for move,target in inspect_2(m_list[i], total_divisor):\n",
    "            m_list[i].inspects += 1\n",
    "            m_list[target].items.append(move)\n",
    "        m_list[i].items = []\n",
    "    return m_list"
   ]
  },
  {
   "cell_type": "code",
   "execution_count": 116,
   "metadata": {},
   "outputs": [],
   "source": [
    "def simul_2(str_data, rounds):\n",
    "    m_list = parse_2(str_data)\n",
    "    total_divisor = list(accumulate([m.test for m in m_list], operator.mul))[-1]\n",
    "    # print(total_divisor)\n",
    "    for i in range(1,rounds+1):\n",
    "        m_list = round_2(m_list, total_divisor)\n",
    "        res = [m.inspects for m in m_list]\n",
    "    print(res)\n",
    "    res = sorted(res,reverse=True)\n",
    "    return res[0] * res[1]"
   ]
  },
  {
   "cell_type": "code",
   "execution_count": 121,
   "metadata": {},
   "outputs": [
    {
     "name": "stdout",
     "output_type": "stream",
     "text": [
      "[60020, 7592, 119998, 59985, 62507, 57608, 117503, 119999]\n"
     ]
    }
   ],
   "source": [
    "second = simul_2(data, 10000)"
   ]
  },
  {
   "cell_type": "code",
   "execution_count": 122,
   "metadata": {},
   "outputs": [
    {
     "name": "stdout",
     "output_type": "stream",
     "text": [
      "14399640002\n",
      "(\"That's the right answer!  You are one gold star closer to collecting enough \"\n",
      " 'star fruit.You have completed Day 11! You can [Shareon\\n'\n",
      " '  Twitter\\n'\n",
      " 'Mastodon] this victory or [Return to Your Advent Calendar].')\n"
     ]
    },
    {
     "data": {
      "text/plain": [
       "True"
      ]
     },
     "execution_count": 122,
     "metadata": {},
     "output_type": "execute_result"
    }
   ],
   "source": [
    "submit_answer(DAY, 2, second)"
   ]
  }
 ],
 "metadata": {
  "kernelspec": {
   "display_name": "Python 3 (ipykernel)",
   "language": "python",
   "name": "python3"
  },
  "language_info": {
   "codemirror_mode": {
    "name": "ipython",
    "version": 3
   },
   "file_extension": ".py",
   "mimetype": "text/x-python",
   "name": "python",
   "nbconvert_exporter": "python",
   "pygments_lexer": "ipython3",
   "version": "3.11.0"
  }
 },
 "nbformat": 4,
 "nbformat_minor": 4
}
