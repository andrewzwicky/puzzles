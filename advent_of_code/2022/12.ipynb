{
 "cells": [
  {
   "cell_type": "code",
   "execution_count": 1,
   "metadata": {},
   "outputs": [],
   "source": [
    "%load_ext autoreload\n",
    "%autoreload 2"
   ]
  },
  {
   "cell_type": "code",
   "execution_count": 2,
   "metadata": {},
   "outputs": [],
   "source": [
    "import requests\n",
    "from session import SESSION\n",
    "from common import print_problem, get_problem_input, submit_answer, neighbors\n",
    "from bs4 import BeautifulSoup\n",
    "from IPython.core.display import HTML\n",
    "from collections import Counter, namedtuple\n",
    "import re\n",
    "from collections import defaultdict\n",
    "from copy import copy, deepcopy\n",
    "import itertools\n",
    "from itertools import accumulate\n",
    "from pprint import pprint\n",
    "from functools import cache\n",
    "import numpy as np\n",
    "from enum import Enum, IntEnum\n",
    "from string import ascii_lowercase, ascii_uppercase\n",
    "from dataclasses import dataclass, field\n",
    "import operator\n",
    "from typing import List, Tuple, Set"
   ]
  },
  {
   "cell_type": "code",
   "execution_count": 3,
   "metadata": {},
   "outputs": [],
   "source": [
    "DAY = 12"
   ]
  },
  {
   "cell_type": "code",
   "execution_count": 4,
   "metadata": {},
   "outputs": [
    {
     "name": "stdout",
     "output_type": "stream",
     "text": [
      "Raw Data:\n",
      "'abcccccccccccccccccaaaaaaaaccccccacccaaccccccccccccccccccaaaaaaaaaaccccccccccccc'\n",
      "Split Data:\n",
      "['abcccccccccccccccccaaaaaaaaccccccacccaaccccccccccccccccccaaaaaaaaaacccccccccccccccccccccccccccccccaaaaaaccccccccccccccccccccccccccccccccccaaaaa',\n",
      " 'abccccccccccccccccccaaaaacccccccaaaaaaacccccccccccaaccaaaaaaaaaaaaaccccccccccccccccccccccccccccccccaaaaacccccccccccccccccccccccccccccccccaaaaaa',\n",
      " 'abccccccccccccaaccccaaaaaacccccccaaaaaaaaccccccacaaaccaaaaaaaaaaaaaaaccccccccccccccccccaaacccccccaaaaaaaccccccccccccccccaaaccccccccccccccaaaaaa',\n",
      " 'abccccccccacccaaccccaaaaaacccccccaaaaaaaaaccccaaaaaaaaacaaaaaaaaaaaaacccccccccccccccccccaacccccccaaaaaaaacccccccccccccccaaaccccccccccccccaccaaa',\n",
      " 'abaacccccaaaaaaaccccaaaccacccccccaaaaaaaaaccccaaaaaaaaccccaaaaaaaaaaaccccccccccccccccaacaaaaaccccaaaaaaaacccccccccccccccaaacccccccccccccccccaaa',\n",
      " 'abaaccccccaaaaaaaacccccccccccccccaaaaaaaaccccccaaaaaacccccaaaacaaaaccccccccccccccccccaaaaaaaaccccccaaacaccccccccccccccccaaakccaaaccccccccccccaa',\n",
      " 'abaaacccccaaaaaaaaaccccccccccccccaaaaaaacccccccaaaaaccccccaaaccaaaaccccccccccccaacacccaaaaaccccccccaaacccccccccccccacacckkkkkkkaacccccccccccccc',\n",
      " 'abaaacccccaaaaaaaaaccccccccccccccaccaaaaaccccccaaaaaacccccaaacaaaccccccccccccccaaaaccccaaaaacccccccccccccccccccccccaaaakkkkkkkkkacccaaaccaccccc',\n",
      " 'abacacccccaaaaaaaccccccccccccccccccccaaaaaaaccccccaaccccccaaaaaaaaccccccccccccaaaaacccaaacaacccccccccccccccccccccccaajkkkkppkkkkccccaaaaaaccccc',\n",
      " 'abacccccccaaaaaaacccccccccccccccccccaaaaaaaaccccccccccccccccaaaaaaccccccccccccaaaaaacccaacccccccccccccccccccccccccccjjkkooppppkllccccaaaaaccccc']\n"
     ]
    }
   ],
   "source": [
    "raw_data, data = get_problem_input(DAY)"
   ]
  },
  {
   "cell_type": "code",
   "execution_count": 86,
   "metadata": {},
   "outputs": [],
   "source": [
    "test_data = [\n",
    "\"Sabqponm\",\n",
    "\"abcryxxl\",\n",
    "\"accszExk\",\n",
    "\"acctuvwj\",\n",
    "\"abdefghi\",\n",
    "]"
   ]
  },
  {
   "cell_type": "code",
   "execution_count": 87,
   "metadata": {},
   "outputs": [],
   "source": [
    "def parse(str_data):\n",
    "    ret = []\n",
    "    end = start = None\n",
    "    for row,line in enumerate(str_data):\n",
    "        row_list = []\n",
    "        for col,char in enumerate(line):\n",
    "            if char == \"S\":\n",
    "                char = \"a\"\n",
    "                start = (row, col)\n",
    "            if char == \"E\":\n",
    "                char = \"z\"\n",
    "                end = (row, col)\n",
    "            row_list.append(ascii_lowercase.index(char))\n",
    "        ret.append(row_list)\n",
    "    return np.array(ret), start, end"
   ]
  },
  {
   "cell_type": "code",
   "execution_count": 117,
   "metadata": {},
   "outputs": [],
   "source": [
    "def traverse(grid, start, end, any_start=False):\n",
    "    num_steps = np.full(grid.shape, np.inf)\n",
    "    num_steps[end] = 0\n",
    "    current = {end}\n",
    "\n",
    "    for iteration in itertools.count():\n",
    "        future = set()\n",
    "        for i in current:\n",
    "            rows, cols = neighbors(grid, i, center=False, diagonals=False)\n",
    "            \n",
    "            possible = np.flatnonzero(grid[rows, cols] >= (grid[i] - 1))\n",
    "            rows = np.take(rows, possible)\n",
    "            cols = np.take(cols, possible)\n",
    "            \n",
    "            unvisited = np.flatnonzero(num_steps[rows, cols] == np.inf)\n",
    "            rows = np.take(rows, unvisited)\n",
    "            cols = np.take(cols, unvisited)\n",
    "            \n",
    "            num_steps[rows, cols] = num_steps[i] + 1\n",
    "            \n",
    "            future |= {(r,c) for r,c in zip(rows, cols)}\n",
    "        if len(future) == 0:\n",
    "            if any_start:\n",
    "                return int(np.amin(num_steps[np.where(grid == 0)]))\n",
    "            else:\n",
    "                return int(num_steps[start])\n",
    "        current = future       "
   ]
  },
  {
   "cell_type": "code",
   "execution_count": 116,
   "metadata": {},
   "outputs": [
    {
     "data": {
      "text/plain": [
       "462"
      ]
     },
     "execution_count": 116,
     "metadata": {},
     "output_type": "execute_result"
    }
   ],
   "source": [
    "traverse(*parse(data))"
   ]
  },
  {
   "cell_type": "code",
   "execution_count": 381,
   "metadata": {
    "tags": []
   },
   "outputs": [
    {
     "name": "stdout",
     "output_type": "stream",
     "text": [
      "462\n",
      "(\"That's the right answer!  You are one gold star closer to collecting enough \"\n",
      " 'star fruit. [Continue to Part Two]')\n"
     ]
    },
    {
     "data": {
      "text/plain": [
       "True"
      ]
     },
     "execution_count": 381,
     "metadata": {},
     "output_type": "execute_result"
    }
   ],
   "source": [
    "submit_answer(DAY, 1, first)"
   ]
  },
  {
   "cell_type": "code",
   "execution_count": 43,
   "metadata": {},
   "outputs": [
    {
     "data": {
      "text/plain": [
       "451"
      ]
     },
     "execution_count": 43,
     "metadata": {},
     "output_type": "execute_result"
    }
   ],
   "source": [
    "traverse(*parse(data), any_start=True)"
   ]
  },
  {
   "cell_type": "code",
   "execution_count": 399,
   "metadata": {},
   "outputs": [
    {
     "name": "stdout",
     "output_type": "stream",
     "text": [
      "451\n",
      "(\"That's the right answer!  You are one gold star closer to collecting enough \"\n",
      " 'star fruit.You have completed Day 12! You can [Shareon\\n'\n",
      " '  Twitter\\n'\n",
      " 'Mastodon] this victory or [Return to Your Advent Calendar].')\n"
     ]
    },
    {
     "data": {
      "text/plain": [
       "True"
      ]
     },
     "execution_count": 399,
     "metadata": {},
     "output_type": "execute_result"
    }
   ],
   "source": [
    "submit_answer(DAY, 2, second)"
   ]
  }
 ],
 "metadata": {
  "kernelspec": {
   "display_name": "Python 3 (ipykernel)",
   "language": "python",
   "name": "python3"
  },
  "language_info": {
   "codemirror_mode": {
    "name": "ipython",
    "version": 3
   },
   "file_extension": ".py",
   "mimetype": "text/x-python",
   "name": "python",
   "nbconvert_exporter": "python",
   "pygments_lexer": "ipython3",
   "version": "3.11.0"
  }
 },
 "nbformat": 4,
 "nbformat_minor": 4
}
