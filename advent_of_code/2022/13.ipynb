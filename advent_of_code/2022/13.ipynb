{
 "cells": [
  {
   "cell_type": "code",
   "execution_count": 1,
   "metadata": {},
   "outputs": [],
   "source": [
    "%load_ext autoreload\n",
    "%autoreload 2"
   ]
  },
  {
   "cell_type": "code",
   "execution_count": 49,
   "metadata": {},
   "outputs": [],
   "source": [
    "import requests\n",
    "from session import SESSION\n",
    "from common import print_problem, get_problem_input, submit_answer, neighbors\n",
    "from bs4 import BeautifulSoup\n",
    "from IPython.core.display import HTML\n",
    "from collections import Counter, namedtuple\n",
    "import re\n",
    "from collections import defaultdict\n",
    "from copy import copy, deepcopy\n",
    "import itertools\n",
    "from itertools import accumulate, zip_longest\n",
    "from pprint import pprint\n",
    "from functools import cache\n",
    "import numpy as np\n",
    "from enum import Enum, IntEnum\n",
    "from string import ascii_lowercase, ascii_uppercase\n",
    "from dataclasses import dataclass, field\n",
    "import operator\n",
    "from typing import List, Tuple, Set\n",
    "import functools"
   ]
  },
  {
   "cell_type": "code",
   "execution_count": 3,
   "metadata": {},
   "outputs": [],
   "source": [
    "DAY = 13"
   ]
  },
  {
   "cell_type": "code",
   "execution_count": 4,
   "metadata": {},
   "outputs": [
    {
     "name": "stdout",
     "output_type": "stream",
     "text": [
      "Raw Data:\n",
      "'[[9,[8,[7]],4,7,[[4,9,3,2],6,5,[1,10,2,4,5],[1,3,2,6,1]]],[4,[6],3],[4,[7,0,3,8,'\n",
      "Split Data:\n",
      "['[[9,[8,[7]],4,7,[[4,9,3,2],6,5,[1,10,2,4,5],[1,3,2,6,1]]],[4,[6],3],[4,[7,0,3,8,8],[7,[10],[10,10,10,7]]]]',\n",
      " '[[],[[6,4,[5],4,[0,5,5]],3,[5,[],9]],[[[5,1,6,2],[6,4,7],[4,7,4,2]],[10,[],[6,9,4],[6,2],9]],[[[10,5,9],10,0,[4,1,4,10,1],1],[7,7,[10,8],6],2]]',\n",
      " '',\n",
      " '[[[8,2],2,[[10],[],6,10,[10,10,3,10,3]]],[],[]]',\n",
      " '[[[[7,3,5],10,[4,1,0,8,7],9],10,[]]]',\n",
      " '',\n",
      " '[[6,2,[2,[10,10,0],[2]],7]]',\n",
      " '[[7,9],[5,[8,[0,5,5,10,4],6,8,6],3,[4],2],[4]]',\n",
      " '',\n",
      " '[[[5],[6,[5,3,0],[6,2,5,2,6],1,6],[[]],[3,[1,1,0],[],1,[9,4,3,5,7]]],[[1,9,[2,2,6],[8,9],2],1,[[],0,8],[[],9],3]]']\n"
     ]
    }
   ],
   "source": [
    "raw_data, data = get_problem_input(DAY)"
   ]
  },
  {
   "cell_type": "code",
   "execution_count": 17,
   "metadata": {},
   "outputs": [],
   "source": [
    "test_data = [\n",
    "\"[1,1,3,1,1]\",\n",
    "\"[1,1,5,1,1]\",\n",
    "\"\",\n",
    "\"[[1],[2,3,4]]\",\n",
    "\"[[1],4]\",\n",
    "\"\",\n",
    "\"[9]\",\n",
    "\"[[8,7,6]]\",\n",
    "\"\",\n",
    "\"[[4,4],4,4]\",\n",
    "\"[[4,4],4,4,4]\",\n",
    "\"\",\n",
    "\"[7,7,7,7]\",\n",
    "\"[7,7,7]\",\n",
    "\"\",\n",
    "\"[]\",\n",
    "\"[3]\",\n",
    "\"\",\n",
    "\"[[[]]]\",\n",
    "\"[[]]\",\n",
    "\"\",\n",
    "\"[1,[2,[3,[4,[5,6,7]]]],8,9]\",\n",
    "\"[1,[2,[3,[4,[5,6,0]]]],8,9]\",\n",
    "]"
   ]
  },
  {
   "cell_type": "code",
   "execution_count": 6,
   "metadata": {},
   "outputs": [],
   "source": [
    "def parse(str_data):\n",
    "    ret = []\n",
    "    str_iter = iter(str_data)\n",
    "    try:\n",
    "        while True:\n",
    "            a = next(str_iter)\n",
    "            b = next(str_iter)\n",
    "            ret.append((eval(a), eval(b)))\n",
    "            _ = next(str_iter)\n",
    "    except StopIteration:\n",
    "        pass\n",
    "        \n",
    "    return ret"
   ]
  },
  {
   "cell_type": "code",
   "execution_count": 31,
   "metadata": {},
   "outputs": [],
   "source": [
    "def compare(a: List | int, b: List | int, level=0, p=False):\n",
    "    if p: print((\" \"*level*2) + f\"- Compare {str(a).replace(' ','')} vs {str(b).replace(' ','')}\")\n",
    "    if isinstance(a, int) and isinstance(b, int):\n",
    "        if a < b:\n",
    "            if p: print((\" \"*(level+1)*2) + \"- Left side is smaller, so inputs are in the right order\")\n",
    "            return True\n",
    "        elif a == b:\n",
    "            return None\n",
    "        else:\n",
    "            if p: print((\" \"*(level+1)*2) + \"- Right side is smaller, so inputs are not in the right order\")\n",
    "            return False\n",
    "            \n",
    "    \n",
    "    elif isinstance(a, list) and isinstance(b, list):\n",
    "        for _a, _b in zip_longest(a,b,fillvalue=None):\n",
    "            if _a is None:\n",
    "                if p: print((\" \"*(level+1)*2) + \"- Left side ran out of items, so inputs are in the right order\")\n",
    "                return True\n",
    "            elif _b is None:\n",
    "                if p: print((\" \"*(level+1)*2) + \"- Right side ran out of items, so inputs are not in the right order\")\n",
    "                return False\n",
    "            \n",
    "            subcompare = compare(_a,_b, level+1,p=p)\n",
    "            \n",
    "            if subcompare is not None:\n",
    "                return subcompare\n",
    "        \n",
    "        return None\n",
    "    \n",
    "    else: #mixed int and list\n",
    "        if isinstance(a, int) and isinstance(b, list):\n",
    "            if p: print((\" \"*(level+1)*2) + f\"- Mixed types; convert left to {[a]} and retry comparison\")\n",
    "            return compare([a],b, level+1,p=p)\n",
    "        if isinstance(a, list) and isinstance(b, int):\n",
    "            if p: print((\" \"*(level+1)*2) + f\"- Mixed types; convert right to {[b]} and retry comparison\")\n",
    "            return compare(a,[b], level+1,p=p)\n",
    "        else:\n",
    "            raise ValueError"
   ]
  },
  {
   "cell_type": "code",
   "execution_count": 41,
   "metadata": {},
   "outputs": [],
   "source": [
    "def compare(a: List | int, b: List | int, level=0, p=False):\n",
    "    if p: print((\" \"*level*2) + f\"- Compare {str(a).replace(' ','')} vs {str(b).replace(' ','')}\")\n",
    "    \n",
    "    if isinstance(a, int) and isinstance(b, int):\n",
    "        if a < b:\n",
    "            if p: print((\" \"*(level+1)*2) + \"- Left side is smaller, so inputs are in the right order\")\n",
    "            return 1\n",
    "        elif a == b:\n",
    "            return 0\n",
    "        else:\n",
    "            if p: print((\" \"*(level+1)*2) + \"- Right side is smaller, so inputs are not in the right order\")\n",
    "            return -1\n",
    "            \n",
    "    \n",
    "    elif isinstance(a, list) and isinstance(b, list):\n",
    "        for _a, _b in zip_longest(a,b,fillvalue=None):\n",
    "            if _a is None:\n",
    "                if p: print((\" \"*(level+1)*2) + \"- Left side ran out of items, so inputs are in the right order\")\n",
    "                return 1\n",
    "            elif _b is None:\n",
    "                if p: print((\" \"*(level+1)*2) + \"- Right side ran out of items, so inputs are not in the right order\")\n",
    "                return -1\n",
    "            \n",
    "            subcompare = compare(_a,_b, level+1,p=p)\n",
    "            \n",
    "            if subcompare != 0:\n",
    "                return subcompare\n",
    "        \n",
    "        return 0\n",
    "    \n",
    "    else: #mixed int and list\n",
    "        if isinstance(a, int) and isinstance(b, list):\n",
    "            if p: print((\" \"*(level+1)*2) + f\"- Mixed types; convert left to {[a]} and retry comparison\")\n",
    "            return compare([a],b, level+1,p=p)\n",
    "        if isinstance(a, list) and isinstance(b, int):\n",
    "            if p: print((\" \"*(level+1)*2) + f\"- Mixed types; convert right to {[b]} and retry comparison\")\n",
    "            return compare(a,[b], level+1,p=p)"
   ]
  },
  {
   "cell_type": "code",
   "execution_count": 42,
   "metadata": {},
   "outputs": [],
   "source": [
    "def find_indices(str_data, p=False):\n",
    "    indices = set()\n",
    "    for i, x in enumerate(parse(str_data), start=1):\n",
    "        if p: print(f\"== Pair {i} ==\")\n",
    "        if compare(*x, p=p) > 0:\n",
    "            indices.add(i)\n",
    "\n",
    "        if p: print(\"\")\n",
    "    return sum(indices)"
   ]
  },
  {
   "cell_type": "code",
   "execution_count": 44,
   "metadata": {},
   "outputs": [
    {
     "data": {
      "text/plain": [
       "6272"
      ]
     },
     "execution_count": 44,
     "metadata": {},
     "output_type": "execute_result"
    }
   ],
   "source": [
    "find_indices(data,False)"
   ]
  },
  {
   "cell_type": "code",
   "execution_count": 13,
   "metadata": {
    "tags": []
   },
   "outputs": [
    {
     "name": "stdout",
     "output_type": "stream",
     "text": [
      "6272\n",
      "(\"That's the right answer!  You are one gold star closer to collecting enough \"\n",
      " 'star fruit. [Continue to Part Two]')\n"
     ]
    },
    {
     "data": {
      "text/plain": [
       "True"
      ]
     },
     "execution_count": 13,
     "metadata": {},
     "output_type": "execute_result"
    }
   ],
   "source": [
    "submit_answer(DAY, 1, Out[max(Out.keys())])"
   ]
  },
  {
   "cell_type": "code",
   "execution_count": 70,
   "metadata": {},
   "outputs": [],
   "source": [
    "def sort_items(str_data, p=False):\n",
    "    num_data = parse(str_data)\n",
    "    \n",
    "    unrolled = []\n",
    "    for a,b in num_data:\n",
    "        unrolled.append(a)\n",
    "        unrolled.append(b)\n",
    "    \n",
    "    x = eval(\"[[2]]\")\n",
    "    y = eval(\"[[6]]\")\n",
    "    \n",
    "    unrolled.append(x)\n",
    "    unrolled.append(y)\n",
    "    \n",
    "    unrolled.sort(key=functools.cmp_to_key(compare), reverse=True)\n",
    "    \n",
    "    \n",
    "    result = 1\n",
    "    \n",
    "    for i, u in enumerate(unrolled, start=1):\n",
    "        if u == x:\n",
    "            result *= i\n",
    "        if u == y:\n",
    "            result *= i\n",
    "\n",
    "    return result"
   ]
  },
  {
   "cell_type": "code",
   "execution_count": 72,
   "metadata": {},
   "outputs": [
    {
     "data": {
      "text/plain": [
       "22288"
      ]
     },
     "execution_count": 72,
     "metadata": {},
     "output_type": "execute_result"
    }
   ],
   "source": [
    "sort_items(data)"
   ]
  },
  {
   "cell_type": "code",
   "execution_count": 73,
   "metadata": {},
   "outputs": [
    {
     "name": "stdout",
     "output_type": "stream",
     "text": [
      "22288\n",
      "(\"That's the right answer!  You are one gold star closer to collecting enough \"\n",
      " 'star fruit.You have completed Day 13! You can [Shareon\\n'\n",
      " '  Twitter\\n'\n",
      " 'Mastodon] this victory or [Return to Your Advent Calendar].')\n"
     ]
    },
    {
     "data": {
      "text/plain": [
       "True"
      ]
     },
     "execution_count": 73,
     "metadata": {},
     "output_type": "execute_result"
    }
   ],
   "source": [
    "submit_answer(DAY, 2, Out[max(Out.keys())])"
   ]
  }
 ],
 "metadata": {
  "kernelspec": {
   "display_name": "Python 3 (ipykernel)",
   "language": "python",
   "name": "python3"
  },
  "language_info": {
   "codemirror_mode": {
    "name": "ipython",
    "version": 3
   },
   "file_extension": ".py",
   "mimetype": "text/x-python",
   "name": "python",
   "nbconvert_exporter": "python",
   "pygments_lexer": "ipython3",
   "version": "3.11.0"
  }
 },
 "nbformat": 4,
 "nbformat_minor": 4
}
