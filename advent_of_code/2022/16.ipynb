{
 "cells": [
  {
   "cell_type": "code",
   "execution_count": 1,
   "metadata": {},
   "outputs": [],
   "source": [
    "%load_ext autoreload\n",
    "%autoreload 2"
   ]
  },
  {
   "cell_type": "code",
   "execution_count": 120,
   "metadata": {},
   "outputs": [],
   "source": [
    "import requests\n",
    "from session import SESSION\n",
    "from common import print_problem, get_problem_input, submit_answer, neighbors\n",
    "from bs4 import BeautifulSoup\n",
    "from IPython.core.display import HTML\n",
    "from collections import Counter, namedtuple\n",
    "import re\n",
    "from collections import defaultdict\n",
    "from copy import copy, deepcopy\n",
    "import itertools\n",
    "from itertools import accumulate, zip_longest, pairwise, tee\n",
    "from pprint import pprint\n",
    "from functools import cache\n",
    "import numpy as np\n",
    "from enum import Enum, IntEnum\n",
    "from string import ascii_lowercase, ascii_uppercase\n",
    "from dataclasses import dataclass, field\n",
    "import operator\n",
    "from typing import List, Tuple, Set, Dict\n",
    "import functools\n",
    "np.set_printoptions(linewidth=160)"
   ]
  },
  {
   "cell_type": "code",
   "execution_count": 121,
   "metadata": {},
   "outputs": [],
   "source": [
    "DAY = 16"
   ]
  },
  {
   "cell_type": "code",
   "execution_count": 4,
   "metadata": {},
   "outputs": [
    {
     "name": "stdout",
     "output_type": "stream",
     "text": [
      "Raw Data:\n",
      "'Valve HM has flow rate=0; tunnels lead to valves LS, YS\\nValve IY has flow rate=1'\n",
      "Split Data:\n",
      "['Valve HM has flow rate=0; tunnels lead to valves LS, YS',\n",
      " 'Valve IY has flow rate=15; tunnels lead to valves YI, MU, KN, QS, QM',\n",
      " 'Valve VI has flow rate=22; tunnels lead to valves LE, SE, RB, JR',\n",
      " 'Valve SE has flow rate=0; tunnels lead to valves VI, AZ',\n",
      " 'Valve QU has flow rate=0; tunnels lead to valves YC, QK',\n",
      " 'Valve RB has flow rate=0; tunnels lead to valves AN, VI',\n",
      " 'Valve PU has flow rate=0; tunnels lead to valves JR, IM',\n",
      " 'Valve OA has flow rate=0; tunnels lead to valves KZ, FR',\n",
      " 'Valve AQ has flow rate=23; tunnels lead to valves FA, QM, GE',\n",
      " 'Valve QS has flow rate=0; tunnels lead to valves IM, IY']\n"
     ]
    }
   ],
   "source": [
    "raw_data, data = get_problem_input(DAY)"
   ]
  },
  {
   "cell_type": "code",
   "execution_count": 122,
   "metadata": {},
   "outputs": [],
   "source": [
    "test_data = \"\"\"Valve AA has flow rate=0; tunnels lead to valves DD, II, BB\n",
    "Valve BB has flow rate=13; tunnels lead to valves CC, AA\n",
    "Valve CC has flow rate=2; tunnels lead to valves DD, BB\n",
    "Valve DD has flow rate=20; tunnels lead to valves CC, AA, EE\n",
    "Valve EE has flow rate=3; tunnels lead to valves FF, DD\n",
    "Valve FF has flow rate=0; tunnels lead to valves EE, GG\n",
    "Valve GG has flow rate=0; tunnels lead to valves FF, HH\n",
    "Valve HH has flow rate=22; tunnel leads to valve GG\n",
    "Valve II has flow rate=0; tunnels lead to valves AA, JJ\n",
    "Valve JJ has flow rate=21; tunnel leads to valve II\"\"\".split(\"\\n\")"
   ]
  },
  {
   "cell_type": "code",
   "execution_count": 124,
   "metadata": {},
   "outputs": [],
   "source": [
    "line_re = re.compile(r\"^Valve (\\w+) has flow rate=(\\d+); tunnels? leads? to valves? (.+)\")"
   ]
  },
  {
   "cell_type": "code",
   "execution_count": 125,
   "metadata": {},
   "outputs": [],
   "source": [
    "@dataclass\n",
    "class Valve:\n",
    "    name: str\n",
    "    flow: int\n",
    "    outlets: List[str]\n",
    "    is_open: bool = field(init=False, default=False)"
   ]
  },
  {
   "cell_type": "code",
   "execution_count": 126,
   "metadata": {},
   "outputs": [],
   "source": [
    "def parse(str_data):\n",
    "    ret = {}\n",
    "    for l in str_data:\n",
    "        name, flow, outlets = line_re.match(l).groups()\n",
    "        outlets = outlets.replace(\" \",\"\").split(\",\")\n",
    "        ret[name] = Valve(name, int(flow), outlets)\n",
    "    return ret"
   ]
  },
  {
   "cell_type": "code",
   "execution_count": 127,
   "metadata": {},
   "outputs": [
    {
     "data": {
      "text/plain": [
       "{'AA': Valve(name='AA', flow=0, outlets=['DD', 'II', 'BB'], is_open=False),\n",
       " 'BB': Valve(name='BB', flow=13, outlets=['CC', 'AA'], is_open=False),\n",
       " 'CC': Valve(name='CC', flow=2, outlets=['DD', 'BB'], is_open=False),\n",
       " 'DD': Valve(name='DD', flow=20, outlets=['CC', 'AA', 'EE'], is_open=False),\n",
       " 'EE': Valve(name='EE', flow=3, outlets=['FF', 'DD'], is_open=False),\n",
       " 'FF': Valve(name='FF', flow=0, outlets=['EE', 'GG'], is_open=False),\n",
       " 'GG': Valve(name='GG', flow=0, outlets=['FF', 'HH'], is_open=False),\n",
       " 'HH': Valve(name='HH', flow=22, outlets=['GG'], is_open=False),\n",
       " 'II': Valve(name='II', flow=0, outlets=['AA', 'JJ'], is_open=False),\n",
       " 'JJ': Valve(name='JJ', flow=21, outlets=['II'], is_open=False)}"
      ]
     },
     "execution_count": 127,
     "metadata": {},
     "output_type": "execute_result"
    }
   ],
   "source": [
    "parse(test_data)"
   ]
  },
  {
   "cell_type": "code",
   "execution_count": 164,
   "metadata": {},
   "outputs": [],
   "source": [
    "def open_valves(valve_data: Dict[str, Valve], remaining_time: int):\n",
    "    at_valve:str = \"AA\"\n",
    "    in_transit:bool=False\n",
    "    open_valves = dict()\n",
    "    for remain in range(1, remaining_time+1):\n",
    "        print(f\"== Minute {remain} ==\")\n",
    "        if not open_valves:\n",
    "            print(\"No valves are open.\")\n",
    "        v = valve_data[at_valve]\n",
    "        if not in_transit:\n",
    "            possibles = [valve_data[x] for x in v.outlets]\n",
    "            highest_flow = sorted(possibles, key=lambda y: (y.is_open, -y.flow))\n",
    "            print(highest_flow)\n",
    "            target = highest_flow[0]\n",
    "            at_valve = target.name\n",
    "            in_transit=True\n",
    "            print(f\"You move to valve {at_valve}.\")\n",
    "        else:\n",
    "            in_transit=False\n",
    "            open_valves[v.name] = v.flow\n",
    "            v = valve_data[at_valve].is_open = True\n",
    "            print(f\"You open valve {at_valve}.\")"
   ]
  },
  {
   "cell_type": "code",
   "execution_count": 165,
   "metadata": {},
   "outputs": [
    {
     "name": "stdout",
     "output_type": "stream",
     "text": [
      "== Minute 1 ==\n",
      "No valves are open.\n",
      "[Valve(name='DD', flow=20, outlets=['CC', 'AA', 'EE'], is_open=False), Valve(name='BB', flow=13, outlets=['CC', 'AA'], is_open=False), Valve(name='II', flow=0, outlets=['AA', 'JJ'], is_open=False)]\n",
      "You move to valve DD.\n",
      "== Minute 2 ==\n",
      "No valves are open.\n",
      "You open valve DD.\n",
      "== Minute 3 ==\n",
      "[Valve(name='EE', flow=3, outlets=['FF', 'DD'], is_open=False), Valve(name='CC', flow=2, outlets=['DD', 'BB'], is_open=False), Valve(name='AA', flow=0, outlets=['DD', 'II', 'BB'], is_open=False)]\n",
      "You move to valve EE.\n",
      "== Minute 4 ==\n",
      "You open valve EE.\n",
      "== Minute 5 ==\n",
      "[Valve(name='FF', flow=0, outlets=['EE', 'GG'], is_open=False), Valve(name='DD', flow=20, outlets=['CC', 'AA', 'EE'], is_open=True)]\n",
      "You move to valve FF.\n",
      "== Minute 6 ==\n",
      "You open valve FF.\n",
      "== Minute 7 ==\n",
      "[Valve(name='GG', flow=0, outlets=['FF', 'HH'], is_open=False), Valve(name='EE', flow=3, outlets=['FF', 'DD'], is_open=True)]\n",
      "You move to valve GG.\n",
      "== Minute 8 ==\n",
      "You open valve GG.\n",
      "== Minute 9 ==\n",
      "[Valve(name='HH', flow=22, outlets=['GG'], is_open=False), Valve(name='FF', flow=0, outlets=['EE', 'GG'], is_open=True)]\n",
      "You move to valve HH.\n",
      "== Minute 10 ==\n",
      "You open valve HH.\n",
      "== Minute 11 ==\n",
      "[Valve(name='GG', flow=0, outlets=['FF', 'HH'], is_open=True)]\n",
      "You move to valve GG.\n",
      "== Minute 12 ==\n",
      "You open valve GG.\n",
      "== Minute 13 ==\n",
      "[Valve(name='HH', flow=22, outlets=['GG'], is_open=True), Valve(name='FF', flow=0, outlets=['EE', 'GG'], is_open=True)]\n",
      "You move to valve HH.\n",
      "== Minute 14 ==\n",
      "You open valve HH.\n",
      "== Minute 15 ==\n",
      "[Valve(name='GG', flow=0, outlets=['FF', 'HH'], is_open=True)]\n",
      "You move to valve GG.\n",
      "== Minute 16 ==\n",
      "You open valve GG.\n",
      "== Minute 17 ==\n",
      "[Valve(name='HH', flow=22, outlets=['GG'], is_open=True), Valve(name='FF', flow=0, outlets=['EE', 'GG'], is_open=True)]\n",
      "You move to valve HH.\n",
      "== Minute 18 ==\n",
      "You open valve HH.\n",
      "== Minute 19 ==\n",
      "[Valve(name='GG', flow=0, outlets=['FF', 'HH'], is_open=True)]\n",
      "You move to valve GG.\n",
      "== Minute 20 ==\n",
      "You open valve GG.\n",
      "== Minute 21 ==\n",
      "[Valve(name='HH', flow=22, outlets=['GG'], is_open=True), Valve(name='FF', flow=0, outlets=['EE', 'GG'], is_open=True)]\n",
      "You move to valve HH.\n",
      "== Minute 22 ==\n",
      "You open valve HH.\n",
      "== Minute 23 ==\n",
      "[Valve(name='GG', flow=0, outlets=['FF', 'HH'], is_open=True)]\n",
      "You move to valve GG.\n",
      "== Minute 24 ==\n",
      "You open valve GG.\n",
      "== Minute 25 ==\n",
      "[Valve(name='HH', flow=22, outlets=['GG'], is_open=True), Valve(name='FF', flow=0, outlets=['EE', 'GG'], is_open=True)]\n",
      "You move to valve HH.\n",
      "== Minute 26 ==\n",
      "You open valve HH.\n",
      "== Minute 27 ==\n",
      "[Valve(name='GG', flow=0, outlets=['FF', 'HH'], is_open=True)]\n",
      "You move to valve GG.\n",
      "== Minute 28 ==\n",
      "You open valve GG.\n",
      "== Minute 29 ==\n",
      "[Valve(name='HH', flow=22, outlets=['GG'], is_open=True), Valve(name='FF', flow=0, outlets=['EE', 'GG'], is_open=True)]\n",
      "You move to valve HH.\n",
      "== Minute 30 ==\n",
      "You open valve HH.\n"
     ]
    }
   ],
   "source": [
    "open_valves(parse(test_data), 30)"
   ]
  },
  {
   "cell_type": "code",
   "execution_count": 18,
   "metadata": {},
   "outputs": [
    {
     "name": "stdout",
     "output_type": "stream",
     "text": [
      "27625\n",
      "(\"That's the right answer!  You are one gold star closer to collecting enough \"\n",
      " 'star fruit.You have completed Day 14! You can [Shareon\\n'\n",
      " '  Twitter\\n'\n",
      " 'Mastodon] this victory or [Return to Your Advent Calendar].')\n"
     ]
    },
    {
     "data": {
      "text/plain": [
       "True"
      ]
     },
     "execution_count": 18,
     "metadata": {},
     "output_type": "execute_result"
    }
   ],
   "source": [
    "submit_answer(DAY, 2, Out[max(Out.keys())])"
   ]
  }
 ],
 "metadata": {
  "kernelspec": {
   "display_name": "Python 3 (ipykernel)",
   "language": "python",
   "name": "python3"
  },
  "language_info": {
   "codemirror_mode": {
    "name": "ipython",
    "version": 3
   },
   "file_extension": ".py",
   "mimetype": "text/x-python",
   "name": "python",
   "nbconvert_exporter": "python",
   "pygments_lexer": "ipython3",
   "version": "3.11.0"
  }
 },
 "nbformat": 4,
 "nbformat_minor": 4
}
