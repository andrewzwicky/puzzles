{
 "cells": [
  {
   "cell_type": "code",
   "execution_count": 1,
   "metadata": {},
   "outputs": [],
   "source": [
    "%load_ext autoreload\n",
    "%autoreload 2"
   ]
  },
  {
   "cell_type": "code",
   "execution_count": 30,
   "metadata": {},
   "outputs": [],
   "source": [
    "import requests\n",
    "from session import SESSION\n",
    "from common import print_problem, get_problem_input, submit_answer\n",
    "from bs4 import BeautifulSoup\n",
    "from IPython.core.display import HTML\n",
    "from collections import Counter\n",
    "import re\n",
    "from collections import defaultdict\n",
    "from copy import copy, deepcopy\n",
    "import itertools\n",
    "from pprint import pprint\n",
    "from functools import lru_cache\n",
    "import numpy as np\n",
    "from enum import Enum, IntEnum"
   ]
  },
  {
   "cell_type": "code",
   "execution_count": 3,
   "metadata": {},
   "outputs": [],
   "source": [
    "DAY = 2"
   ]
  },
  {
   "cell_type": "code",
   "execution_count": 58,
   "metadata": {},
   "outputs": [
    {
     "name": "stdout",
     "output_type": "stream",
     "text": [
      "Raw Data:\n",
      "'C Y\\nA Z\\nB Y\\nA Z\\nA X\\nA Z\\nB Y\\nA Z\\nB Y\\nC Z\\nB Y\\nC Z\\nA Z\\nC Y\\nB Y\\nB Y\\nB Y\\nC Y\\nB Y\\nB Y\\n'\n",
      "Split Data:\n",
      "['C Y', 'A Z', 'B Y', 'A Z', 'A X', 'A Z', 'B Y', 'A Z', 'B Y', 'C Z']\n"
     ]
    }
   ],
   "source": [
    "raw_data, data = get_problem_input(DAY)"
   ]
  },
  {
   "cell_type": "code",
   "execution_count": 59,
   "metadata": {},
   "outputs": [],
   "source": [
    "class Result(IntEnum):\n",
    "    WIN = 6\n",
    "    DRAW = 3\n",
    "    LOSS = 0\n",
    "\n",
    "class Throw(IntEnum):    \n",
    "    ROCK = 1\n",
    "    PAPER = 2\n",
    "    SCISSORS = 3"
   ]
  },
  {
   "cell_type": "code",
   "execution_count": 68,
   "metadata": {},
   "outputs": [],
   "source": [
    "wins = {Throw.ROCK:Throw.SCISSORS, Throw.SCISSORS:Throw.PAPER, Throw.PAPER:Throw.ROCK}\n",
    "loses = {y:x for x,y in wins.items()}"
   ]
  },
  {
   "cell_type": "code",
   "execution_count": 61,
   "metadata": {},
   "outputs": [],
   "source": [
    "throws = {\"X\": Throw.ROCK,\"Y\": Throw.PAPER,\"Z\": Throw.SCISSORS, \"A\": Throw.ROCK,\"B\": Throw.PAPER,\"C\": Throw.SCISSORS}"
   ]
  },
  {
   "cell_type": "code",
   "execution_count": 62,
   "metadata": {},
   "outputs": [],
   "source": [
    "def score(throw, result):\n",
    "    return throw + result"
   ]
  },
  {
   "cell_type": "code",
   "execution_count": 63,
   "metadata": {},
   "outputs": [],
   "source": [
    "def sim_round(line):\n",
    "    opp, throw = line.split(\" \")\n",
    "    opp = throws[opp]\n",
    "    throw = throws[throw]\n",
    "    if opp == throw:\n",
    "        return throw, Result.DRAW\n",
    "    if wins[throw] == opp:\n",
    "        return throw, Result.WIN\n",
    "    return throw, Result.LOSS"
   ]
  },
  {
   "cell_type": "code",
   "execution_count": 65,
   "metadata": {},
   "outputs": [],
   "source": [
    "first = sum([score(*sim_round(d)) for d in data])"
   ]
  },
  {
   "cell_type": "code",
   "execution_count": 66,
   "metadata": {},
   "outputs": [
    {
     "name": "stdout",
     "output_type": "stream",
     "text": [
      "10941\n",
      "(\"That's the right answer!  You are one gold star closer to collecting enough \"\n",
      " 'star fruit. [Continue to Part Two]')\n"
     ]
    },
    {
     "data": {
      "text/plain": [
       "True"
      ]
     },
     "execution_count": 66,
     "metadata": {},
     "output_type": "execute_result"
    }
   ],
   "source": [
    "submit_answer(DAY, 1, first)"
   ]
  },
  {
   "cell_type": "code",
   "execution_count": 72,
   "metadata": {},
   "outputs": [],
   "source": [
    "int_result = {\"X\": Result.LOSS,\"Y\": Result.DRAW,\"Z\": Result.WIN}"
   ]
  },
  {
   "cell_type": "code",
   "execution_count": 73,
   "metadata": {},
   "outputs": [],
   "source": [
    "def need_throw(line):\n",
    "    opp, need_result = line.split(\" \")\n",
    "    opp = throws[opp]\n",
    "    need_result = int_result[need_result]\n",
    "    if need_result == Result.DRAW:\n",
    "        return opp, need_result\n",
    "    elif need_result == Result.WIN:\n",
    "        return loses[opp], need_result\n",
    "    else:\n",
    "        return wins[opp], need_result"
   ]
  },
  {
   "cell_type": "code",
   "execution_count": 74,
   "metadata": {},
   "outputs": [],
   "source": [
    "second = sum([score(*need_throw(d)) for d in data])"
   ]
  },
  {
   "cell_type": "code",
   "execution_count": 75,
   "metadata": {},
   "outputs": [
    {
     "name": "stdout",
     "output_type": "stream",
     "text": [
      "13071\n",
      "(\"That's the right answer!  You are one gold star closer to collecting enough \"\n",
      " 'star fruit.You have completed Day 2! You can [Shareon\\n'\n",
      " '  Twitter\\n'\n",
      " 'Mastodon] this victory or [Return to Your Advent Calendar].')\n"
     ]
    },
    {
     "data": {
      "text/plain": [
       "True"
      ]
     },
     "execution_count": 75,
     "metadata": {},
     "output_type": "execute_result"
    }
   ],
   "source": [
    "submit_answer(DAY, 2, second)"
   ]
  }
 ],
 "metadata": {
  "kernelspec": {
   "display_name": "Python 3 (ipykernel)",
   "language": "python",
   "name": "python3"
  },
  "language_info": {
   "codemirror_mode": {
    "name": "ipython",
    "version": 3
   },
   "file_extension": ".py",
   "mimetype": "text/x-python",
   "name": "python",
   "nbconvert_exporter": "python",
   "pygments_lexer": "ipython3",
   "version": "3.11.0"
  }
 },
 "nbformat": 4,
 "nbformat_minor": 4
}
