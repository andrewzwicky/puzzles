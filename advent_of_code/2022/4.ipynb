{
 "cells": [
  {
   "cell_type": "code",
   "execution_count": 1,
   "metadata": {},
   "outputs": [],
   "source": [
    "%load_ext autoreload\n",
    "%autoreload 2"
   ]
  },
  {
   "cell_type": "code",
   "execution_count": 2,
   "metadata": {},
   "outputs": [],
   "source": [
    "import requests\n",
    "from session import SESSION\n",
    "from common import print_problem, get_problem_input, submit_answer\n",
    "from bs4 import BeautifulSoup\n",
    "from IPython.core.display import HTML\n",
    "from collections import Counter\n",
    "import re\n",
    "from collections import defaultdict\n",
    "from copy import copy, deepcopy\n",
    "import itertools\n",
    "from pprint import pprint\n",
    "from functools import lru_cache\n",
    "import numpy as np\n",
    "from enum import Enum, IntEnum\n",
    "from string import ascii_lowercase, ascii_uppercase"
   ]
  },
  {
   "cell_type": "code",
   "execution_count": 3,
   "metadata": {},
   "outputs": [],
   "source": [
    "DAY = 4"
   ]
  },
  {
   "cell_type": "code",
   "execution_count": 56,
   "metadata": {},
   "outputs": [
    {
     "name": "stdout",
     "output_type": "stream",
     "text": [
      "Raw Data:\n",
      "'75-76,18-75\\n2-54,1-50\\n82-83,78-82\\n13-37,37-75\\n79-80,2-80\\n29-90,30-89\\n13-16,12-15'\n",
      "Split Data:\n",
      "['75-76,18-75',\n",
      " '2-54,1-50',\n",
      " '82-83,78-82',\n",
      " '13-37,37-75',\n",
      " '79-80,2-80',\n",
      " '29-90,30-89',\n",
      " '13-16,12-15',\n",
      " '20-93,20-94',\n",
      " '90-95,33-90',\n",
      " '16-77,76-92']\n"
     ]
    }
   ],
   "source": [
    "raw_data, data = get_problem_input(DAY)"
   ]
  },
  {
   "cell_type": "code",
   "execution_count": 57,
   "metadata": {},
   "outputs": [],
   "source": [
    "test_data = [\n",
    "\"2-4,6-8\",\n",
    "\"2-3,4-5\",\n",
    "\"5-7,7-9\",\n",
    "\"2-8,3-7\",\n",
    "\"6-6,4-6\",\n",
    "\"2-6,4-8\",\n",
    "]"
   ]
  },
  {
   "cell_type": "code",
   "execution_count": 58,
   "metadata": {},
   "outputs": [],
   "source": [
    "def parse(line):\n",
    "    (a,b),(c,d) = [x.split(\"-\") for x in line.split(\",\")]\n",
    "    a,b,c,d = list(map(int, [a,b,c,d]))\n",
    "    return a,b,c,d"
   ]
  },
  {
   "cell_type": "code",
   "execution_count": 67,
   "metadata": {},
   "outputs": [],
   "source": [
    "def fully_overlap(a,b,c,d):\n",
    "    if a < c:\n",
    "        w,x = a,b\n",
    "        y,z = c,d\n",
    "    elif a==c:\n",
    "        if b>d:\n",
    "            w,x = a,b\n",
    "            y,z = c,d\n",
    "        else:\n",
    "            w,x = c,d\n",
    "            y,z = a,b\n",
    "    else:\n",
    "        w,x = c,d\n",
    "        y,z = a,b\n",
    "    \n",
    "    if w<=y and x>=z:\n",
    "        return True\n",
    "    \n",
    "    return False\n",
    "    "
   ]
  },
  {
   "cell_type": "code",
   "execution_count": 68,
   "metadata": {},
   "outputs": [
    {
     "data": {
      "text/plain": [
       "True"
      ]
     },
     "execution_count": 68,
     "metadata": {},
     "output_type": "execute_result"
    }
   ],
   "source": [
    "fully_overlap(5,10,5,9)"
   ]
  },
  {
   "cell_type": "code",
   "execution_count": 69,
   "metadata": {},
   "outputs": [],
   "source": [
    "count = 0\n",
    "for d in data:\n",
    "    \n",
    "    x = fully_overlap(*parse(d))\n",
    "    \n",
    "    #print(d,x)\n",
    "    if x:\n",
    "        count += 1\n",
    "first = count"
   ]
  },
  {
   "cell_type": "code",
   "execution_count": 70,
   "metadata": {},
   "outputs": [
    {
     "data": {
      "text/plain": [
       "496"
      ]
     },
     "execution_count": 70,
     "metadata": {},
     "output_type": "execute_result"
    }
   ],
   "source": [
    "first"
   ]
  },
  {
   "cell_type": "code",
   "execution_count": 48,
   "metadata": {},
   "outputs": [
    {
     "name": "stdout",
     "output_type": "stream",
     "text": [
      "496\n",
      "(\"That's the right answer!  You are one gold star closer to collecting enough \"\n",
      " 'star fruit. [Continue to Part Two]')\n"
     ]
    },
    {
     "data": {
      "text/plain": [
       "True"
      ]
     },
     "execution_count": 71,
     "metadata": {},
     "output_type": "execute_result"
    }
   ],
   "source": [
    "submit_answer(DAY, 1, first)"
   ]
  },
  {
   "cell_type": "code",
   "execution_count": 72,
   "metadata": {},
   "outputs": [],
   "source": [
    "def partial_overlap(a,b,c,d):\n",
    "    if a < c:\n",
    "        w,x = a,b\n",
    "        y,z = c,d\n",
    "    elif a==c:\n",
    "        if b>d:\n",
    "            w,x = a,b\n",
    "            y,z = c,d\n",
    "        else:\n",
    "            w,x = c,d\n",
    "            y,z = a,b\n",
    "    else:\n",
    "        w,x = c,d\n",
    "        y,z = a,b\n",
    "    \n",
    "    if x >= y:\n",
    "        return True\n",
    "    \n",
    "    return False\n",
    "    "
   ]
  },
  {
   "cell_type": "code",
   "execution_count": 77,
   "metadata": {},
   "outputs": [],
   "source": [
    "count = 0\n",
    "for d in data:\n",
    "    \n",
    "    x = partial_overlap(*parse(d))\n",
    "    \n",
    "    #print(d,x)\n",
    "    if x:\n",
    "        count += 1\n",
    "second = count"
   ]
  },
  {
   "cell_type": "code",
   "execution_count": 80,
   "metadata": {},
   "outputs": [
    {
     "name": "stdout",
     "output_type": "stream",
     "text": [
      "847\n",
      "(\"That's the right answer!  You are one gold star closer to collecting enough \"\n",
      " 'star fruit.You have completed Day 4! You can [Shareon\\n'\n",
      " '  Twitter\\n'\n",
      " 'Mastodon] this victory or [Return to Your Advent Calendar].')\n"
     ]
    },
    {
     "data": {
      "text/plain": [
       "True"
      ]
     },
     "execution_count": 80,
     "metadata": {},
     "output_type": "execute_result"
    }
   ],
   "source": [
    "submit_answer(DAY, 2, second)"
   ]
  }
 ],
 "metadata": {
  "kernelspec": {
   "display_name": "Python 3 (ipykernel)",
   "language": "python",
   "name": "python3"
  },
  "language_info": {
   "codemirror_mode": {
    "name": "ipython",
    "version": 3
   },
   "file_extension": ".py",
   "mimetype": "text/x-python",
   "name": "python",
   "nbconvert_exporter": "python",
   "pygments_lexer": "ipython3",
   "version": "3.11.0"
  }
 },
 "nbformat": 4,
 "nbformat_minor": 4
}
