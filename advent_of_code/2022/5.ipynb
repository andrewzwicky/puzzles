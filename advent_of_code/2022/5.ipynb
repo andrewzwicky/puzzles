{
 "cells": [
  {
   "cell_type": "code",
   "execution_count": 1,
   "metadata": {},
   "outputs": [],
   "source": [
    "%load_ext autoreload\n",
    "%autoreload 2"
   ]
  },
  {
   "cell_type": "code",
   "execution_count": 2,
   "metadata": {},
   "outputs": [],
   "source": [
    "import requests\n",
    "from session import SESSION\n",
    "from common import print_problem, get_problem_input, submit_answer\n",
    "from bs4 import BeautifulSoup\n",
    "from IPython.core.display import HTML\n",
    "from collections import Counter\n",
    "import re\n",
    "from collections import defaultdict\n",
    "from copy import copy, deepcopy\n",
    "import itertools\n",
    "from pprint import pprint\n",
    "from functools import lru_cache\n",
    "import numpy as np\n",
    "from enum import Enum, IntEnum\n",
    "from string import ascii_lowercase, ascii_uppercase"
   ]
  },
  {
   "cell_type": "code",
   "execution_count": 3,
   "metadata": {},
   "outputs": [],
   "source": [
    "DAY = 5"
   ]
  },
  {
   "cell_type": "code",
   "execution_count": 93,
   "metadata": {},
   "outputs": [
    {
     "name": "stdout",
     "output_type": "stream",
     "text": [
      "Raw Data:\n",
      "'                    [L]     [H] [W]\\n                [J] [Z] [J] [Q] [Q]\\n[S]     '\n",
      "Split Data:\n",
      "['                    [L]     [H] [W]',\n",
      " '                [J] [Z] [J] [Q] [Q]',\n",
      " '[S]             [M] [C] [T] [F] [B]',\n",
      " '[P]     [H]     [B] [D] [G] [B] [P]',\n",
      " '[W]     [L] [D] [D] [J] [W] [T] [C]',\n",
      " '[N] [T] [R] [T] [T] [T] [M] [M] [G]',\n",
      " '[J] [S] [Q] [S] [Z] [W] [P] [G] [D]',\n",
      " '[Z] [G] [V] [V] [Q] [M] [L] [N] [R]',\n",
      " ' 1   2   3   4   5   6   7   8   9 ',\n",
      " '']\n"
     ]
    }
   ],
   "source": [
    "raw_data, data = get_problem_input(DAY)"
   ]
  },
  {
   "cell_type": "code",
   "execution_count": 119,
   "metadata": {},
   "outputs": [],
   "source": [
    "test_data = [\n",
    "\"    [D]    \",\n",
    "\"[N] [C]    \",\n",
    "\"[Z] [M] [P]\",\n",
    "\" 1   2   3 \",\n",
    "\"\",\n",
    "\"move 1 from 2 to 1\",\n",
    "\"move 3 from 1 to 3\",\n",
    "\"move 2 from 2 to 1\",\n",
    "\"move 1 from 1 to 2\",\n",
    "]"
   ]
  },
  {
   "cell_type": "code",
   "execution_count": 94,
   "metadata": {},
   "outputs": [],
   "source": [
    "move_re = re.compile(\"move (\\d+) from (\\d+) to (\\d+)\")"
   ]
  },
  {
   "cell_type": "code",
   "execution_count": 96,
   "metadata": {},
   "outputs": [],
   "source": [
    "def get_data(data):\n",
    "    initial = []\n",
    "    moves = []\n",
    "\n",
    "    for line in data:\n",
    "        if line == \"\":\n",
    "            continue\n",
    "        elif line.startswith(\"m\"):\n",
    "            moves.append(line)\n",
    "        else:\n",
    "            initial.append(line)\n",
    "    \n",
    "    moves = [tuple(map(int, move_re.match(m).groups())) for m in moves]\n",
    "    moves = [(x,y-1,z-1) for x,y,z in moves]\n",
    "    \n",
    "    #remove col numbers\n",
    "    initial = initial[:-1]\n",
    "    \n",
    "    initial = [list(''.join(x).strip())[::-1] for x in list(zip(*initial))][1::2][::2]\n",
    "    \n",
    "    return initial, moves"
   ]
  },
  {
   "cell_type": "code",
   "execution_count": 101,
   "metadata": {},
   "outputs": [],
   "source": [
    "def perform_move(config, instruction):\n",
    "    count, origin, dest = instruction\n",
    "    for c in range(count):\n",
    "        moving = config[origin].pop()\n",
    "        config[dest].append(moving)\n",
    "    return config"
   ]
  },
  {
   "cell_type": "code",
   "execution_count": 102,
   "metadata": {},
   "outputs": [],
   "source": [
    "def sequence(config, moves):\n",
    "    for step in moves:\n",
    "        config = perform_move(config, step)\n",
    "    tops = [col[-1] for col in config]\n",
    "    return ''.join(tops)"
   ]
  },
  {
   "cell_type": "code",
   "execution_count": 104,
   "metadata": {},
   "outputs": [],
   "source": [
    "first = sequence(*get_data(data))"
   ]
  },
  {
   "cell_type": "code",
   "execution_count": 105,
   "metadata": {},
   "outputs": [
    {
     "name": "stdout",
     "output_type": "stream",
     "text": [
      "'MQTPGLLDN'\n",
      "(\"That's the right answer!  You are one gold star closer to collecting enough \"\n",
      " 'star fruit. [Continue to Part Two]')\n"
     ]
    },
    {
     "data": {
      "text/plain": [
       "True"
      ]
     },
     "execution_count": 105,
     "metadata": {},
     "output_type": "execute_result"
    }
   ],
   "source": [
    "submit_answer(DAY, 1, first)"
   ]
  },
  {
   "cell_type": "code",
   "execution_count": 154,
   "metadata": {},
   "outputs": [],
   "source": [
    "def perform_stack_move(config, instruction):\n",
    "    count, origin, dest = instruction\n",
    "    moving = config[origin][-count:]\n",
    "    config[origin] = config[origin][:-count]\n",
    "    config[dest] = config[dest] + moving\n",
    "    return config"
   ]
  },
  {
   "cell_type": "code",
   "execution_count": 155,
   "metadata": {},
   "outputs": [],
   "source": [
    "def sequence_stack(config, moves):\n",
    "    for step in moves:\n",
    "        config = perform_stack_move(config, step)\n",
    "    tops = [col[-1] for col in config]\n",
    "    return ''.join(tops)"
   ]
  },
  {
   "cell_type": "code",
   "execution_count": 156,
   "metadata": {},
   "outputs": [],
   "source": [
    "second = sequence_stack(*get_data(data))"
   ]
  },
  {
   "cell_type": "code",
   "execution_count": 157,
   "metadata": {},
   "outputs": [
    {
     "name": "stdout",
     "output_type": "stream",
     "text": [
      "'LVZPSTTCZ'\n",
      "(\"That's the right answer!  You are one gold star closer to collecting enough \"\n",
      " 'star fruit.You have completed Day 5! You can [Shareon\\n'\n",
      " '  Twitter\\n'\n",
      " 'Mastodon] this victory or [Return to Your Advent Calendar].')\n"
     ]
    },
    {
     "data": {
      "text/plain": [
       "True"
      ]
     },
     "execution_count": 157,
     "metadata": {},
     "output_type": "execute_result"
    }
   ],
   "source": [
    "submit_answer(DAY, 2, second)"
   ]
  }
 ],
 "metadata": {
  "kernelspec": {
   "display_name": "Python 3 (ipykernel)",
   "language": "python",
   "name": "python3"
  },
  "language_info": {
   "codemirror_mode": {
    "name": "ipython",
    "version": 3
   },
   "file_extension": ".py",
   "mimetype": "text/x-python",
   "name": "python",
   "nbconvert_exporter": "python",
   "pygments_lexer": "ipython3",
   "version": "3.11.0"
  }
 },
 "nbformat": 4,
 "nbformat_minor": 4
}
