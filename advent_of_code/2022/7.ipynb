{
 "cells": [
  {
   "cell_type": "code",
   "execution_count": 48,
   "metadata": {},
   "outputs": [
    {
     "name": "stdout",
     "output_type": "stream",
     "text": [
      "The autoreload extension is already loaded. To reload it, use:\n",
      "  %reload_ext autoreload\n"
     ]
    }
   ],
   "source": [
    "%load_ext autoreload\n",
    "%autoreload 2"
   ]
  },
  {
   "cell_type": "code",
   "execution_count": 49,
   "metadata": {},
   "outputs": [],
   "source": [
    "import requests\n",
    "from session import SESSION\n",
    "from common import print_problem, get_problem_input, submit_answer\n",
    "from bs4 import BeautifulSoup\n",
    "from IPython.core.display import HTML\n",
    "from collections import Counter\n",
    "import re\n",
    "from collections import defaultdict\n",
    "from copy import copy, deepcopy\n",
    "import itertools\n",
    "from pprint import pprint\n",
    "from functools import lru_cache\n",
    "import numpy as np\n",
    "from enum import Enum, IntEnum\n",
    "from string import ascii_lowercase, ascii_uppercase"
   ]
  },
  {
   "cell_type": "code",
   "execution_count": 50,
   "metadata": {},
   "outputs": [],
   "source": [
    "DAY = 7"
   ]
  },
  {
   "cell_type": "code",
   "execution_count": 51,
   "metadata": {},
   "outputs": [
    {
     "name": "stdout",
     "output_type": "stream",
     "text": [
      "Raw Data:\n",
      "'$ cd /\\n$ ls\\ndir bqc\\ndir mwmlf\\ndir ngn\\n143562 nrwjb\\n78449 qqvdcclf\\ndir qrnm\\ndir s'\n",
      "Split Data:\n",
      "['$ cd /',\n",
      " '$ ls',\n",
      " 'dir bqc',\n",
      " 'dir mwmlf',\n",
      " 'dir ngn',\n",
      " '143562 nrwjb',\n",
      " '78449 qqvdcclf',\n",
      " 'dir qrnm',\n",
      " 'dir smfzmmhc',\n",
      " '116085 tvrms']\n"
     ]
    }
   ],
   "source": [
    "raw_data, data = get_problem_input(DAY)"
   ]
  },
  {
   "cell_type": "code",
   "execution_count": 52,
   "metadata": {},
   "outputs": [],
   "source": [
    "file_re = re.compile(r\"^(\\d+)\\s+(.*)$\")"
   ]
  },
  {
   "cell_type": "code",
   "execution_count": 53,
   "metadata": {},
   "outputs": [],
   "source": [
    "class Directory:\n",
    "    def __init__(self, name, parent=None):\n",
    "        self.name = name\n",
    "        self.parent = parent\n",
    "        self.subdirs = []\n",
    "        self.files = []\n",
    "        self.size = 0\n",
    "    \n",
    "    def add_file(self, name, size):\n",
    "        f = File(name, size, self)\n",
    "        self.files.append(f)\n",
    "    \n",
    "    def add_subdir(self, name):\n",
    "        if self.subdir_exists(name) is None:\n",
    "            d = Directory(name, self)\n",
    "            self.subdirs.append(d)\n",
    "        \n",
    "    def subdir_exists(self, name):\n",
    "        for d in self.subdirs:\n",
    "            if d.name == name:\n",
    "                return d\n",
    "        else:\n",
    "            return None\n",
    "        \n",
    "    def calculate_size(self):\n",
    "        size = sum([sub_d.calculate_size() for sub_d in self.subdirs]) + sum([f.size for f in self.files])\n",
    "        self.size = size\n",
    "        return size\n",
    "    \n",
    "    def iterate_over_size(self, limit=100_000, found=set()):\n",
    "        if limit is None or self.size < limit:\n",
    "            found.add((self.full_path(), self.size))\n",
    "        for d in self.subdirs:\n",
    "            found.update(d.iterate_over_size(limit, found))\n",
    "        \n",
    "        return found\n",
    "    \n",
    "    def print_dirs(self, indent=\"\"):\n",
    "        print(f\"{indent}- {self.name} (dir, size={self.size})\")\n",
    "        for d in self.subdirs:\n",
    "            d.print_dirs(indent + \" \"*2)\n",
    "        for f in self.files:\n",
    "            print(indent + \" \"*2 + str(f))\n",
    "    \n",
    "    def full_path(self):\n",
    "        path = (self.name,)\n",
    "        parent = self.parent\n",
    "        while True:\n",
    "            if parent is None:\n",
    "                return path\n",
    "            else:\n",
    "                path = (parent.name,) + path\n",
    "                parent = parent.parent\n",
    "        "
   ]
  },
  {
   "cell_type": "code",
   "execution_count": 54,
   "metadata": {},
   "outputs": [],
   "source": [
    "class File:\n",
    "    def __init__(self, name, size, parent=None):\n",
    "        self.name = name\n",
    "        self.size = int(size)\n",
    "        self.parent = parent\n",
    "    \n",
    "    def __str__(self):\n",
    "        return f\"- {self.name} (file, size={self.size})\""
   ]
  },
  {
   "cell_type": "code",
   "execution_count": 55,
   "metadata": {
    "tags": []
   },
   "outputs": [],
   "source": [
    "def process_instructions(data):\n",
    "    top_level = Directory(\"/\")\n",
    "    current_directory: Directory = top_level\n",
    "    i = 0\n",
    "    while True:\n",
    "        try:\n",
    "            line = data[i]\n",
    "        except IndexError:\n",
    "            break\n",
    "        if line.startswith(\"$\"):\n",
    "            if line.startswith(\"$ cd\"):\n",
    "                if line.startswith(\"$ cd /\"):\n",
    "                    pass\n",
    "                elif line.startswith(\"$ cd ..\"):\n",
    "                    current_directory = current_directory.parent\n",
    "                else:\n",
    "                    #move into directory\n",
    "                    name = line[5:]\n",
    "                    current_directory = current_directory.subdir_exists(name)\n",
    "                    pass\n",
    "            if line.startswith(\"$ ls\"):\n",
    "                while True:\n",
    "                    i+=1\n",
    "                    try:\n",
    "                        ls_line = data[i]\n",
    "                    except IndexError:\n",
    "                        break\n",
    "                    if ls_line.startswith(\"dir \"):\n",
    "                        name = ls_line[4:]\n",
    "                        current_directory.add_subdir(name)\n",
    "                    elif ls_line.startswith(\"$\"):\n",
    "                        i-=1\n",
    "                        break\n",
    "                    else:\n",
    "                        # file\n",
    "                        size, file_name = file_re.match(ls_line).groups()\n",
    "                        current_directory.add_file(file_name, size)\n",
    "                    \n",
    "        i+=1\n",
    "    return top_level"
   ]
  },
  {
   "cell_type": "code",
   "execution_count": 56,
   "metadata": {},
   "outputs": [],
   "source": [
    "overall = process_instructions(data)\n",
    "overall.calculate_size()\n",
    "# overall.print_dirs()\n",
    "sizes = overall.iterate_over_size()"
   ]
  },
  {
   "cell_type": "code",
   "execution_count": 57,
   "metadata": {},
   "outputs": [],
   "source": [
    "first = sum([s for path,s in sizes])"
   ]
  },
  {
   "cell_type": "code",
   "execution_count": 58,
   "metadata": {},
   "outputs": [
    {
     "name": "stdout",
     "output_type": "stream",
     "text": [
      "1325919\n",
      "(\"You don't seem to be solving the right level.  Did you already complete it? \"\n",
      " '[Return to Day 7]')\n"
     ]
    },
    {
     "data": {
      "text/plain": [
       "False"
      ]
     },
     "execution_count": 58,
     "metadata": {},
     "output_type": "execute_result"
    }
   ],
   "source": [
    "submit_answer(DAY, 1, first)"
   ]
  },
  {
   "cell_type": "code",
   "execution_count": 59,
   "metadata": {},
   "outputs": [],
   "source": [
    "TOTAL = 70000000\n",
    "NEED = 30000000"
   ]
  },
  {
   "cell_type": "code",
   "execution_count": 60,
   "metadata": {},
   "outputs": [
    {
     "name": "stdout",
     "output_type": "stream",
     "text": [
      "70000000 30000000 42036703 27963297 2036703\n",
      "('/', 'smfzmmhc', 'vwfnglr', 'mtvgvvcr') 2050735\n"
     ]
    }
   ],
   "source": [
    "sizes = overall.iterate_over_size(limit=None)\n",
    "used = overall.size\n",
    "now_free = TOTAL-used\n",
    "must_free = NEED - now_free\n",
    "print(TOTAL, NEED, used, now_free, must_free)\n",
    "\n",
    "for path, s in sorted(sizes, key=lambda x: x[1]):\n",
    "    if s >= must_free:\n",
    "        print(path, s)\n",
    "        second = s\n",
    "        break"
   ]
  },
  {
   "cell_type": "code",
   "execution_count": 61,
   "metadata": {},
   "outputs": [
    {
     "name": "stdout",
     "output_type": "stream",
     "text": [
      "2050735\n",
      "(\"You don't seem to be solving the right level.  Did you already complete it? \"\n",
      " '[Return to Day 7]')\n"
     ]
    },
    {
     "data": {
      "text/plain": [
       "False"
      ]
     },
     "execution_count": 61,
     "metadata": {},
     "output_type": "execute_result"
    }
   ],
   "source": [
    "submit_answer(DAY, 2, second)"
   ]
  }
 ],
 "metadata": {
  "kernelspec": {
   "display_name": "Python 3 (ipykernel)",
   "language": "python",
   "name": "python3"
  },
  "language_info": {
   "codemirror_mode": {
    "name": "ipython",
    "version": 3
   },
   "file_extension": ".py",
   "mimetype": "text/x-python",
   "name": "python",
   "nbconvert_exporter": "python",
   "pygments_lexer": "ipython3",
   "version": "3.11.0"
  }
 },
 "nbformat": 4,
 "nbformat_minor": 4
}
