{
 "cells": [
  {
   "cell_type": "code",
   "execution_count": 3,
   "metadata": {},
   "outputs": [],
   "source": [
    "%load_ext autoreload\n",
    "%autoreload 2"
   ]
  },
  {
   "cell_type": "code",
   "execution_count": 4,
   "metadata": {},
   "outputs": [],
   "source": [
    "import requests\n",
    "from session import SESSION\n",
    "from common import print_problem, get_problem_input, submit_answer, neighbors\n",
    "from bs4 import BeautifulSoup\n",
    "from IPython.core.display import HTML\n",
    "from collections import Counter\n",
    "import re\n",
    "from collections import defaultdict\n",
    "from copy import copy, deepcopy\n",
    "import itertools\n",
    "from pprint import pprint\n",
    "from functools import lru_cache\n",
    "import numpy as np\n",
    "from enum import Enum, IntEnum\n",
    "from string import ascii_lowercase, ascii_uppercase"
   ]
  },
  {
   "cell_type": "code",
   "execution_count": 5,
   "metadata": {},
   "outputs": [],
   "source": [
    "DAY = 8"
   ]
  },
  {
   "cell_type": "code",
   "execution_count": 6,
   "metadata": {},
   "outputs": [
    {
     "name": "stdout",
     "output_type": "stream",
     "text": [
      "Raw Data:\n",
      "'10002111211020231202201033020431204000011101214344514222141424022024044233204001'\n",
      "Split Data:\n",
      "['100021112110202312022010330204312040000111012143445142221414240220240442332040010320133120230011020',\n",
      " '111110201332323210211143123214321343332124211413115514155115511033421001222101204330001300333011010',\n",
      " '222100123300231230122203432310224441551434231352112532354252244334410042212441233243220102033110020',\n",
      " '212210311310102334321243104133012535144151532555155341325352512544453402400411340202133231000102020',\n",
      " '112002102322001003304233302040124544411225523533534235113353522233535550432232202401221022110311110',\n",
      " '112102131331201432320312233124434232544144233241123334112232531521542551332434224211234133132330300',\n",
      " '201212231001314001232020011521543445152251413225334151155332443144315433444321403022301110231133320',\n",
      " '222200212012234021440323522251222114255435321245463652634454445441313331334221403314121340322201323',\n",
      " '011101313030124034011053132411352313135432265223564644563435541314314453511355132441242220212301210',\n",
      " '330120320004414224001225342325133541125622665563263444434232635442123423514224513321324324321221201']\n"
     ]
    }
   ],
   "source": [
    "raw_data, data = get_problem_input(DAY)"
   ]
  },
  {
   "cell_type": "code",
   "execution_count": 7,
   "metadata": {},
   "outputs": [],
   "source": [
    "test_data = [\n",
    "\"30373\",\n",
    "\"25512\",\n",
    "\"65332\",\n",
    "\"33549\",\n",
    "\"35390\",\n",
    "]"
   ]
  },
  {
   "cell_type": "code",
   "execution_count": 8,
   "metadata": {},
   "outputs": [],
   "source": [
    "def make_np(data):\n",
    "    return np.array([list(map(int, line)) for line in data])"
   ]
  },
  {
   "cell_type": "code",
   "execution_count": 9,
   "metadata": {},
   "outputs": [],
   "source": [
    "def find_visibles(str_data):\n",
    "    np_data = make_np(str_data)\n",
    "    height, width = np_data.shape\n",
    "\n",
    "    lr_data = np.fliplr(np_data)\n",
    "    ud_data = np.flipud(np_data)\n",
    "    \n",
    "    left = np.maximum.accumulate(np_data, axis=1)\n",
    "    top = np.maximum.accumulate(np_data, axis=0)\n",
    "    right = np.maximum.accumulate(lr_data, axis=1)\n",
    "    down = np.maximum.accumulate(ud_data, axis=0)\n",
    "    \n",
    "    l_visible = np.concatenate((np.full((height, 1), True), left[...,1:] > left[...,:-1]),axis=1)\n",
    "    t_visible = np.concatenate((np.full((1, width), True), top[1:,...] > top[:-1,...]),axis=0)\n",
    "    r_visible = np.fliplr(np.concatenate((np.full((height, 1), True), right[...,1:] > right[...,:-1]),axis=1))\n",
    "    d_visible = np.flipud(np.concatenate((np.full((1, width), True), down[1:,...] > down[:-1,...]),axis=0))\n",
    "    \n",
    "    output = np.bitwise_or(l_visible, t_visible)\n",
    "    output = np.bitwise_or(output, r_visible)\n",
    "    output = np.bitwise_or(output, d_visible)\n",
    "    \n",
    "    return np.count_nonzero(output)"
   ]
  },
  {
   "cell_type": "code",
   "execution_count": 10,
   "metadata": {},
   "outputs": [],
   "source": [
    "first = find_visibles(data)"
   ]
  },
  {
   "cell_type": "code",
   "execution_count": 42,
   "metadata": {},
   "outputs": [
    {
     "name": "stdout",
     "output_type": "stream",
     "text": [
      "1796\n",
      "(\"That's the right answer!  You are one gold star closer to collecting enough \"\n",
      " 'star fruit. [Continue to Part Two]')\n"
     ]
    },
    {
     "data": {
      "text/plain": [
       "True"
      ]
     },
     "execution_count": 42,
     "metadata": {},
     "output_type": "execute_result"
    }
   ],
   "source": [
    "submit_answer(DAY, 1, first)"
   ]
  },
  {
   "cell_type": "code",
   "execution_count": 11,
   "metadata": {},
   "outputs": [],
   "source": [
    "def calc_scores(str_data):\n",
    "    np_data = make_np(str_data)\n",
    " \n",
    "    def iterate_trees(input_arr):\n",
    "        o_height, o_width = input_arr.shape\n",
    "        top_views = np.zeros((o_height, o_width))\n",
    "\n",
    "        for h in range(o_height-1):\n",
    "            rest = input_arr[h+1:]\n",
    "            height, width = rest.shape\n",
    "            start = np.tile(input_arr[h],(height,1))\n",
    "\n",
    "            comp = rest < start\n",
    "            acc = np.logical_and.accumulate(comp)\n",
    "            sum_ints = np.sum(acc.astype(int), axis=0)\n",
    "                \n",
    "            a = np.empty(width)\n",
    "            a.fill(height)\n",
    "\n",
    "            top_views[h] = sum_ints + np.ones((1, width))\n",
    "            top_views[h] = np.minimum(top_views[h],a)\n",
    "\n",
    "        return top_views\n",
    "        \n",
    "    t = iterate_trees(np_data)\n",
    "    d = np.flipud(iterate_trees(np.flipud(np_data)))\n",
    "    l = iterate_trees(np_data.T).T\n",
    "    r = np.flipud(iterate_trees(np.flipud(np_data.T))).T\n",
    "    \n",
    "    x = np.multiply(t, d)\n",
    "    x = np.multiply(x, l)\n",
    "    x = np.multiply(x, r)\n",
    "    \n",
    "    return x"
   ]
  },
  {
   "cell_type": "code",
   "execution_count": 12,
   "metadata": {},
   "outputs": [],
   "source": [
    "second = int(np.max(calc_scores(data)))"
   ]
  },
  {
   "cell_type": "code",
   "execution_count": 13,
   "metadata": {},
   "outputs": [
    {
     "data": {
      "text/plain": [
       "288120"
      ]
     },
     "execution_count": 13,
     "metadata": {},
     "output_type": "execute_result"
    }
   ],
   "source": [
    "second"
   ]
  },
  {
   "cell_type": "code",
   "execution_count": 509,
   "metadata": {},
   "outputs": [
    {
     "name": "stdout",
     "output_type": "stream",
     "text": [
      "288120\n",
      "(\"That's the right answer!  You are one gold star closer to collecting enough \"\n",
      " 'star fruit.You have completed Day 8! You can [Shareon\\n'\n",
      " '  Twitter\\n'\n",
      " 'Mastodon] this victory or [Return to Your Advent Calendar].')\n"
     ]
    },
    {
     "data": {
      "text/plain": [
       "True"
      ]
     },
     "execution_count": 509,
     "metadata": {},
     "output_type": "execute_result"
    }
   ],
   "source": [
    "submit_answer(DAY, 2, second)"
   ]
  }
 ],
 "metadata": {
  "kernelspec": {
   "display_name": "Python 3 (ipykernel)",
   "language": "python",
   "name": "python3"
  },
  "language_info": {
   "codemirror_mode": {
    "name": "ipython",
    "version": 3
   },
   "file_extension": ".py",
   "mimetype": "text/x-python",
   "name": "python",
   "nbconvert_exporter": "python",
   "pygments_lexer": "ipython3",
   "version": "3.11.0"
  }
 },
 "nbformat": 4,
 "nbformat_minor": 4
}
