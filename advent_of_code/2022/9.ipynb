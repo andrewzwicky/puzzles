{
 "cells": [
  {
   "cell_type": "code",
   "execution_count": 1,
   "metadata": {},
   "outputs": [],
   "source": [
    "%load_ext autoreload\n",
    "%autoreload 2"
   ]
  },
  {
   "cell_type": "code",
   "execution_count": 17,
   "metadata": {},
   "outputs": [],
   "source": [
    "import requests\n",
    "from session import SESSION\n",
    "from common import print_problem, get_problem_input, submit_answer, neighbors\n",
    "from bs4 import BeautifulSoup\n",
    "from IPython.core.display import HTML\n",
    "from collections import Counter\n",
    "import re\n",
    "from collections import defaultdict\n",
    "from copy import copy, deepcopy\n",
    "import itertools\n",
    "from pprint import pprint\n",
    "from functools import lru_cache\n",
    "import numpy as np\n",
    "from enum import Enum, IntEnum\n",
    "from string import ascii_lowercase, ascii_uppercase"
   ]
  },
  {
   "cell_type": "code",
   "execution_count": 3,
   "metadata": {},
   "outputs": [],
   "source": [
    "DAY = 9"
   ]
  },
  {
   "cell_type": "code",
   "execution_count": 4,
   "metadata": {},
   "outputs": [
    {
     "name": "stdout",
     "output_type": "stream",
     "text": [
      "Raw Data:\n",
      "'D 2\\nR 2\\nU 2\\nD 2\\nL 1\\nD 1\\nL 1\\nD 1\\nU 1\\nR 2\\nU 2\\nD 2\\nR 2\\nD 2\\nR 2\\nU 2\\nD 1\\nR 2\\nL 2\\nR 2\\n'\n",
      "Split Data:\n",
      "['D 2', 'R 2', 'U 2', 'D 2', 'L 1', 'D 1', 'L 1', 'D 1', 'U 1', 'R 2']\n"
     ]
    }
   ],
   "source": [
    "raw_data, data = get_problem_input(DAY)"
   ]
  },
  {
   "cell_type": "code",
   "execution_count": 50,
   "metadata": {},
   "outputs": [],
   "source": [
    "test_data = [\n",
    "\"R 4\",\n",
    "\"U 4\",\n",
    "\"L 3\",\n",
    "\"D 1\",\n",
    "\"R 4\",\n",
    "\"D 1\",\n",
    "\"L 5\",\n",
    "\"R 2\",\n",
    "]"
   ]
  },
  {
   "cell_type": "code",
   "execution_count": 65,
   "metadata": {},
   "outputs": [],
   "source": [
    "RIGHT = (1 + 0j)\n",
    "DOWN = (0 - 1j)\n",
    "LEFT = (-1 + 0j)\n",
    "UP = (0 + 1j)"
   ]
  },
  {
   "cell_type": "code",
   "execution_count": 66,
   "metadata": {},
   "outputs": [],
   "source": [
    "move_dict = {\"R\": RIGHT, \"L\": LEFT,\"U\": UP,\"D\": DOWN,}"
   ]
  },
  {
   "cell_type": "code",
   "execution_count": 67,
   "metadata": {},
   "outputs": [],
   "source": [
    "def move_list(str_data):\n",
    "    ret = []\n",
    "    for x,n in [s.split(\" \") for s in str_data]:\n",
    "        for _ in range(int(n)):\n",
    "            ret.append(move_dict[x])\n",
    "    return ret"
   ]
  },
  {
   "cell_type": "code",
   "execution_count": 68,
   "metadata": {},
   "outputs": [],
   "source": [
    "def difference_vector(head, tail):\n",
    "    return head-tail"
   ]
  },
  {
   "cell_type": "code",
   "execution_count": 69,
   "metadata": {},
   "outputs": [],
   "source": [
    "def more_than_one_away(v):\n",
    "    return (abs(v.real) > 1) or (abs(v.imag) > 1)"
   ]
  },
  {
   "cell_type": "code",
   "execution_count": 85,
   "metadata": {},
   "outputs": [],
   "source": [
    "def possibly_move(head, tail):\n",
    "    head=complex(head)\n",
    "    tail=complex(tail)\n",
    "    v = difference_vector(head, tail)\n",
    "    if more_than_one_away(v):\n",
    "        if v.real == 0:\n",
    "            pass\n",
    "        elif v.real > 0:\n",
    "            tail += RIGHT\n",
    "        else:\n",
    "            tail += LEFT\n",
    "\n",
    "        if v.imag == 0:\n",
    "            pass\n",
    "        elif v.imag > 0:\n",
    "            tail += UP\n",
    "        else:\n",
    "            tail += DOWN\n",
    "    return tail"
   ]
  },
  {
   "cell_type": "code",
   "execution_count": 95,
   "metadata": {},
   "outputs": [],
   "source": [
    "def all_move(str_data):\n",
    "    visits = set()\n",
    "    head = 0+0j\n",
    "    tail = 0+0j\n",
    "    for m in move_list(str_data):\n",
    "        head += m\n",
    "        tail = possibly_move(head, tail)\n",
    "        visits.add(tail)\n",
    "        # print(head, tail)\n",
    "    return len(visits)"
   ]
  },
  {
   "cell_type": "code",
   "execution_count": 98,
   "metadata": {},
   "outputs": [],
   "source": [
    "first = all_move(data)"
   ]
  },
  {
   "cell_type": "code",
   "execution_count": 99,
   "metadata": {},
   "outputs": [
    {
     "name": "stdout",
     "output_type": "stream",
     "text": [
      "6175\n",
      "(\"That's the right answer!  You are one gold star closer to collecting enough \"\n",
      " 'star fruit. [Continue to Part Two]')\n"
     ]
    },
    {
     "data": {
      "text/plain": [
       "True"
      ]
     },
     "execution_count": 99,
     "metadata": {},
     "output_type": "execute_result"
    }
   ],
   "source": [
    "submit_answer(DAY, 1, first)"
   ]
  },
  {
   "cell_type": "code",
   "execution_count": 104,
   "metadata": {},
   "outputs": [],
   "source": [
    "def all_move(str_data, rope_len=2):\n",
    "    visits = set()\n",
    "    rope = [0+0j for _ in range(rope_len)]\n",
    "    for m in move_list(str_data):\n",
    "        rope[0] += m\n",
    "        for i, r in enumerate(rope[1:],start=1):\n",
    "            rope[i] = possibly_move(rope[i-1], rope[i])\n",
    "        visits.add(rope[-1])\n",
    "        # print(rope)\n",
    "    return len(visits)"
   ]
  },
  {
   "cell_type": "code",
   "execution_count": 105,
   "metadata": {},
   "outputs": [],
   "source": [
    "second = all_move(data,10)"
   ]
  },
  {
   "cell_type": "code",
   "execution_count": 106,
   "metadata": {},
   "outputs": [
    {
     "data": {
      "text/plain": [
       "2578"
      ]
     },
     "execution_count": 106,
     "metadata": {},
     "output_type": "execute_result"
    }
   ],
   "source": [
    "second"
   ]
  },
  {
   "cell_type": "code",
   "execution_count": 107,
   "metadata": {},
   "outputs": [
    {
     "name": "stdout",
     "output_type": "stream",
     "text": [
      "2578\n",
      "(\"That's the right answer!  You are one gold star closer to collecting enough \"\n",
      " 'star fruit.You have completed Day 9! You can [Shareon\\n'\n",
      " '  Twitter\\n'\n",
      " 'Mastodon] this victory or [Return to Your Advent Calendar].')\n"
     ]
    },
    {
     "data": {
      "text/plain": [
       "True"
      ]
     },
     "execution_count": 107,
     "metadata": {},
     "output_type": "execute_result"
    }
   ],
   "source": [
    "submit_answer(DAY, 2, second)"
   ]
  }
 ],
 "metadata": {
  "kernelspec": {
   "display_name": "Python 3 (ipykernel)",
   "language": "python",
   "name": "python3"
  },
  "language_info": {
   "codemirror_mode": {
    "name": "ipython",
    "version": 3
   },
   "file_extension": ".py",
   "mimetype": "text/x-python",
   "name": "python",
   "nbconvert_exporter": "python",
   "pygments_lexer": "ipython3",
   "version": "3.11.0"
  }
 },
 "nbformat": 4,
 "nbformat_minor": 4
}
