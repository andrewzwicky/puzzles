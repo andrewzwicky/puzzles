{
 "cells": [
  {
   "cell_type": "code",
   "execution_count": 1,
   "metadata": {},
   "outputs": [],
   "source": [
    "%load_ext autoreload\n",
    "%autoreload 2"
   ]
  },
  {
   "cell_type": "code",
   "execution_count": 2,
   "metadata": {},
   "outputs": [],
   "source": [
    "import requests\n",
    "from session import SESSION\n",
    "from common import print_problem, get_problem_input, submit_answer, neighbors\n",
    "from bs4 import BeautifulSoup\n",
    "from IPython.core.display import HTML\n",
    "from collections import Counter, namedtuple\n",
    "import re\n",
    "from collections import defaultdict\n",
    "from copy import copy, deepcopy\n",
    "import itertools\n",
    "from itertools import accumulate, zip_longest, pairwise, tee\n",
    "from pprint import pprint\n",
    "from functools import cache\n",
    "import numpy as np\n",
    "from enum import Enum, IntEnum\n",
    "from string import ascii_lowercase, ascii_uppercase\n",
    "from dataclasses import dataclass, field\n",
    "import operator\n",
    "from typing import List, Tuple, Set, Dict\n",
    "import functools\n",
    "np.set_printoptions(linewidth=160)"
   ]
  },
  {
   "cell_type": "code",
   "execution_count": 3,
   "metadata": {},
   "outputs": [],
   "source": [
    "DAY = 2"
   ]
  },
  {
   "cell_type": "code",
   "execution_count": 4,
   "metadata": {},
   "outputs": [
    {
     "name": "stdout",
     "output_type": "stream",
     "text": [
      "Raw Data:\n",
      "'Game 1: 19 blue, 12 red; 19 blue, 2 green, 1 red; 13 red, 11 blue\\nGame 2: 1 gree'\n",
      "Split Data:\n",
      "['Game 1: 19 blue, 12 red; 19 blue, 2 green, 1 red; 13 red, 11 blue',\n",
      " 'Game 2: 1 green, 1 blue, 1 red; 11 red, 3 blue; 1 blue, 18 red; 9 red, 1 '\n",
      " 'green; 2 blue, 11 red, 1 green; 1 green, 2 blue, 10 red',\n",
      " 'Game 3: 3 blue, 2 red, 6 green; 4 blue, 6 green, 1 red; 11 green, 12 blue; 2 '\n",
      " 'red, 6 green, 4 blue; 4 green',\n",
      " 'Game 4: 10 red, 5 green, 5 blue; 3 red, 3 blue, 6 green; 2 blue, 9 red, 6 '\n",
      " 'green; 8 green, 10 red, 4 blue; 9 red, 2 green, 3 blue; 1 blue, 5 red, 15 '\n",
      " 'green',\n",
      " 'Game 5: 11 green, 7 blue; 5 green, 5 red, 1 blue; 1 green, 1 red, 4 blue; 1 '\n",
      " 'red, 1 blue, 4 green; 4 blue, 1 red, 10 green; 5 red, 6 green',\n",
      " 'Game 6: 1 green, 1 red, 11 blue; 1 blue, 2 green; 1 red, 5 green, 9 blue; 7 '\n",
      " 'blue; 1 red, 2 green, 9 blue; 12 blue, 1 red, 2 green',\n",
      " 'Game 7: 1 blue, 10 red, 7 green; 14 blue, 10 green; 12 red, 2 green; 16 red, '\n",
      " '13 blue, 1 green; 12 green, 10 red, 3 blue; 9 red, 19 blue, 11 green',\n",
      " 'Game 8: 3 blue, 1 green, 3 red; 4 blue, 10 red, 6 green; 1 green, 10 red, 9 '\n",
      " 'blue; 9 blue, 7 red, 8 green; 8 green, 12 red, 8 blue; 6 blue, 1 green, 13 '\n",
      " 'red',\n",
      " 'Game 9: 10 green, 2 blue, 11 red; 2 green, 2 red; 6 blue, 8 red, 13 green',\n",
      " 'Game 10: 8 red, 3 blue, 5 green; 5 green, 7 blue, 1 red; 3 red, 10 blue, 6 '\n",
      " 'green; 2 red, 6 green, 7 blue; 3 blue, 11 red, 4 green; 8 red, 8 blue, 4 '\n",
      " 'green']\n"
     ]
    }
   ],
   "source": [
    "raw_data, data = get_problem_input(DAY)"
   ]
  },
  {
   "cell_type": "code",
   "execution_count": 6,
   "metadata": {},
   "outputs": [],
   "source": [
    "test_data = \"\"\"Game 1: 3 blue, 4 red; 1 red, 2 green, 6 blue; 2 green\n",
    "Game 2: 1 blue, 2 green; 3 green, 4 blue, 1 red; 1 green, 1 blue\n",
    "Game 3: 8 green, 6 blue, 20 red; 5 blue, 4 red, 13 green; 5 green, 1 red\n",
    "Game 4: 1 green, 3 red, 6 blue; 3 green, 6 red; 3 green, 15 blue, 14 red\n",
    "Game 5: 6 red, 1 blue, 3 green; 2 blue, 1 red, 2 green\"\"\".split(\"\\n\")"
   ]
  },
  {
   "cell_type": "code",
   "execution_count": 7,
   "metadata": {},
   "outputs": [],
   "source": [
    "MINIMUMS = {\"green\": 13, \"red\": 12, \"blue\": 14}"
   ]
  },
  {
   "cell_type": "code",
   "execution_count": 21,
   "metadata": {},
   "outputs": [],
   "source": [
    "game_re = re.compile(r\"^Game\\s(\\d+):(.*)\")\n",
    "color_re = re.compile(r\"^(\\d+)\\s(\\w+)\")"
   ]
  },
  {
   "cell_type": "code",
   "execution_count": 31,
   "metadata": {},
   "outputs": [],
   "source": [
    "def calc(data_in):\n",
    "    total_i = 0\n",
    "    for game in data_in:\n",
    "        valid = True\n",
    "        game_id,rest = game_re.match(game).groups()\n",
    "        game_id,rest = int(game_id),[[color_re.match(x.strip()).groups() for x in r.split(',')] for r in rest.split(';')]\n",
    "        \n",
    "        for s in rest:\n",
    "            for num,color in s:\n",
    "                if int(num) > MINIMUMS[color]:\n",
    "                    valid = False\n",
    "        if valid:\n",
    "            total_i += game_id\n",
    "    return total_i"
   ]
  },
  {
   "cell_type": "code",
   "execution_count": 33,
   "metadata": {},
   "outputs": [
    {
     "data": {
      "text/plain": [
       "8"
      ]
     },
     "execution_count": 33,
     "metadata": {},
     "output_type": "execute_result"
    }
   ],
   "source": [
    "calc(test_data)"
   ]
  },
  {
   "cell_type": "code",
   "execution_count": 34,
   "metadata": {},
   "outputs": [
    {
     "data": {
      "text/plain": [
       "2632"
      ]
     },
     "execution_count": 34,
     "metadata": {},
     "output_type": "execute_result"
    }
   ],
   "source": [
    "calc(data)"
   ]
  },
  {
   "cell_type": "code",
   "execution_count": 35,
   "metadata": {},
   "outputs": [
    {
     "name": "stdout",
     "output_type": "stream",
     "text": [
      "2632\n",
      "(\"That's the right answer!  You are one gold star closer to restoring snow \"\n",
      " 'operations. [Continue to Part Two]')\n"
     ]
    },
    {
     "data": {
      "text/plain": [
       "True"
      ]
     },
     "execution_count": 35,
     "metadata": {},
     "output_type": "execute_result"
    }
   ],
   "source": [
    "submit_answer(DAY, 1, Out[34])"
   ]
  },
  {
   "cell_type": "code",
   "execution_count": 40,
   "metadata": {},
   "outputs": [],
   "source": [
    "def calc2(data_in):\n",
    "    total_i = 0\n",
    "    for game in data_in:\n",
    "        game_id,rest = game_re.match(game).groups()\n",
    "        game_id,rest = int(game_id),[[color_re.match(x.strip()).groups() for x in r.split(',')] for r in rest.split(';')]\n",
    "        min_cubes = defaultdict(int)\n",
    "        for s in rest:\n",
    "            for num,color in s:\n",
    "                min_cubes[color] = max(int(num), min_cubes[color])\n",
    "        power = min_cubes[\"red\"] * min_cubes[\"blue\"] * min_cubes[\"green\"]\n",
    "        total_i += power\n",
    "    return total_i"
   ]
  },
  {
   "cell_type": "code",
   "execution_count": 41,
   "metadata": {},
   "outputs": [
    {
     "data": {
      "text/plain": [
       "2286"
      ]
     },
     "execution_count": 41,
     "metadata": {},
     "output_type": "execute_result"
    }
   ],
   "source": [
    "calc2(test_data)"
   ]
  },
  {
   "cell_type": "code",
   "execution_count": 42,
   "metadata": {},
   "outputs": [
    {
     "data": {
      "text/plain": [
       "69629"
      ]
     },
     "execution_count": 42,
     "metadata": {},
     "output_type": "execute_result"
    }
   ],
   "source": [
    "calc2(data)"
   ]
  },
  {
   "cell_type": "code",
   "execution_count": 43,
   "metadata": {},
   "outputs": [
    {
     "name": "stdout",
     "output_type": "stream",
     "text": [
      "69629\n",
      "(\"That's the right answer!  You are one gold star closer to restoring snow \"\n",
      " 'operations.You have completed Day 2! You can [Shareon\\n'\n",
      " '  Twitter\\n'\n",
      " 'Mastodon] this victory or [Return to Your Advent Calendar].')\n"
     ]
    },
    {
     "data": {
      "text/plain": [
       "True"
      ]
     },
     "execution_count": 43,
     "metadata": {},
     "output_type": "execute_result"
    }
   ],
   "source": [
    "submit_answer(DAY, 2, Out[42])"
   ]
  }
 ],
 "metadata": {
  "kernelspec": {
   "display_name": "Python 3 (ipykernel)",
   "language": "python",
   "name": "python3"
  },
  "language_info": {
   "codemirror_mode": {
    "name": "ipython",
    "version": 3
   },
   "file_extension": ".py",
   "mimetype": "text/x-python",
   "name": "python",
   "nbconvert_exporter": "python",
   "pygments_lexer": "ipython3",
   "version": "3.11.0"
  }
 },
 "nbformat": 4,
 "nbformat_minor": 4
}
