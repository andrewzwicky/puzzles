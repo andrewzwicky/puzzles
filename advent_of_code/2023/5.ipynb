{
 "cells": [
  {
   "cell_type": "code",
   "execution_count": 44,
   "metadata": {},
   "outputs": [
    {
     "name": "stdout",
     "output_type": "stream",
     "text": [
      "The autoreload extension is already loaded. To reload it, use:\n",
      "  %reload_ext autoreload\n"
     ]
    }
   ],
   "source": [
    "%load_ext autoreload\n",
    "%autoreload 2"
   ]
  },
  {
   "cell_type": "code",
   "execution_count": 45,
   "metadata": {},
   "outputs": [],
   "source": [
    "import requests\n",
    "from session import SESSION\n",
    "from common import print_problem, get_problem_input, submit_answer, neighbors\n",
    "from bs4 import BeautifulSoup\n",
    "from IPython.core.display import HTML\n",
    "from collections import Counter, namedtuple\n",
    "import re\n",
    "from collections import defaultdict\n",
    "from copy import copy, deepcopy\n",
    "import itertools\n",
    "from itertools import accumulate, zip_longest, pairwise, tee\n",
    "from pprint import pprint\n",
    "from functools import cache\n",
    "import numpy as np\n",
    "from enum import Enum, IntEnum\n",
    "from string import ascii_lowercase, ascii_uppercase\n",
    "from dataclasses import dataclass, field\n",
    "import operator\n",
    "from typing import List, Tuple, Set, Dict\n",
    "import functools\n",
    "np.set_printoptions(linewidth=160)"
   ]
  },
  {
   "cell_type": "code",
   "execution_count": 46,
   "metadata": {},
   "outputs": [],
   "source": [
    "DAY = 5"
   ]
  },
  {
   "cell_type": "code",
   "execution_count": 47,
   "metadata": {},
   "outputs": [],
   "source": [
    "raw_data, data = get_problem_input(DAY)"
   ]
  },
  {
   "cell_type": "code",
   "execution_count": 301,
   "metadata": {},
   "outputs": [],
   "source": [
    "test_data = \"\"\"\n",
    "seeds: 79 14 55 13\n",
    "\n",
    "seed-to-soil map:\n",
    "50 98 2\n",
    "52 50 48\n",
    "\n",
    "soil-to-fertilizer map:\n",
    "0 15 37\n",
    "37 52 2\n",
    "39 0 15\n",
    "\n",
    "fertilizer-to-water map:\n",
    "49 53 8\n",
    "0 11 42\n",
    "42 0 7\n",
    "57 7 4\n",
    "\n",
    "water-to-light map:\n",
    "88 18 7\n",
    "18 25 70\n",
    "\n",
    "light-to-temperature map:\n",
    "45 77 23\n",
    "81 45 19\n",
    "68 64 13\n",
    "\n",
    "temperature-to-humidity map:\n",
    "0 69 1\n",
    "1 0 69\n",
    "\n",
    "humidity-to-location map:\n",
    "60 56 37\n",
    "56 93 4\"\"\""
   ]
  },
  {
   "cell_type": "code",
   "execution_count": 302,
   "metadata": {},
   "outputs": [],
   "source": [
    "def create_re(str_in):\n",
    "    return re.compile(f\"^({str_in})(.*?)(?:\\n\\n)\", re.DOTALL|re.MULTILINE)\n",
    "\n",
    "all_headers = [\"seeds:\",\n",
    "\"seed-to-soil map:\",\n",
    "\"soil-to-fertilizer map:\",\n",
    "\"fertilizer-to-water map:\",\n",
    "\"water-to-light map:\",\n",
    "\"light-to-temperature map:\",\n",
    "\"temperature-to-humidity map:\",\n",
    "\"humidity-to-location map:\"]\n",
    "        \n",
    "res_in = [create_re(str_in) for str_in in all_headers]"
   ]
  },
  {
   "cell_type": "code",
   "execution_count": 344,
   "metadata": {},
   "outputs": [],
   "source": [
    "class Range:\n",
    "    def __init__(self, d_start, s_start, length):\n",
    "        # inclusive\n",
    "        self.d_start = d_start\n",
    "        self.s_start = s_start\n",
    "        self.d_end = d_start + length - 1\n",
    "        self.s_end = s_start + length - 1\n",
    "    \n",
    "    def __str__(self):\n",
    "        return f\"{self.s_start}-{self.s_end} => {self.d_start}-{self.d_end}\"\n",
    "    \n",
    "    def __repr__(self):\n",
    "        return str(self)\n",
    "    \n",
    "    def inside(self, x):\n",
    "        return (x>=self.s_start) and (x<=self.s_end)\n",
    "    \n",
    "    def inside_rev(self, x):\n",
    "        return (x>=self.d_start) and (x<=self.d_end)\n",
    "    \n",
    "    def map_s(self, x):\n",
    "        if self.inside(x):\n",
    "            return (x-self.s_start) + self.d_start\n",
    "        \n",
    "        return x\n",
    "    \n",
    "    def split(self, value):\n",
    "        if not self.inside(value):\n",
    "            raise ValueError\n",
    "            \n",
    "        offset = value-self.s_start\n",
    "        return Range(self.d_start, self.s_start, offset), Range(self.d_start+offset, self.s_start+offset, self.s_end-value+1)\n",
    "    \n",
    "    def map_s_rev(self, x):\n",
    "        if self.inside_rev(x):\n",
    "            return (x-self.d_start) + self.s_start\n",
    "        \n",
    "        return x\n",
    "        \n",
    "    def iterate(self):\n",
    "        yield from range(self.s_start, self.s_end+1)"
   ]
  },
  {
   "cell_type": "code",
   "execution_count": 345,
   "metadata": {},
   "outputs": [],
   "source": [
    "class ManyRanges:\n",
    "    def __init__(self, ranges):\n",
    "        self.ranges = sorted(ranges, key=lambda r: r.s_start)\n",
    "        \n",
    "    def __str__(self):\n",
    "        return \", \".join(str(r) for r in self.ranges)\n",
    "    \n",
    "    def __repr__(self):\n",
    "        return str(self)\n",
    "    \n",
    "    def map_s(self, x):\n",
    "        pos = -1\n",
    "        if x < self[0].s_start:\n",
    "            return pos, x\n",
    "        \n",
    "        for i,r in enumerate(self.ranges):\n",
    "            if x < r.s_start:\n",
    "                return i-0.5, x\n",
    "            if r.inside(x):\n",
    "                return i,(x-r.s_start) + r.d_start\n",
    "        \n",
    "        if x > self[-1].s_end:\n",
    "            return i+0.5, x\n",
    "        \n",
    "        return None,x\n",
    "    \n",
    "    def split(self, value):\n",
    "        split_i,_ = self.map_s(value)\n",
    "        \n",
    "        print(split_i, _, value)\n",
    "        print(self.ranges)\n",
    "        if isinstance(split_i, int):\n",
    "            print(\"split\")\n",
    "            new_ranges = self[split_i].split(value)\n",
    "            del self.ranges[split_i]\n",
    "            self.ranges.insert(split_i, new_ranges[1])\n",
    "            self.ranges.insert(split_i, new_ranges[0])\n",
    "        print(self.ranges)\n",
    "    \n",
    "    def __iter__(self):\n",
    "        yield from self.ranges\n",
    "        \n",
    "    def __getitem__(self, key):\n",
    "        return self.ranges[key]\n",
    "    \n",
    "    def collapse(self, downstream):\n",
    "        print(self)\n",
    "        print(downstream)\n",
    "        for source in self:\n",
    "            pos_start = downstream.map_s(source.s_start)\n",
    "            pos_end = downstream.map_s(source.s_end)\n",
    "            print(source.s_start, source.s_end)\n",
    "            print(pos_start, pos_end)\n",
    "        print()"
   ]
  },
  {
   "cell_type": "code",
   "execution_count": 346,
   "metadata": {},
   "outputs": [
    {
     "name": "stdout",
     "output_type": "stream",
     "text": [
      "0 55 53\n",
      "[50-97 => 52-99, 98-99 => 50-51]\n",
      "split\n",
      "[50-52 => 52-54, 53-97 => 55-99, 98-99 => 50-51]\n",
      "2 38 53\n",
      "[0-14 => 39-53, 15-51 => 0-36, 52-53 => 37-38]\n",
      "split\n",
      "[0-14 => 39-53, 15-51 => 0-36, 52-52 => 37-37, 53-53 => 38-38]\n",
      "3 49 53\n",
      "[0-6 => 42-48, 7-10 => 57-60, 11-52 => 0-41, 53-60 => 49-56]\n",
      "split\n",
      "[0-6 => 42-48, 7-10 => 57-60, 11-52 => 0-41, 53-52 => 49-48, 53-60 => 49-56]\n",
      "1 46 53\n",
      "[18-24 => 88-94, 25-94 => 18-87]\n",
      "split\n",
      "[18-24 => 88-94, 25-52 => 18-45, 53-94 => 46-87]\n",
      "0 89 53\n",
      "[45-63 => 81-99, 64-76 => 68-80, 77-99 => 45-67]\n",
      "split\n",
      "[45-52 => 81-88, 53-63 => 89-99, 64-76 => 68-80, 77-99 => 45-67]\n",
      "0 54 53\n",
      "[0-68 => 1-69, 69-69 => 0-0]\n",
      "split\n",
      "[0-52 => 1-53, 53-68 => 54-69, 69-69 => 0-0]\n"
     ]
    }
   ],
   "source": [
    "seeds, maps = parse_maps(test_data + \"\\n\\n\", res_in)\n",
    "def combine_ranges(ranges_in):\n",
    "    full_maps = []\n",
    "    for s,d in itertools.pairwise(ranges_in):\n",
    "        # s.collapse(d)\n",
    "        s.split(53)\n",
    "combine_ranges(maps.values())"
   ]
  },
  {
   "cell_type": "code",
   "execution_count": 261,
   "metadata": {},
   "outputs": [],
   "source": [
    "def parse_maps(data_in, res_in):\n",
    "    output = {}\n",
    "    seed_list = tuple()\n",
    "    for res in res_in:\n",
    "        m = res.search(data_in)\n",
    "        key, data = m.groups()\n",
    "        key = key[:-1]\n",
    "        data = data.strip()\n",
    "        data = list(map(str.strip, data.split(\"\\n\")))\n",
    "        if key == \"seeds\":\n",
    "            seed_list = tuple(map(int,data[0].split(' ')))\n",
    "        else:\n",
    "            output[key] = ManyRanges([Range(*tuple(map(int,data_str.split(' ')))) for data_str in data])\n",
    "    return seed_list, output"
   ]
  },
  {
   "cell_type": "code",
   "execution_count": 219,
   "metadata": {},
   "outputs": [],
   "source": [
    "ar = list(maps.values())[0]"
   ]
  },
  {
   "cell_type": "code",
   "execution_count": 220,
   "metadata": {},
   "outputs": [
    {
     "data": {
      "text/plain": [
       "50-97 => 52-99, 98-99 => 50-51"
      ]
     },
     "execution_count": 220,
     "metadata": {},
     "output_type": "execute_result"
    }
   ],
   "source": [
    "ar"
   ]
  },
  {
   "cell_type": "code",
   "execution_count": 221,
   "metadata": {},
   "outputs": [
    {
     "data": {
      "text/plain": [
       "50"
      ]
     },
     "execution_count": 221,
     "metadata": {},
     "output_type": "execute_result"
    }
   ],
   "source": [
    "ar.map_s(98)"
   ]
  },
  {
   "cell_type": "code",
   "execution_count": 133,
   "metadata": {},
   "outputs": [],
   "source": [
    "def calc(data_in,res_in):\n",
    "    seeds, maps = parse_maps(data_in + \"\\n\\n\", res_in)\n",
    "    minx = None\n",
    "    \n",
    "    combine_ranges(maps.values())\n",
    "    return\n",
    "    print(seeds)\n",
    "\n",
    "    for seed in seeds:\n",
    "        # rely on ordered dict\n",
    "        current = seed\n",
    "        print(f\"## {current}\",end=\"\")\n",
    "        for key,ranges in maps.items():\n",
    "            possibles = {rang.map_s(current) for rang in ranges}\n",
    "            if len(possibles) > 1:\n",
    "                possibles.remove(current)\n",
    "                current = possibles.pop()\n",
    "            print(f\" -> {current}\",end=\"\")\n",
    "        \n",
    "        if minx is None or current < minx:\n",
    "            minx = current\n",
    "        print(f\"    {minx}\")\n",
    "    return minx"
   ]
  },
  {
   "cell_type": "code",
   "execution_count": 116,
   "metadata": {},
   "outputs": [
    {
     "name": "stdout",
     "output_type": "stream",
     "text": [
      "[98-99 => 50-51, 50-97 => 52-99] [15-51 => 0-36, 52-53 => 37-38, 0-14 => 39-53]\n",
      "[15-51 => 0-36, 52-53 => 37-38, 0-14 => 39-53] [53-60 => 49-56, 11-52 => 0-41, 0-6 => 42-48, 7-10 => 57-60]\n",
      "[53-60 => 49-56, 11-52 => 0-41, 0-6 => 42-48, 7-10 => 57-60] [18-24 => 88-94, 25-94 => 18-87]\n",
      "[18-24 => 88-94, 25-94 => 18-87] [77-99 => 45-67, 45-63 => 81-99, 64-76 => 68-80]\n",
      "[77-99 => 45-67, 45-63 => 81-99, 64-76 => 68-80] [69-69 => 0-0, 0-68 => 1-69]\n",
      "[69-69 => 0-0, 0-68 => 1-69] [56-92 => 60-96, 93-96 => 56-59]\n"
     ]
    }
   ],
   "source": [
    "calc(test_data, res_in)"
   ]
  },
  {
   "cell_type": "code",
   "execution_count": 70,
   "metadata": {},
   "outputs": [
    {
     "name": "stdout",
     "output_type": "stream",
     "text": [
      "251346198\n",
      "(\"That's the right answer!  You are one gold star closer to restoring snow \"\n",
      " 'operations. [Continue to Part Two]')\n"
     ]
    },
    {
     "data": {
      "text/plain": [
       "True"
      ]
     },
     "execution_count": 70,
     "metadata": {},
     "output_type": "execute_result"
    }
   ],
   "source": [
    "submit_answer(DAY, 1, Out[69])"
   ]
  },
  {
   "cell_type": "code",
   "execution_count": 114,
   "metadata": {},
   "outputs": [],
   "source": [
    "def calc2(data_in):\n",
    "    total_gear_ratio = 0\n",
    "    array, output_map = parse(data_in)\n",
    "    char_indices = np.argwhere(np.logical_and(array != '.', np.logical_not(np.char.isdigit(array))))\n",
    "    for this_index in char_indices:\n",
    "        neighs = array[neighbors(array,this_index,center=False)]\n",
    "        this_set = set(map(int, neighs[neighs != '.']))\n",
    "        if len(this_set) == 2:\n",
    "            gear_ratio = operator.mul(*[output_map[i] for i in this_set])\n",
    "            total_gear_ratio += gear_ratio\n",
    "            # print(gear_ratio, this_set, total_gear_ratio)\n",
    "    return total_gear_ratio"
   ]
  },
  {
   "cell_type": "code",
   "execution_count": 115,
   "metadata": {},
   "outputs": [
    {
     "data": {
      "text/plain": [
       "467835"
      ]
     },
     "execution_count": 115,
     "metadata": {},
     "output_type": "execute_result"
    }
   ],
   "source": [
    "calc2(test_data)"
   ]
  },
  {
   "cell_type": "code",
   "execution_count": 116,
   "metadata": {},
   "outputs": [
    {
     "data": {
      "text/plain": [
       "86841457"
      ]
     },
     "execution_count": 116,
     "metadata": {},
     "output_type": "execute_result"
    }
   ],
   "source": [
    "calc2(data)"
   ]
  },
  {
   "cell_type": "code",
   "execution_count": 117,
   "metadata": {},
   "outputs": [
    {
     "name": "stdout",
     "output_type": "stream",
     "text": [
      "86841457\n",
      "(\"That's the right answer!  You are one gold star closer to restoring snow \"\n",
      " 'operations.You have completed Day 3! You can [Shareon\\n'\n",
      " '  Twitter\\n'\n",
      " 'Mastodon] this victory or [Return to Your Advent Calendar].')\n"
     ]
    },
    {
     "data": {
      "text/plain": [
       "True"
      ]
     },
     "execution_count": 117,
     "metadata": {},
     "output_type": "execute_result"
    }
   ],
   "source": [
    "submit_answer(DAY, 2, Out[116])"
   ]
  }
 ],
 "metadata": {
  "kernelspec": {
   "display_name": "Python 3 (ipykernel)",
   "language": "python",
   "name": "python3"
  },
  "language_info": {
   "codemirror_mode": {
    "name": "ipython",
    "version": 3
   },
   "file_extension": ".py",
   "mimetype": "text/x-python",
   "name": "python",
   "nbconvert_exporter": "python",
   "pygments_lexer": "ipython3",
   "version": "3.11.0"
  }
 },
 "nbformat": 4,
 "nbformat_minor": 4
}
