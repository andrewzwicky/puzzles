{
 "cells": [
  {
   "cell_type": "code",
   "execution_count": 1,
   "metadata": {},
   "outputs": [],
   "source": [
    "%load_ext autoreload\n",
    "%autoreload 2"
   ]
  },
  {
   "cell_type": "code",
   "execution_count": 44,
   "metadata": {},
   "outputs": [],
   "source": [
    "import requests\n",
    "from math import ceil, floor\n",
    "from session import SESSION\n",
    "from common import print_problem, get_problem_input, submit_answer, neighbors\n",
    "from bs4 import BeautifulSoup\n",
    "from IPython.core.display import HTML\n",
    "from collections import Counter, namedtuple\n",
    "import re\n",
    "from collections import defaultdict\n",
    "from copy import copy, deepcopy\n",
    "import itertools\n",
    "from itertools import accumulate, zip_longest, pairwise, tee\n",
    "from pprint import pprint\n",
    "from functools import cache\n",
    "import numpy as np\n",
    "from enum import Enum, IntEnum, auto\n",
    "from string import ascii_lowercase, ascii_uppercase\n",
    "from dataclasses import dataclass, field\n",
    "import operator\n",
    "from typing import List, Tuple, Set, Dict\n",
    "import functools\n",
    "from operator import itemgetter\n",
    "np.set_printoptions(linewidth=160)"
   ]
  },
  {
   "cell_type": "code",
   "execution_count": 3,
   "metadata": {},
   "outputs": [],
   "source": [
    "DAY = 7"
   ]
  },
  {
   "cell_type": "code",
   "execution_count": 4,
   "metadata": {},
   "outputs": [
    {
     "name": "stdout",
     "output_type": "stream",
     "text": [
      "Raw Data:\n",
      "'JJJJ8 619\\nQ4J94 152\\n77587 277\\n7333J 651\\nQQQQ2 419\\n72KA3 851\\n555Q2 806\\n37QTT 72\\n3'\n",
      "Split Data:\n",
      "['JJJJ8 619',\n",
      " 'Q4J94 152',\n",
      " '77587 277',\n",
      " '7333J 651',\n",
      " 'QQQQ2 419',\n",
      " '72KA3 851',\n",
      " '555Q2 806',\n",
      " '37QTT 72',\n",
      " '39446 597',\n",
      " 'KK99T 453']\n"
     ]
    }
   ],
   "source": [
    "raw_data, data = get_problem_input(DAY)"
   ]
  },
  {
   "cell_type": "code",
   "execution_count": 162,
   "metadata": {},
   "outputs": [],
   "source": [
    "test_data = \"\"\"32T3K 765\n",
    "T55J5 684\n",
    "KK677 28\n",
    "KTJJT 220\n",
    "QQQJA 483\"\"\".split(\"\\n\")"
   ]
  },
  {
   "cell_type": "code",
   "execution_count": 147,
   "metadata": {},
   "outputs": [],
   "source": [
    "test_data = \"\"\"2345A 1\n",
    "Q2KJJ 13\n",
    "Q2Q2Q 19\n",
    "T3T3J 17\n",
    "T3Q33 11\n",
    "2345J 3\n",
    "J345A 2\n",
    "32T3K 5\n",
    "T55J5 29\n",
    "KK677 7\n",
    "KTJJT 34\n",
    "QQQJA 31\n",
    "JJJJJ 37\n",
    "JAAAA 43\n",
    "AAAAJ 59\n",
    "AAAAA 61\n",
    "2AAAA 23\n",
    "2JJJJ 53\n",
    "JJJJ2 41\"\"\".split(\"\\n\")"
   ]
  },
  {
   "cell_type": "code",
   "execution_count": 129,
   "metadata": {},
   "outputs": [],
   "source": [
    "class Score(IntEnum):\n",
    "    HIGH_CARD = auto()\n",
    "    ONE_PAIR = auto()\n",
    "    TWO_PAIR = auto()\n",
    "    THREE_KIND = auto()\n",
    "    FULL_HOUSE = auto()\n",
    "    FOUR_KIND = auto()\n",
    "    FIVE_KIND = auto()"
   ]
  },
  {
   "cell_type": "code",
   "execution_count": 130,
   "metadata": {},
   "outputs": [],
   "source": [
    "VALUES = {\n",
    "    \"2\": 2,\n",
    "    \"3\": 3,\n",
    "    \"4\": 4,\n",
    "    \"5\": 5,\n",
    "    \"6\": 6,\n",
    "    \"7\": 7,\n",
    "    \"8\": 8,\n",
    "    \"9\": 9,\n",
    "    \"T\": 10,\n",
    "    \"J\": 11,\n",
    "    \"Q\": 12,\n",
    "    \"K\": 13,\n",
    "    \"A\": 14,\n",
    "    \"*\": 0,\n",
    "}"
   ]
  },
  {
   "cell_type": "code",
   "execution_count": 131,
   "metadata": {},
   "outputs": [],
   "source": [
    "def compare_nums(hand_str):\n",
    "    return tuple(VALUES[x] for x in hand_str)"
   ]
  },
  {
   "cell_type": "code",
   "execution_count": 155,
   "metadata": {},
   "outputs": [],
   "source": [
    "ADJUSTED_SCORES = {\n",
    "    Score.FIVE_KIND: {\n",
    "        0: (5,),\n",
    "        1: (4,),\n",
    "        2: (3,),\n",
    "        3: (2,),\n",
    "        4: (1,),\n",
    "        5: tuple(),\n",
    "    },\n",
    "    Score.FOUR_KIND: {\n",
    "        0: (1,4),\n",
    "        1: (1,3),\n",
    "        2: (1,2),\n",
    "        3: (1,1),\n",
    "    },\n",
    "    Score.FULL_HOUSE: {\n",
    "        0: (2,3),\n",
    "        1: (2,2),\n",
    "        2: tuple()\n",
    "    },\n",
    "    Score.THREE_KIND: {\n",
    "        0: (1,1,3),\n",
    "        1: (1,1,2),\n",
    "        2: (1,1,1),\n",
    "    },\n",
    "    Score.TWO_PAIR: {\n",
    "        0: (1,2,2),\n",
    "        1: (1,1,2),\n",
    "    },\n",
    "    Score.ONE_PAIR: {\n",
    "        0: (1,1,1,2),\n",
    "        1: (1,1,1,1),\n",
    "    },\n",
    "}"
   ]
  },
  {
   "cell_type": "code",
   "execution_count": 156,
   "metadata": {},
   "outputs": [],
   "source": [
    "@functools.total_ordering\n",
    "class Hand:\n",
    "    def __init__(self, _hand_str, _jokers=False):\n",
    "        self.hand_str = _hand_str\n",
    "        if _jokers:\n",
    "            self.hand_str = self.hand_str.replace(\"J\",\"*\")\n",
    "        self.jokers = self.hand_str.count(\"*\")\n",
    "        self.hand_count = Counter(self.hand_str.replace(\"*\",\"\"))\n",
    "        self.hand_type = self.classify()\n",
    "        self.compare_nums = compare_nums(self.hand_str)\n",
    "\n",
    "    def classify(self):\n",
    "        count_tup = tuple(sorted(self.hand_count.values()))\n",
    "\n",
    "        if count_tup == ADJUSTED_SCORES[Score.FIVE_KIND][self.jokers]:\n",
    "            return Score.FIVE_KIND\n",
    "        elif count_tup == ADJUSTED_SCORES[Score.FOUR_KIND][self.jokers]:\n",
    "            return Score.FOUR_KIND\n",
    "        elif count_tup == ADJUSTED_SCORES[Score.FULL_HOUSE][self.jokers]:\n",
    "            return Score.FULL_HOUSE\n",
    "        elif count_tup == ADJUSTED_SCORES[Score.THREE_KIND][self.jokers]:\n",
    "            return Score.THREE_KIND\n",
    "        elif count_tup == ADJUSTED_SCORES[Score.TWO_PAIR][self.jokers]:\n",
    "            return Score.TWO_PAIR\n",
    "        elif count_tup == ADJUSTED_SCORES[Score.ONE_PAIR][self.jokers]:\n",
    "            return Score.ONE_PAIR\n",
    "        else:\n",
    "            return Score.HIGH_CARD\n",
    "\n",
    "    def __str__(self) -> str:\n",
    "        return f\"{self.hand_str} {self.hand_type.name:<12} {self.jokers:<2} {self.hand_count}\"\n",
    "\n",
    "    def __repr__(self) -> str:\n",
    "        return str(self)\n",
    "\n",
    "    def __eq__(self, other):\n",
    "        return (self.hand_type == other.hand_type) and (\n",
    "            self.compare_nums == other.compare_nums\n",
    "        )\n",
    "\n",
    "    def __lt__(self, other):\n",
    "        if self.hand_type > other.hand_type:\n",
    "            return False\n",
    "        elif self.hand_type < other.hand_type:\n",
    "            return True\n",
    "        else:\n",
    "            return self.compare_nums < other.compare_nums"
   ]
  },
  {
   "cell_type": "code",
   "execution_count": 159,
   "metadata": {},
   "outputs": [],
   "source": [
    "def calc(lines_in, jokers=False):\n",
    "    hands = []\n",
    "    for line in lines_in:\n",
    "        hand, bid = line.split(\" \")\n",
    "        hand = Hand(hand,jokers)\n",
    "        # print(hand)\n",
    "        bid = int(bid)\n",
    "        hands.append((hand, bid))\n",
    "    hands.sort(key=itemgetter(0))\n",
    "    # pprint(hands)\n",
    "    return sum([i*b for i,(_,b) in enumerate(hands, start=1)])\n"
   ]
  },
  {
   "cell_type": "code",
   "execution_count": 160,
   "metadata": {},
   "outputs": [
    {
     "data": {
      "text/plain": [
       "6592"
      ]
     },
     "execution_count": 160,
     "metadata": {},
     "output_type": "execute_result"
    }
   ],
   "source": [
    "calc(test_data,False)"
   ]
  },
  {
   "cell_type": "code",
   "execution_count": 141,
   "metadata": {},
   "outputs": [
    {
     "data": {
      "text/plain": [
       "249204891"
      ]
     },
     "execution_count": 141,
     "metadata": {},
     "output_type": "execute_result"
    }
   ],
   "source": [
    "calc(data, False)"
   ]
  },
  {
   "cell_type": "code",
   "execution_count": 56,
   "metadata": {},
   "outputs": [
    {
     "name": "stdout",
     "output_type": "stream",
     "text": [
      "249204891\n",
      "(\"That's the right answer!  You are one gold star closer to restoring snow \"\n",
      " 'operations. [Continue to Part Two]')\n"
     ]
    },
    {
     "data": {
      "text/plain": [
       "True"
      ]
     },
     "execution_count": 56,
     "metadata": {},
     "output_type": "execute_result"
    }
   ],
   "source": [
    "submit_answer(DAY, 1, Out[55])"
   ]
  },
  {
   "cell_type": "code",
   "execution_count": 163,
   "metadata": {},
   "outputs": [
    {
     "data": {
      "text/plain": [
       "5905"
      ]
     },
     "execution_count": 163,
     "metadata": {},
     "output_type": "execute_result"
    }
   ],
   "source": [
    "calc(test_data,True)"
   ]
  },
  {
   "cell_type": "code",
   "execution_count": 164,
   "metadata": {},
   "outputs": [
    {
     "data": {
      "text/plain": [
       "249666369"
      ]
     },
     "execution_count": 164,
     "metadata": {},
     "output_type": "execute_result"
    }
   ],
   "source": [
    "calc(data, True)"
   ]
  },
  {
   "cell_type": "code",
   "execution_count": 165,
   "metadata": {},
   "outputs": [
    {
     "name": "stdout",
     "output_type": "stream",
     "text": [
      "249666369\n",
      "(\"That's the right answer!  You are one gold star closer to restoring snow \"\n",
      " 'operations.You have completed Day 7! You can [Shareon\\n'\n",
      " '  Twitter\\n'\n",
      " 'Mastodon] this victory or [Return to Your Advent Calendar].')\n"
     ]
    },
    {
     "data": {
      "text/plain": [
       "True"
      ]
     },
     "execution_count": 165,
     "metadata": {},
     "output_type": "execute_result"
    }
   ],
   "source": [
    "submit_answer(DAY, 2, Out[164])"
   ]
  }
 ],
 "metadata": {
  "kernelspec": {
   "display_name": "Python 3 (ipykernel)",
   "language": "python",
   "name": "python3"
  },
  "language_info": {
   "codemirror_mode": {
    "name": "ipython",
    "version": 3
   },
   "file_extension": ".py",
   "mimetype": "text/x-python",
   "name": "python",
   "nbconvert_exporter": "python",
   "pygments_lexer": "ipython3",
   "version": "3.11.0"
  }
 },
 "nbformat": 4,
 "nbformat_minor": 4
}
