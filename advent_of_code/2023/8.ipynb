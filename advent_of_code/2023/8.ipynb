{
 "cells": [
  {
   "cell_type": "code",
   "execution_count": 2,
   "metadata": {},
   "outputs": [],
   "source": [
    "%load_ext autoreload\n",
    "%autoreload 2"
   ]
  },
  {
   "cell_type": "code",
   "execution_count": 3,
   "metadata": {},
   "outputs": [],
   "source": [
    "import requests\n",
    "from math import ceil, floor\n",
    "from session import SESSION\n",
    "from common import print_problem, get_problem_input, submit_answer, neighbors\n",
    "from bs4 import BeautifulSoup\n",
    "from IPython.core.display import HTML\n",
    "from collections import Counter, namedtuple\n",
    "import re\n",
    "from collections import defaultdict\n",
    "from copy import copy, deepcopy\n",
    "import itertools\n",
    "from itertools import accumulate, zip_longest, pairwise, tee\n",
    "from pprint import pprint\n",
    "from functools import cache\n",
    "import numpy as np\n",
    "from enum import Enum, IntEnum, auto\n",
    "from string import ascii_lowercase, ascii_uppercase\n",
    "from dataclasses import dataclass, field\n",
    "import operator\n",
    "from typing import List, Tuple, Set, Dict\n",
    "import functools\n",
    "from operator import itemgetter\n",
    "np.set_printoptions(linewidth=160)"
   ]
  },
  {
   "cell_type": "code",
   "execution_count": 4,
   "metadata": {},
   "outputs": [],
   "source": [
    "DAY = 8"
   ]
  },
  {
   "cell_type": "code",
   "execution_count": 5,
   "metadata": {},
   "outputs": [
    {
     "name": "stdout",
     "output_type": "stream",
     "text": [
      "Raw Data:\n",
      "'LRRLLRLLRRLRRLLRRLLRLRRRLLRRLRRRLRRLRRRLLRRLLRLLRRLRLRRRLRRLLRRRLRLRRLRRLRLRLRLL'\n",
      "Split Data:\n",
      "['LRRLLRLLRRLRRLLRRLLRLRRRLLRRLRRRLRRLRRRLLRRLLRLLRRLRLRRRLRRLLRRRLRLRRLRRLRLRLRLLRLRRRLLRLLRRLRRRLRLRLRRRLRRLLRRRLRLRRLRRLLRRLRRRLRRLRRLRRLLRLRLRRLLRLLRRRLRRLRRLRRRLRLLRRRLRRRLRRLLRRRLRRRLRLLRLRRLRLLRRLLLRRLRRLRRLRLRRRLRRLLRLRRRLRRLRLLLRRLRRLRRRLLLRLLLLRRLRLLLRLRRRLRRRLRLRRRLLLLRLRRRLRLLLRRLRLRRLRRLRRRLRRRR',\n",
      " '',\n",
      " 'LHF = (QTF, KKT)',\n",
      " 'VRQ = (MDV, RCX)',\n",
      " 'NDF = (CHQ, FJM)',\n",
      " 'XXG = (NJP, GPX)',\n",
      " 'GDG = (JCJ, BDD)',\n",
      " 'PHF = (RMF, MHK)',\n",
      " 'LQX = (NMG, RSJ)',\n",
      " 'RPG = (VRH, BVV)']\n"
     ]
    }
   ],
   "source": [
    "raw_data, data = get_problem_input(DAY)"
   ]
  },
  {
   "cell_type": "code",
   "execution_count": 8,
   "metadata": {},
   "outputs": [],
   "source": [
    "test_data = \"\"\"RL\n",
    "\n",
    "AAA = (BBB, CCC)\n",
    "BBB = (DDD, EEE)\n",
    "CCC = (ZZZ, GGG)\n",
    "DDD = (DDD, DDD)\n",
    "EEE = (EEE, EEE)\n",
    "GGG = (GGG, GGG)\n",
    "ZZZ = (ZZZ, ZZZ)\"\"\".split(\"\\n\")"
   ]
  },
  {
   "cell_type": "code",
   "execution_count": 11,
   "metadata": {},
   "outputs": [],
   "source": [
    "test_data = \"\"\"LLR\n",
    "\n",
    "AAA = (BBB, BBB)\n",
    "BBB = (AAA, ZZZ)\n",
    "ZZZ = (ZZZ, ZZZ)\"\"\".split(\"\\n\")"
   ]
  },
  {
   "cell_type": "code",
   "execution_count": 9,
   "metadata": {},
   "outputs": [],
   "source": [
    "line_re = re.compile(r\"^(\\w+)\\s+=\\s+\\((\\w+),\\s+(\\w+)\\)$\")"
   ]
  },
  {
   "cell_type": "code",
   "execution_count": 18,
   "metadata": {},
   "outputs": [
    {
     "data": {
      "text/plain": [
       "6"
      ]
     },
     "execution_count": 18,
     "metadata": {},
     "output_type": "execute_result"
    }
   ],
   "source": [
    "def collapse(lines_in):\n",
    "    instructions, _, *rest = lines_in\n",
    "    rest = [line_re.match(r).groups() for r in rest]\n",
    "    input_dict = {a:(b,c) for  a,b,c in rest}\n",
    "    # pprint(locals())\n",
    "\n",
    "    total_steps = 0\n",
    "    cycle_dict = dict()\n",
    "    starting = \"AAA\"\n",
    "    current = starting\n",
    "    while True:\n",
    "        num_steps = 0\n",
    "        try:\n",
    "            current, num = cycle_dict[current]\n",
    "            total_steps += num\n",
    "        except KeyError:\n",
    "            for instruction in instructions:\n",
    "                # print(total_steps, num_steps, instruction, current)\n",
    "                if instruction == \"L\":\n",
    "                    current = input_dict[current][0]\n",
    "                else:\n",
    "                    current = input_dict[current][1]\n",
    "                num_steps += 1\n",
    "                if current == \"ZZZ\":\n",
    "                    total_steps += num_steps\n",
    "                    return total_steps\n",
    "            \n",
    "            cycle_dict[starting] = (current, num_steps)\n",
    "            total_steps += num_steps\n",
    "\n",
    "collapse(test_data)\n"
   ]
  },
  {
   "cell_type": "code",
   "execution_count": null,
   "metadata": {},
   "outputs": [],
   "source": [
    "def parse(lines_in):\n",
    "    instructions, _, *rest = lines_in\n",
    "    rest = [line_re.match(r).groups() for r in rest]\n",
    "    input_dict = {a:(b,c) for  a,b,c in rest}\n",
    "\n",
    "    @functools.lru_cache\n",
    "    def traverse(current, instruction):\n",
    "        if instruction == \"L\":\n",
    "            return input_dict[current][0]\n",
    "        \n",
    "        return input_dict[current][1]\n",
    "\n",
    "    # pprint(locals())\n",
    "    current = tuple(input_dict.keys())[0]\n",
    "    for step, instruction in enumerate(itertools.cycle(instructions), start=1):\n",
    "        print(step, current, instruction)\n",
    "        current = traverse(current, instruction)\n",
    "        if current == \"ZZZ\":\n",
    "            return step\n"
   ]
  },
  {
   "cell_type": "code",
   "execution_count": null,
   "metadata": {},
   "outputs": [],
   "source": [
    "\n",
    "parse(test_data)"
   ]
  },
  {
   "cell_type": "code",
   "execution_count": 19,
   "metadata": {},
   "outputs": [
    {
     "data": {
      "text/plain": [
       "18113"
      ]
     },
     "execution_count": 19,
     "metadata": {},
     "output_type": "execute_result"
    }
   ],
   "source": [
    "collapse(data)"
   ]
  },
  {
   "cell_type": "code",
   "execution_count": 20,
   "metadata": {},
   "outputs": [
    {
     "name": "stdout",
     "output_type": "stream",
     "text": [
      "18113\n",
      "(\"That's the right answer!  You are one gold star closer to restoring snow \"\n",
      " 'operations. [Continue to Part Two]')\n"
     ]
    },
    {
     "data": {
      "text/plain": [
       "True"
      ]
     },
     "execution_count": 20,
     "metadata": {},
     "output_type": "execute_result"
    }
   ],
   "source": [
    "submit_answer(DAY, 1, Out[19])"
   ]
  },
  {
   "cell_type": "code",
   "execution_count": null,
   "metadata": {},
   "outputs": [],
   "source": [
    "calc(test_data,True)"
   ]
  },
  {
   "cell_type": "code",
   "execution_count": null,
   "metadata": {},
   "outputs": [],
   "source": [
    "calc(data, True)"
   ]
  },
  {
   "cell_type": "code",
   "execution_count": null,
   "metadata": {},
   "outputs": [],
   "source": [
    "submit_answer(DAY, 2, Out[164])"
   ]
  }
 ],
 "metadata": {
  "kernelspec": {
   "display_name": "Python 3 (ipykernel)",
   "language": "python",
   "name": "python3"
  },
  "language_info": {
   "codemirror_mode": {
    "name": "ipython",
    "version": 3
   },
   "file_extension": ".py",
   "mimetype": "text/x-python",
   "name": "python",
   "nbconvert_exporter": "python",
   "pygments_lexer": "ipython3",
   "version": "3.11.0"
  }
 },
 "nbformat": 4,
 "nbformat_minor": 4
}
