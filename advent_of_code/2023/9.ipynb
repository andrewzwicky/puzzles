{
 "cells": [
  {
   "cell_type": "code",
   "execution_count": 1,
   "metadata": {},
   "outputs": [],
   "source": [
    "%load_ext autoreload\n",
    "%autoreload 2"
   ]
  },
  {
   "cell_type": "code",
   "execution_count": 2,
   "metadata": {},
   "outputs": [],
   "source": [
    "import requests\n",
    "from math import ceil, floor\n",
    "from session import SESSION\n",
    "from common import print_problem, get_problem_input, submit_answer, neighbors\n",
    "from bs4 import BeautifulSoup\n",
    "from IPython.core.display import HTML\n",
    "from collections import Counter, namedtuple\n",
    "import re\n",
    "from collections import defaultdict\n",
    "from copy import copy, deepcopy\n",
    "import itertools\n",
    "from itertools import accumulate, zip_longest, pairwise, tee\n",
    "from pprint import pprint\n",
    "from functools import cache\n",
    "import numpy as np\n",
    "from enum import Enum, IntEnum, auto\n",
    "from string import ascii_lowercase, ascii_uppercase\n",
    "from dataclasses import dataclass, field\n",
    "import operator\n",
    "from typing import List, Tuple, Set, Dict\n",
    "import functools\n",
    "from operator import itemgetter\n",
    "np.set_printoptions(linewidth=160)"
   ]
  },
  {
   "cell_type": "code",
   "execution_count": 3,
   "metadata": {},
   "outputs": [],
   "source": [
    "DAY = 9"
   ]
  },
  {
   "cell_type": "code",
   "execution_count": 4,
   "metadata": {},
   "outputs": [
    {
     "name": "stdout",
     "output_type": "stream",
     "text": [
      "Raw Data:\n",
      "'4 16 43 101 217 425 753 1197 1691 2110 2387 2890 5312 14538 42415 115365 289902 '\n",
      "Split Data:\n",
      "['4 16 43 101 217 425 753 1197 1691 2110 2387 2890 5312 14538 42415 115365 '\n",
      " '289902 684288 1542307 3358767 7119259',\n",
      " '0 -2 7 40 117 276 600 1271 2671 5565 11422 22974 45227 87407 166875 317052 '\n",
      " '603094 1151784 2206377 4223776 8041805',\n",
      " '24 40 58 78 100 124 150 178 208 240 274 310 348 388 430 474 520 568 618 670 '\n",
      " '724',\n",
      " '4 5 3 -2 -10 -21 -35 -52 -72 -95 -121 -150 -182 -217 -255 -296 -340 -387 '\n",
      " '-437 -490 -546',\n",
      " '7 9 10 10 3 -13 -12 98 527 1669 4182 9082 17851 32559 56000 91842 144791 '\n",
      " '220769 327106 472746 668467',\n",
      " '6 8 13 24 49 114 290 748 1875 4509 10384 22917 48517 98653 192995 364066 '\n",
      " '664064 1174910 2023263 3403362 5612285',\n",
      " '15 14 14 31 93 251 603 1331 2756 5423 10242 18746 33606 59698 106289 191348 '\n",
      " '349653 647324 1206742 2247601 4152179',\n",
      " '4 14 43 102 199 339 524 753 1022 1324 1649 1984 2313 2617 2874 3059 3144 '\n",
      " '3098 2887 2474 1819',\n",
      " '16 29 52 96 186 378 787 1638 3364 6803 13616 27194 54597 110582 225772 '\n",
      " '462984 949560 1940685 3941292 7935176 15802956',\n",
      " '-7 1 16 44 113 285 681 1532 3269 6665 13042 24556 44573 78149 132627 218364 '\n",
      " '349601 545489 831284 1239724 1812601']\n"
     ]
    }
   ],
   "source": [
    "raw_data, data = get_problem_input(DAY)"
   ]
  },
  {
   "cell_type": "code",
   "execution_count": 5,
   "metadata": {},
   "outputs": [],
   "source": [
    "test_data = \"\"\"0 3 6 9 12 15\n",
    "1 3 6 10 15 21\n",
    "10 13 16 21 30 45\"\"\".split(\"\\n\")"
   ]
  },
  {
   "cell_type": "code",
   "execution_count": 38,
   "metadata": {},
   "outputs": [],
   "source": [
    "def extrapolate(line):\n",
    "    nums = list(map(int, line.strip().split(\" \")))\n",
    "    lasts = [nums[-1]]\n",
    "\n",
    "    while any(nums):\n",
    "        nums = [b-a for a,b in pairwise(nums)]\n",
    "        lasts.append(nums[-1])\n",
    "    news = [0]\n",
    "    for b in lasts[::-1][1:]:\n",
    "        news.append(news[-1]+b)\n",
    "    return news[-1]\n",
    "    \n",
    "\n",
    "def extrapolate_all(lines_in):\n",
    "    return sum(extrapolate(line) for line in lines_in)"
   ]
  },
  {
   "cell_type": "code",
   "execution_count": 39,
   "metadata": {},
   "outputs": [
    {
     "data": {
      "text/plain": [
       "114"
      ]
     },
     "execution_count": 39,
     "metadata": {},
     "output_type": "execute_result"
    }
   ],
   "source": [
    "extrapolate_all(test_data)"
   ]
  },
  {
   "cell_type": "code",
   "execution_count": 40,
   "metadata": {},
   "outputs": [
    {
     "data": {
      "text/plain": [
       "1916822650"
      ]
     },
     "execution_count": 40,
     "metadata": {},
     "output_type": "execute_result"
    }
   ],
   "source": [
    "extrapolate_all(data)"
   ]
  },
  {
   "cell_type": "code",
   "execution_count": 41,
   "metadata": {},
   "outputs": [
    {
     "name": "stdout",
     "output_type": "stream",
     "text": [
      "1916822650\n",
      "(\"That's the right answer!  You are one gold star closer to restoring snow \"\n",
      " 'operations. [Continue to Part Two]')\n"
     ]
    },
    {
     "data": {
      "text/plain": [
       "True"
      ]
     },
     "execution_count": 41,
     "metadata": {},
     "output_type": "execute_result"
    }
   ],
   "source": [
    "submit_answer(DAY, 1, Out[40])"
   ]
  },
  {
   "cell_type": "code",
   "execution_count": 58,
   "metadata": {},
   "outputs": [],
   "source": [
    "def extrapolate_rev(line):\n",
    "    nums = list(map(int, line.strip().split(\" \")))\n",
    "    firsts = [nums[0]]\n",
    "\n",
    "    while any(nums):\n",
    "        nums = [b-a for a,b in pairwise(nums)]\n",
    "        firsts.append(nums[0])\n",
    "    news = [0]\n",
    "    for b in firsts[::-1][1:]:\n",
    "        news.append(b-news[-1])\n",
    "    return news[-1]\n",
    "    \n",
    "\n",
    "def extrapolate_all_rev(lines_in):\n",
    "    return sum(extrapolate_rev(line) for line in lines_in)"
   ]
  },
  {
   "cell_type": "code",
   "execution_count": 59,
   "metadata": {},
   "outputs": [
    {
     "data": {
      "text/plain": [
       "2"
      ]
     },
     "execution_count": 59,
     "metadata": {},
     "output_type": "execute_result"
    }
   ],
   "source": [
    "extrapolate_all_rev(test_data)"
   ]
  },
  {
   "cell_type": "code",
   "execution_count": 60,
   "metadata": {},
   "outputs": [
    {
     "data": {
      "text/plain": [
       "966"
      ]
     },
     "execution_count": 60,
     "metadata": {},
     "output_type": "execute_result"
    }
   ],
   "source": [
    "extrapolate_all_rev(data)"
   ]
  },
  {
   "cell_type": "code",
   "execution_count": 61,
   "metadata": {},
   "outputs": [
    {
     "name": "stdout",
     "output_type": "stream",
     "text": [
      "966\n",
      "(\"That's the right answer!  You are one gold star closer to restoring snow \"\n",
      " 'operations.You have completed Day 9! You can [Shareon\\n'\n",
      " '  Twitter\\n'\n",
      " 'Mastodon] this victory or [Return to Your Advent Calendar].')\n"
     ]
    },
    {
     "data": {
      "text/plain": [
       "True"
      ]
     },
     "execution_count": 61,
     "metadata": {},
     "output_type": "execute_result"
    }
   ],
   "source": [
    "submit_answer(DAY, 2, Out[60])"
   ]
  }
 ],
 "metadata": {
  "kernelspec": {
   "display_name": "Python 3 (ipykernel)",
   "language": "python",
   "name": "python3"
  },
  "language_info": {
   "codemirror_mode": {
    "name": "ipython",
    "version": 3
   },
   "file_extension": ".py",
   "mimetype": "text/x-python",
   "name": "python",
   "nbconvert_exporter": "python",
   "pygments_lexer": "ipython3",
   "version": "3.11.0"
  }
 },
 "nbformat": 4,
 "nbformat_minor": 4
}
