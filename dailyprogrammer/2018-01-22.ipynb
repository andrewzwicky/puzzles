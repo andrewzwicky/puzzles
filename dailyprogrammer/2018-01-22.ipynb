{
 "cells": [
  {
   "cell_type": "code",
   "execution_count": 2,
   "metadata": {
    "collapsed": true
   },
   "outputs": [],
   "source": [
    "DEATH_AGE = 96\n",
    "BREEDING_AGE = 4\n",
    "INITIAL_AGE = 2\n",
    "MALES_PER_LITTER = 5\n",
    "FEMALES_PER_LITTER = 9"
   ]
  },
  {
   "cell_type": "code",
   "execution_count": 14,
   "metadata": {
    "collapsed": true
   },
   "outputs": [],
   "source": [
    "def init_population(male, female):\n",
    "    males = [0] * (DEATH_AGE + 1)\n",
    "    females = [0] * (DEATH_AGE + 1)\n",
    "    males[INITIAL_AGE] = male\n",
    "    females[INITIAL_AGE] = female\n",
    "    return males, females"
   ]
  },
  {
   "cell_type": "code",
   "execution_count": 41,
   "metadata": {
    "collapsed": true
   },
   "outputs": [],
   "source": [
    "def breed_population(males, females):\n",
    "    breeding_females = sum(females[BREEDING_AGE:])\n",
    "    males[0] = breeding_females*MALES_PER_LITTER\n",
    "    females[0] = breeding_females*FEMALES_PER_LITTER\n",
    "    return males, females, breeding_females"
   ]
  },
  {
   "cell_type": "code",
   "execution_count": 16,
   "metadata": {
    "collapsed": true
   },
   "outputs": [],
   "source": [
    "def age_population(males, females):\n",
    "    dead_rabbits = males[-1] + females[-1]\n",
    "    return [0] + males[:-1], [0] + females[:-1], dead_rabbits"
   ]
  },
  {
   "cell_type": "code",
   "execution_count": 45,
   "metadata": {
    "collapsed": true
   },
   "outputs": [],
   "source": [
    "def run_simulation(male, female, target_pop):\n",
    "    males, females = init_population(male, female)\n",
    "    total_population = sum(males) + sum(females)\n",
    "    total_dead_rabbits = 0\n",
    "    total_months = 0\n",
    "    while total_population < target_pop:\n",
    "        males, females, breeding_females = breed_population(males, females)\n",
    "        males, females, dead_rabbits = age_population(males, females)\n",
    "        total_dead_rabbits += dead_rabbits\n",
    "        total_population = sum(males) + sum(females)\n",
    "        total_months += 1\n",
    "        print(f'month {total_months:<3}: {total_population:<15} alive ({breeding_females:<15} breeding females) and {total_dead_rabbits:<5} dead')\n",
    "    return total_months, total_dead_rabbits"
   ]
  },
  {
   "cell_type": "code",
   "execution_count": 46,
   "metadata": {},
   "outputs": [
    {
     "name": "stdout",
     "output_type": "stream",
     "text": [
      "month 1  : 6               alive (0               breeding females) and 0     dead\n",
      "month 2  : 6               alive (0               breeding females) and 0     dead\n",
      "month 3  : 62              alive (4               breeding females) and 0     dead\n",
      "month 4  : 118             alive (4               breeding females) and 0     dead\n",
      "month 5  : 174             alive (4               breeding females) and 0     dead\n",
      "month 6  : 230             alive (4               breeding females) and 0     dead\n",
      "month 7  : 790             alive (40              breeding females) and 0     dead\n",
      "month 8  : 1854            alive (76              breeding females) and 0     dead\n",
      "month 9  : 3422            alive (112             breeding females) and 0     dead\n",
      "month 10 : 5494            alive (148             breeding females) and 0     dead\n",
      "month 11 : 12606           alive (508             breeding females) and 0     dead\n",
      "month 12 : 29294           alive (1192            breeding females) and 0     dead\n",
      "month 13 : 60094           alive (2200            breeding females) and 0     dead\n",
      "month 14 : 109542          alive (3532            breeding females) and 0     dead\n",
      "month 15 : 222998          alive (8104            breeding females) and 0     dead\n",
      "month 16 : 486646          alive (18832           breeding females) and 0     dead\n",
      "month 17 : 1027494         alive (38632           breeding females) and 0     dead\n",
      "month 18 : 2013374         alive (70420           breeding females) and 0     dead\n",
      "month 19 : 4020358         alive (143356          breeding females) and 0     dead\n",
      "month 20 : 8400174         alive (312844          breeding females) and 0     dead\n",
      "month 21 : 17647622        alive (660532          breeding females) and 0     dead\n",
      "month 22 : 35767990        alive (1294312         breeding females) and 0     dead\n",
      "month 23 : 71951214        alive (2584516         breeding females) and 0     dead\n",
      "month 24 : 147552782       alive (5400112         breeding females) and 0     dead\n",
      "month 25 : 306381382       alive (11344900        breeding females) and 0     dead\n",
      "month 26 : 628293294       alive (22993708        breeding females) and 0     dead\n",
      "month 27 : 1275854222      alive (46254352        breeding females) and 0     dead\n"
     ]
    },
    {
     "data": {
      "text/plain": [
       "(27, 0)"
      ]
     },
     "execution_count": 46,
     "metadata": {},
     "output_type": "execute_result"
    }
   ],
   "source": [
    "run_simulation(2,4,1000000000)"
   ]
  },
  {
   "cell_type": "code",
   "execution_count": 47,
   "metadata": {},
   "outputs": [
    {
     "name": "stdout",
     "output_type": "stream",
     "text": [
      "month 1  : 6               alive (0               breeding females) and 0     dead\n",
      "month 2  : 6               alive (0               breeding females) and 0     dead\n",
      "month 3  : 62              alive (4               breeding females) and 0     dead\n",
      "month 4  : 118             alive (4               breeding females) and 0     dead\n",
      "month 5  : 174             alive (4               breeding females) and 0     dead\n",
      "month 6  : 230             alive (4               breeding females) and 0     dead\n",
      "month 7  : 790             alive (40              breeding females) and 0     dead\n",
      "month 8  : 1854            alive (76              breeding females) and 0     dead\n",
      "month 9  : 3422            alive (112             breeding females) and 0     dead\n",
      "month 10 : 5494            alive (148             breeding females) and 0     dead\n",
      "month 11 : 12606           alive (508             breeding females) and 0     dead\n",
      "month 12 : 29294           alive (1192            breeding females) and 0     dead\n",
      "month 13 : 60094           alive (2200            breeding females) and 0     dead\n",
      "month 14 : 109542          alive (3532            breeding females) and 0     dead\n",
      "month 15 : 222998          alive (8104            breeding females) and 0     dead\n",
      "month 16 : 486646          alive (18832           breeding females) and 0     dead\n",
      "month 17 : 1027494         alive (38632           breeding females) and 0     dead\n",
      "month 18 : 2013374         alive (70420           breeding females) and 0     dead\n",
      "month 19 : 4020358         alive (143356          breeding females) and 0     dead\n",
      "month 20 : 8400174         alive (312844          breeding females) and 0     dead\n",
      "month 21 : 17647622        alive (660532          breeding females) and 0     dead\n",
      "month 22 : 35767990        alive (1294312         breeding females) and 0     dead\n",
      "month 23 : 71951214        alive (2584516         breeding females) and 0     dead\n",
      "month 24 : 147552782       alive (5400112         breeding females) and 0     dead\n",
      "month 25 : 306381382       alive (11344900        breeding females) and 0     dead\n",
      "month 26 : 628293294       alive (22993708        breeding females) and 0     dead\n",
      "month 27 : 1275854222      alive (46254352        breeding females) and 0     dead\n",
      "month 28 : 2603829262      alive (94855360        breeding females) and 0     dead\n",
      "month 29 : 5361261702      alive (196959460       breeding females) and 0     dead\n",
      "month 30 : 11015901350     alive (403902832       breeding females) and 0     dead\n",
      "month 31 : 22498589350     alive (820192000       breeding females) and 0     dead\n"
     ]
    },
    {
     "data": {
      "text/plain": [
       "(31, 0)"
      ]
     },
     "execution_count": 47,
     "metadata": {},
     "output_type": "execute_result"
    }
   ],
   "source": [
    "run_simulation(2,4,15000000000)"
   ]
  }
 ],
 "metadata": {
  "kernelspec": {
   "display_name": "Python 3",
   "language": "python",
   "name": "python3"
  },
  "language_info": {
   "codemirror_mode": {
    "name": "ipython",
    "version": 3
   },
   "file_extension": ".py",
   "mimetype": "text/x-python",
   "name": "python",
   "nbconvert_exporter": "python",
   "pygments_lexer": "ipython3",
   "version": "3.6.1"
  }
 },
 "nbformat": 4,
 "nbformat_minor": 2
}
