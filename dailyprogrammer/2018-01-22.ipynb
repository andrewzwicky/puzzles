{
 "cells": [
  {
   "cell_type": "code",
   "execution_count": 20,
   "metadata": {
    "collapsed": true
   },
   "outputs": [],
   "source": [
    "DEATH_AGE = 96\n",
    "BREEDING_AGE = 4\n",
    "INITIAL_AGE = 2\n",
    "MALES_PER_LITTER = 5\n",
    "FEMALES_PER_LITTER = 9"
   ]
  },
  {
   "cell_type": "code",
   "execution_count": 21,
   "metadata": {
    "collapsed": true
   },
   "outputs": [],
   "source": [
    "def init_population(male, female):\n",
    "    males = [0] * (DEATH_AGE + 1)\n",
    "    females = [0] * (DEATH_AGE + 1)\n",
    "    males[INITIAL_AGE] = male\n",
    "    females[INITIAL_AGE] = female\n",
    "    return males, females"
   ]
  },
  {
   "cell_type": "code",
   "execution_count": 22,
   "metadata": {
    "collapsed": true
   },
   "outputs": [],
   "source": [
    "def breed_population(males, females):\n",
    "    breeding_females = sum(females[BREEDING_AGE:])\n",
    "    new_males = breeding_females*MALES_PER_LITTER\n",
    "    new_females = breeding_females*FEMALES_PER_LITTER\n",
    "    return new_males, new_females, breeding_females"
   ]
  },
  {
   "cell_type": "code",
   "execution_count": 23,
   "metadata": {
    "collapsed": true
   },
   "outputs": [],
   "source": [
    "def age_population(males, females, new_males, new_females):\n",
    "    dead_rabbits = males[-1] + females[-1]\n",
    "    return [new_males] + males[:-1], [new_females] + females[:-1], dead_rabbits"
   ]
  },
  {
   "cell_type": "code",
   "execution_count": 24,
   "metadata": {
    "collapsed": true
   },
   "outputs": [],
   "source": [
    "def run_simulation(male, female, target_pop):\n",
    "    males, females = init_population(male, female)\n",
    "    total_population = sum(males) + sum(females)\n",
    "    total_dead_rabbits = 0\n",
    "    total_months = 0\n",
    "    while total_population < target_pop:\n",
    "        new_males, new_females, breeding_females = breed_population(males, females)\n",
    "        males, females, dead_rabbits = age_population(males, females, new_males, new_females)\n",
    "        total_dead_rabbits += dead_rabbits\n",
    "        total_population = sum(males) + sum(females)\n",
    "        total_months += 1\n",
    "        print(f'month {total_months:<3}: {total_population:<15} alive ({breeding_females:<15} breeding females) and {total_dead_rabbits:<5} dead')\n",
    "    return total_months, total_dead_rabbits"
   ]
  },
  {
   "cell_type": "code",
   "execution_count": 25,
   "metadata": {},
   "outputs": [
    {
     "name": "stdout",
     "output_type": "stream",
     "text": [
      "month 1  : 6               alive (0               breeding females) and 0     dead\n",
      "month 2  : 6               alive (0               breeding females) and 0     dead\n",
      "month 3  : 62              alive (4               breeding females) and 0     dead\n",
      "month 4  : 118             alive (4               breeding females) and 0     dead\n",
      "month 5  : 174             alive (4               breeding females) and 0     dead\n",
      "month 6  : 230             alive (4               breeding females) and 0     dead\n",
      "month 7  : 286             alive (4               breeding females) and 0     dead\n",
      "month 8  : 846             alive (40              breeding females) and 0     dead\n",
      "month 9  : 1910            alive (76              breeding females) and 0     dead\n",
      "month 10 : 3478            alive (112             breeding females) and 0     dead\n",
      "month 11 : 5550            alive (148             breeding females) and 0     dead\n",
      "month 12 : 8126            alive (184             breeding females) and 0     dead\n",
      "month 13 : 15742           alive (544             breeding females) and 0     dead\n",
      "month 14 : 32934           alive (1228            breeding females) and 0     dead\n",
      "month 15 : 64238           alive (2236            breeding females) and 0     dead\n",
      "month 16 : 114190          alive (3568            breeding females) and 0     dead\n",
      "month 17 : 187326          alive (5224            breeding females) and 0     dead\n",
      "month 18 : 329006          alive (10120           breeding females) and 0     dead\n",
      "month 19 : 625414          alive (21172           breeding females) and 0     dead\n",
      "month 20 : 1203558         alive (41296           breeding females) and 0     dead\n",
      "month 21 : 2231270         alive (73408           breeding females) and 0     dead\n",
      "month 22 : 3917206         alive (120424          breeding females) and 0     dead\n",
      "month 23 : 6878262         alive (211504          breeding females) and 0     dead\n",
      "month 24 : 12506990        alive (402052          breeding females) and 0     dead\n",
      "month 25 : 23339014        alive (773716          breeding females) and 0     dead\n",
      "month 26 : 43420446        alive (1434388         breeding females) and 0     dead\n",
      "month 27 : 78675302        alive (2518204         breeding females) and 0     dead\n",
      "month 28 : 140579662       alive (4421740         breeding females) and 0     dead\n",
      "month 29 : 253142574       alive (8040208         breeding females) and 0     dead\n",
      "month 30 : 463193702       alive (15003652        breeding females) and 0     dead\n",
      "month 31 : 853977718       alive (27913144        breeding females) and 0     dead\n",
      "month 32 : 1562055438      alive (50576980        breeding females) and 0     dead\n"
     ]
    },
    {
     "data": {
      "text/plain": [
       "(32, 0)"
      ]
     },
     "execution_count": 25,
     "metadata": {},
     "output_type": "execute_result"
    }
   ],
   "source": [
    "run_simulation(2,4,1000000000)"
   ]
  },
  {
   "cell_type": "code",
   "execution_count": 26,
   "metadata": {},
   "outputs": [
    {
     "name": "stdout",
     "output_type": "stream",
     "text": [
      "month 1  : 6               alive (0               breeding females) and 0     dead\n",
      "month 2  : 6               alive (0               breeding females) and 0     dead\n",
      "month 3  : 62              alive (4               breeding females) and 0     dead\n",
      "month 4  : 118             alive (4               breeding females) and 0     dead\n",
      "month 5  : 174             alive (4               breeding females) and 0     dead\n",
      "month 6  : 230             alive (4               breeding females) and 0     dead\n",
      "month 7  : 286             alive (4               breeding females) and 0     dead\n",
      "month 8  : 846             alive (40              breeding females) and 0     dead\n",
      "month 9  : 1910            alive (76              breeding females) and 0     dead\n",
      "month 10 : 3478            alive (112             breeding females) and 0     dead\n",
      "month 11 : 5550            alive (148             breeding females) and 0     dead\n",
      "month 12 : 8126            alive (184             breeding females) and 0     dead\n",
      "month 13 : 15742           alive (544             breeding females) and 0     dead\n",
      "month 14 : 32934           alive (1228            breeding females) and 0     dead\n",
      "month 15 : 64238           alive (2236            breeding females) and 0     dead\n",
      "month 16 : 114190          alive (3568            breeding females) and 0     dead\n",
      "month 17 : 187326          alive (5224            breeding females) and 0     dead\n",
      "month 18 : 329006          alive (10120           breeding females) and 0     dead\n",
      "month 19 : 625414          alive (21172           breeding females) and 0     dead\n",
      "month 20 : 1203558         alive (41296           breeding females) and 0     dead\n",
      "month 21 : 2231270         alive (73408           breeding females) and 0     dead\n",
      "month 22 : 3917206         alive (120424          breeding females) and 0     dead\n",
      "month 23 : 6878262         alive (211504          breeding females) and 0     dead\n",
      "month 24 : 12506990        alive (402052          breeding females) and 0     dead\n",
      "month 25 : 23339014        alive (773716          breeding females) and 0     dead\n",
      "month 26 : 43420446        alive (1434388         breeding females) and 0     dead\n",
      "month 27 : 78675302        alive (2518204         breeding females) and 0     dead\n",
      "month 28 : 140579662       alive (4421740         breeding females) and 0     dead\n",
      "month 29 : 253142574       alive (8040208         breeding females) and 0     dead\n",
      "month 30 : 463193702       alive (15003652        breeding females) and 0     dead\n",
      "month 31 : 853977718       alive (27913144        breeding females) and 0     dead\n",
      "month 32 : 1562055438      alive (50576980        breeding females) and 0     dead\n",
      "month 33 : 2827272398      alive (90372640        breeding females) and 0     dead\n",
      "month 34 : 5105555566      alive (162734512       breeding females) and 0     dead\n",
      "month 35 : 9274298886      alive (297767380       breeding females) and 0     dead\n",
      "month 36 : 16960098350     alive (548985676       breeding females) and 0     dead\n"
     ]
    },
    {
     "data": {
      "text/plain": [
       "(36, 0)"
      ]
     },
     "execution_count": 26,
     "metadata": {},
     "output_type": "execute_result"
    }
   ],
   "source": [
    "run_simulation(2,4,15000000000)"
   ]
  },
  {
   "cell_type": "code",
   "execution_count": null,
   "metadata": {
    "collapsed": true
   },
   "outputs": [],
   "source": []
  }
 ],
 "metadata": {
  "kernelspec": {
   "display_name": "Python 3",
   "language": "python",
   "name": "python3"
  },
  "language_info": {
   "codemirror_mode": {
    "name": "ipython",
    "version": 3
   },
   "file_extension": ".py",
   "mimetype": "text/x-python",
   "name": "python",
   "nbconvert_exporter": "python",
   "pygments_lexer": "ipython3",
   "version": "3.6.2"
  }
 },
 "nbformat": 4,
 "nbformat_minor": 2
}
