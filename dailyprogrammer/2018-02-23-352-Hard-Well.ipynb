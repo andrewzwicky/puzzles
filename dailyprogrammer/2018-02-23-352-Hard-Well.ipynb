{
 "cells": [
  {
   "cell_type": "code",
   "execution_count": 1,
   "metadata": {},
   "outputs": [],
   "source": [
    "TEST_INPUT_1 = \"\"\"3 3\n",
    "1 9 6\n",
    "2 8 5\n",
    "3 7 4\n",
    "4\"\"\""
   ]
  },
  {
   "cell_type": "code",
   "execution_count": 2,
   "metadata": {},
   "outputs": [],
   "source": [
    "TEST_INPUT_2 =\"\"\"7 7\n",
    "38 33 11 48 19 45 22\n",
    "47 30 24 15 46 28 3\n",
    "14 13 2 34 8 21 17\n",
    "10 9 5 16 27 36 39\n",
    "18 32 20 1 35 49 12\n",
    "43 29 4 41 26 31 37\n",
    "25 6 23 44 7 42 40\n",
    "35\"\"\""
   ]
  },
  {
   "cell_type": "code",
   "execution_count": 3,
   "metadata": {},
   "outputs": [],
   "source": [
    "TEST_INPUT_3 = \"\"\"7 7\n",
    "15 16 46 1 38 43 44\n",
    "25 10 7 6 34 42 14\n",
    "8 19 9 21 13 23 22\n",
    "32 11 29 36 3 5 47\n",
    "31 33 45 24 12 18 28\n",
    "40 41 20 26 39 48 2\n",
    "49 35 27 4 37 30 17\n",
    "26\"\"\""
   ]
  },
  {
   "cell_type": "code",
   "execution_count": 4,
   "metadata": {},
   "outputs": [],
   "source": [
    "import numpy as np\n",
    "from IPython.display import clear_output\n",
    "import sys\n",
    "from time import sleep"
   ]
  },
  {
   "cell_type": "code",
   "execution_count": 5,
   "metadata": {},
   "outputs": [],
   "source": [
    "START_FILL = 1\n",
    "FILL_PER_TIME = 1 # Liters\n",
    "FILL_DEPTH_OFFSET = 1"
   ]
  },
  {
   "cell_type": "code",
   "execution_count": 6,
   "metadata": {},
   "outputs": [],
   "source": [
    "OFFSETS = np.array([np.array([0, 1]), \n",
    "                    np.array([0, -1]),\n",
    "                    np.array([-1, 0]),\n",
    "                    np.array([1, 0])])"
   ]
  },
  {
   "cell_type": "code",
   "execution_count": 7,
   "metadata": {},
   "outputs": [],
   "source": [
    "def parse_input(input_string):\n",
    "    _, *data, target = input_string.split(\"\\n\")\n",
    "    target = int(target)\n",
    "    grid = np.array([list(map(int, line.split(' '))) for line in data], dtype=int)\n",
    "    multiplier = np.multiply(*grid.shape) * 10\n",
    "    # grid *= multiplier\n",
    "    return grid, target, FILL_PER_TIME * multiplier"
   ]
  },
  {
   "cell_type": "code",
   "execution_count": 8,
   "metadata": {},
   "outputs": [],
   "source": [
    "def get_target_location(grid, target):\n",
    "    return tuple(np.argwhere(grid == target)[0])"
   ]
  },
  {
   "cell_type": "code",
   "execution_count": 9,
   "metadata": {},
   "outputs": [],
   "source": [
    "def clear_then_print(item):\n",
    "    clear_output(wait=True)\n",
    "    print(item)\n",
    "    sys.stdout.flush()"
   ]
  },
  {
   "cell_type": "code",
   "execution_count": 10,
   "metadata": {},
   "outputs": [],
   "source": [
    "def recurse_find_low_point(grid, current_index, current_low_value=None, traversed_locations=tuple()):\n",
    "    if not current_low_value:\n",
    "        current_low_value = grid[current_index]\n",
    "    \n",
    "    for (x,y) in map(tuple, OFFSETS + current_index):\n",
    "        if x >= 0 and y >= 0 and x < grid.shape[0] and y < grid.shape[1] and (x,y) not in traversed_locations:\n",
    "            potential_location = (x,y)\n",
    "            traversed_locations = traversed_locations + (potential_location,)\n",
    "            potential_fill_value = grid[potential_location]\n",
    "\n",
    "            if potential_fill_value < current_low_value:\n",
    "                current_index = recurse_find_low_point(grid,\n",
    "                                                       potential_location,\n",
    "                                                       potential_fill_value,\n",
    "                                                       traversed_locations)\n",
    "\n",
    "    return current_index"
   ]
  },
  {
   "cell_type": "code",
   "execution_count": 11,
   "metadata": {},
   "outputs": [],
   "source": [
    "def recurse_find_low_points(grid,\n",
    "                            current_index,\n",
    "                            current_low_value=None,\n",
    "                            traversed_locations=tuple(),\n",
    "                            low_indices=set()):\n",
    "    #print(grid)\n",
    "    #print(current_index)\n",
    "    #print(current_low_value)\n",
    "    #print(traversed_locations)\n",
    "    #print(low_indices)\n",
    "    #print()\n",
    "    if not current_low_value:\n",
    "        current_low_value = grid[current_index]\n",
    "        low_indices = {current_index}\n",
    "    \n",
    "    for (x,y) in map(tuple, OFFSETS + current_index):\n",
    "        if x >= 0 and y >= 0 and x < grid.shape[0] and y < grid.shape[1] and (x,y) not in traversed_locations:\n",
    "            potential_location = tuple([x,y])\n",
    "            traversed_locations = traversed_locations + (potential_location,)\n",
    "            potential_fill_value = grid[potential_location]\n",
    "\n",
    "            if potential_fill_value < current_low_value:\n",
    "                low_indices = {potential_location}\n",
    "                current_low_value, low_indices = recurse_find_low_points(grid,\n",
    "                                                     potential_location,\n",
    "                                                     potential_fill_value,\n",
    "                                                     traversed_locations,\n",
    "                                                     low_indices)\n",
    "                \n",
    "            elif potential_fill_value == current_low_value:\n",
    "                low_indices |= {potential_location}\n",
    "                current_low_value, low_indices = recurse_find_low_points(grid,\n",
    "                                                     potential_location,\n",
    "                                                     potential_fill_value,\n",
    "                                                     traversed_locations,\n",
    "                                                     low_indices)\n",
    "\n",
    "    return current_low_value, low_indices"
   ]
  },
  {
   "cell_type": "code",
   "execution_count": 12,
   "metadata": {},
   "outputs": [],
   "source": [
    "def find_lowest_neighbor(grid, low_indices):\n",
    "    neighbor_indices = set()\n",
    "    for index in low_indices:\n",
    "        for offset in OFFSETS:\n",
    "            neighbor = tuple(index + offset)\n",
    "            if neighbor not in low_indices:\n",
    "                x, y = neighbor\n",
    "                if x >= 0 and y >= 0 and x < grid.shape[0] and y < grid.shape[1]:\n",
    "                    neighbor_indices.add((x,y))\n",
    "            \n",
    "    return min(grid[index] for index in neighbor_indices)"
   ]
  },
  {
   "cell_type": "code",
   "execution_count": 13,
   "metadata": {},
   "outputs": [],
   "source": [
    "def fill(input_string):\n",
    "    grid, target, fill_per_step = parse_input(input_string)\n",
    "    fill_location =  get_target_location(grid, START_FILL*fill_per_step)\n",
    "    target_index = get_target_location(grid, target*fill_per_step)\n",
    "    initial_target_depth = grid[target_index]\n",
    "    square_to_fill = recurse_find_low_point(grid, fill_location)\n",
    "    finished = False\n",
    "    iterations = 0\n",
    "    while not finished:\n",
    "        iterations += 1\n",
    "        for _ in range(fill_per_step):\n",
    "            if grid[target_index] >= initial_target_depth + (FILL_DEPTH_OFFSET * fill_per_step):\n",
    "                finished = True\n",
    "                break\n",
    "            grid[square_to_fill] += 1\n",
    "            square_to_fill = recurse_find_low_point(grid, fill_location)\n",
    "        clear_then_print(grid/fill_per_step)\n",
    "        \n",
    "    print(iterations)"
   ]
  },
  {
   "cell_type": "code",
   "execution_count": 14,
   "metadata": {},
   "outputs": [],
   "source": [
    "def fill_many(input_string):\n",
    "    grid, target, _ = parse_input(input_string)\n",
    "    fill_location = get_target_location(grid, START_FILL)\n",
    "    target_index = get_target_location(grid, target)\n",
    "    initial_target_depth = grid[target_index]\n",
    "    finished = False\n",
    "    iterations = 0\n",
    "    total_fill=0\n",
    "    while not finished:\n",
    "        iterations += 1\n",
    "        low_value, low_indices = recurse_find_low_points(grid, fill_location)\n",
    "        #clear_then_print([low_value, low_indices])\n",
    "        lowest_neighbor = find_lowest_neighbor(grid, low_indices)\n",
    "        #print(lowest_neighbor)\n",
    "        fill_amount_per_square = lowest_neighbor - low_value\n",
    "        #print(fill_amount_per_square)\n",
    "        #print(grid)\n",
    "        for square in low_indices:\n",
    "            grid[square] += fill_amount_per_square\n",
    "            total_fill += fill_amount_per_square\n",
    "        if grid[target_index] >= initial_target_depth + FILL_DEPTH_OFFSET:\n",
    "            finished = True\n",
    "            break\n",
    "            \n",
    "        clear_then_print(grid)\n",
    "        sleep(0.25)\n",
    "    \n",
    "    print(total_fill)\n",
    "    #print(iterations)"
   ]
  },
  {
   "cell_type": "code",
   "execution_count": 15,
   "metadata": {},
   "outputs": [],
   "source": [
    "float_formatter = lambda x: \"{:>5.2f}\".format(x)\n",
    "np.set_printoptions(formatter={'float_kind':float_formatter})"
   ]
  },
  {
   "cell_type": "code",
   "execution_count": 17,
   "metadata": {},
   "outputs": [
    {
     "name": "stdout",
     "output_type": "stream",
     "text": [
      "[[7 9 6]\n",
      " [7 8 5]\n",
      " [7 7 4]]\n",
      "16\n"
     ]
    }
   ],
   "source": [
    "fill_many(TEST_INPUT_1)"
   ]
  },
  {
   "cell_type": "code",
   "execution_count": 18,
   "metadata": {},
   "outputs": [
    {
     "name": "stdout",
     "output_type": "stream",
     "text": [
      "[[38 35 35 48 19 45 35]\n",
      " [47 35 35 35 46 35 35]\n",
      " [35 35 35 35 35 35 35]\n",
      " [35 35 35 35 35 36 39]\n",
      " [35 35 35 35 35 49 12]\n",
      " [43 35 35 41 35 35 37]\n",
      " [35 35 35 44 35 42 40]]\n",
      "589\n"
     ]
    }
   ],
   "source": [
    "fill_many(TEST_INPUT_2)"
   ]
  },
  {
   "cell_type": "code",
   "execution_count": 19,
   "metadata": {},
   "outputs": [
    {
     "name": "stdout",
     "output_type": "stream",
     "text": [
      "[[26 26 46 26 38 43 44]\n",
      " [26 26 26 26 34 42 26]\n",
      " [26 26 26 26 26 26 26]\n",
      " [32 26 29 36 26 26 47]\n",
      " [31 33 45 26 26 26 28]\n",
      " [40 41 26 26 39 48  2]\n",
      " [49 35 27 26 37 30 17]]\n",
      "316\n"
     ]
    }
   ],
   "source": [
    "fill_many(TEST_INPUT_3)"
   ]
  },
  {
   "cell_type": "code",
   "execution_count": null,
   "metadata": {},
   "outputs": [],
   "source": []
  }
 ],
 "metadata": {
  "kernelspec": {
   "display_name": "Python 3",
   "language": "python",
   "name": "python3"
  },
  "language_info": {
   "codemirror_mode": {
    "name": "ipython",
    "version": 3
   },
   "file_extension": ".py",
   "mimetype": "text/x-python",
   "name": "python",
   "nbconvert_exporter": "python",
   "pygments_lexer": "ipython3",
   "version": "3.6.1"
  }
 },
 "nbformat": 4,
 "nbformat_minor": 2
}
