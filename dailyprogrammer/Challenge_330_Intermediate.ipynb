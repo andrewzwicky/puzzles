{
 "cells": [
  {
   "cell_type": "code",
   "execution_count": 3,
   "metadata": {},
   "outputs": [
    {
     "data": {
      "text/plain": [
       "22916"
      ]
     },
     "execution_count": 3,
     "metadata": {},
     "output_type": "execute_result"
    }
   ],
   "source": [
    "def translate(n):\n",
    "    result = ''\n",
    "    basic_nums = { \n",
    "        1:'one',\n",
    "        2:'two',\n",
    "        3:'three',\n",
    "        4:'four',\n",
    "        5:'five',\n",
    "        6:'six',\n",
    "        7:'seven',\n",
    "        8:'eight',\n",
    "        9:'nine',\n",
    "        10:'ten',\n",
    "        11:'eleven',\n",
    "        12:'twelve',\n",
    "        13:'thirteen',\n",
    "        14:'fourteen',\n",
    "        15:'fifteen',\n",
    "        16:'sixteen',\n",
    "        17:'seventeen',\n",
    "        18:'eighteen',\n",
    "        19:'nineteen',\n",
    "        20:'twenty',\n",
    "        30:'thirty',\n",
    "        40:'forty',\n",
    "        50:'fifty',\n",
    "        60:'sixty',\n",
    "        70:'seventy',\n",
    "        80:'eighty',\n",
    "        90:'ninety',\n",
    "    }\n",
    "    \n",
    "    try:\n",
    "        result =  basic_nums[n]\n",
    "    except KeyError:        \n",
    "        thousands = n // 1000\n",
    "        n %= 1000\n",
    "        if thousands > 0:\n",
    "            result += basic_nums[thousands]\n",
    "            result += ' thousand'\n",
    "            if n == 0:\n",
    "                return result\n",
    "        \n",
    "        hundreds = n // 100\n",
    "        n %= 100\n",
    "        if hundreds > 0:\n",
    "            result += basic_nums[hundreds]\n",
    "            result += ' hundred'\n",
    "            if n == 0:\n",
    "                return result\n",
    "            else:\n",
    "                result += ' and'\n",
    "        \n",
    "        try:\n",
    "            result += basic_nums[n]\n",
    "        except KeyError:\n",
    "            tens = n // 10\n",
    "            leftover = n % 10\n",
    "            result += basic_nums[tens*10]\n",
    "            result += basic_nums[leftover]\n",
    "    \n",
    "    return result\n",
    "    \n",
    "char_count = 0\n",
    "\n",
    "for num in range(1,1001):\n",
    "    char_count += len(translate(num))\n",
    "\n",
    "char_count"
   ]
  },
  {
   "cell_type": "code",
   "execution_count": 5,
   "metadata": {},
   "outputs": [
    {
     "ename": "KeyError",
     "evalue": "4000",
     "output_type": "error",
     "traceback": [
      "\u001b[1;31m---------------------------------------------------------------------------\u001b[0m",
      "\u001b[1;31mKeyError\u001b[0m                                  Traceback (most recent call last)",
      "\u001b[1;32m<ipython-input-3-ef6d91f725a0>\u001b[0m in \u001b[0;36mtranslate\u001b[1;34m(n)\u001b[0m\n\u001b[0;32m     33\u001b[0m     \u001b[1;32mtry\u001b[0m\u001b[1;33m:\u001b[0m\u001b[1;33m\u001b[0m\u001b[0m\n\u001b[1;32m---> 34\u001b[1;33m         \u001b[0mresult\u001b[0m \u001b[1;33m=\u001b[0m  \u001b[0mbasic_nums\u001b[0m\u001b[1;33m[\u001b[0m\u001b[0mn\u001b[0m\u001b[1;33m]\u001b[0m\u001b[1;33m\u001b[0m\u001b[0m\n\u001b[0m\u001b[0;32m     35\u001b[0m     \u001b[1;32mexcept\u001b[0m \u001b[0mKeyError\u001b[0m\u001b[1;33m:\u001b[0m\u001b[1;33m\u001b[0m\u001b[0m\n",
      "\u001b[1;31mKeyError\u001b[0m: 4000312",
      "\nDuring handling of the above exception, another exception occurred:\n",
      "\u001b[1;31mKeyError\u001b[0m                                  Traceback (most recent call last)",
      "\u001b[1;32m<ipython-input-5-a000923d8928>\u001b[0m in \u001b[0;36m<module>\u001b[1;34m()\u001b[0m\n\u001b[1;32m----> 1\u001b[1;33m \u001b[0mtranslate\u001b[0m\u001b[1;33m(\u001b[0m\u001b[1;36m4000312\u001b[0m\u001b[1;33m)\u001b[0m\u001b[1;33m\u001b[0m\u001b[0m\n\u001b[0m",
      "\u001b[1;32m<ipython-input-3-ef6d91f725a0>\u001b[0m in \u001b[0;36mtranslate\u001b[1;34m(n)\u001b[0m\n\u001b[0;32m     37\u001b[0m         \u001b[0mn\u001b[0m \u001b[1;33m%=\u001b[0m \u001b[1;36m1000\u001b[0m\u001b[1;33m\u001b[0m\u001b[0m\n\u001b[0;32m     38\u001b[0m         \u001b[1;32mif\u001b[0m \u001b[0mthousands\u001b[0m \u001b[1;33m>\u001b[0m \u001b[1;36m0\u001b[0m\u001b[1;33m:\u001b[0m\u001b[1;33m\u001b[0m\u001b[0m\n\u001b[1;32m---> 39\u001b[1;33m             \u001b[0mresult\u001b[0m \u001b[1;33m+=\u001b[0m \u001b[0mbasic_nums\u001b[0m\u001b[1;33m[\u001b[0m\u001b[0mthousands\u001b[0m\u001b[1;33m]\u001b[0m\u001b[1;33m\u001b[0m\u001b[0m\n\u001b[0m\u001b[0;32m     40\u001b[0m             \u001b[0mresult\u001b[0m \u001b[1;33m+=\u001b[0m \u001b[1;34m' thousand'\u001b[0m\u001b[1;33m\u001b[0m\u001b[0m\n\u001b[0;32m     41\u001b[0m             \u001b[1;32mif\u001b[0m \u001b[0mn\u001b[0m \u001b[1;33m==\u001b[0m \u001b[1;36m0\u001b[0m\u001b[1;33m:\u001b[0m\u001b[1;33m\u001b[0m\u001b[0m\n",
      "\u001b[1;31mKeyError\u001b[0m: 4000"
     ]
    }
   ],
   "source": [
    "translate(4000312)"
   ]
  },
  {
   "cell_type": "code",
   "execution_count": null,
   "metadata": {
    "collapsed": true
   },
   "outputs": [],
   "source": []
  }
 ],
 "metadata": {
  "kernelspec": {
   "display_name": "Python 3",
   "language": "python",
   "name": "python3"
  },
  "language_info": {
   "codemirror_mode": {
    "name": "ipython",
    "version": 3
   },
   "file_extension": ".py",
   "mimetype": "text/x-python",
   "name": "python",
   "nbconvert_exporter": "python",
   "pygments_lexer": "ipython3",
   "version": "3.6.1"
  }
 },
 "nbformat": 4,
 "nbformat_minor": 2
}
