{
 "cells": [
  {
   "cell_type": "markdown",
   "metadata": {},
   "source": [
    "# Description\n",
    "\n",
    "This challenge is about finding minimums/maximums.  The challenge consists of two similar word problems where you will be asked to maximize/minimize a target value.\n",
    "\n",
    "To make this more of a programming challenge rather than using programming as a calculator, I encourage you to try to find a generic minimize/maximize function rather than just calculating the answer directly.\n",
    "\n",
    "# Challenge\n",
    "\n",
    "1. A piece of wire 100 cm in length is bent into the shape of a sector of a circle.  Find the angle of the sector that maximizes the area A of the sector.\n",
    "\n",
    "![sector_image](https://i.imgur.com/M7J2Ilm.png)\n",
    "\n",
    "2. A and B are towns 20km and 30km from a straight stretch of river 100km long.  Water is pumped from a point P on the river by pipelines to both towns.  Where should P be located to minimize the total length of pipe AP + PB?\n",
    "\n",
    "![river_image](https://i.imgur.com/efzP0Ad.png)\n",
    "\n",
    "# Challenge Outputs\n",
    "\n",
    "The accuracy of these answers will depending how much precision you use when calculating them.\n",
    "\n",
    "1. ~40\n",
    "2. ~90\n",
    "                \n",
    "# Credit\n",
    "\n",
    "This challenge was adapted from [The First 25 Years of the Superbrain](http://shop.ukmt.org.uk/ukmt-books/the-first-25-years-of-the-superbrain). If you have an idea for a challenge please share it on /r/dailyprogrammer_ideas and there's a good chance we'll use it. \n",
    "\n",
    "# Reference Reading (Hints)\n",
    "\n",
    "    https://en.wikipedia.org/wiki/Golden-section_search\n",
    "    \n",
    "    "
   ]
  },
  {
   "cell_type": "code",
   "execution_count": null,
   "metadata": {
    "collapsed": true
   },
   "outputs": [],
   "source": []
  }
 ],
 "metadata": {
  "kernelspec": {
   "display_name": "Python 3",
   "language": "python",
   "name": "python3"
  },
  "language_info": {
   "codemirror_mode": {
    "name": "ipython",
    "version": 3
   },
   "file_extension": ".py",
   "mimetype": "text/x-python",
   "name": "python",
   "nbconvert_exporter": "python",
   "pygments_lexer": "ipython3",
   "version": "3.6.2"
  }
 },
 "nbformat": 4,
 "nbformat_minor": 2
}
