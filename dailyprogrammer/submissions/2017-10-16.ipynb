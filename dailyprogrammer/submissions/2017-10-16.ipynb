{
 "cells": [
  {
   "cell_type": "markdown",
   "metadata": {},
   "source": [
    "\n",
    "# Description\n",
    "\n",
    "The Rubik's Cube is a pleasant and challenging pastime. In this exercise we don't want to solve the cube. We want to (mindlessly) execute the same sequence over and over again. However, we would like to know how long it will take us to go back to the original starting position.\n",
    "\n",
    "Write a program which, given a series of moves, outputs the number of times that sequence must be executed to reach the original state again.\n",
    "\n",
    "# Input Description \n",
    "\n",
    "A space separated series of movies in the official [WCA Notation](https://www.worldcubeassociation.org/regulations/#article-12-notation) will be given.\n",
    "\n",
    "Summary (from [Challenge #157](https://www.reddit.com/r/dailyprogrammer/comments/22k8hu/492014_challenge_157_intermediate_puzzle_cube/?st=j8kfmdyb&sh=9f0157fe))\n",
    "* There are 6 faces. U (up, the top face). D (down, the bottom face). L (left). R (right). F (front). B (back).\n",
    "* Each face is turned like you were looking at it from the front.\n",
    "* A notation such as X means you turn the X face clockwise 90'. So R L means turn the right face clockwise 90' (from its perspective), then the left face clockwise 90' (from its perspective).\n",
    "* A notation such as X' (pronounced prime) means you turn the X face anticlockwise 90'. So R U' means turn the right face clockwise 90', then the top face anticlockwise 90'.\n",
    "* notation such as X2 means you turn the X face 180'.\n",
    "\n",
    "Example:\n",
    "\n",
    "    R F2 L' U D B2\n",
    "\n",
    "# Output Description \n",
    "\n",
    "The output should be the number of times you have to execute the input sequence to arrive at the original state.\n",
    "\n",
    "# Challenge Input\n",
    "\n",
    "    R\n",
    "\n",
    "    R F2 L' U D B2\n",
    "\n",
    "    R' F2 B F B F2 L' U F2 D R2 L R' B L B2 R U\n",
    "\n",
    "# Challenge Output\n",
    "\n",
    "\t4\n",
    "\n",
    "    18\n",
    "\n",
    "    240\n",
    "\n",
    "                \n",
    "# Credit\n",
    "\n",
    "This challenge was suggested by user /u/snow_in_march, many thanks! If you have an idea for a challenge please share it on /r/dailyprogrammer_ideas and there's a good chance we'll use it. "
   ]
  },
  {
   "cell_type": "code",
   "execution_count": 60,
   "metadata": {
    "collapsed": true
   },
   "outputs": [],
   "source": [
    "import numpy as np\n",
    "from enum import IntEnum, Enum, auto\n",
    "import re"
   ]
  },
  {
   "cell_type": "code",
   "execution_count": 61,
   "metadata": {
    "collapsed": true
   },
   "outputs": [],
   "source": [
    "class FACES(IntEnum):\n",
    "    U = 0\n",
    "    L = 1\n",
    "    F = 2\n",
    "    R = 3\n",
    "    B = 4\n",
    "    D = 5"
   ]
  },
  {
   "cell_type": "code",
   "execution_count": 62,
   "metadata": {},
   "outputs": [
    {
     "data": {
      "text/plain": [
       "array([[[   0.,    1.,    2.],\n",
       "        [  10.,   11.,   12.],\n",
       "        [  20.,   21.,   22.]],\n",
       "\n",
       "       [[ 100.,  101.,  102.],\n",
       "        [ 110.,  111.,  112.],\n",
       "        [ 120.,  121.,  122.]],\n",
       "\n",
       "       [[ 200.,  201.,  202.],\n",
       "        [ 210.,  211.,  212.],\n",
       "        [ 220.,  221.,  222.]],\n",
       "\n",
       "       [[ 300.,  301.,  302.],\n",
       "        [ 310.,  311.,  312.],\n",
       "        [ 320.,  321.,  322.]],\n",
       "\n",
       "       [[ 400.,  401.,  402.],\n",
       "        [ 410.,  411.,  412.],\n",
       "        [ 420.,  421.,  422.]],\n",
       "\n",
       "       [[ 500.,  501.,  502.],\n",
       "        [ 510.,  511.,  512.],\n",
       "        [ 520.,  521.,  522.]]])"
      ]
     },
     "execution_count": 62,
     "metadata": {},
     "output_type": "execute_result"
    }
   ],
   "source": [
    "faces = np.zeros((6,3,3))\n",
    "for i, face in enumerate(faces):\n",
    "    for j, row in enumerate(face):\n",
    "        for k, col in enumerate(row):\n",
    "            faces[i,j,k] = i*100 + j*10 + k\n",
    "faces"
   ]
  },
  {
   "cell_type": "code",
   "execution_count": 64,
   "metadata": {
    "collapsed": true
   },
   "outputs": [],
   "source": [
    "move_re = re.compile(r\"(?P<face>\\w)(?P<ccw>'?)(?P<rev>2?)\")\n",
    "\n",
    "def parse_move(string_move):\n",
    "    move_match = move_re.match(string_move)\n",
    "    move = [FACES[move_match['face']]]\n",
    "    if move_match['rev']:\n",
    "        move = move * 2\n",
    "    elif move_match['ccw']:\n",
    "        move = move * 3\n",
    "    return move"
   ]
  },
  {
   "cell_type": "code",
   "execution_count": 65,
   "metadata": {},
   "outputs": [
    {
     "name": "stdout",
     "output_type": "stream",
     "text": [
      "[<FACES.R: 3>]\n",
      "[<FACES.F: 2>, <FACES.F: 2>]\n",
      "[<FACES.L: 1>, <FACES.L: 1>, <FACES.L: 1>]\n",
      "[<FACES.U: 0>]\n",
      "[<FACES.D: 5>]\n",
      "[<FACES.B: 4>, <FACES.B: 4>]\n"
     ]
    }
   ],
   "source": [
    "for move in \"R F2 L' U D B2\".split(\" \"):\n",
    "    print(parse_move(move))"
   ]
  },
  {
   "cell_type": "code",
   "execution_count": 68,
   "metadata": {},
   "outputs": [],
   "source": [
    "def perform_move(move):\n",
    "    pass"
   ]
  },
  {
   "cell_type": "code",
   "execution_count": null,
   "metadata": {
    "collapsed": true
   },
   "outputs": [],
   "source": []
  }
 ],
 "metadata": {
  "kernelspec": {
   "display_name": "Python 3",
   "language": "python",
   "name": "python3"
  },
  "language_info": {
   "codemirror_mode": {
    "name": "ipython",
    "version": 3
   },
   "file_extension": ".py",
   "mimetype": "text/x-python",
   "name": "python",
   "nbconvert_exporter": "python",
   "pygments_lexer": "ipython3",
   "version": "3.6.1"
  }
 },
 "nbformat": 4,
 "nbformat_minor": 2
}
