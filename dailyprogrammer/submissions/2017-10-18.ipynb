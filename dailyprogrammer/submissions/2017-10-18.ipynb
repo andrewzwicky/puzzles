{
 "cells": [
  {
   "cell_type": "markdown",
   "metadata": {},
   "source": [
    "# Description\n",
    "\n",
    "The Rubik's Cube is a pleasant and challenging pastime. In this exercise however, we don't want to solve the cube. We want to (mindlessly) execute the same sequence over and over again. We would like to know how long it will take us to go back to the original starting position.\n",
    "\n",
    "Write a program which, given a series of moves, outputs the number of times that sequence must be executed to reach the original state again.\n",
    "\n",
    "# Input Description \n",
    "\n",
    "A space separated series of movies in the official [WCA Notation](https://www.worldcubeassociation.org/regulations/#article-12-notation) will be given.\n",
    "\n",
    "Summary (from [Challenge #157](https://www.reddit.com/r/dailyprogrammer/comments/22k8hu/492014_challenge_157_intermediate_puzzle_cube/?st=j8kfmdyb&sh=9f0157fe))\n",
    "* There are 6 faces. U (up, the top face). D (down, the bottom face). L (left). R (right). F (front). B (back).\n",
    "* Each face is turned like you were looking at it from the front.\n",
    "* A notation such as X means you turn the X face clockwise 90'. So R L means turn the right face clockwise 90' (from its perspective), then the left face clockwise 90' (from its perspective).\n",
    "* A notation such as X' (pronounced prime) means you turn the X face anticlockwise 90'. So R U' means turn the right face clockwise 90', then the top face anticlockwise 90'.\n",
    "* notation such as X2 means you turn the X face 180'.\n",
    "\n",
    "Example (each line is a separate challenge):\n",
    "\n",
    "    R F2 L' U D B2\n",
    "\n",
    "# Output Description \n",
    "\n",
    "The output should be the number of times you have to execute the input sequence to arrive at the original state.\n",
    "\n",
    "# Challenge Inputs\n",
    "\n",
    "    R\n",
    "    R F2 L' U D B2\n",
    "    R' F2 B F B F2 L' U F2 D R2 L R' B L B2 R U\n",
    "\n",
    "# Challenge Outputs\n",
    "\n",
    "    4\n",
    "    18\n",
    "    36\n",
    "\n",
    "                \n",
    "# Credit\n",
    "\n",
    "This challenge was suggested by user /u/snow_in_march, many thanks! If you have an idea for a challenge please share it on /r/dailyprogrammer_ideas and there's a good chance we'll use it. "
   ]
  },
  {
   "cell_type": "code",
   "execution_count": 1,
   "metadata": {
    "collapsed": true
   },
   "outputs": [],
   "source": [
    "import itertools\n",
    "import re\n",
    "from enum import IntEnum, Enum, auto\n",
    "\n",
    "import matplotlib.pyplot as plt\n",
    "import numpy as np\n",
    "import pytest\n",
    "from matplotlib import colors"
   ]
  },
  {
   "cell_type": "code",
   "execution_count": 2,
   "metadata": {
    "collapsed": true
   },
   "outputs": [],
   "source": [
    "MOVE_RE = re.compile(r\"(?P<face>\\w)(?P<ccw>'?)(?P<rev>2?)\")\n",
    "PLACEHOLDER = 99\n",
    "\n",
    "\n",
    "class FACES(IntEnum):\n",
    "    U = 0\n",
    "    L = 1\n",
    "    F = 2\n",
    "    R = 3\n",
    "    B = 4\n",
    "    D = 5\n",
    "\n",
    "\n",
    "class SIDE(Enum):\n",
    "    U = auto()\n",
    "    L = auto()\n",
    "    R = auto()\n",
    "    D = auto()\n",
    "\n",
    "\n",
    "COLOR_DICT = {0: 'yellow',\n",
    "              1: 'green',\n",
    "              2: 'orange',\n",
    "              3: 'blue',\n",
    "              4: 'red',\n",
    "              5: 'white',\n",
    "              99: 'black'}"
   ]
  },
  {
   "cell_type": "code",
   "execution_count": 3,
   "metadata": {
    "collapsed": true
   },
   "outputs": [],
   "source": [
    "def create_new_cube():\n",
    "    cube = np.zeros((6, 3, 3))\n",
    "    for i, face in enumerate(cube):\n",
    "        for j, row in enumerate(face):\n",
    "            for k, col in enumerate(row):\n",
    "                cube[i, j, k] = i * 10 + 3 * j + k\n",
    "    return cube"
   ]
  },
  {
   "cell_type": "code",
   "execution_count": 4,
   "metadata": {
    "collapsed": true
   },
   "outputs": [],
   "source": [
    "def parse_sequence(string_sequence):\n",
    "    return list(itertools.chain.from_iterable(map(parse_move, string_sequence.split(\" \"))))"
   ]
  },
  {
   "cell_type": "code",
   "execution_count": 5,
   "metadata": {
    "collapsed": true
   },
   "outputs": [],
   "source": [
    "def parse_move(string_move):\n",
    "    move_match = MOVE_RE.match(string_move)\n",
    "    move = [FACES[move_match['face']]]\n",
    "    if move_match['rev']:\n",
    "        move = move * 2\n",
    "    elif move_match['ccw']:\n",
    "        move = move * 3\n",
    "    return move"
   ]
  },
  {
   "cell_type": "code",
   "execution_count": 6,
   "metadata": {
    "collapsed": true
   },
   "outputs": [],
   "source": [
    "def get_face_side(face, side):\n",
    "    if side == SIDE.U:\n",
    "        return face[0, :]\n",
    "    if side == SIDE.L:\n",
    "        return face[:, 0]\n",
    "    if side == SIDE.R:\n",
    "        return face[:, 2]\n",
    "    if side == SIDE.D:\n",
    "        return face[2, :]"
   ]
  },
  {
   "cell_type": "code",
   "execution_count": 7,
   "metadata": {
    "collapsed": true
   },
   "outputs": [],
   "source": [
    "def perform_move(cube, face):\n",
    "    all_index = [0, 1, 2]\n",
    "\n",
    "    if face == FACES.F:\n",
    "        a = get_face_side(cube[0], SIDE.D)\n",
    "        temp = np.copy(a)\n",
    "        b = get_face_side(cube[1], SIDE.R)\n",
    "        c = get_face_side(cube[5], SIDE.U)\n",
    "        d = get_face_side(cube[3], SIDE.L)\n",
    "\n",
    "        np.put(a, all_index, np.copy(b[::-1]))\n",
    "        np.put(b, all_index, np.copy(c))\n",
    "        np.put(c, all_index, np.copy(d[::-1]))\n",
    "        np.put(d, all_index, temp)\n",
    "\n",
    "    if face == FACES.R:\n",
    "        a = get_face_side(cube[0], SIDE.R)\n",
    "        temp = np.copy(a)\n",
    "        b = get_face_side(cube[2], SIDE.R)\n",
    "        c = get_face_side(cube[5], SIDE.R)\n",
    "        d = get_face_side(cube[4], SIDE.L)\n",
    "\n",
    "        np.put(a, all_index, np.copy(b))\n",
    "        np.put(b, all_index, np.copy(c))\n",
    "        np.put(c, all_index, np.copy(d[::-1]))\n",
    "        np.put(d, all_index, temp[::-1])\n",
    "\n",
    "    if face == FACES.L:\n",
    "        a = get_face_side(cube[0], SIDE.L)\n",
    "        temp = np.copy(a)\n",
    "        b = get_face_side(cube[4], SIDE.R)\n",
    "        c = get_face_side(cube[5], SIDE.L)\n",
    "        d = get_face_side(cube[2], SIDE.L)\n",
    "\n",
    "        np.put(a, all_index, np.copy(b[::-1]))\n",
    "        np.put(b, all_index, np.copy(c[::-1]))\n",
    "        np.put(c, all_index, np.copy(d))\n",
    "        np.put(d, all_index, temp)\n",
    "\n",
    "    if face == FACES.B:\n",
    "        a = get_face_side(cube[0], SIDE.U)\n",
    "        temp = np.copy(a)\n",
    "        b = get_face_side(cube[3], SIDE.R)\n",
    "        c = get_face_side(cube[5], SIDE.D)\n",
    "        d = get_face_side(cube[1], SIDE.L)\n",
    "\n",
    "        np.put(a, all_index, np.copy(b))\n",
    "        np.put(b, all_index, np.copy(c[::-1]))\n",
    "        np.put(c, all_index, np.copy(d))\n",
    "        np.put(d, all_index, temp[::-1])\n",
    "\n",
    "    if face == FACES.U:\n",
    "        a = get_face_side(cube[1], SIDE.U)\n",
    "        temp = np.copy(a)\n",
    "        b = get_face_side(cube[2], SIDE.U)\n",
    "        c = get_face_side(cube[3], SIDE.U)\n",
    "        d = get_face_side(cube[4], SIDE.U)\n",
    "\n",
    "        np.put(a, all_index, np.copy(b))\n",
    "        np.put(b, all_index, np.copy(c))\n",
    "        np.put(c, all_index, np.copy(d))\n",
    "        np.put(d, all_index, temp)\n",
    "\n",
    "    if face == FACES.D:\n",
    "        a = get_face_side(cube[4], SIDE.D)\n",
    "        temp = np.copy(a)\n",
    "        b = get_face_side(cube[3], SIDE.D)\n",
    "        c = get_face_side(cube[2], SIDE.D)\n",
    "        d = get_face_side(cube[1], SIDE.D)\n",
    "\n",
    "        np.put(a, all_index, np.copy(b))\n",
    "        np.put(b, all_index, np.copy(c))\n",
    "        np.put(c, all_index, np.copy(d))\n",
    "        np.put(d, all_index, temp)\n",
    "\n",
    "    cube[face] = np.rot90(cube[face], -1)\n",
    "\n",
    "    return cube"
   ]
  },
  {
   "cell_type": "code",
   "execution_count": 8,
   "metadata": {
    "collapsed": true
   },
   "outputs": [],
   "source": [
    "def perform_moves(cube, moves):\n",
    "    for move in moves:\n",
    "        cube = perform_move(cube, move)\n",
    "\n",
    "    return cube"
   ]
  },
  {
   "cell_type": "code",
   "execution_count": 9,
   "metadata": {
    "collapsed": true
   },
   "outputs": [],
   "source": [
    "def flatten_cube(cube):\n",
    "    empty = np.zeros((3, 3)) + PLACEHOLDER\n",
    "    top_row = np.concatenate((empty, cube[0], empty, empty), axis=1)\n",
    "    mid_row = np.concatenate(cube[1:5], axis=1)\n",
    "    bot_row = np.concatenate((empty, cube[5], empty, empty), axis=1)\n",
    "    return np.concatenate((top_row, mid_row, bot_row), axis=0)"
   ]
  },
  {
   "cell_type": "code",
   "execution_count": 10,
   "metadata": {
    "collapsed": true
   },
   "outputs": [],
   "source": [
    "def print_cube(cube):\n",
    "    flat = flatten_cube(cube)\n",
    "    print(\"\\n\".join([\"\".join([COLOR_DICT[c // 10] if c != PLACEHOLDER else ' ' for c in row]) for row in flat]))"
   ]
  },
  {
   "cell_type": "code",
   "execution_count": 11,
   "metadata": {
    "collapsed": true
   },
   "outputs": [],
   "source": [
    "def mpl_cube(cube):\n",
    "    flat = flatten_cube(cube)\n",
    "\n",
    "    # create discrete colormap\n",
    "    cmap = colors.ListedColormap(['yellow', 'green', 'orange', 'blue', 'red', 'white', 'black'])\n",
    "    bounds = [0, 10, 20, 30, 40, 50, 90, 100]\n",
    "    norm = colors.BoundaryNorm(bounds, cmap.N)\n",
    "\n",
    "    fig, ax = plt.subplots(figsize=(9 / 2, 3))\n",
    "    ax.imshow(flat[::-1], cmap=cmap, norm=norm)\n",
    "\n",
    "    # draw gridlines\n",
    "    ax.grid(which='major', axis='both', linestyle='-', color='k', linewidth=2)\n",
    "    ax.set_xticks(np.arange(-.5, 15, 1))\n",
    "    ax.set_yticks(np.arange(-.5, 15, 1))\n",
    "    ax.set_xlim(-0.5, 11.5)\n",
    "    ax.set_ylim(-0.5, 8.5)\n",
    "    ax.tick_params(axis='both', which='both',length=0)\n",
    "    ax.xaxis.set_ticklabels([])\n",
    "    ax.yaxis.set_ticklabels([])\n",
    "    fig.subplots_adjust(left=0, right=1, bottom=0, top=1)\n",
    "\n",
    "    plt.show()"
   ]
  },
  {
   "cell_type": "code",
   "execution_count": 12,
   "metadata": {
    "collapsed": true
   },
   "outputs": [],
   "source": [
    "def entire_challenge(string_sequence):\n",
    "    sequence = parse_sequence(string_sequence)\n",
    "    orig = create_new_cube()\n",
    "    flat_orig = flatten_cube(orig)\n",
    "    cube = np.copy(orig)\n",
    "\n",
    "    cube = perform_moves(cube, sequence)\n",
    "    num_moves = 1\n",
    "\n",
    "    while not np.array_equal(flat_orig , flatten_cube(cube)):\n",
    "        cube = perform_moves(cube, sequence)\n",
    "        num_moves += 1\n",
    "\n",
    "    return cube, num_moves"
   ]
  },
  {
   "cell_type": "code",
   "execution_count": 13,
   "metadata": {},
   "outputs": [
    {
     "data": {
      "image/png": "[encoded data removed]",
      "text/plain": [
       "<matplotlib.figure.Figure at 0x7fadfd072048>"
      ]
     },
     "metadata": {},
     "output_type": "display_data"
    },
    {
     "name": "stdout",
     "output_type": "stream",
     "text": [
      "4\n"
     ]
    },
    {
     "data": {
      "image/png": "[encoded data removed]",
      "text/plain": [
       "<matplotlib.figure.Figure at 0x7fadfaf604a8>"
      ]
     },
     "metadata": {},
     "output_type": "display_data"
    }
   ],
   "source": [
    "mpl_cube(create_new_cube())\n",
    "cube, num_moves = entire_challenge(\"R\")\n",
    "print(num_moves)\n",
    "mpl_cube(cube)"
   ]
  },
  {
   "cell_type": "code",
   "execution_count": 14,
   "metadata": {},
   "outputs": [
    {
     "data": {
      "image/png": "[encoded data removed]",
      "text/plain": [
       "<matplotlib.figure.Figure at 0x7fadfaf4a6d8>"
      ]
     },
     "metadata": {},
     "output_type": "display_data"
    },
    {
     "name": "stdout",
     "output_type": "stream",
     "text": [
      "18\n"
     ]
    },
    {
     "data": {
      "image/png": "[encoded data removed]",
      "text/plain": [
       "<matplotlib.figure.Figure at 0x7fadfae4e1d0>"
      ]
     },
     "metadata": {},
     "output_type": "display_data"
    }
   ],
   "source": [
    "mpl_cube(create_new_cube())\n",
    "cube, num_moves = entire_challenge(\"R F2 L' U D B2\")\n",
    "print(num_moves)\n",
    "mpl_cube(cube)"
   ]
  },
  {
   "cell_type": "code",
   "execution_count": 15,
   "metadata": {},
   "outputs": [
    {
     "data": {
      "image/png": "[encoded data removed]",
      "text/plain": [
       "<matplotlib.figure.Figure at 0x7fadfad78710>"
      ]
     },
     "metadata": {},
     "output_type": "display_data"
    },
    {
     "name": "stdout",
     "output_type": "stream",
     "text": [
      "36\n"
     ]
    },
    {
     "data": {
      "image/png": "[encoded data removed]",
      "text/plain": [
       "<matplotlib.figure.Figure at 0x7fadfd018f98>"
      ]
     },
     "metadata": {},
     "output_type": "display_data"
    }
   ],
   "source": [
    "mpl_cube(create_new_cube())\n",
    "cube, num_moves = entire_challenge(\"R' F2 B F B F2 L' U F2 D R2 L R' B L B2 R U\")\n",
    "print(num_moves)\n",
    "mpl_cube(cube)"
   ]
  },
  {
   "cell_type": "markdown",
   "metadata": {},
   "source": [
    "## Tests\n",
    "Need to be run outside of notebook"
   ]
  },
  {
   "cell_type": "code",
   "execution_count": 16,
   "metadata": {
    "collapsed": true
   },
   "outputs": [],
   "source": [
    "\n",
    "MOVE_CASES = [\n",
    "    (parse_sequence(\"F\"), np.array([[[0, 1, 2],\n",
    "                                     [3, 4, 5],\n",
    "                                     [18, 15, 12]],\n",
    "                                    [[10, 11, 50],\n",
    "                                     [13, 14, 51],\n",
    "                                     [16, 17, 52]],\n",
    "                                    [[26, 23, 20],\n",
    "                                     [27, 24, 21],\n",
    "                                     [28, 25, 22]],\n",
    "                                    [[6, 31, 32],\n",
    "                                     [7, 34, 35],\n",
    "                                     [8, 37, 38]],\n",
    "                                    [[40, 41, 42],\n",
    "                                     [43, 44, 45],\n",
    "                                     [46, 47, 48]],\n",
    "                                    [[36, 33, 30],\n",
    "                                     [53, 54, 55],\n",
    "                                     [56, 57, 58]]])),\n",
    "    ([], np.array([[[0, 1, 2],\n",
    "                    [3, 4, 5],\n",
    "                    [6, 7, 8]],\n",
    "                   [[10, 11, 12],\n",
    "                    [13, 14, 15],\n",
    "                    [16, 17, 18]],\n",
    "                   [[20, 21, 22],\n",
    "                    [23, 24, 25],\n",
    "                    [26, 27, 28]],\n",
    "                   [[30, 31, 32],\n",
    "                    [33, 34, 35],\n",
    "                    [36, 37, 38]],\n",
    "                   [[40, 41, 42],\n",
    "                    [43, 44, 45],\n",
    "                    [46, 47, 48]],\n",
    "                   [[50, 51, 52],\n",
    "                    [53, 54, 55],\n",
    "                    [56, 57, 58]]])),\n",
    "    (parse_sequence(\"R R R R\"), np.array([[[0, 1, 2],\n",
    "                                           [3, 4, 5],\n",
    "                                           [6, 7, 8]],\n",
    "                                          [[10, 11, 12],\n",
    "                                           [13, 14, 15],\n",
    "                                           [16, 17, 18]],\n",
    "                                          [[20, 21, 22],\n",
    "                                           [23, 24, 25],\n",
    "                                           [26, 27, 28]],\n",
    "                                          [[30, 31, 32],\n",
    "                                           [33, 34, 35],\n",
    "                                           [36, 37, 38]],\n",
    "                                          [[40, 41, 42],\n",
    "                                           [43, 44, 45],\n",
    "                                           [46, 47, 48]],\n",
    "                                          [[50, 51, 52],\n",
    "                                           [53, 54, 55],\n",
    "                                           [56, 57, 58]]])),\n",
    "    (parse_sequence(\"R\"), np.array([[[0, 1, 22],\n",
    "                                     [3, 4, 25],\n",
    "                                     [6, 7, 28]],\n",
    "                                    [[10, 11, 12],\n",
    "                                     [13, 14, 15],\n",
    "                                     [16, 17, 18]],\n",
    "                                    [[20, 21, 52],\n",
    "                                     [23, 24, 55],\n",
    "                                     [26, 27, 58]],\n",
    "                                    [[36, 33, 30],\n",
    "                                     [37, 34, 31],\n",
    "                                     [38, 35, 32]],\n",
    "                                    [[8, 41, 42],\n",
    "                                     [5, 44, 45],\n",
    "                                     [2, 47, 48]],\n",
    "                                    [[50, 51, 46],\n",
    "                                     [53, 54, 43],\n",
    "                                     [56, 57, 40]]])),\n",
    "    (parse_sequence(\"L\"), np.array([[[48, 1, 2],\n",
    "                                     [45, 4, 5],\n",
    "                                     [42, 7, 8]],\n",
    "                                    [[16, 13, 10],\n",
    "                                     [17, 14, 11],\n",
    "                                     [18, 15, 12]],\n",
    "                                    [[0, 21, 22],\n",
    "                                     [3, 24, 25],\n",
    "                                     [6, 27, 28]],\n",
    "                                    [[30, 31, 32],\n",
    "                                     [33, 34, 35],\n",
    "                                     [36, 37, 38]],\n",
    "                                    [[40, 41, 56],\n",
    "                                     [43, 44, 53],\n",
    "                                     [46, 47, 50]],\n",
    "                                    [[20, 51, 52],\n",
    "                                     [23, 54, 55],\n",
    "                                     [26, 57, 58]]])),\n",
    "    (parse_sequence(\"L2\"), np.array([[[50, 1, 2],\n",
    "                                      [53, 4, 5],\n",
    "                                      [56, 7, 8]],\n",
    "                                     [[18, 17, 16],\n",
    "                                      [15, 14, 13],\n",
    "                                      [12, 11, 10]],\n",
    "                                     [[48, 21, 22],\n",
    "                                      [45, 24, 25],\n",
    "                                      [42, 27, 28]],\n",
    "                                     [[30, 31, 32],\n",
    "                                      [33, 34, 35],\n",
    "                                      [36, 37, 38]],\n",
    "                                     [[40, 41, 26],\n",
    "                                      [43, 44, 23],\n",
    "                                      [46, 47, 20]],\n",
    "                                     [[0, 51, 52],\n",
    "                                      [3, 54, 55],\n",
    "                                      [6, 57, 58]]])),\n",
    "    (parse_sequence(\"L'\"), np.array([[[20, 1, 2],\n",
    "                                      [23, 4, 5],\n",
    "                                      [26, 7, 8]],\n",
    "                                     [[12, 15, 18],\n",
    "                                      [11, 14, 17],\n",
    "                                      [10, 13, 16]],\n",
    "                                     [[50, 21, 22],\n",
    "                                      [53, 24, 25],\n",
    "                                      [56, 27, 28]],\n",
    "                                     [[30, 31, 32],\n",
    "                                      [33, 34, 35],\n",
    "                                      [36, 37, 38]],\n",
    "                                     [[40, 41, 6],\n",
    "                                      [43, 44, 3],\n",
    "                                      [46, 47, 0]],\n",
    "                                     [[48, 51, 52],\n",
    "                                      [45, 54, 55],\n",
    "                                      [42, 57, 58]]])),\n",
    "    (parse_sequence(\"B\"), np.array([[[32, 35, 38],\n",
    "                                     [3, 4, 5],\n",
    "                                     [6, 7, 8]],\n",
    "                                    [[2, 11, 12],\n",
    "                                     [1, 14, 15],\n",
    "                                     [0, 17, 18]],\n",
    "                                    [[20, 21, 22],\n",
    "                                     [23, 24, 25],\n",
    "                                     [26, 27, 28]],\n",
    "                                    [[30, 31, 58],\n",
    "                                     [33, 34, 57],\n",
    "                                     [36, 37, 56]],\n",
    "                                    [[46, 43, 40],\n",
    "                                     [47, 44, 41],\n",
    "                                     [48, 45, 42]],\n",
    "                                    [[50, 51, 52],\n",
    "                                     [53, 54, 55],\n",
    "                                     [10, 13, 16]]])),\n",
    "    (parse_sequence(\"U\"), np.array([[[6, 3, 0],\n",
    "                                     [7, 4, 1],\n",
    "                                     [8, 5, 2]],\n",
    "                                    [[20, 21, 22],\n",
    "                                     [13, 14, 15],\n",
    "                                     [16, 17, 18]],\n",
    "                                    [[30, 31, 32],\n",
    "                                     [23, 24, 25],\n",
    "                                     [26, 27, 28]],\n",
    "                                    [[40, 41, 42],\n",
    "                                     [33, 34, 35],\n",
    "                                     [36, 37, 38]],\n",
    "                                    [[10, 11, 12],\n",
    "                                     [43, 44, 45],\n",
    "                                     [46, 47, 48]],\n",
    "                                    [[50, 51, 52],\n",
    "                                     [53, 54, 55],\n",
    "                                     [56, 57, 58]]])),\n",
    "    (parse_sequence(\"D\"), np.array([[[0, 1, 2],\n",
    "                                     [3, 4, 5],\n",
    "                                     [6, 7, 8]],\n",
    "                                    [[10, 11, 12],\n",
    "                                     [13, 14, 15],\n",
    "                                     [46, 47, 48]],\n",
    "                                    [[20, 21, 22],\n",
    "                                     [23, 24, 25],\n",
    "                                     [16, 17, 18]],\n",
    "                                    [[30, 31, 32],\n",
    "                                     [33, 34, 35],\n",
    "                                     [26, 27, 28]],\n",
    "                                    [[40, 41, 42],\n",
    "                                     [43, 44, 45],\n",
    "                                     [36, 37, 38]],\n",
    "                                    [[56, 53, 50],\n",
    "                                     [57, 54, 51],\n",
    "                                     [58, 55, 52]]]))\n",
    "]\n",
    "\n",
    "\n",
    "@pytest.mark.parametrize(\"moves, expected_cube\", MOVE_CASES)\n",
    "def test_cube_moves(moves, expected_cube):\n",
    "    test_cube = create_new_cube()\n",
    "    test_cube = perform_moves(test_cube, moves)\n",
    "    x = test_cube == expected_cube\n",
    "    assert np.array_equal(test_cube, expected_cube)\n",
    "\n",
    "\n",
    "def test_cube_reverse():\n",
    "    cube_1 = create_new_cube()\n",
    "    cube_2 = create_new_cube()\n",
    "    cube_1 = perform_moves(cube_1, parse_sequence(\"L L L\"))\n",
    "    cube_2 = perform_moves(cube_2, parse_sequence(\"L'\"))\n",
    "    assert np.array_equal(cube_1, cube_2)\n",
    "\n",
    "\n",
    "INPUTS = [(\"R\", 4),\n",
    "          (\"R F2 L' U D B2\", 18),\n",
    "          (\"L' R D' U F' B L' R\", 3),\n",
    "          (\"F B2 R' D2 B R U D' R L' D' F' R2 D F2 B'\", 3),\n",
    "          (\"R' F2 B F B F2 L' U F2 D R2 L R' B L B2 R U\", 36)]\n",
    "\n",
    "\n",
    "@pytest.mark.parametrize(\"string_sequence, expected_moves\", INPUTS)\n",
    "def test_inputs(string_sequence, expected_moves):\n",
    "    assert entire_challenge(string_sequence) == expected_moves"
   ]
  }
 ],
 "metadata": {
  "kernelspec": {
   "display_name": "Python 3",
   "language": "python",
   "name": "python3"
  },
  "language_info": {
   "codemirror_mode": {
    "name": "ipython",
    "version": 3
   },
   "file_extension": ".py",
   "mimetype": "text/x-python",
   "name": "python",
   "nbconvert_exporter": "python",
   "pygments_lexer": "ipython3",
   "version": "3.6.2"
  }
 },
 "nbformat": 4,
 "nbformat_minor": 2
}
