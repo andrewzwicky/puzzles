{
 "cells": [
  {
   "cell_type": "markdown",
   "metadata": {},
   "source": [
    "# Description\n",
    "This challenge will be a variation on a popular introductory task, scoring a game of bowling.  Typically, we're given the scores of each frame, and asked to calculate the total score.  Today, we're going to get the number of pins knocked down on each ball and asked to display the score frames though.\n",
    "\n",
    "\n",
    "# Input Description\n",
    "You will be given a list of integers that represent the number of pins knocked down on each ball.  Not that this list is not a fixed size, as bowling a perfect game requires only 10 balls, while bowling many spares would use many more balls.\n",
    "\n",
    "*Example:*\n",
    "\n",
    "    6 4 5 3 10 10 8 1 8 0 10 6 3 7 3 5 3\n",
    "\n",
    "\n",
    "# Output Description\n",
    "Your program should output the bowling frames including strikes and spares.  The total score is not necessary.\n",
    "\n",
    "*Example:*\n",
    "\n",
    "    6 / 5 3 X X 8 1 8 0 X 6 3 7 / 5 3\n",
    "\n",
    "# Challenge Inputs\n",
    "\n",
    "    9  0  9  0  9  0  9  0  9  0  9  0  9  0  9  0  9  0  9  0    \n",
    "    10 10 10 10 10 10 10 10 10 10 10 10\n",
    "    5  5  5  5  5  5  5  5  5  5  5  5  5  5  5  5  5  5  5  5  5\n",
    "    10 3  7  6  1  10 10 10 2  8  9  0  7  3  10 10 10\n",
    "    9  0  3  7  6  1  3  7  8  1  5  5  0  10 8  0  7  3  8  2  8\n",
    "    \n",
    "\n",
    "# Challenge Outputs\n",
    "\n",
    "    6/ 53 X  X  81 8- X  63 7/ 54\n",
    "    9- 9- 9- 9- 9- 9- 9- 9- 9- 9-\n",
    "    X  X  X  X  X  X  X  X  X  XXX\n",
    "    5/ 5/ 5/ 5/ 5/ 5/ 5/ 5/ 5/ 5/5\n",
    "    X  3/ 61 X  X  X  2/ 9- 7/ XXX\n",
    "    9- 3/ 61 3/ 81 5/ 0/ 8- 7/ 8/8\n",
    "    "
   ]
  },
  {
   "cell_type": "code",
   "execution_count": 35,
   "metadata": {},
   "outputs": [],
   "source": [
    "rolls = [\"6 4 5 3 10 10 8 1 8 0 10 6 3 7 3 5 4\",\n",
    "\"9 0 9 0 9 0 9 0 9 0 9 0 9 0 9 0 9 0 9 0\",\n",
    "\"10 10 10 10 10 10 10 10 10 10 10 10\",\n",
    "\"5 5 5 5 5 5 5 5 5 5 5 5 5 5 5 5 5 5 5 5 5\",\n",
    "\"10 3 7 6 1 10 10 10 2 8 9 0 7 3 10 10 10\",\n",
    "\"9 0 3 7 6 1 3 7 8 1 5 5 0 10 8 0 7 3 8 2 8\"]\n",
    "rolls_ints = [list(map(int, r.split(' '))) for r in rolls]"
   ]
  },
  {
   "cell_type": "code",
   "execution_count": 36,
   "metadata": {
    "collapsed": true
   },
   "outputs": [],
   "source": [
    "def write_score_lines(rr):\n",
    "    frame = 1\n",
    "    first_roll = True\n",
    "    result = \"\"\n",
    "    frame_sum=0\n",
    "    for roll in rr:\n",
    "        if first_roll:\n",
    "            frame_sum = 0\n",
    "            if roll == 10:\n",
    "                result+='X'\n",
    "                first_roll = True\n",
    "                frame += 1\n",
    "                if frame <= 10:\n",
    "                    result += '  '\n",
    "                frame_sum = 0\n",
    "            else:\n",
    "                result+=str(roll)\n",
    "                frame_sum += roll\n",
    "                first_roll = False\n",
    "        else:\n",
    "            frame_sum += roll\n",
    "            if frame_sum == 10:\n",
    "                result += '/'\n",
    "            elif roll == 0:\n",
    "                result += '-'\n",
    "            else:\n",
    "                result += str(roll)\n",
    "            first_roll = True\n",
    "            frame += 1\n",
    "            if frame <= 10:\n",
    "                result += ' '\n",
    "            frame_sum = 0\n",
    "    return result"
   ]
  },
  {
   "cell_type": "code",
   "execution_count": 37,
   "metadata": {},
   "outputs": [
    {
     "name": "stdout",
     "output_type": "stream",
     "text": [
      "6/ 53 X  X  81 8- X  63 7/ 54\n",
      "9- 9- 9- 9- 9- 9- 9- 9- 9- 9-\n",
      "X  X  X  X  X  X  X  X  X  XXX\n",
      "5/ 5/ 5/ 5/ 5/ 5/ 5/ 5/ 5/ 5/5\n",
      "X  3/ 61 X  X  X  2/ 9- 7/ XXX\n",
      "9- 3/ 61 3/ 81 5/ 0/ 8- 7/ 8/8\n"
     ]
    }
   ],
   "source": [
    "for roll in rolls_ints:\n",
    "    print(write_score_lines(roll))"
   ]
  }
 ],
 "metadata": {
  "kernelspec": {
   "display_name": "Python 3",
   "language": "python",
   "name": "python3"
  },
  "language_info": {
   "codemirror_mode": {
    "name": "ipython",
    "version": 3
   },
   "file_extension": ".py",
   "mimetype": "text/x-python",
   "name": "python",
   "nbconvert_exporter": "python",
   "pygments_lexer": "ipython3",
   "version": "3.6.1"
  }
 },
 "nbformat": 4,
 "nbformat_minor": 2
}
