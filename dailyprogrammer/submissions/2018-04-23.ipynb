{
 "cells": [
  {
   "cell_type": "markdown",
   "metadata": {},
   "source": [
    "# Description\n",
    "Today's challenge will be to create a program to decipher a seven segment display, commonly seen on many older electronic devices.\n",
    "\n",
    "# Input Description\n",
    "For this challenge, you will receive 3 lines of input, with each line being 27 characters long (representing 9 total numbers), with the digits spread across the 3 lines.  Your job is to return the represented digits.  You don't need to account for odd spacing or missing segments.\n",
    "\n",
    "# Output Description\n",
    "Your program should print the numbers contained in the display.\n",
    "\n",
    "# Challenge Inputs\n",
    "\n",
    "```\n",
    "    _  _     _  _  _  _  _ \n",
    "  | _| _||_||_ |_   ||_||_|\n",
    "  ||_  _|  | _||_|  ||_| _|\n",
    "\n",
    "    _  _  _  _  _  _  _  _ \n",
    "|_| _| _||_|| ||_ |_| _||_ \n",
    "  | _| _||_||_| _||_||_  _|\n",
    "\n",
    " _  _  _  _  _  _  _  _  _ \n",
    "|_  _||_ |_| _|  ||_ | ||_|\n",
    " _||_ |_||_| _|  ||_||_||_|\n",
    "\n",
    " _  _        _  _  _  _  _ \n",
    "|_||_ |_|  || ||_ |_ |_| _|\n",
    " _| _|  |  ||_| _| _| _||_ \n",
    "```\n",
    "\n",
    "# Challenge Outputs\n",
    "\n",
    "    123456789\n",
    "    433805825\n",
    "    526837608\n",
    "    954105592\n",
    "    \n",
    "# Ideas!\n",
    "\n",
    "If you have an idea for a challenge please share it on /r/dailyprogrammer_ideas and there's a good chance we'll use it. "
   ]
  },
  {
   "cell_type": "code",
   "execution_count": 60,
   "metadata": {},
   "outputs": [],
   "source": [
    "import os\n",
    "from itertools import zip_longest, chain"
   ]
  },
  {
   "cell_type": "code",
   "execution_count": 61,
   "metadata": {},
   "outputs": [],
   "source": [
    "INPUT_1 = \\\n",
    "\"\"\"\n",
    "    _  _     _  _  _  _  _\n",
    "  | _| _||_||_ |_   ||_||_|\n",
    "  ||_  _|  | _||_|  ||_| _|\n",
    "\"\"\"\n",
    "\n",
    "INPUT_2 = \\\n",
    "\"\"\"\n",
    " _  _  _  _  _  _  _  _  _ \n",
    "| | _| _||_ |_  _||_ | ||_|\n",
    "|_||_ |_ |_| _||_ |_||_||_|\n",
    "\"\"\"\n",
    "\n",
    "INPUT_3 = \\\n",
    "\"\"\"\n",
    " _  _  _     _     _  _  _ \n",
    " _||_   ||_|| |  ||_|  || |\n",
    " _| _|  |  ||_|  | _|  ||_|\n",
    "\"\"\""
   ]
  },
  {
   "cell_type": "code",
   "execution_count": 62,
   "metadata": {},
   "outputs": [],
   "source": [
    "NUMBERS = {\n",
    "    ' _ | ||_|' : '0',\n",
    "    '     |  |' : '1',\n",
    "    ' _  _||_ ' : '2',\n",
    "    ' _  _| _|' : '3',\n",
    "    '   |_|  |' : '4',\n",
    "    ' _ |_  _|' : '5',\n",
    "    ' _ |_ |_|' : '6',\n",
    "    ' _   |  |' : '7',\n",
    "    ' _ |_||_|' : '8',\n",
    "    ' _ |_| _|' : '9'\n",
    "}\n",
    "\n",
    "ASCII = {v:k for k,v in NUMBERS.items()}"
   ]
  },
  {
   "cell_type": "code",
   "execution_count": 63,
   "metadata": {},
   "outputs": [],
   "source": [
    "LINE_LENGTH = 27\n",
    "DIGIT_LINES = 3\n",
    "DIGIT_WIDTH = 3"
   ]
  },
  {
   "cell_type": "code",
   "execution_count": 64,
   "metadata": {},
   "outputs": [],
   "source": [
    "def grouper(iterable, n, fillvalue=None):\n",
    "    \"\"\"\n",
    "    Collect data into fixed-length chunks or blocks\n",
    "    https://docs.python.org/3/library/itertools.html#itertools-recipes\n",
    "    \"\"\"\n",
    "    # grouper('ABCDEFG', 3, 'x') --> ABC DEF Gxx\"\n",
    "    args = [iter(iterable)] * n\n",
    "    return zip_longest(*args, fillvalue=fillvalue)"
   ]
  },
  {
   "cell_type": "code",
   "execution_count": 65,
   "metadata": {},
   "outputs": [],
   "source": [
    "def de_ascii(ascii_text):\n",
    "    ascii_lines = ascii_text.split(\"\\n\")\n",
    "    ascii_lines = [str.ljust(line, LINE_LENGTH, ' ') for line in ascii_lines if line != '']\n",
    "    \n",
    "    line_groupers = [grouper(line, DIGIT_LINES) for line in ascii_lines]\n",
    "    \n",
    "    output_number = ''\n",
    "    \n",
    "    for digit_tuple in zip(*line_groupers):\n",
    "        digit_string = ''.join(chain.from_iterable(digit_tuple))\n",
    "        output_number = output_number + NUMBERS[digit_string]\n",
    "        \n",
    "    return output_number"
   ]
  },
  {
   "cell_type": "code",
   "execution_count": 66,
   "metadata": {},
   "outputs": [],
   "source": [
    "def ascii(number):\n",
    "    output_strings = ['    ' for _ in range(DIGIT_LINES)]\n",
    "    for line in range(DIGIT_LINES):\n",
    "        for digit in number:\n",
    "            output_strings[line] += ASCII[digit][0+(DIGIT_WIDTH * line):3 + (DIGIT_WIDTH * line)]\n",
    "    return '\\n'.join(output_strings)"
   ]
  },
  {
   "cell_type": "code",
   "execution_count": 67,
   "metadata": {},
   "outputs": [
    {
     "data": {
      "text/plain": [
       "'123456789'"
      ]
     },
     "execution_count": 67,
     "metadata": {},
     "output_type": "execute_result"
    }
   ],
   "source": [
    "de_ascii(INPUT_1)"
   ]
  },
  {
   "cell_type": "code",
   "execution_count": 68,
   "metadata": {},
   "outputs": [
    {
     "data": {
      "text/plain": [
       "'022652608'"
      ]
     },
     "execution_count": 68,
     "metadata": {},
     "output_type": "execute_result"
    }
   ],
   "source": [
    "de_ascii(INPUT_2)"
   ]
  },
  {
   "cell_type": "code",
   "execution_count": 70,
   "metadata": {},
   "outputs": [
    {
     "data": {
      "text/plain": [
       "'357401970'"
      ]
     },
     "execution_count": 70,
     "metadata": {},
     "output_type": "execute_result"
    }
   ],
   "source": [
    "de_ascii(INPUT_3)"
   ]
  }
 ],
 "metadata": {
  "kernelspec": {
   "display_name": "Python 3",
   "language": "python",
   "name": "python3"
  },
  "language_info": {
   "codemirror_mode": {
    "name": "ipython",
    "version": 3
   },
   "file_extension": ".py",
   "mimetype": "text/x-python",
   "name": "python",
   "nbconvert_exporter": "python",
   "pygments_lexer": "ipython3",
   "version": "3.6.2"
  }
 },
 "nbformat": 4,
 "nbformat_minor": 2
}
