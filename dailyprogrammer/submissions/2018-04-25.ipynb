{
 "cells": [
  {
   "cell_type": "markdown",
   "metadata": {},
   "source": [
    "# Description\n",
    "Today's challenge comes from the website [fivethirtyeight.com](http://fivethirtyeight.com/), where Oliver Roeder runs a weekly [Riddler](https://fivethirtyeight.com/features/when-will-the-arithmetic-anarchists-attack/) column.  Today's challenge was the riddler on [2018-04-06](https://fivethirtyeight.com/features/when-will-the-arithmetic-anarchists-attack/).\n",
    "\n",
    "> From Matt Gold, a chance, perhaps, to redeem your busted bracket:\n",
    "\n",
    "> On Monday, Villanova won the NCAA men’s basketball national title. But I recently overheard some boisterous Butler fans calling themselves the “[transitive](http://www.mathwords.com/t/transitive_property.htm) national champions,” because Butler beat Villanova earlier in the season. Of course, other teams also beat Butler during the season and their fans could therefore make exactly the same claim.\n",
    "\n",
    "> How many transitive national champions were there this season? Or, maybe more descriptively, how many teams weren’t transitive national champions?\n",
    "\n",
    "> (All of this season’s college basketball results are [here](https://www.masseyratings.com/scores.php?s=298892&sub=12801&all=1). To get you started, Villanova lost to Butler, St. John’s, Providence and Creighton this season, all of whom can claim a transitive title. But remember, teams beat those teams, too.)\n",
    "\n",
    "# Input Description\n",
    "The input is a list of all the NCAA men's basketball games from this past season via [https://www.masseyratings.com/scores.php?s=298892&sub=12801&all=1](https://www.masseyratings.com/scores.php?s=298892&sub=12801&all=1)\n",
    "\n",
    "# Output Description\n",
    "Your program should output the number of teams that can claim a \"transitive\" national championship.  This is any team that beat the national champion, any team that beat one of those teams, any team that beat one of *those* teams, etc..."
   ]
  },
  {
   "cell_type": "code",
   "execution_count": 12,
   "metadata": {},
   "outputs": [],
   "source": [
    "from pathlib import Path\n",
    "from collections import namedtuple, defaultdict\n",
    "import itertools"
   ]
  },
  {
   "cell_type": "code",
   "execution_count": 13,
   "metadata": {},
   "outputs": [],
   "source": [
    "games = Path('../../FiveThirtyEightRiddler/2018-04-06/scores.txt').read_text().split('\\n')"
   ]
  },
  {
   "cell_type": "code",
   "execution_count": 14,
   "metadata": {},
   "outputs": [],
   "source": [
    "def parse_game_text(line):\n",
    "    team_1 = line[12:36].strip()\n",
    "    team_2 = line[41:65].strip()\n",
    "    score_1 = int(line[36:39])\n",
    "    score_2 = int(line[65:68])\n",
    "    \n",
    "    return (team_1, team_2)"
   ]
  },
  {
   "cell_type": "code",
   "execution_count": 15,
   "metadata": {},
   "outputs": [],
   "source": [
    "loser_dict = defaultdict(set)\n",
    "all_teams_set = set()\n",
    "for winner, loser in [parse_game_text(game) for game in games]:\n",
    "    loser_dict[loser].add(winner)\n",
    "    all_teams_set.add(winner)\n",
    "    all_teams_set.add(loser)"
   ]
  },
  {
   "cell_type": "code",
   "execution_count": 17,
   "metadata": {},
   "outputs": [],
   "source": [
    "new_transitive_winners = {'Villanova'}\n",
    "transitive_winners = new_transitive_winners\n",
    "\n",
    "while new_transitive_winners:\n",
    "    all_transitive_winners = set.union(*[loser_dict[winner] for winner in new_transitive_winners])\n",
    "    new_transitive_winners = all_transitive_winners - transitive_winners\n",
    "    transitive_winners |= new_transitive_winners"
   ]
  },
  {
   "cell_type": "code",
   "execution_count": 18,
   "metadata": {},
   "outputs": [
    {
     "data": {
      "text/plain": [
       "1185"
      ]
     },
     "execution_count": 18,
     "metadata": {},
     "output_type": "execute_result"
    }
   ],
   "source": [
    "len(transitive_winners)"
   ]
  }
 ],
 "metadata": {
  "kernelspec": {
   "display_name": "Python 3",
   "language": "python",
   "name": "python3"
  },
  "language_info": {
   "codemirror_mode": {
    "name": "ipython",
    "version": 3
   },
   "file_extension": ".py",
   "mimetype": "text/x-python",
   "name": "python",
   "nbconvert_exporter": "python",
   "pygments_lexer": "ipython3",
   "version": "3.6.2"
  }
 },
 "nbformat": 4,
 "nbformat_minor": 2
}
