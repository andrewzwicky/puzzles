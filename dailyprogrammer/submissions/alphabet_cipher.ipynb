{
 "cells": [
  {
   "cell_type": "markdown",
   "metadata": {},
   "source": [
    "# Description\n",
    "\n",
    "[The Alphabet Cipher](https://en.wikipedia.org/wiki/The_Alphabet_Cipher), published by Lew Carroll in 1868, is a cipher for passing secret messages.  The cipher involves alphabet substitution using a shared keyword.  Using the alphabet cipher to tranmit messages follows this procedure:\n",
    "\n",
    "You must make a substitution chart like this, where each row of the alphabet is rotated by one as each letter goes down the chart.  All test cases will utilize this same substitution chart.\n",
    "\n",
    "```\n",
    "   ABCDEFGHIJKLMNOPQRSTUVWXYZ\n",
    " A abcdefghijklmnopqrstuvwxyz\n",
    " B bcdefghijklmnopqrstuvwxyza\n",
    " C cdefghijklmnopqrstuvwxyzab\n",
    " D defghijklmnopqrstuvwxyzabc\n",
    " E efghijklmnopqrstuvwxyzabcd\n",
    " F fghijklmnopqrstuvwxyzabcde\n",
    " G ghijklmnopqrstuvwxyzabcdef\n",
    " H hijklmnopqrstuvwxyzabcdefg\n",
    " I ijklmnopqrstuvwxyzabcdefgh\n",
    " J jklmnopqrstuvwxyzabcdefghi\n",
    " K klmnopqrstuvwxyzabcdefghij\n",
    " L lmnopqrstuvwxyzabcdefghijk\n",
    " M mnopqrstuvwxyzabcdefghijkl\n",
    " N nopqrstuvwxyzabcdefghijklm\n",
    " O opqrstuvwxyzabcdefghijklmn\n",
    " P pqrstuvwxyzabcdefghijklmno\n",
    " Q qrstuvwxyzabcdefghijklmnop\n",
    " R rstuvwxyzabcdefghijklmnopq\n",
    " S stuvwxyzabcdefghijklmnopqr\n",
    " T tuvwxyzabcdefghijklmnopqrs\n",
    " U uvwxyzabcdefghijklmnopqrst\n",
    " V vwxyzabcdefghijklmnopqrstu\n",
    " W wxyzabcdefghijklmnopqrstuv\n",
    " X xyzabcdefghijklmnopqrstuvw\n",
    " Y yzabcdefghijklmnopqrstuvwx\n",
    " Z zabcdefghijklmnopqrstuvwxy\n",
    "```\n",
    "\n",
    "Both people exchanging messages must agree on the secret keyword.  To be effective, this keyword should not be written down anywhere, but memorized.\n",
    "\n",
    "To encode the message, first write it down.\n",
    "\n",
    "    thepackagehasbeendelivered\n",
    "\n",
    "Then, write the keyword, (for example, `snitch`), repeated as many times as necessary.\n",
    "\n",
    "    snitchsnitchsnitchsnitchsn\n",
    "    thepackagehasbeendelivered\n",
    "\n",
    " Now you can look up the column `S` in the table and follow it down until it meets the `T` row. The value at the intersection is the letter `l`. All the letters would be thus encoded.\n",
    "    \n",
    "    snitchsnitchsnitchsnitchsn\n",
    "    thepackagehasbeendelivered\n",
    "    lumicjcnoxjhkomxpkwyqogywq\n",
    "\n",
    "The encoded message is now `lumicjcnoxjhkomxpkwyqogywq`\n",
    "\n",
    "To decode, the other person would use the secret keyword and the table to look up the letters in reverse.\n",
    "\n",
    "# Input Description\n",
    "Each input will consist of two strings, separate by a space.  The first word will be the secret word, and the second will be the message to encrypt.\n",
    "\n",
    "    snitch thepackagehasbeendelivered\n",
    "\n",
    "# Output Description\n",
    "Your program should print out the encrypted message.\n",
    "\n",
    "    lumicjcnoxjhkomxpkwyqogywq\n",
    "\n",
    "# Challenge Inputs\n",
    "    \n",
    "    bond theredfoxtrotsquietlyatmidnight\n",
    "    train murderontheorientexpress\n",
    "    garden themolessnuckintothegardenlastnight\n",
    "    \n",
    "# Challenge Outputs\n",
    "\n",
    "    uvrufrsryherugdxjsgozogpjralhvg\n",
    "    flrlrkfnbuxfrqrgkefckvsa\n",
    "    zhvpsyksjqypqiewsgnexdvqkncdwgtixkx\n",
    "    \n",
    "# Bonus\n",
    "For a bonus, also implement the decryption portion of the algorithm and try to decrypt the following messages.\n",
    "\n",
    "# Bonus Inputs\n",
    "\n",
    "    cloak klatrgafedvtssdwywcyty\n",
    "    python pjphmfamhrcaifxifvvfmzwqtmyswst\n",
    "    moore rcfpsgfspiecbcc\n",
    "\n",
    "# Bonus Outputs\n",
    "\n",
    "    iamtheprettiestunicorn\n",
    "    alwayslookonthebrightsideoflife\n",
    "    foryoureyesonly\n"
   ]
  },
  {
   "cell_type": "code",
   "execution_count": 69,
   "metadata": {},
   "outputs": [],
   "source": [
    "from string import ascii_lowercase\n",
    "from itertools import cycle"
   ]
  },
  {
   "cell_type": "code",
   "execution_count": 70,
   "metadata": {},
   "outputs": [],
   "source": [
    "ORD_OFFSET = 97"
   ]
  },
  {
   "cell_type": "code",
   "execution_count": 71,
   "metadata": {},
   "outputs": [],
   "source": [
    "def shifted_letter_index(letter):\n",
    "    return ord(letter.lower()) - ORD_OFFSET\n",
    "\n",
    "def get_letter_from_ord(ord_num):\n",
    "    return chr(ord_num + ORD_OFFSET).lower()\n",
    "\n",
    "def encrypt_letter(secret_letter, decrypted_letter):\n",
    "    secret_shift = shifted_letter_index(secret_letter)\n",
    "    rotated_letters = ascii_lowercase[secret_shift:] + ascii_lowercase[:secret_shift]\n",
    "    letter_index = shifted_letter_index(decrypted_letter)\n",
    "    return rotated_letters[letter_index]\n",
    "\n",
    "def decrypt_letter(secret_letter, encrypted_letter):\n",
    "    secret_shift = shifted_letter_index(secret_letter)\n",
    "    rotated_letters = ascii_lowercase[secret_shift:] + ascii_lowercase[:secret_shift]\n",
    "    letter_ord = rotated_letters.index(encrypted_letter)\n",
    "    return get_letter_from_ord(letter_ord)"
   ]
  },
  {
   "cell_type": "code",
   "execution_count": 72,
   "metadata": {},
   "outputs": [],
   "source": [
    "def encrypt_message(secret, decrypted_message):\n",
    "    return ''.join(encrypt_letter(*letters) for letters in zip(cycle(secret), decrypted_message))"
   ]
  },
  {
   "cell_type": "code",
   "execution_count": 73,
   "metadata": {},
   "outputs": [],
   "source": [
    "def decrypt_message(secret, encrypted_message):\n",
    "    return ''.join(decrypt_letter(*letters) for letters in zip(cycle(secret), encrypted_message))"
   ]
  },
  {
   "cell_type": "code",
   "execution_count": 18,
   "metadata": {},
   "outputs": [
    {
     "data": {
      "text/plain": [
       "'lumicjcnoxjhkomxpkwyqogywq'"
      ]
     },
     "execution_count": 18,
     "metadata": {},
     "output_type": "execute_result"
    }
   ],
   "source": [
    "encrypt_message('snitch', 'thepackagehasbeendelivered')"
   ]
  },
  {
   "cell_type": "code",
   "execution_count": 19,
   "metadata": {},
   "outputs": [
    {
     "data": {
      "text/plain": [
       "'uvrufrsryherugdxjsgozogpjralhvg'"
      ]
     },
     "execution_count": 19,
     "metadata": {},
     "output_type": "execute_result"
    }
   ],
   "source": [
    "encrypt_message('bond', 'theredfoxtrotsquietlyatmidnight')"
   ]
  },
  {
   "cell_type": "code",
   "execution_count": 20,
   "metadata": {},
   "outputs": [
    {
     "data": {
      "text/plain": [
       "'flrlrkfnbuxfrqrgkefckvsa'"
      ]
     },
     "execution_count": 20,
     "metadata": {},
     "output_type": "execute_result"
    }
   ],
   "source": [
    "encrypt_message('train', 'murderontheorientexpress')"
   ]
  },
  {
   "cell_type": "code",
   "execution_count": 21,
   "metadata": {},
   "outputs": [
    {
     "data": {
      "text/plain": [
       "'zhvpsyksjqypqiewsgnexdvqkncdwgtixkx'"
      ]
     },
     "execution_count": 21,
     "metadata": {},
     "output_type": "execute_result"
    }
   ],
   "source": [
    "encrypt_message('garden','themolessnuckintothegardenlastnight')"
   ]
  },
  {
   "cell_type": "code",
   "execution_count": 22,
   "metadata": {},
   "outputs": [
    {
     "name": "stdout",
     "output_type": "stream",
     "text": [
      "klatrgafedvtssdwywcyty\n"
     ]
    },
    {
     "data": {
      "text/plain": [
       "'iamtheprettiestunicorn'"
      ]
     },
     "execution_count": 22,
     "metadata": {},
     "output_type": "execute_result"
    }
   ],
   "source": [
    "x = encrypt_message('cloak', 'iamtheprettiestunicorn')\n",
    "print(x)\n",
    "decrypt_message('cloak', x)"
   ]
  },
  {
   "cell_type": "code",
   "execution_count": 23,
   "metadata": {},
   "outputs": [
    {
     "name": "stdout",
     "output_type": "stream",
     "text": [
      "pjphmfamhrcaifxifvvfmzwqtmyswst\n"
     ]
    },
    {
     "data": {
      "text/plain": [
       "'alwayslookonthebrightsideoflife'"
      ]
     },
     "execution_count": 23,
     "metadata": {},
     "output_type": "execute_result"
    }
   ],
   "source": [
    "x = encrypt_message('python', 'alwayslookonthebrightsideoflife')\n",
    "print(x)\n",
    "decrypt_message('python', x)"
   ]
  },
  {
   "cell_type": "code",
   "execution_count": 24,
   "metadata": {},
   "outputs": [
    {
     "name": "stdout",
     "output_type": "stream",
     "text": [
      "rcfpsgfspiecbcc\n"
     ]
    },
    {
     "data": {
      "text/plain": [
       "'foryoureyesonly'"
      ]
     },
     "execution_count": 24,
     "metadata": {},
     "output_type": "execute_result"
    }
   ],
   "source": [
    "x = encrypt_message('moore', 'foryoureyesonly')\n",
    "print(x)\n",
    "decrypt_message('moore', x)"
   ]
  },
  {
   "cell_type": "code",
   "execution_count": null,
   "metadata": {},
   "outputs": [],
   "source": []
  }
 ],
 "metadata": {
  "kernelspec": {
   "display_name": "Python 3",
   "language": "python",
   "name": "python3"
  },
  "language_info": {
   "codemirror_mode": {
    "name": "ipython",
    "version": 3
   },
   "file_extension": ".py",
   "mimetype": "text/x-python",
   "name": "python",
   "nbconvert_exporter": "python",
   "pygments_lexer": "ipython3",
   "version": "3.6.1"
  }
 },
 "nbformat": 4,
 "nbformat_minor": 2
}
