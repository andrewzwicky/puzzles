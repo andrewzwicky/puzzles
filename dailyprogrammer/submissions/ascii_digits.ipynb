{
 "cells": [
  {
   "cell_type": "markdown",
   "metadata": {},
   "source": [
    "The following format is created by the machine:\n",
    "\n",
    "```\n",
    "    _  _     _  _  _  _  _\n",
    "  | _| _||_||_ |_   ||_||_|\n",
    "  ||_  _|  | _||_|  ||_| _|\n",
    "```\n",
    "\n",
    "Each entry is 4 lines long, and each line has 27 characters. The first 3 lines of each entry contain an account number written using pipes and underscores, and the fourth line is blank.\n",
    "\n",
    "Each account number should have 9 digits, all of which should be in the range 0-9. A normal file contains around 500 entries.\n",
    "\n",
    "Write a program that can take this file and parse it into actual account numbers. \n",
    "\n",
    "https://code.joejag.com/coding-dojo/bank-ocr/"
   ]
  },
  {
   "cell_type": "code",
   "execution_count": 231,
   "metadata": {},
   "outputs": [],
   "source": [
    "import os\n",
    "from itertools import zip_longest, chain"
   ]
  },
  {
   "cell_type": "code",
   "execution_count": 232,
   "metadata": {},
   "outputs": [],
   "source": [
    "INPUT_1 = \\\n",
    "\"\"\"\n",
    "    _  _     _  _  _  _  _\n",
    "  | _| _||_||_ |_   ||_||_|\n",
    "  ||_  _|  | _||_|  ||_| _|\n",
    "\"\"\"\n",
    "\n",
    "INPUT_2 = \\\n",
    "\"\"\"\n",
    "    _  _  _  _  _  _     _\n",
    "|_||_|| || ||_   |  |  ||_\n",
    "  | _||_||_||_|  |  |  | _|\n",
    "\"\"\""
   ]
  },
  {
   "cell_type": "code",
   "execution_count": 233,
   "metadata": {},
   "outputs": [],
   "source": [
    "NUMBERS = {\n",
    "    ' _ | ||_|' : '0',\n",
    "    '     |  |' : '1',\n",
    "    ' _  _||_ ' : '2',\n",
    "    ' _  _| _|' : '3',\n",
    "    '   |_|  |' : '4',\n",
    "    ' _ |_  _|' : '5',\n",
    "    ' _ |_ |_|' : '6',\n",
    "    ' _   |  |' : '7',\n",
    "    ' _ |_||_|' : '8',\n",
    "    ' _ |_| _|' : '9'\n",
    "}"
   ]
  },
  {
   "cell_type": "code",
   "execution_count": 234,
   "metadata": {},
   "outputs": [],
   "source": [
    "def grouper(iterable, n, fillvalue=None):\n",
    "    \"\"\"\n",
    "    Collect data into fixed-length chunks or blocks\n",
    "    https://docs.python.org/3/library/itertools.html#itertools-recipes\n",
    "    \"\"\"\n",
    "    # grouper('ABCDEFG', 3, 'x') --> ABC DEF Gxx\"\n",
    "    args = [iter(iterable)] * n\n",
    "    return zip_longest(*args, fillvalue=fillvalue)"
   ]
  },
  {
   "cell_type": "code",
   "execution_count": 235,
   "metadata": {},
   "outputs": [],
   "source": [
    "def de_ascii(ascii_text):\n",
    "    ascii_lines = ascii_text.split(\"\\n\")\n",
    "    ascii_lines = [str.ljust(line, 27, ' ') for line in ascii_lines if line != '']\n",
    "    \n",
    "    line_groupers = [grouper(line, 3) for line in ascii_lines]\n",
    "    \n",
    "    output_number = ''\n",
    "    \n",
    "    for digit_tuple in zip(*line_groupers):\n",
    "        digit_string = ''.join(chain.from_iterable(digit_tuple))\n",
    "        output_number = output_number + NUMBERS[digit_string]\n",
    "        \n",
    "    return output_number"
   ]
  },
  {
   "cell_type": "code",
   "execution_count": 236,
   "metadata": {},
   "outputs": [
    {
     "data": {
      "text/plain": [
       "'123456789'"
      ]
     },
     "execution_count": 236,
     "metadata": {},
     "output_type": "execute_result"
    }
   ],
   "source": [
    "de_ascii2(INPUT_1)"
   ]
  },
  {
   "cell_type": "code",
   "execution_count": 237,
   "metadata": {},
   "outputs": [
    {
     "data": {
      "text/plain": [
       "'490067715'"
      ]
     },
     "execution_count": 237,
     "metadata": {},
     "output_type": "execute_result"
    }
   ],
   "source": [
    "de_ascii(INPUT_2)"
   ]
  }
 ],
 "metadata": {
  "kernelspec": {
   "display_name": "Python 3",
   "language": "python",
   "name": "python3"
  },
  "language_info": {
   "codemirror_mode": {
    "name": "ipython",
    "version": 3
   },
   "file_extension": ".py",
   "mimetype": "text/x-python",
   "name": "python",
   "nbconvert_exporter": "python",
   "pygments_lexer": "ipython3",
   "version": "3.6.1"
  }
 },
 "nbformat": 4,
 "nbformat_minor": 2
}
