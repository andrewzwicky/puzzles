{
 "cells": [
  {
   "cell_type": "markdown",
   "metadata": {},
   "source": [
    "# Description \n",
    "\n",
    "It's Thanksgiving eve and you're expecting guests over for dinner tomorrow. Unfortunately, you were browsing memes all day and cannot go outside to buy the ingredients needed to make your famous pies. You find some spare ingredients, and make do with what you have. You know only two pie recipes, and they are as follows:\n",
    "\n",
    "#### Pumpkin Pie\n",
    "* **1** scoop of synthetic pumpkin flavouring (Hey you're a programmer not a cook) \n",
    "* **3** eggs \n",
    "* **4** cups of milk \n",
    "* **3** cups of sugar \n",
    "\n",
    "#### Apple Pie\n",
    "* **1** apple\n",
    "* **4** eggs\n",
    "* **3** cups of milk\n",
    "* **2** cups of sugar \n",
    "\n",
    "Your guests have no preference of one pie over another, and you want to make the maximum number of (any kind) of pies possible with what you have. You cannot bake fractions of a pie, and cannot use fractions of an ingredient (So no 1/2 cup of sugar or anything like that) \n",
    "\n",
    "# Input Format\n",
    "\n",
    "You will be given a string of 4 numbers separated by a comma, such as `10,14,10,42,24`. Each number is a non-negative integer. The numbers represent the number of synthetic pumpkin flavouring, apples, eggs, milk and sugar you have (In the units represented in the recipes). \n",
    "\n",
    "For instance, in the example input `10,14,10,42,24`, it would mean that you have\n",
    "\n",
    "* **10** scoops of synthetic pumpkin flavouring\n",
    "* **14** apples\n",
    "* **10** eggs\n",
    "* **42** cups of milk\n",
    "* **24** cups of sugar \n",
    "\n",
    "# Output Format\n",
    "\n",
    "Display the number of each type of pie you will need to bake. For the example input, an output would be\n",
    "\n",
    "    3 pumpkin pies and 0 apple pies\n",
    "\n",
    "# Challenge Inputs\n",
    "\n",
    "    10,14,10,42,24\n",
    "    12,4,40,30,40\n",
    "    12,14,20,42,24\n",
    "    \n",
    "\n",
    "# Challenge Outputs\n",
    "\n",
    "    3 pumpkin pies and 0 apple pies\n",
    "    5 pumpkin pies and 3 apple pies\n",
    "    5 pumpkin pies and 1 apple pies\n",
    "\n",
    "# Hint\n",
    "Look into [linear programming](https://www.purplemath.com/modules/linprog.htm)\n",
    "\n",
    "# Credit\n",
    "\n",
    "This challenge was suggested by user /u/Gavin_Song, many thanks! If you have an idea for a challenge please share it on /r/dailyprogrammer_ideas and there's a good chance we'll use it. "
   ]
  },
  {
   "cell_type": "code",
   "execution_count": 82,
   "metadata": {},
   "outputs": [],
   "source": [
    "from pulp import *\n",
    "from collections import OrderedDict\n",
    "from operator import mul"
   ]
  },
  {
   "cell_type": "code",
   "execution_count": 116,
   "metadata": {},
   "outputs": [],
   "source": [
    "RECIPES_1 = OrderedDict({\"pumpkin\": [1, 0, 3, 4, 3], \n",
    "             \"apple\": [0, 1, 4, 3, 2]})\n",
    "INGREDIENTS_1 = [10, 14, 10, 42, 24]"
   ]
  },
  {
   "cell_type": "code",
   "execution_count": 117,
   "metadata": {},
   "outputs": [],
   "source": [
    "INGREDIENTS_2 = [12, 14, 20, 42, 24]"
   ]
  },
  {
   "cell_type": "code",
   "execution_count": 148,
   "metadata": {},
   "outputs": [],
   "source": [
    "INGREDIENTS_3 = [12, 4, 40, 30, 40]"
   ]
  },
  {
   "cell_type": "code",
   "execution_count": 109,
   "metadata": {},
   "outputs": [],
   "source": [
    "def print_results(prob):\n",
    "    print(\"Status:\", LpStatus[prob.status])\n",
    "\n",
    "    for v in prob.variables():\n",
    "        print(v.name, \"=\", v.varValue)\n",
    "\n",
    "    # The optimised objective function value is printed to the screen\n",
    "    print(\"total pies produced = \", value(prob.objective))"
   ]
  },
  {
   "cell_type": "code",
   "execution_count": 110,
   "metadata": {},
   "outputs": [],
   "source": [
    "def solve(recipes, total_ingredients):\n",
    "    prob = LpProblem(\"pies\", LpMaximize)\n",
    "\n",
    "    # variables\n",
    "    variables = OrderedDict({pie:LpVariable(pie, lowBound=0, cat='Integer') for pie in recipes.keys()})\n",
    "    \n",
    "    # objective\n",
    "    prob += sum(variables.values())\n",
    "    \n",
    "    # constraints\n",
    "    ingredients_by_type = zip(*recipes.values())\n",
    "    \n",
    "    for recipe_parts, limit in zip(ingredients_by_type, total_ingredients):\n",
    "        prob += sum([mul(var, num) for num, var in zip(recipe_parts, variables.values())]) <= limit\n",
    "        \n",
    "    GLPK().solve(prob)\n",
    "    \n",
    "    return prob"
   ]
  },
  {
   "cell_type": "code",
   "execution_count": 145,
   "metadata": {},
   "outputs": [
    {
     "name": "stdout",
     "output_type": "stream",
     "text": [
      "Status: Optimal\n",
      "apple = 0\n",
      "pumpkin = 3\n",
      "total pies produced =  3\n"
     ]
    }
   ],
   "source": [
    "print_results(solve(RECIPES_1, INGREDIENTS_1))"
   ]
  },
  {
   "cell_type": "code",
   "execution_count": 146,
   "metadata": {},
   "outputs": [
    {
     "name": "stdout",
     "output_type": "stream",
     "text": [
      "Status: Optimal\n",
      "apple = 1\n",
      "pumpkin = 5\n",
      "total pies produced =  6\n"
     ]
    }
   ],
   "source": [
    "print_results(solve(RECIPES_1, INGREDIENTS_2))"
   ]
  },
  {
   "cell_type": "code",
   "execution_count": 149,
   "metadata": {},
   "outputs": [
    {
     "name": "stdout",
     "output_type": "stream",
     "text": [
      "Status: Optimal\n",
      "apple = 3\n",
      "pumpkin = 5\n",
      "total pies produced =  8\n"
     ]
    }
   ],
   "source": [
    "print_results(solve(RECIPES_1, INGREDIENTS_3))"
   ]
  },
  {
   "cell_type": "code",
   "execution_count": null,
   "metadata": {},
   "outputs": [],
   "source": []
  }
 ],
 "metadata": {
  "kernelspec": {
   "display_name": "Python 3",
   "language": "python",
   "name": "python3"
  },
  "language_info": {
   "codemirror_mode": {
    "name": "ipython",
    "version": 3
   },
   "file_extension": ".py",
   "mimetype": "text/x-python",
   "name": "python",
   "nbconvert_exporter": "python",
   "pygments_lexer": "ipython3",
   "version": "3.6.1"
  }
 },
 "nbformat": 4,
 "nbformat_minor": 2
}
