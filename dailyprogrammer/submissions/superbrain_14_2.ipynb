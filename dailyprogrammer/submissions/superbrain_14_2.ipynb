{
 "cells": [
  {
   "cell_type": "markdown",
   "metadata": {},
   "source": [
    "A piece of wire 100 cm in length is bent into the shape of a sector of a circle.  Find the maximum value that the area A of the sector can have."
   ]
  },
  {
   "cell_type": "code",
   "execution_count": 4,
   "metadata": {
    "collapsed": true
   },
   "outputs": [],
   "source": [
    "from math import sqrt, pi"
   ]
  },
  {
   "cell_type": "code",
   "execution_count": 18,
   "metadata": {
    "collapsed": true
   },
   "outputs": [],
   "source": [
    "# https://en.wikipedia.org/wiki/Golden-section_search\n",
    "gr = (sqrt(5) + 1) / 2\n",
    "\n",
    "def gss(f, a, b, c, tau = 1e-6):\n",
    "    '''\n",
    "    Python recursive version of Golden Section Search algorithm.\n",
    "\n",
    "    This code appears to be broken - see the talk page.\n",
    "\n",
    "    tau is the tolerance for the minimal value of function f\n",
    "    b is any number between the interval a and c\n",
    "    '''\n",
    "    if b < c:\n",
    "        x = b + (2 - gr) * (c - b)\n",
    "    else:\n",
    "        x = b - (2 - gr) * (b - a)\n",
    "    if abs(c - a) < tau * (abs(b) + abs(x)): \n",
    "        return (c + a) / 2\n",
    "    if f(x) < f(b):\n",
    "        return gss(f, b, x, c, tau) if b < c else gss(f, a, x, b, tau)\n",
    "    else:\n",
    "        return gss(f, a, b, x, tau) if b < c else gss(f, x, b, c, tau)"
   ]
  },
  {
   "cell_type": "code",
   "execution_count": 19,
   "metadata": {
    "collapsed": true
   },
   "outputs": [],
   "source": [
    "L = 100"
   ]
  },
  {
   "cell_type": "code",
   "execution_count": 20,
   "metadata": {
    "collapsed": true
   },
   "outputs": [],
   "source": [
    "def f(x):\n",
    "    r = L /(2 + (2*pi*x)/360)\n",
    "    area = (x/360) * pi * r **2\n",
    "    return area"
   ]
  },
  {
   "cell_type": "code",
   "execution_count": 21,
   "metadata": {},
   "outputs": [
    {
     "data": {
      "text/plain": [
       "90.00000000000011"
      ]
     },
     "execution_count": 21,
     "metadata": {},
     "output_type": "execute_result"
    }
   ],
   "source": [
    "gss(f, 1, 90, 179)"
   ]
  }
 ],
 "metadata": {
  "kernelspec": {
   "display_name": "Python 3",
   "language": "python",
   "name": "python3"
  },
  "language_info": {
   "codemirror_mode": {
    "name": "ipython",
    "version": 3
   },
   "file_extension": ".py",
   "mimetype": "text/x-python",
   "name": "python",
   "nbconvert_exporter": "python",
   "pygments_lexer": "ipython3",
   "version": "3.6.1"
  }
 },
 "nbformat": 4,
 "nbformat_minor": 2
}
