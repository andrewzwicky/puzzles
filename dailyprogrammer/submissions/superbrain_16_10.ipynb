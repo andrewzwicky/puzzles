{
 "cells": [
  {
   "cell_type": "markdown",
   "metadata": {},
   "source": [
    "A and B are towns 20km and 30km from a straight stretch of river 100km long.  Water is pumped from a point P on the river by pipelines to both towns.  Where should P be located to minimize the total length of pipe AP + PB?"
   ]
  },
  {
   "cell_type": "code",
   "execution_count": 1,
   "metadata": {
    "collapsed": true
   },
   "outputs": [],
   "source": [
    "from math import sqrt"
   ]
  },
  {
   "cell_type": "code",
   "execution_count": 2,
   "metadata": {
    "collapsed": true
   },
   "outputs": [],
   "source": [
    "R = 100\n",
    "A = 20\n",
    "B = 30"
   ]
  },
  {
   "cell_type": "code",
   "execution_count": 3,
   "metadata": {
    "collapsed": true
   },
   "outputs": [],
   "source": [
    "def f(x):\n",
    "    return sqrt(A**2 + x**2) + sqrt(B**2 + (R-x)**2)"
   ]
  },
  {
   "cell_type": "code",
   "execution_count": 13,
   "metadata": {
    "collapsed": true
   },
   "outputs": [],
   "source": [
    "# https://en.wikipedia.org/wiki/Golden-section_search\n",
    "gr = (sqrt(5) + 1) / 2\n",
    "\n",
    "def gss(f, a, b, c, tau = 1e-6):\n",
    "    '''\n",
    "    Python recursive version of Golden Section Search algorithm.\n",
    "\n",
    "    This code appears to be broken - see the talk page.\n",
    "\n",
    "    tau is the tolerance for the minimal value of function f\n",
    "    b is any number between the interval a and c\n",
    "    '''\n",
    "    if b < c:\n",
    "        x = b + (2 - gr) * (c - b)\n",
    "    else:\n",
    "        x = b - (2 - gr) * (b - a)\n",
    "    if abs(c - a) < tau * (abs(b) + abs(x)): \n",
    "        return (c + a) / 2\n",
    "    if f(x) < f(b):\n",
    "        return gss(f, b, x, c, tau) if b < c else gss(f, a, x, b, tau)\n",
    "    else:\n",
    "        return gss(f, a, b, x, tau) if b < c else gss(f, x, b, c, tau)"
   ]
  },
  {
   "cell_type": "code",
   "execution_count": 5,
   "metadata": {},
   "outputs": [
    {
     "data": {
      "text/plain": [
       "40.0146627487199"
      ]
     },
     "execution_count": 5,
     "metadata": {},
     "output_type": "execute_result"
    }
   ],
   "source": [
    "gss(f, 0, R/2, R)"
   ]
  },
  {
   "cell_type": "code",
   "execution_count": 6,
   "metadata": {
    "collapsed": true
   },
   "outputs": [],
   "source": [
    "import matplotlib.pyplot as plt"
   ]
  },
  {
   "cell_type": "code",
   "execution_count": 7,
   "metadata": {},
   "outputs": [
    {
     "data": {
      "image/png": "[encoded data removed]",
      "text/plain": [
       "<matplotlib.figure.Figure at 0x7dd7358>"
      ]
     },
     "metadata": {},
     "output_type": "display_data"
    }
   ],
   "source": [
    "x = list(range(1,100))\n",
    "plt.plot(x, [f(c) for c in x])\n",
    "plt.show()"
   ]
  },
  {
   "cell_type": "code",
   "execution_count": 8,
   "metadata": {
    "collapsed": true
   },
   "outputs": [],
   "source": [
    "import sympy\n",
    "from sympy import init_printing, simplify, factor, expand, cse, srepr, cancel\n",
    "from sympy.abc import a,b,p,r\n",
    "from sympy.physics.vector import vlatex\n",
    "init_printing(latex_printer=vlatex, latex_mode='equation')"
   ]
  },
  {
   "cell_type": "code",
   "execution_count": 9,
   "metadata": {},
   "outputs": [
    {
     "data": {
      "image/png": "[encoded data removed]",
      "text/latex": [
       "$$\\sqrt{a^{2} + p^{2}} + \\sqrt{b^{2} + \\left(- p + r\\right)^{2}}$$"
      ],
      "text/plain": [
       "   _________      ________________\n",
       "  ╱  2    2      ╱  2           2 \n",
       "╲╱  a  + p   + ╲╱  b  + (-p + r)  "
      ]
     },
     "execution_count": 9,
     "metadata": {},
     "output_type": "execute_result"
    }
   ],
   "source": [
    "total_pipe = sympy.sqrt(a**2 + p**2) + sympy.sqrt(b**2 + (r-p)**2)\n",
    "total_pipe"
   ]
  },
  {
   "cell_type": "code",
   "execution_count": 10,
   "metadata": {},
   "outputs": [
    {
     "data": {
      "image/png": "[encoded data removed]",
      "text/latex": [
       "$$\\frac{p}{\\sqrt{a^{2} + p^{2}}} + \\frac{p - r}{\\sqrt{b^{2} + \\left(- p + r\\right)^{2}}}$$"
      ],
      "text/plain": [
       "     p                p - r       \n",
       "──────────── + ───────────────────\n",
       "   _________      ________________\n",
       "  ╱  2    2      ╱  2           2 \n",
       "╲╱  a  + p     ╲╱  b  + (-p + r)  "
      ]
     },
     "execution_count": 10,
     "metadata": {},
     "output_type": "execute_result"
    }
   ],
   "source": [
    "total_pipe_diff = sympy.diff(total_pipe, p)\n",
    "total_pipe_diff"
   ]
  },
  {
   "cell_type": "code",
   "execution_count": 11,
   "metadata": {},
   "outputs": [
    {
     "data": {
      "image/png": "[encoded data removed]",
      "text/latex": [
       "$$\\frac{p}{\\sqrt{p^{2} + 400}} + \\frac{p - 100}{\\sqrt{\\left(- p + 100\\right)^{2} + 900}}$$"
      ],
      "text/plain": [
       "      p                p - 100        \n",
       "───────────── + ──────────────────────\n",
       "   __________      ___________________\n",
       "  ╱  2            ╱           2       \n",
       "╲╱  p  + 400    ╲╱  (-p + 100)  + 900 "
      ]
     },
     "execution_count": 11,
     "metadata": {},
     "output_type": "execute_result"
    }
   ],
   "source": [
    "total_pipe_diff = total_pipe_diff.subs([(a, A),(b, B),(r, R)])\n",
    "total_pipe_diff"
   ]
  },
  {
   "cell_type": "code",
   "execution_count": 12,
   "metadata": {},
   "outputs": [
    {
     "data": {
      "image/png": "[encoded data removed]",
      "text/latex": [
       "$$\\left [ 40\\right ]$$"
      ],
      "text/plain": [
       "[40]"
      ]
     },
     "execution_count": 12,
     "metadata": {},
     "output_type": "execute_result"
    }
   ],
   "source": [
    "total_pipe_diff_solve = sympy.solve(total_pipe_diff, p)\n",
    "total_pipe_diff_solve"
   ]
  }
 ],
 "metadata": {
  "kernelspec": {
   "display_name": "Python 3",
   "language": "python",
   "name": "python3"
  },
  "language_info": {
   "codemirror_mode": {
    "name": "ipython",
    "version": 3
   },
   "file_extension": ".py",
   "mimetype": "text/x-python",
   "name": "python",
   "nbconvert_exporter": "python",
   "pygments_lexer": "ipython3",
   "version": "3.6.1"
  }
 },
 "nbformat": 4,
 "nbformat_minor": 2
}
