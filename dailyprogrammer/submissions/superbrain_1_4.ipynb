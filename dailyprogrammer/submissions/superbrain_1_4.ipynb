{
 "cells": [
  {
   "cell_type": "markdown",
   "metadata": {},
   "source": [
    "Ten books are arranged in a row on a shelf.  How many ways can this be done if one particular book A must always be to the left, but not necessarily immediately to the left, of another book B?"
   ]
  },
  {
   "cell_type": "code",
   "execution_count": 20,
   "metadata": {
    "collapsed": true
   },
   "outputs": [],
   "source": [
    "import itertools"
   ]
  },
  {
   "cell_type": "code",
   "execution_count": 23,
   "metadata": {},
   "outputs": [
    {
     "name": "stdout",
     "output_type": "stream",
     "text": [
      "1814400\n",
      "3628800\n"
     ]
    }
   ],
   "source": [
    "books = 'ABCDEFGHIJ'\n",
    "\n",
    "total = 0\n",
    "correct_perm = 0\n",
    "for perm in itertools.permutations(books):\n",
    "    total += 1\n",
    "    if perm.index('A') < perm.index('B'):\n",
    "        correct_perm += 1\n",
    "\n",
    "print(correct_perm)\n",
    "print(total)"
   ]
  },
  {
   "cell_type": "code",
   "execution_count": null,
   "metadata": {
    "collapsed": true
   },
   "outputs": [],
   "source": []
  }
 ],
 "metadata": {
  "kernelspec": {
   "display_name": "Python 3",
   "language": "python",
   "name": "python3"
  },
  "language_info": {
   "codemirror_mode": {
    "name": "ipython",
    "version": 3
   },
   "file_extension": ".py",
   "mimetype": "text/x-python",
   "name": "python",
   "nbconvert_exporter": "python",
   "pygments_lexer": "ipython3",
   "version": "3.6.1"
  }
 },
 "nbformat": 4,
 "nbformat_minor": 2
}
