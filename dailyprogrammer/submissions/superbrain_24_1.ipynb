{
 "cells": [
  {
   "cell_type": "markdown",
   "metadata": {},
   "source": [
    "Place the numbers 1,2,3,4,5,6,7 and 8 one at each corner of a cube in such a way that the sum of the numbers on each of the 6 faces of the cube is the same."
   ]
  },
  {
   "cell_type": "code",
   "execution_count": 29,
   "metadata": {},
   "outputs": [],
   "source": [
    "import numpy as np\n",
    "import itertools\n",
    "from pprint import pprint"
   ]
  },
  {
   "cell_type": "code",
   "execution_count": 12,
   "metadata": {
    "collapsed": true
   },
   "outputs": [],
   "source": [
    "nums = np.array([1,2,3,4,5,6,7,8])"
   ]
  },
  {
   "cell_type": "raw",
   "metadata": {},
   "source": [
    "      5--6\n",
    "      |  |\n",
    "6--5--1--2--6\n",
    "|  |  |  |  |\n",
    "0--7--3--4--0\n",
    "      |  |\n",
    "      7--0"
   ]
  },
  {
   "cell_type": "code",
   "execution_count": 13,
   "metadata": {},
   "outputs": [],
   "source": [
    "faces = [(5,6,7,0),\n",
    "        (1,3,5,7),\n",
    "        (1,2,3,4),\n",
    "        (2,4,6,0),\n",
    "        (3,4,7,0),\n",
    "        (1,2,5,6)]"
   ]
  },
  {
   "cell_type": "code",
   "execution_count": 14,
   "metadata": {},
   "outputs": [
    {
     "name": "stdout",
     "output_type": "stream",
     "text": [
      "[6 7 8 1]\n",
      "[2 4 6 8]\n",
      "[2 3 4 5]\n",
      "[3 5 7 1]\n",
      "[4 5 8 1]\n",
      "[2 3 6 7]\n"
     ]
    }
   ],
   "source": [
    "for face in faces:\n",
    "    print(np.take(nums, face))"
   ]
  },
  {
   "cell_type": "code",
   "execution_count": 31,
   "metadata": {
    "scrolled": false
   },
   "outputs": [
    {
     "name": "stdout",
     "output_type": "stream",
     "text": [
      "frozenset({frozenset({8, 1, 4, 5}),\n",
      "           frozenset({2, 3, 6, 7}),\n",
      "           frozenset({1, 4, 6, 7}),\n",
      "           frozenset({8, 2, 3, 5}),\n",
      "           frozenset({8, 1, 3, 6}),\n",
      "           frozenset({2, 4, 5, 7})})\n",
      "frozenset({frozenset({8, 1, 4, 5}),\n",
      "           frozenset({3, 4, 5, 6}),\n",
      "           frozenset({8, 1, 2, 7}),\n",
      "           frozenset({2, 3, 6, 7}),\n",
      "           frozenset({1, 4, 6, 7}),\n",
      "           frozenset({8, 2, 3, 5})})\n",
      "frozenset({frozenset({3, 4, 5, 6}),\n",
      "           frozenset({8, 1, 2, 7}),\n",
      "           frozenset({1, 4, 6, 7}),\n",
      "           frozenset({8, 2, 3, 5}),\n",
      "           frozenset({8, 1, 3, 6}),\n",
      "           frozenset({2, 4, 5, 7})})\n"
     ]
    }
   ],
   "source": [
    "results = set()\n",
    "for perm in itertools.permutations(nums):\n",
    "    sums = set()\n",
    "    for face in faces:\n",
    "        sums.add(sum(np.take(perm, face)))\n",
    "    \n",
    "    if len(sums) == 1:\n",
    "        res = frozenset(frozenset(np.take(perm, face)) for face in faces)\n",
    "        if res not in results:\n",
    "            results.add(res)\n",
    "            pprint(res)"
   ]
  },
  {
   "cell_type": "code",
   "execution_count": null,
   "metadata": {
    "collapsed": true
   },
   "outputs": [],
   "source": []
  }
 ],
 "metadata": {
  "kernelspec": {
   "display_name": "Python 3",
   "language": "python",
   "name": "python3"
  },
  "language_info": {
   "codemirror_mode": {
    "name": "ipython",
    "version": 3
   },
   "file_extension": ".py",
   "mimetype": "text/x-python",
   "name": "python",
   "nbconvert_exporter": "python",
   "pygments_lexer": "ipython3",
   "version": "3.6.1"
  }
 },
 "nbformat": 4,
 "nbformat_minor": 2
}
