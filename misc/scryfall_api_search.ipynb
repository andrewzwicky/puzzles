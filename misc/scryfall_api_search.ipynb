{
 "cells": [
  {
   "cell_type": "code",
   "execution_count": 83,
   "metadata": {},
   "outputs": [],
   "source": [
    "import argparse\n",
    "import requests\n",
    "from colored import bg, attr\n",
    "import os\n",
    "import textwrap\n",
    "import itertools\n",
    "from pprint import pprint\n",
    "import string"
   ]
  },
  {
   "cell_type": "code",
   "execution_count": 4,
   "metadata": {},
   "outputs": [],
   "source": [
    "SCRYFALL_API = \"https://api.scryfall.com/cards/search\""
   ]
  },
  {
   "cell_type": "code",
   "execution_count": 5,
   "metadata": {},
   "outputs": [],
   "source": [
    "def run_query(query):\n",
    "    return requests.get(SCRYFALL_API, params = {'q': query})"
   ]
  },
  {
   "cell_type": "code",
   "execution_count": 6,
   "metadata": {},
   "outputs": [],
   "source": [
    "def parse_json(response):\n",
    "    return response.json()"
   ]
  },
  {
   "cell_type": "code",
   "execution_count": 7,
   "metadata": {},
   "outputs": [],
   "source": [
    "def print_warnings(json_reponse):\n",
    "    try:\n",
    "        for warn in json_reponse['warnings']:\n",
    "            print(' WARN: {}'.format(warn))\n",
    "    except KeyError:\n",
    "        pass"
   ]
  },
  {
   "cell_type": "code",
   "execution_count": 8,
   "metadata": {},
   "outputs": [],
   "source": [
    "def print_total_number_of_cards(json_response):\n",
    "    print(' Total Cards: {}'.format(json_response['total_cards']))"
   ]
  },
  {
   "cell_type": "code",
   "execution_count": 9,
   "metadata": {},
   "outputs": [],
   "source": [
    "def try_get(card, item):\n",
    "    try:\n",
    "        return card[item]\n",
    "    except KeyError:\n",
    "        return ''"
   ]
  },
  {
   "cell_type": "code",
   "execution_count": 10,
   "metadata": {},
   "outputs": [],
   "source": [
    "def main(query, cards_to_match, text=False):\n",
    "    print(\"Query Length: {}\".format(len(query)))\n",
    "    response = run_query(query)\n",
    "    json_response = parse_json(response)\n",
    "    print_warnings(json_response)\n",
    "    print_total_number_of_cards(json_response)\n",
    "    print_page(json_response, cards_to_match, text)"
   ]
  },
  {
   "cell_type": "code",
   "execution_count": 11,
   "metadata": {},
   "outputs": [],
   "source": [
    "def print_page(json_response, cards_to_match, text=False):\n",
    "    for card in json_response['data']:\n",
    "        print_card(card, cards_to_match, text)"
   ]
  },
  {
   "cell_type": "code",
   "execution_count": 100,
   "metadata": {},
   "outputs": [],
   "source": [
    "text_width=50\n",
    "\n",
    "def print_card(card, cards_to_match, text=False):\n",
    "    #pprint(card)\n",
    "    artist = card['artist']\n",
    "    set_name = try_get(card, 'set')\n",
    "    power = try_get(card, 'power')\n",
    "    toughness = try_get(card, 'toughness')\n",
    "    name = card['name']\n",
    "    type_line = card['type_line']\n",
    "    rarity = try_get(card, 'rarity')\n",
    "    oracle = textwrap.wrap(try_get(card, 'oracle_text').replace('\\n', ''), width=text_width)\n",
    "    mana_cost = try_get(card, 'mana_cost').replace('{','').replace('}','')\n",
    "    identity = ''.join(try_get(card, 'color_identity'))\n",
    "    flavor = textwrap.wrap(try_get(card, 'flavor_text').replace('\\n', ''), width=text_width)\n",
    "    cmc = int(card['cmc'])\n",
    "    \n",
    "    output = f'{name:<35.34}{identity:<6}{artist:<20.19}{set_name:<4.3}{rarity[0]:<2.1}{cmc:<3}{mana_cost:<10}{type_line:<40.39}{power}/{toughness}'\n",
    "    \n",
    "    if name in cards_to_match:\n",
    "        output = bg('deep_sky_blue_3a') + output + attr('reset')\n",
    "    print(output)\n",
    "    \n",
    "    if text:\n",
    "        for o_text, f_text in itertools.zip_longest(oracle, flavor, fillvalue=''):\n",
    "            print(f\"    {o_text:<50.50}    {f_text:<50.50}\")\n",
    "        print()"
   ]
  },
  {
   "cell_type": "code",
   "execution_count": 101,
   "metadata": {},
   "outputs": [],
   "source": [
    "def compare_names(name_1, name_2):\n",
    "    n1_set = set(name_1.lower().replace(' ',''))\n",
    "    n2_set = set(name_2.lower().replace(' ',''))\n",
    "    \n",
    "    in_both = n1_set & n2_set\n",
    "    print(f\"   in both: {''.join(sorted(in_both))}\")\n",
    "          \n",
    "    in_neither = set(string.ascii_lowercase)\n",
    "    in_neither -= n1_set\n",
    "    in_neither -= n2_set\n",
    "    \n",
    "    print(f\"in neither: {''.join(sorted(in_neither))}\")"
   ]
  },
  {
   "cell_type": "code",
   "execution_count": 102,
   "metadata": {},
   "outputs": [
    {
     "name": "stdout",
     "output_type": "stream",
     "text": [
      "   in both: aelort\n",
      "in neither: cdgjkpqsvwxz\n"
     ]
    }
   ],
   "source": [
    "compare_names('Torment of Hailfire','Laboratory Brute')"
   ]
  },
  {
   "cell_type": "code",
   "execution_count": 130,
   "metadata": {},
   "outputs": [
    {
     "name": "stdout",
     "output_type": "stream",
     "text": [
      "   in both: ego\n",
      "in neither: bcdfjlmpqvx\n"
     ]
    }
   ],
   "source": [
    "compare_names('Yeong-Hao Han','Grzegorz Rutkowski')"
   ]
  },
  {
   "cell_type": "code",
   "execution_count": 138,
   "metadata": {},
   "outputs": [
    {
     "name": "stdout",
     "output_type": "stream",
     "text": [
      "   in both: ceor\n",
      "in neither: dfgjklnpqvwx\n"
     ]
    }
   ],
   "source": [
    "compare_names('Creature — Zombie Horror','Sorcery')"
   ]
  },
  {
   "cell_type": "code",
   "execution_count": 103,
   "metadata": {},
   "outputs": [
    {
     "name": "stdout",
     "output_type": "stream",
     "text": [
      "Query Length: 43\n",
      " Total Cards: 2\n",
      "Laboratory Brute                   U     Yeong-Hao Han       emn c 4  3U        Creature — Zombie Horror                3/3\n",
      "    When Laboratory Brute enters the battlefield, put     It keeps intruders out and experiments in.        \n",
      "    the top four cards of your library into your                                                            \n",
      "    graveyard.                                                                                              \n",
      "\n",
      "Torment of Hailfire                B     Grzegorz Rutkowski  hou r 2  XBB       Sorcery                                 /\n",
      "    Repeat the following process X times. Each            \"Your God-Pharaoh has returned.\"                  \n",
      "    opponent loses 3 life unless that player                                                                \n",
      "    sacrifices a nonland permanent or discards a card.                                                      \n",
      "\n"
     ]
    }
   ],
   "source": [
    "main('(Laboratory Brute) or (Torment of Hailfire)',\n",
    "     [],\n",
    "     text=True)"
   ]
  },
  {
   "cell_type": "code",
   "execution_count": 172,
   "metadata": {},
   "outputs": [
    {
     "name": "stdout",
     "output_type": "stream",
     "text": [
      "Query Length: 26\n",
      " Total Cards: 17\n",
      "By Force                           R     Magali Villeneuve   akh u 1  XR        Sorcery                                 /\n",
      "Cryptborn Horror                   BR    Richard Wright      rtr r 3  1B/RB/R   Creature — Horror                       0/0\n",
      "Fetid Horror                       B     Gary Leach          mir c 4  3B        Creature — Shade Horror                 1/2\n",
      "Goblin Lore                        R     D. Alexander Gregor 10e u 2  1R        Sorcery                                 /\n",
      "Inkfathom Infiltrator              BU    Jesper Ejsing       shm u 2  U/BU/B    Creature — Merfolk Rogue                2/1\n",
      "Kjeldoran Gargoyle                 W     Marcelo Vignali     csp u 6  5W        Creature — Gargoyle                     3/3\n",
      "\u001b[48;5;31mLaboratory Brute                   U     Yeong-Hao Han       emn c 4  3U        Creature — Zombie Horror                3/3\u001b[0m\n",
      "Lizard Warrior                     R     Roger Raupp         cns c 4  3R        Creature — Lizard Warrior               4/2\n",
      "Looter il-Kor                      U     Mike Dringenberg    td0 c 2  1U        Creature — Kor Rogue                    1/1\n",
      "Memoricide                         B     Erica Yang          prm r 4  3B        Sorcery                                 /\n",
      "Ordered Migration                  UW    Heather Hudson      inv u 5  3WU       Sorcery                                 /\n",
      "Quirion Explorer                   G     Ron Spears          c16 c 2  1G        Creature — Elf Druid Scout              1/1\n",
      "Reign of Terror                    B     Gary Leach          mir u 5  3BB       Sorcery                                 /\n",
      "Tar Pit Warrior                    B     George Pratt        btd c 3  2B        Creature — Cyclops Warrior              3/4\n",
      "Tormenting Voice                   R     Volkan Baga         m19 c 2  1R        Sorcery                                 /\n",
      "\u001b[48;5;31mTorment of Hailfire                B     Grzegorz Rutkowski  hou r 2  XBB       Sorcery                                 /\u001b[0m\n",
      "Tremor                             R     Pete Venters        8ed c 1  R         Sorcery                                 /\n"
     ]
    }
   ],
   "source": [
    "main('\"or\" -s ft:ou -t:n t:o a:g',\n",
    "     ['Torment of Hailfire','Laboratory Brute'],\n",
    "     text=False)"
   ]
  },
  {
   "cell_type": "code",
   "execution_count": null,
   "metadata": {},
   "outputs": [],
   "source": []
  }
 ],
 "metadata": {
  "kernelspec": {
   "display_name": "Python 3",
   "language": "python",
   "name": "python3"
  },
  "language_info": {
   "codemirror_mode": {
    "name": "ipython",
    "version": 3
   },
   "file_extension": ".py",
   "mimetype": "text/x-python",
   "name": "python",
   "nbconvert_exporter": "python",
   "pygments_lexer": "ipython3",
   "version": "3.7.0"
  }
 },
 "nbformat": 4,
 "nbformat_minor": 2
}
