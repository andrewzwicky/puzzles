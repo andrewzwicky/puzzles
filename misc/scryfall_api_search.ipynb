{
 "cells": [
  {
   "cell_type": "code",
   "execution_count": 208,
   "metadata": {},
   "outputs": [],
   "source": [
    "from scryfall_functions import compare_strings, Query, longest_substring"
   ]
  },
  {
   "cell_type": "code",
   "execution_count": 213,
   "metadata": {},
   "outputs": [],
   "source": [
    "targets = ['Treasonous Ogre', 'Knight of the Reliquary']"
   ]
  },
  {
   "cell_type": "code",
   "execution_count": 214,
   "metadata": {},
   "outputs": [
    {
     "name": "stdout",
     "output_type": "stream",
     "text": [
      "Query Length: 52\n",
      " Total Cards: 2\n",
      "Knight of the Reliquary            GW    Michael Komarck     ima r 3  1GW       Creature — Human Knight                 2/2\u001b[0m\n",
      "    Knight of the Reliquary gets +1/+1 for each land      \"Knowledge of Bant's landscape and ruins is a     \n",
      "    card in your graveyard.{T}, Sacrifice a Forest or     weapon that the invaders can't comprehend.\"       \n",
      "    Plains: Search your library for a land card, put      —Elspeth Tirel                                    \n",
      "    it onto the battlefield, then shuffle your                                                              \n",
      "    library.                                                                                                \n",
      "\n",
      "Treasonous Ogre                    R     Randy Gallegos      cns u 4  3R        Creature — Ogre Shaman                  2/3\u001b[0m\n",
      "    Dethrone (Whenever this creature attacks the          \"Everything comes with a price. Especially        \n",
      "    player with the most life or tied for most life,      revolution.\" —Grenzo, dungeon warden              \n",
      "    put a +1/+1 counter on it.)Pay 3 life: Add {R}.                                                         \n",
      "\n",
      "\n",
      "NAME\n",
      "\"Knight of the Reliquary\" vs. \"Treasonous Ogre\"\n",
      "     both: a   e g      no  r tu     \n",
      "  neither:  bcd     j  m  p     vwx z\n",
      "substring: ' o'\n",
      "\n",
      "ARTIST\n",
      "\"Michael Komarck\" vs. \"Randy Gallegos\"\n",
      "     both: a   e      l  o  r        \n",
      "  neither:  b   f   j     pq  tuvwx z\n",
      "\n",
      "TYPE\n",
      "\"Creature — Human Knight\" vs. \"Creature — Ogre Shaman\"\n",
      "     both: a c e gh    mn   r tu     \n",
      "  neither:  b d f   j l   pq    vwxyz\n",
      "substring: 'creature — '\n",
      "\n",
      "ORACLE\n",
      "\"Knight of the Reliquary gets +1/+1 for each land card in your graveyard.{T}, Sacrifice a Forest or Plains: Search your library for a land card, put it onto the battlefield, then shuffle your library.\" vs. \"Dethrone (Whenever this creature attacks the player with the most life or tied for most life, put a +1/+1 counter on it.)Pay 3 life: Add {R}.\"\n",
      "     both: a cdef hi kl nop rstuv  y \n",
      "  neither:          j             x z\n",
      "substring: ' +1/+1 '\n",
      "\n",
      "FLAVOR\n",
      "\"\"Knowledge of Bant's landscape and ruins is a weapon that the invaders can't comprehend.\" —Elspeth Tirel\" vs. \"\"Everything comes with a price. Especially revolution.\" —Grenzo, dungeon warden\"\n",
      "     both: a cde ghi  lmnop rstuvw   \n",
      "  neither:          j      q      x  \n",
      "substring: ' com'\n",
      "\n"
     ]
    }
   ],
   "source": [
    "Query(targets=targets,\n",
    "      details=True).execute()"
   ]
  },
  {
   "cell_type": "code",
   "execution_count": 237,
   "metadata": {},
   "outputs": [
    {
     "name": "stdout",
     "output_type": "stream",
     "text": [
      "Query Length: 24\n",
      " Total Cards: 6\n",
      "Benalish Veteran                   W     Steven Belledin     m12 c 3  2W        Creature — Human Soldier                2/2\u001b[0m\n",
      "    Whenever Benalish Veteran attacks, it gets +1/+1      \"One day I will rest and join my comrades in the  \n",
      "    until end of turn.                                    afterlife, but not while scum like you still sully\n",
      "                                                          this world.\"                                      \n",
      "\n",
      "Goblin King                        R     Jesper Myrfors      4ed r 3  1RR       Creature — Goblin                       2/2\u001b[0m\n",
      "    Other Goblin creatures get +1/+1 and have             To become king of the Goblins, one must           \n",
      "    mountainwalk. (They can't be blocked as long as       assassinate the previous king. Thus, only the most\n",
      "    defending player controls a Mountain.)                foolish seek positions of leadership.             \n",
      "\n",
      "\u001b[48;5;31mKnight of the Reliquary            GW    Michael Komarck     ima r 3  1GW       Creature — Human Knight                 2/2\u001b[0m\n",
      "    Knight of the Reliquary gets +1/+1 for each land      \"Knowledge of Bant's landscape and ruins is a     \n",
      "    card in your graveyard.{T}, Sacrifice a Forest or     weapon that the invaders can't comprehend.\"       \n",
      "    Plains: Search your library for a land card, put      —Elspeth Tirel                                    \n",
      "    it onto the battlefield, then shuffle your                                                              \n",
      "    library.                                                                                                \n",
      "\n",
      "Snapping Gnarlid                   G     Kev Walker          bfz c 2  1G        Creature — Beast                        2/2\u001b[0m\n",
      "    Landfall — Whenever a land enters the battlefield     All of Zendikar's beings sense the upheaval that  \n",
      "    under your control, Snapping Gnarlid gets +1/+1       accompanies the Eldrazi.                          \n",
      "    until end of turn.                                                                                      \n",
      "\n",
      "Stromkirk Condemned                B     Magali Villeneuve   emn r 2  BB        Creature — Vampire Horror               2/2\u001b[0m\n",
      "    Discard a card: Vampires you control get +1/+1        \"Blood from the vein is the finest vintage to     \n",
      "    until end of turn. Activate this ability only once    accompany a feast of the mind.\" —Runo Stromkirk   \n",
      "    each turn.                                                                                              \n",
      "\n",
      "\u001b[48;5;31mTreasonous Ogre                    R     Randy Gallegos      cns u 4  3R        Creature — Ogre Shaman                  2/3\u001b[0m\n",
      "    Dethrone (Whenever this creature attacks the          \"Everything comes with a price. Especially        \n",
      "    player with the most life or tied for most life,      revolution.\" —Grenzo, dungeon warden              \n",
      "    put a +1/+1 counter on it.)Pay 3 life: Add {R}.                                                         \n",
      "\n"
     ]
    }
   ],
   "source": [
    "Query('ft:com fo:li fo:+1 pow=2',\n",
    "      targets=targets,\n",
    "      verbose=True).execute()"
   ]
  }
 ],
 "metadata": {
  "kernelspec": {
   "display_name": "Python 3",
   "language": "python",
   "name": "python3"
  },
  "language_info": {
   "codemirror_mode": {
    "name": "ipython",
    "version": 3
   },
   "file_extension": ".py",
   "mimetype": "text/x-python",
   "name": "python",
   "nbconvert_exporter": "python",
   "pygments_lexer": "ipython3",
   "version": "3.7.0"
  }
 },
 "nbformat": 4,
 "nbformat_minor": 2
}
